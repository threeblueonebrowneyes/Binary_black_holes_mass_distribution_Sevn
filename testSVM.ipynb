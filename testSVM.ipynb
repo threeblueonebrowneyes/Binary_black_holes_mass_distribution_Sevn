{
 "cells": [
  {
   "cell_type": "code",
   "execution_count": 1,
   "id": "fb083848-4fa3-4a5d-8b93-52b244264321",
   "metadata": {},
   "outputs": [],
   "source": [
    "from sklearn.svm import SVC\n",
    "from sklearn.model_selection import GridSearchCV\n",
    "from sklearn.model_selection import train_test_split\n",
    "\n",
    "import pandas as pd\n",
    "import numpy as np"
   ]
  },
  {
   "cell_type": "markdown",
   "id": "8ee7d2da-b54e-48c8-a922-e73aa52ba92e",
   "metadata": {},
   "source": [
    "## Import data"
   ]
  },
  {
   "cell_type": "code",
   "execution_count": 2,
   "id": "6b034518-39de-4539-a89e-81604acd003f",
   "metadata": {},
   "outputs": [],
   "source": [
    "bhbh = pd.read_csv('BHBH.csv')\n",
    "bhbh = bhbh.fillna(0)\n",
    "bhbh['q'] = bhbh.apply(lambda x: x['Mass_0_out']/x['Mass_1_out'] if (x['Mass_1_out'] > x['Mass_0_out']) else x['Mass_1_out']/x['Mass_0_out'], axis=1)\n",
    "\n",
    "_, bin_edg = np.histogram(bhbh['q'].values, bins= 20, range=(0,1))\n",
    "bhbh['labels'] = pd.cut(bhbh['q'].values, bins=bin_edg, labels=False)\n",
    "\n",
    "input_ls = ['Mass_0', 'Z_0', 'Mass_1', 'Z_1', 'a', 'e']\n",
    "output_ls = ['labels']\n",
    "\n",
    "X = bhbh[input_ls].values\n",
    "y = bhbh[output_ls].values"
   ]
  },
  {
   "cell_type": "markdown",
   "id": "aa025dc5-602d-4e95-a641-3b52f562f27b",
   "metadata": {},
   "source": [
    "### Ideally separate training from testing data"
   ]
  },
  {
   "cell_type": "code",
   "execution_count": 3,
   "id": "abd013b3-dbc6-49da-8a0a-79f6dd394f04",
   "metadata": {},
   "outputs": [],
   "source": [
    "X_train, X_test, y_train, y_test = train_test_split(X, y, test_size=0.25, random_state=1)\n",
    "\n",
    "y_train = y_train.ravel()\n",
    "y_test = y_test.ravel()"
   ]
  },
  {
   "cell_type": "code",
   "execution_count": 4,
   "id": "6b5e0af7-c3c0-42b4-b79f-25659ef9db2d",
   "metadata": {},
   "outputs": [
    {
     "name": "stdout",
     "output_type": "stream",
     "text": [
      "(61419, 6) (61419,)\n"
     ]
    }
   ],
   "source": [
    "print(X_train.shape, y_train.shape)"
   ]
  },
  {
   "cell_type": "code",
   "execution_count": null,
   "id": "9c94b358-488e-4cce-b8e5-f342ebe370f2",
   "metadata": {},
   "outputs": [
    {
     "name": "stderr",
     "output_type": "stream",
     "text": [
      "/home/giacomo/miniconda3/envs/dask/lib/python3.11/site-packages/sklearn/model_selection/_split.py:700: UserWarning: The least populated class in y has only 1 members, which is less than n_splits=3.\n",
      "  warnings.warn(\n"
     ]
    }
   ],
   "source": [
    "# parameters for rbf SVM\n",
    "parameters = {'C': [0.1, 1, 10],'gamma':[0.01, 0.1, 1]}\n",
    "\n",
    "#run SVM with rbf kernel\n",
    "\n",
    "svc=SVC(kernel='rbf', random_state=3)\n",
    "clf_rbf= GridSearchCV(svc, parameters, cv = 3)\n",
    "clf_rbf.fit(X_train, y_train)\n",
    "# svc.fit(X_train, y_train)\n",
    "\n",
    "\n",
    "print ('RESULTS FOR rbf KERNEL')\n",
    "\n",
    "print(\"Best parameters set found:\")\n",
    "print(clf_rbf.best_params_)\n",
    "\n",
    "print(\"Score with best parameters:\")\n",
    "print(clf_rbf.best_score_)\n",
    "\n",
    "print(\"\\nAll scores on the grid:\")\n",
    "means_rbf = clf_rbf.cv_results_['mean_test_score']\n",
    "print(means_rbf)"
   ]
  },
  {
   "cell_type": "code",
   "execution_count": 9,
   "id": "23601b68-6b3d-4b07-8432-5ac5ecf79b2e",
   "metadata": {},
   "outputs": [
    {
     "data": {
      "text/plain": [
       "0.1613265605157761"
      ]
     },
     "execution_count": 9,
     "metadata": {},
     "output_type": "execute_result"
    }
   ],
   "source": [
    "svc.score(X_test, y_test)"
   ]
  },
  {
   "cell_type": "code",
   "execution_count": null,
   "id": "4c9d25b0-206e-4979-8ee8-6a8f18235819",
   "metadata": {},
   "outputs": [],
   "source": [
    "print(ciao)"
   ]
  }
 ],
 "metadata": {
  "kernelspec": {
   "display_name": "Python [conda env:dask]",
   "language": "python",
   "name": "conda-env-dask-py"
  },
  "language_info": {
   "codemirror_mode": {
    "name": "ipython",
    "version": 3
   },
   "file_extension": ".py",
   "mimetype": "text/x-python",
   "name": "python",
   "nbconvert_exporter": "python",
   "pygments_lexer": "ipython3",
   "version": "3.11.3"
  }
 },
 "nbformat": 4,
 "nbformat_minor": 5
}
