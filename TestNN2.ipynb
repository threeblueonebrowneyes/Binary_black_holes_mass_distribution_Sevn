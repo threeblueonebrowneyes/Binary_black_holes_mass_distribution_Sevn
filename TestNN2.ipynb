{
 "cells": [
  {
   "cell_type": "raw",
   "id": "5a469c7d-50b8-4efb-9682-07402584bc1d",
   "metadata": {},
   "source": [
    "device = torch.device(\"cuda\" if torch.cuda.is_available() else \"cpu\")"
   ]
  },
  {
   "cell_type": "code",
   "execution_count": 1,
   "id": "064bb6b3-1edb-476a-8508-2faa23c7d6e1",
   "metadata": {},
   "outputs": [],
   "source": [
    "import torch\n",
    "import torch.nn as nn\n",
    "import torch.nn.functional as F\n",
    "from torch.utils.data import DataLoader\n",
    "from sklearn.preprocessing import StandardScaler\n",
    "import pandas as pd\n",
    "\n",
    "import matplotlib.pyplot as plt\n",
    "import numpy as np"
   ]
  },
  {
   "cell_type": "code",
   "execution_count": 2,
   "id": "a7ef3d7b-2f79-474b-b02f-63dbb0b7135b",
   "metadata": {},
   "outputs": [],
   "source": [
    "class BHBHdatset(torch.utils.data.Dataset):\n",
    "    def __init__(self, df, input_cols, target_cols, n_bins=100, scale_data=True):\n",
    "        \n",
    "        counts, bins = torch.histogram(torch.from_numpy(df[target_cols].values), bins=n_bins, density=True)\n",
    "        \n",
    "        self.X = torch.from_numpy(df[input_cols].values)\n",
    "        self.y = counts*(bins[1]-bins[0])\n",
    "            \n",
    "    def __len__(self):\n",
    "        return len(self.X)\n",
    "    \n",
    "    def __getitem__(self, i):\n",
    "        return self.X[i]"
   ]
  },
  {
   "cell_type": "code",
   "execution_count": 3,
   "id": "46800e4b-8e6d-494b-a53e-1bd11b8922de",
   "metadata": {},
   "outputs": [],
   "source": [
    "# torch.manual_seed(42)\n",
    "bhbh = pd.read_csv('BHBH.csv')\n",
    "bhbh = bhbh.fillna(0)\n",
    "bhbh['q'] = bhbh.apply(lambda x: x['Mass_0_out']/x['Mass_1_out'] if (x['Mass_1_out'] > x['Mass_0_out']) else x['Mass_1_out']/x['Mass_0_out'], axis=1)"
   ]
  },
  {
   "cell_type": "code",
   "execution_count": 6,
   "id": "9ffa1bf6-9da0-4c20-b696-5a691639ba99",
   "metadata": {},
   "outputs": [
    {
     "data": {
      "image/png": "[encoded data removed]",
      "text/plain": [
       "<Figure size 640x480 with 1 Axes>"
      ]
     },
     "metadata": {},
     "output_type": "display_data"
    }
   ],
   "source": [
    "plt.hist(bhbh['q'].values,histtype='step');"
   ]
  },
  {
   "cell_type": "code",
   "execution_count": 7,
   "id": "062da51a-d571-4b00-a833-4a440fb63f3f",
   "metadata": {},
   "outputs": [],
   "source": [
    "data = bhbh\n",
    "dataset = BHBHdatset(data,\n",
    "                     ['Mass_0', 'Z_0', 'Mass_1', 'a', 'e'],\n",
    "                     ['q'],n_bins=20)\n",
    "trainloader = torch.utils.data.DataLoader(dataset,\n",
    "                                          batch_size=500,\n",
    "                                          shuffle=True)"
   ]
  },
  {
   "cell_type": "code",
   "execution_count": 9,
   "id": "c110af72-1b72-4ada-a3e5-9a403d954f05",
   "metadata": {},
   "outputs": [],
   "source": [
    "class Net(nn.Module):\n",
    "    def __init__(self):\n",
    "        super(Net, self).__init__()\n",
    "        self.input = nn.Linear(5, 10)\n",
    "        self.linear1 = nn.Linear(10, 15)\n",
    "        self.output = nn.Linear(15, 20)\n",
    "\n",
    "    # x represents our data\n",
    "    def forward(self, x):\n",
    "        x = self.input(x)\n",
    "        x = torch.relu(x)\n",
    "        \n",
    "        x = self.linear1(x)\n",
    "        x = torch.relu(x)\n",
    "        \n",
    "        x = self.output(x)\n",
    "        x = F.softmax(x, dim=0)\n",
    "        \n",
    "        return x"
   ]
  },
  {
   "cell_type": "code",
   "execution_count": 10,
   "id": "e614a316-ad16-4f5e-bfb0-7f33caf4713e",
   "metadata": {},
   "outputs": [],
   "source": [
    "net = Net()\n",
    "loss_function = nn.KLDivLoss()\n",
    "optimizer = torch.optim.SGD(net.parameters(), lr=0.001)"
   ]
  },
  {
   "cell_type": "code",
   "execution_count": 11,
   "id": "bfe11a12-3d85-470d-9b13-c45609d49249",
   "metadata": {},
   "outputs": [],
   "source": [
    "Y = torch.tile(dataset.y, dims=(500, 1)).shape"
   ]
  },
  {
   "cell_type": "code",
   "execution_count": 12,
   "id": "004ab5e3-de37-4364-87eb-84cc5c9885de",
   "metadata": {
    "tags": []
   },
   "outputs": [
    {
     "name": "stdout",
     "output_type": "stream",
     "text": [
      "Starting epoch 1\n"
     ]
    },
    {
     "name": "stderr",
     "output_type": "stream",
     "text": [
      "C:\\Users\\giaco\\anaconda3\\lib\\site-packages\\torch\\nn\\functional.py:2886: UserWarning: reduction: 'mean' divides the total loss by both the batch size and the support size.'batchmean' divides only by the batch size, and aligns with the KL div math definition.'mean' will be changed to behave the same as 'batchmean' in the next major release.\n",
      "  warnings.warn(\n"
     ]
    },
    {
     "name": "stdout",
     "output_type": "stream",
     "text": [
      "Loss after mini-batch     1: -0.000\n",
      "Loss after mini-batch    11: -0.003\n",
      "Loss after mini-batch    21: -0.003\n",
      "Loss after mini-batch    31: -0.003\n",
      "Loss after mini-batch    41: -0.003\n",
      "Loss after mini-batch    51: -0.003\n",
      "Loss after mini-batch    61: -0.003\n",
      "Loss after mini-batch    71: -0.003\n",
      "Loss after mini-batch    81: -0.003\n",
      "Loss after mini-batch    91: -0.003\n",
      "Loss after mini-batch   101: -0.003\n",
      "Loss after mini-batch   111: -0.003\n",
      "Loss after mini-batch   121: -0.003\n",
      "Loss after mini-batch   131: -0.003\n",
      "Loss after mini-batch   141: -0.003\n",
      "Loss after mini-batch   151: -0.003\n",
      "Loss after mini-batch   161: -0.003\n",
      "Training process has finished.\n",
      "Starting epoch 2\n",
      "Loss after mini-batch     1: -0.000\n",
      "Loss after mini-batch    11: -0.003\n",
      "Loss after mini-batch    21: -0.003\n",
      "Loss after mini-batch    31: -0.003\n",
      "Loss after mini-batch    41: -0.003\n",
      "Loss after mini-batch    51: -0.003\n",
      "Loss after mini-batch    61: -0.003\n",
      "Loss after mini-batch    71: -0.003\n",
      "Loss after mini-batch    81: -0.003\n",
      "Loss after mini-batch    91: -0.003\n",
      "Loss after mini-batch   101: -0.003\n",
      "Loss after mini-batch   111: -0.003\n",
      "Loss after mini-batch   121: -0.003\n",
      "Loss after mini-batch   131: -0.003\n",
      "Loss after mini-batch   141: -0.003\n",
      "Loss after mini-batch   151: -0.003\n",
      "Loss after mini-batch   161: -0.003\n",
      "Training process has finished.\n",
      "Starting epoch 3\n",
      "Loss after mini-batch     1: -0.000\n",
      "Loss after mini-batch    11: -0.003\n",
      "Loss after mini-batch    21: -0.003\n",
      "Loss after mini-batch    31: -0.003\n",
      "Loss after mini-batch    41: -0.003\n",
      "Loss after mini-batch    51: -0.003\n",
      "Loss after mini-batch    61: -0.003\n",
      "Loss after mini-batch    71: -0.003\n",
      "Loss after mini-batch    81: -0.003\n",
      "Loss after mini-batch    91: -0.003\n",
      "Loss after mini-batch   101: -0.003\n",
      "Loss after mini-batch   111: -0.003\n",
      "Loss after mini-batch   121: -0.003\n",
      "Loss after mini-batch   131: -0.003\n",
      "Loss after mini-batch   141: -0.003\n",
      "Loss after mini-batch   151: -0.003\n",
      "Loss after mini-batch   161: -0.003\n",
      "Training process has finished.\n",
      "Starting epoch 4\n",
      "Loss after mini-batch     1: -0.000\n",
      "Loss after mini-batch    11: -0.003\n",
      "Loss after mini-batch    21: -0.003\n",
      "Loss after mini-batch    31: -0.003\n",
      "Loss after mini-batch    41: -0.003\n",
      "Loss after mini-batch    51: -0.003\n",
      "Loss after mini-batch    61: -0.003\n",
      "Loss after mini-batch    71: -0.003\n",
      "Loss after mini-batch    81: -0.003\n",
      "Loss after mini-batch    91: -0.003\n",
      "Loss after mini-batch   101: -0.003\n",
      "Loss after mini-batch   111: -0.003\n",
      "Loss after mini-batch   121: -0.003\n",
      "Loss after mini-batch   131: -0.003\n",
      "Loss after mini-batch   141: -0.003\n",
      "Loss after mini-batch   151: -0.003\n",
      "Loss after mini-batch   161: -0.003\n",
      "Training process has finished.\n",
      "Starting epoch 5\n",
      "Loss after mini-batch     1: -0.000\n",
      "Loss after mini-batch    11: -0.003\n",
      "Loss after mini-batch    21: -0.003\n",
      "Loss after mini-batch    31: -0.003\n",
      "Loss after mini-batch    41: -0.003\n",
      "Loss after mini-batch    51: -0.003\n",
      "Loss after mini-batch    61: -0.003\n",
      "Loss after mini-batch    71: -0.003\n",
      "Loss after mini-batch    81: -0.003\n",
      "Loss after mini-batch    91: -0.003\n",
      "Loss after mini-batch   101: -0.003\n",
      "Loss after mini-batch   111: -0.003\n",
      "Loss after mini-batch   121: -0.003\n",
      "Loss after mini-batch   131: -0.003\n",
      "Loss after mini-batch   141: -0.003\n",
      "Loss after mini-batch   151: -0.003\n",
      "Loss after mini-batch   161: -0.003\n",
      "Training process has finished.\n"
     ]
    }
   ],
   "source": [
    "# Run the training loop\n",
    "for epoch in range(0, 5): # 5 epochs at maximum\n",
    "\n",
    "# Print epoch\n",
    "    print(f'Starting epoch {epoch+1}')\n",
    "\n",
    "    # Set current loss value\n",
    "    current_loss = 0.0\n",
    "\n",
    "    # Iterate over the DataLoader for training data\n",
    "    for i, x in enumerate(trainloader):\n",
    "\n",
    "        x = x.float()\n",
    "\n",
    "        # Zero the gradients\n",
    "        optimizer.zero_grad()\n",
    "        # Perform forward pass\n",
    "        outputs = net(x)\n",
    "\n",
    "        # Compute loss\n",
    "        loss = loss_function(outputs, dataset.y.float())\n",
    "\n",
    "        # Perform backward pass\n",
    "        loss.backward()\n",
    "\n",
    "        # Perform optimization\n",
    "        optimizer.step()\n",
    "\n",
    "        #Print statistics\n",
    "        current_loss += loss.item()\n",
    "\n",
    "        if i % 10 == 0:\n",
    "            print('Loss after mini-batch %5d: %.3f' %(i + 1, current_loss / 500))\n",
    "            current_loss = 0.0\n",
    "    # Process is complete.\n",
    "    print('Training process has finished.')       "
   ]
  },
  {
   "cell_type": "code",
   "execution_count": 13,
   "id": "c126a057-6630-4724-a342-5495e6803075",
   "metadata": {},
   "outputs": [
    {
     "data": {
      "text/plain": [
       "Net(\n",
       "  (input): Linear(in_features=5, out_features=10, bias=True)\n",
       "  (linear1): Linear(in_features=10, out_features=15, bias=True)\n",
       "  (output): Linear(in_features=15, out_features=20, bias=True)\n",
       ")"
      ]
     },
     "execution_count": 13,
     "metadata": {},
     "output_type": "execute_result"
    }
   ],
   "source": [
    "net.eval()"
   ]
  },
  {
   "cell_type": "code",
   "execution_count": 14,
   "id": "170dc3dc-7d36-4031-8888-381b064a74f8",
   "metadata": {},
   "outputs": [],
   "source": [
    "Y_test = net(torch.from_numpy(bhbh[['Mass_0', 'Z_0', 'Mass_1', 'a', 'e']].values).float())"
   ]
  },
  {
   "cell_type": "code",
   "execution_count": 15,
   "id": "af58651b-b0e9-46a7-83f7-f563ebed04e6",
   "metadata": {},
   "outputs": [],
   "source": [
    "y_test = Y_test.detach().numpy()"
   ]
  },
  {
   "cell_type": "code",
   "execution_count": 16,
   "id": "59b525c5-a4c1-4322-b65e-0b5d09c7db13",
   "metadata": {},
   "outputs": [],
   "source": [
    "counts_test = np.argmax(y_test, axis=1)"
   ]
  },
  {
   "cell_type": "code",
   "execution_count": 17,
   "id": "0e998720-354b-4bae-957c-3873490ebd59",
   "metadata": {},
   "outputs": [
    {
     "data": {
      "image/png": "[encoded data removed]",
      "text/plain": [
       "<Figure size 640x480 with 1 Axes>"
      ]
     },
     "metadata": {},
     "output_type": "display_data"
    }
   ],
   "source": [
    "plt.hist(counts_test, bins=20);"
   ]
  },
  {
   "cell_type": "code",
   "execution_count": null,
   "id": "cb1b2651-cbc0-4fa1-a0f6-4ddf02d4d028",
   "metadata": {},
   "outputs": [],
   "source": []
  }
 ],
 "metadata": {
  "kernelspec": {
   "display_name": "Python 3 (ipykernel)",
   "language": "python",
   "name": "python3"
  },
  "language_info": {
   "codemirror_mode": {
    "name": "ipython",
    "version": 3
   },
   "file_extension": ".py",
   "mimetype": "text/x-python",
   "name": "python",
   "nbconvert_exporter": "python",
   "pygments_lexer": "ipython3",
   "version": "3.8.16"
  }
 },
 "nbformat": 4,
 "nbformat_minor": 5
}
