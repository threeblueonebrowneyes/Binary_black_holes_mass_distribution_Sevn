{
 "cells": [
  {
   "cell_type": "code",
   "execution_count": 1,
   "id": "c344675b-3476-4b3f-8dfa-01a3b7e0b35d",
   "metadata": {
    "tags": []
   },
   "outputs": [],
   "source": [
    "import numpy as np\n",
    "import pandas as pd\n",
    "import matplotlib.pyplot as plt\n",
    "import seaborn as sns\n",
    "\n",
    "import xgboost as xgb\n",
    "import xgboost.dask\n",
    "from xgboost import XGBClassifier\n",
    "\n",
    "from sklearn.metrics import confusion_matrix\n",
    "from sklearn.metrics import accuracy_score\n",
    "from sklearn.utils.class_weight import compute_sample_weight, compute_class_weight\n",
    "from sklearn import metrics\n",
    "\n",
    "import dask\n",
    "import dask.dataframe as dd\n",
    "import dask.array as da\n",
    "from dask.distributed import Client, SSHCluster\n",
    "import dask.distributed\n",
    "\n",
    "from dask_ml.model_selection import train_test_split\n",
    "from dask_ml.preprocessing import LabelEncoder\n",
    "\n",
    "# import dask_xgboost\n",
    "# import dask_ml.xgboost # outdated, better not to use\n",
    "\n",
    "# import hvplot.dask"
   ]
  },
  {
   "cell_type": "code",
   "execution_count": 2,
   "id": "9de13564-4ae5-41c7-813a-fd5fd912f687",
   "metadata": {},
   "outputs": [
    {
     "data": {
      "text/plain": [
       "<function xgboost.dask.train(client: 'distributed.Client', params: Dict[str, Any], dtrain: xgboost.dask.DaskDMatrix, num_boost_round: int = 10, *, evals: Optional[Sequence[Tuple[xgboost.dask.DaskDMatrix, str]]] = None, obj: Optional[Callable[[numpy.ndarray, xgboost.core.DMatrix], Tuple[numpy.ndarray, numpy.ndarray]]] = None, feval: Optional[Callable[[numpy.ndarray, xgboost.core.DMatrix], Tuple[str, float]]] = None, early_stopping_rounds: Optional[int] = None, xgb_model: Optional[xgboost.core.Booster] = None, verbose_eval: Union[int, bool] = True, callbacks: Optional[Sequence[xgboost.callback.TrainingCallback]] = None, custom_metric: Optional[Callable[[numpy.ndarray, xgboost.core.DMatrix], Tuple[str, float]]] = None) -> Any>"
      ]
     },
     "execution_count": 2,
     "metadata": {},
     "output_type": "execute_result"
    }
   ],
   "source": [
    "xgboost.dask.train"
   ]
  },
  {
   "cell_type": "code",
   "execution_count": 3,
   "id": "5da966fc-923d-49cd-b6e7-a5755bececd3",
   "metadata": {},
   "outputs": [
    {
     "data": {
      "text/plain": [
       "['Any',\n",
       " 'Awaitable',\n",
       " 'Booster',\n",
       " 'Callable',\n",
       " 'CommunicatorContext',\n",
       " 'DMatrix',\n",
       " 'DaskDMatrix',\n",
       " 'DaskDeviceQuantileDMatrix',\n",
       " 'DaskPartitionIter',\n",
       " 'DaskQuantileDMatrix',\n",
       " 'DaskScikitLearnBase',\n",
       " 'DaskXGBClassifier',\n",
       " 'DaskXGBRFClassifier',\n",
       " 'DaskXGBRFRegressor',\n",
       " 'DaskXGBRanker',\n",
       " 'DaskXGBRegressor',\n",
       " 'DataFrame',\n",
       " 'DataIter',\n",
       " 'Dict',\n",
       " 'FeatureNames',\n",
       " 'FeatureTypes',\n",
       " 'Generator',\n",
       " 'LOGGER',\n",
       " 'LazyLoader',\n",
       " 'List',\n",
       " 'Metric',\n",
       " 'Objective',\n",
       " 'Optional',\n",
       " 'QuantileDMatrix',\n",
       " 'RabitTracker',\n",
       " 'Sequence',\n",
       " 'Set',\n",
       " 'TYPE_CHECKING',\n",
       " 'Thread',\n",
       " 'TrainReturnT',\n",
       " 'TrainingCallback',\n",
       " 'Tuple',\n",
       " 'TypeVar',\n",
       " 'TypedDict',\n",
       " 'Union',\n",
       " 'XGBClassifier',\n",
       " 'XGBClassifierBase',\n",
       " 'XGBModel',\n",
       " 'XGBRanker',\n",
       " 'XGBRankerMixIn',\n",
       " 'XGBRegressorBase',\n",
       " '_DaskCollection',\n",
       " '_DataParts',\n",
       " '_DataT',\n",
       " '_MapRetT',\n",
       " '_T',\n",
       " '__all__',\n",
       " '__builtins__',\n",
       " '__cached__',\n",
       " '__doc__',\n",
       " '__file__',\n",
       " '__loader__',\n",
       " '__name__',\n",
       " '__package__',\n",
       " '__spec__',\n",
       " '_assert_dask_support',\n",
       " '_async_wrap_evaluation_matrices',\n",
       " '_can_output_df',\n",
       " '_check_rf_callback',\n",
       " '_cls_predict_proba',\n",
       " '_create_dmatrix',\n",
       " '_create_quantile_dmatrix',\n",
       " '_deprecate_positional_args',\n",
       " '_direct_predict_impl',\n",
       " '_dmatrix_from_list_of_parts',\n",
       " '_expect',\n",
       " '_get_dask_config',\n",
       " '_get_model_future',\n",
       " '_get_rabit_args',\n",
       " '_get_worker_parts',\n",
       " '_get_workers_from_data',\n",
       " '_has_categorical',\n",
       " '_infer_predict_output',\n",
       " '_inplace_predict_async',\n",
       " '_maybe_dataframe',\n",
       " '_objective_decorator',\n",
       " '_predict_async',\n",
       " '_set_worker_client',\n",
       " '_start_tracker',\n",
       " '_train_async',\n",
       " '_try_start_tracker',\n",
       " '_wrap_evaluation_matrices',\n",
       " '_xgb_get_client',\n",
       " 'collections',\n",
       " 'collective',\n",
       " 'concat',\n",
       " 'config',\n",
       " 'contextmanager',\n",
       " 'da',\n",
       " 'dask',\n",
       " 'dconcat',\n",
       " 'dd',\n",
       " 'defaultdict',\n",
       " 'distributed',\n",
       " 'get_host_ip',\n",
       " 'inplace_predict',\n",
       " 'lazy_isinstance',\n",
       " 'logging',\n",
       " 'map_worker_partitions',\n",
       " 'numpy',\n",
       " 'partial',\n",
       " 'platform',\n",
       " 'predict',\n",
       " 'socket',\n",
       " 'train',\n",
       " 'update_wrapper',\n",
       " 'warnings',\n",
       " 'worker_train',\n",
       " 'xgboost_model_doc']"
      ]
     },
     "execution_count": 3,
     "metadata": {},
     "output_type": "execute_result"
    }
   ],
   "source": [
    "dir(xgboost.dask)"
   ]
  },
  {
   "cell_type": "code",
   "execution_count": 4,
   "id": "0209de50-199d-4a83-9d7d-d2e89056b2df",
   "metadata": {},
   "outputs": [],
   "source": [
    "# cluster.close()"
   ]
  },
  {
   "cell_type": "code",
   "execution_count": 5,
   "id": "b35e93ca-e4a8-4e41-bf75-7a3926fd265a",
   "metadata": {
    "tags": []
   },
   "outputs": [
    {
     "name": "stderr",
     "output_type": "stream",
     "text": [
      "2023-06-24 20:36:23,458 - distributed.deploy.ssh - INFO - 2023-06-24 20:36:23,456 - distributed.scheduler - INFO - State start\n",
      "2023-06-24 20:36:23,461 - distributed.deploy.ssh - INFO - 2023-06-24 20:36:23,458 - distributed.diskutils - INFO - Found stale lock file and directory '/tmp/dask-scratch-space/worker-nnpl1zqt', purging\n",
      "2023-06-24 20:36:23,462 - distributed.deploy.ssh - INFO - 2023-06-24 20:36:23,459 - distributed.diskutils - INFO - Found stale lock file and directory '/tmp/dask-scratch-space/worker-7u4tfmy5', purging\n",
      "2023-06-24 20:36:23,463 - distributed.deploy.ssh - INFO - 2023-06-24 20:36:23,459 - distributed.diskutils - INFO - Found stale lock file and directory '/tmp/dask-scratch-space/worker-i2_xm071', purging\n",
      "2023-06-24 20:36:23,465 - distributed.deploy.ssh - INFO - 2023-06-24 20:36:23,460 - distributed.diskutils - INFO - Found stale lock file and directory '/tmp/dask-scratch-space/worker-7ne5oeng', purging\n",
      "2023-06-24 20:36:23,467 - distributed.deploy.ssh - INFO - 2023-06-24 20:36:23,465 - distributed.scheduler - INFO -   Scheduler at:   tcp://10.67.22.140:8786\n",
      "2023-06-24 20:36:24,387 - distributed.deploy.ssh - INFO - 2023-06-24 20:36:24,385 - distributed.nanny - INFO -         Start Nanny at: 'tcp://10.67.22.140:40409'\n",
      "2023-06-24 20:36:24,393 - distributed.deploy.ssh - INFO - 2023-06-24 20:36:24,393 - distributed.nanny - INFO -         Start Nanny at: 'tcp://10.67.22.140:36193'\n",
      "2023-06-24 20:36:24,397 - distributed.deploy.ssh - INFO - 2023-06-24 20:36:24,397 - distributed.nanny - INFO -         Start Nanny at: 'tcp://10.67.22.140:44853'\n",
      "2023-06-24 20:36:24,409 - distributed.deploy.ssh - INFO - 2023-06-24 20:36:24,408 - distributed.nanny - INFO -         Start Nanny at: 'tcp://10.67.22.140:36415'\n",
      "2023-06-24 20:36:24,416 - distributed.deploy.ssh - INFO - 2023-06-24 20:36:24,419 - distributed.nanny - INFO -         Start Nanny at: 'tcp://10.67.22.21:41279'\n",
      "2023-06-24 20:36:24,420 - distributed.deploy.ssh - INFO - 2023-06-24 20:36:24,422 - distributed.nanny - INFO -         Start Nanny at: 'tcp://10.67.22.21:39563'\n",
      "2023-06-24 20:36:24,423 - distributed.deploy.ssh - INFO - 2023-06-24 20:36:24,425 - distributed.nanny - INFO -         Start Nanny at: 'tcp://10.67.22.21:36223'\n",
      "2023-06-24 20:36:24,426 - distributed.deploy.ssh - INFO - 2023-06-24 20:36:24,428 - distributed.nanny - INFO -         Start Nanny at: 'tcp://10.67.22.21:36403'\n",
      "2023-06-24 20:36:24,764 - distributed.deploy.ssh - INFO - 2023-06-24 20:36:24,765 - distributed.diskutils - INFO - Found stale lock file and directory '/tmp/dask-scratch-space/worker-m5t4pm55', purging\n",
      "2023-06-24 20:36:24,765 - distributed.deploy.ssh - INFO - 2023-06-24 20:36:24,765 - distributed.diskutils - INFO - Found stale lock file and directory '/tmp/dask-scratch-space/worker-b85u_6d2', purging\n",
      "2023-06-24 20:36:24,766 - distributed.deploy.ssh - INFO - 2023-06-24 20:36:24,765 - distributed.diskutils - INFO - Found stale lock file and directory '/tmp/dask-scratch-space/worker-51q4menb', purging\n",
      "2023-06-24 20:36:24,767 - distributed.deploy.ssh - INFO - 2023-06-24 20:36:24,765 - distributed.diskutils - INFO - Found stale lock file and directory '/tmp/dask-scratch-space/worker-pfdfm0c9', purging\n",
      "2023-06-24 20:36:24,776 - distributed.deploy.ssh - INFO - 2023-06-24 20:36:24,778 - distributed.worker - INFO -       Start worker at:    tcp://10.67.22.21:43963\n",
      "2023-06-24 20:36:24,777 - distributed.deploy.ssh - INFO - 2023-06-24 20:36:24,778 - distributed.worker - INFO -          Listening to:    tcp://10.67.22.21:43963\n",
      "2023-06-24 20:36:24,778 - distributed.deploy.ssh - INFO - 2023-06-24 20:36:24,778 - distributed.worker - INFO -          dashboard at:          10.67.22.21:46161\n",
      "2023-06-24 20:36:24,778 - distributed.deploy.ssh - INFO - 2023-06-24 20:36:24,778 - distributed.worker - INFO - Waiting to connect to:    tcp://10.67.22.140:8786\n",
      "2023-06-24 20:36:24,785 - distributed.deploy.ssh - INFO - 2023-06-24 20:36:24,778 - distributed.worker - INFO - -------------------------------------------------\n",
      "2023-06-24 20:36:24,786 - distributed.deploy.ssh - INFO - 2023-06-24 20:36:24,778 - distributed.worker - INFO -               Threads:                          1\n",
      "2023-06-24 20:36:24,787 - distributed.deploy.ssh - INFO - 2023-06-24 20:36:24,778 - distributed.worker - INFO -                Memory:                   1.94 GiB\n",
      "2023-06-24 20:36:24,787 - distributed.deploy.ssh - INFO - 2023-06-24 20:36:24,778 - distributed.worker - INFO -       Local Directory: /tmp/dask-scratch-space/worker-r5gcn1g5\n",
      "2023-06-24 20:36:24,788 - distributed.deploy.ssh - INFO - 2023-06-24 20:36:24,778 - distributed.worker - INFO - -------------------------------------------------\n",
      "2023-06-24 20:36:24,789 - distributed.deploy.ssh - INFO - 2023-06-24 20:36:24,780 - distributed.worker - INFO -       Start worker at:    tcp://10.67.22.21:38573\n",
      "2023-06-24 20:36:24,790 - distributed.deploy.ssh - INFO - 2023-06-24 20:36:24,780 - distributed.worker - INFO -          Listening to:    tcp://10.67.22.21:38573\n",
      "2023-06-24 20:36:24,790 - distributed.deploy.ssh - INFO - 2023-06-24 20:36:24,780 - distributed.worker - INFO -          dashboard at:          10.67.22.21:45713\n",
      "2023-06-24 20:36:24,791 - distributed.deploy.ssh - INFO - 2023-06-24 20:36:24,780 - distributed.worker - INFO - Waiting to connect to:    tcp://10.67.22.140:8786\n",
      "2023-06-24 20:36:24,792 - distributed.deploy.ssh - INFO - 2023-06-24 20:36:24,780 - distributed.worker - INFO - -------------------------------------------------\n",
      "2023-06-24 20:36:24,793 - distributed.deploy.ssh - INFO - 2023-06-24 20:36:24,780 - distributed.worker - INFO -               Threads:                          1\n",
      "2023-06-24 20:36:24,794 - distributed.deploy.ssh - INFO - 2023-06-24 20:36:24,780 - distributed.worker - INFO -                Memory:                   1.94 GiB\n",
      "2023-06-24 20:36:24,795 - distributed.deploy.ssh - INFO - 2023-06-24 20:36:24,780 - distributed.worker - INFO -       Local Directory: /tmp/dask-scratch-space/worker-kg1t081q\n",
      "2023-06-24 20:36:24,796 - distributed.deploy.ssh - INFO - 2023-06-24 20:36:24,781 - distributed.worker - INFO - -------------------------------------------------\n",
      "2023-06-24 20:36:24,800 - distributed.deploy.ssh - INFO - 2023-06-24 20:36:24,785 - distributed.worker - INFO -       Start worker at:    tcp://10.67.22.21:39879\n",
      "2023-06-24 20:36:24,808 - distributed.deploy.ssh - INFO - 2023-06-24 20:36:24,785 - distributed.worker - INFO -          Listening to:    tcp://10.67.22.21:39879\n",
      "2023-06-24 20:36:24,809 - distributed.deploy.ssh - INFO - 2023-06-24 20:36:24,785 - distributed.worker - INFO -          dashboard at:          10.67.22.21:42035\n",
      "2023-06-24 20:36:24,810 - distributed.deploy.ssh - INFO - 2023-06-24 20:36:24,785 - distributed.worker - INFO - Waiting to connect to:    tcp://10.67.22.140:8786\n",
      "2023-06-24 20:36:24,810 - distributed.deploy.ssh - INFO - 2023-06-24 20:36:24,785 - distributed.worker - INFO - -------------------------------------------------\n",
      "2023-06-24 20:36:24,811 - distributed.deploy.ssh - INFO - 2023-06-24 20:36:24,785 - distributed.worker - INFO -               Threads:                          1\n",
      "2023-06-24 20:36:24,812 - distributed.deploy.ssh - INFO - 2023-06-24 20:36:24,785 - distributed.worker - INFO -                Memory:                   1.94 GiB\n",
      "2023-06-24 20:36:24,814 - distributed.deploy.ssh - INFO - 2023-06-24 20:36:24,785 - distributed.worker - INFO -       Local Directory: /tmp/dask-scratch-space/worker-v7dv56gb\n",
      "2023-06-24 20:36:24,814 - distributed.deploy.ssh - INFO - 2023-06-24 20:36:24,785 - distributed.worker - INFO - -------------------------------------------------\n",
      "2023-06-24 20:36:24,824 - distributed.deploy.ssh - INFO - 2023-06-24 20:36:24,810 - distributed.worker - INFO -       Start worker at:    tcp://10.67.22.21:45301\n",
      "2023-06-24 20:36:24,831 - distributed.deploy.ssh - INFO - 2023-06-24 20:36:24,813 - distributed.nanny - INFO -         Start Nanny at: 'tcp://10.67.22.220:39153'\n",
      "2023-06-24 20:36:24,832 - distributed.deploy.ssh - INFO - 2023-06-24 20:36:24,819 - distributed.nanny - INFO -         Start Nanny at: 'tcp://10.67.22.220:40297'\n",
      "2023-06-24 20:36:24,833 - distributed.deploy.ssh - INFO - 2023-06-24 20:36:24,821 - distributed.nanny - INFO -         Start Nanny at: 'tcp://10.67.22.220:33549'\n",
      "2023-06-24 20:36:24,835 - distributed.deploy.ssh - INFO - 2023-06-24 20:36:24,824 - distributed.nanny - INFO -         Start Nanny at: 'tcp://10.67.22.220:43129'\n",
      "2023-06-24 20:36:24,994 - distributed.deploy.ssh - INFO - 2023-06-24 20:36:24,994 - distributed.nanny - INFO -         Start Nanny at: 'tcp://10.67.22.81:36409'\n",
      "2023-06-24 20:36:25,000 - distributed.deploy.ssh - INFO - 2023-06-24 20:36:25,000 - distributed.nanny - INFO -         Start Nanny at: 'tcp://10.67.22.81:39381'\n",
      "2023-06-24 20:36:25,003 - distributed.deploy.ssh - INFO - 2023-06-24 20:36:25,003 - distributed.nanny - INFO -         Start Nanny at: 'tcp://10.67.22.81:45029'\n",
      "2023-06-24 20:36:25,006 - distributed.deploy.ssh - INFO - 2023-06-24 20:36:25,007 - distributed.nanny - INFO -         Start Nanny at: 'tcp://10.67.22.81:45043'\n",
      "2023-06-24 20:36:25,187 - distributed.deploy.ssh - INFO - 2023-06-24 20:36:25,186 - distributed.worker - INFO -       Start worker at:   tcp://10.67.22.140:36213\n",
      "2023-06-24 20:36:25,188 - distributed.deploy.ssh - INFO - 2023-06-24 20:36:25,186 - distributed.worker - INFO -          Listening to:   tcp://10.67.22.140:36213\n",
      "2023-06-24 20:36:25,192 - distributed.deploy.ssh - INFO - 2023-06-24 20:36:25,186 - distributed.worker - INFO -          dashboard at:         10.67.22.140:40849\n",
      "2023-06-24 20:36:25,193 - distributed.deploy.ssh - INFO - 2023-06-24 20:36:25,186 - distributed.worker - INFO - Waiting to connect to:    tcp://10.67.22.140:8786\n",
      "2023-06-24 20:36:25,194 - distributed.deploy.ssh - INFO - 2023-06-24 20:36:25,186 - distributed.worker - INFO - -------------------------------------------------\n",
      "2023-06-24 20:36:25,194 - distributed.deploy.ssh - INFO - 2023-06-24 20:36:25,186 - distributed.worker - INFO -               Threads:                          1\n",
      "2023-06-24 20:36:25,195 - distributed.deploy.ssh - INFO - 2023-06-24 20:36:25,186 - distributed.worker - INFO -                Memory:                   1.94 GiB\n",
      "2023-06-24 20:36:25,197 - distributed.deploy.ssh - INFO - 2023-06-24 20:36:25,187 - distributed.worker - INFO -       Local Directory: /tmp/dask-scratch-space/worker-_xnr8i2j\n",
      "2023-06-24 20:36:25,198 - distributed.deploy.ssh - INFO - 2023-06-24 20:36:25,187 - distributed.worker - INFO - -------------------------------------------------\n",
      "2023-06-24 20:36:25,203 - distributed.deploy.ssh - INFO - 2023-06-24 20:36:25,197 - distributed.worker - INFO -       Start worker at:   tcp://10.67.22.140:33925\n",
      "2023-06-24 20:36:25,204 - distributed.deploy.ssh - INFO - 2023-06-24 20:36:25,197 - distributed.worker - INFO -          Listening to:   tcp://10.67.22.140:33925\n",
      "2023-06-24 20:36:25,205 - distributed.deploy.ssh - INFO - 2023-06-24 20:36:25,197 - distributed.worker - INFO -          dashboard at:         10.67.22.140:46271\n",
      "2023-06-24 20:36:25,206 - distributed.deploy.ssh - INFO - 2023-06-24 20:36:25,197 - distributed.worker - INFO - Waiting to connect to:    tcp://10.67.22.140:8786\n",
      "2023-06-24 20:36:25,206 - distributed.deploy.ssh - INFO - 2023-06-24 20:36:25,197 - distributed.worker - INFO - -------------------------------------------------\n",
      "2023-06-24 20:36:25,207 - distributed.deploy.ssh - INFO - 2023-06-24 20:36:25,197 - distributed.worker - INFO -               Threads:                          1\n",
      "2023-06-24 20:36:25,208 - distributed.deploy.ssh - INFO - 2023-06-24 20:36:25,197 - distributed.worker - INFO -                Memory:                   1.94 GiB\n",
      "2023-06-24 20:36:25,209 - distributed.deploy.ssh - INFO - 2023-06-24 20:36:25,198 - distributed.worker - INFO -       Local Directory: /tmp/dask-scratch-space/worker-clc8b5i_\n",
      "2023-06-24 20:36:25,210 - distributed.deploy.ssh - INFO - 2023-06-24 20:36:25,198 - distributed.worker - INFO - -------------------------------------------------\n",
      "2023-06-24 20:36:25,291 - distributed.deploy.ssh - INFO - 2023-06-24 20:36:25,290 - distributed.worker - INFO -       Start worker at:   tcp://10.67.22.140:34907\n",
      "2023-06-24 20:36:25,294 - distributed.deploy.ssh - INFO - 2023-06-24 20:36:25,290 - distributed.worker - INFO -          Listening to:   tcp://10.67.22.140:34907\n",
      "2023-06-24 20:36:25,295 - distributed.deploy.ssh - INFO - 2023-06-24 20:36:25,291 - distributed.worker - INFO -          dashboard at:         10.67.22.140:41655\n",
      "2023-06-24 20:36:25,296 - distributed.deploy.ssh - INFO - 2023-06-24 20:36:25,291 - distributed.worker - INFO - Waiting to connect to:    tcp://10.67.22.140:8786\n",
      "2023-06-24 20:36:25,297 - distributed.deploy.ssh - INFO - 2023-06-24 20:36:25,291 - distributed.worker - INFO - -------------------------------------------------\n",
      "2023-06-24 20:36:25,298 - distributed.deploy.ssh - INFO - 2023-06-24 20:36:25,292 - distributed.worker - INFO -               Threads:                          1\n",
      "2023-06-24 20:36:25,301 - distributed.deploy.ssh - INFO - 2023-06-24 20:36:25,292 - distributed.worker - INFO -                Memory:                   1.94 GiB\n",
      "2023-06-24 20:36:25,302 - distributed.deploy.ssh - INFO - 2023-06-24 20:36:25,292 - distributed.worker - INFO -       Local Directory: /tmp/dask-scratch-space/worker-3nnnpjra\n",
      "2023-06-24 20:36:25,302 - distributed.deploy.ssh - INFO - 2023-06-24 20:36:25,293 - distributed.worker - INFO - -------------------------------------------------\n",
      "2023-06-24 20:36:25,333 - distributed.deploy.ssh - INFO - 2023-06-24 20:36:25,332 - distributed.worker - INFO -       Start worker at:   tcp://10.67.22.140:43165\n",
      "2023-06-24 20:36:25,436 - distributed.deploy.ssh - INFO - 2023-06-24 20:36:25,435 - distributed.diskutils - INFO - Found stale lock file and directory '/tmp/dask-scratch-space/worker-13i2yx2n', purging\n",
      "2023-06-24 20:36:25,439 - distributed.deploy.ssh - INFO - 2023-06-24 20:36:25,436 - distributed.diskutils - INFO - Found stale lock file and directory '/tmp/dask-scratch-space/worker-tg3_o0g9', purging\n",
      "2023-06-24 20:36:25,440 - distributed.deploy.ssh - INFO - 2023-06-24 20:36:25,436 - distributed.diskutils - INFO - Found stale lock file and directory '/tmp/dask-scratch-space/worker-f3sgisqi', purging\n",
      "2023-06-24 20:36:25,442 - distributed.deploy.ssh - INFO - 2023-06-24 20:36:25,436 - distributed.diskutils - INFO - Found stale lock file and directory '/tmp/dask-scratch-space/worker-f3grlnoc', purging\n",
      "2023-06-24 20:36:25,462 - distributed.deploy.ssh - INFO - 2023-06-24 20:36:25,461 - distributed.worker - INFO -       Start worker at:   tcp://10.67.22.220:37141\n",
      "2023-06-24 20:36:25,463 - distributed.deploy.ssh - INFO - 2023-06-24 20:36:25,461 - distributed.worker - INFO -          Listening to:   tcp://10.67.22.220:37141\n",
      "2023-06-24 20:36:25,464 - distributed.deploy.ssh - INFO - 2023-06-24 20:36:25,461 - distributed.worker - INFO -          dashboard at:         10.67.22.220:38087\n",
      "2023-06-24 20:36:25,470 - distributed.deploy.ssh - INFO - 2023-06-24 20:36:25,461 - distributed.worker - INFO - Waiting to connect to:    tcp://10.67.22.140:8786\n",
      "2023-06-24 20:36:25,471 - distributed.deploy.ssh - INFO - 2023-06-24 20:36:25,461 - distributed.worker - INFO - -------------------------------------------------\n",
      "2023-06-24 20:36:25,472 - distributed.deploy.ssh - INFO - 2023-06-24 20:36:25,461 - distributed.worker - INFO -               Threads:                          1\n",
      "2023-06-24 20:36:25,473 - distributed.deploy.ssh - INFO - 2023-06-24 20:36:25,461 - distributed.worker - INFO -                Memory:                   1.94 GiB\n",
      "2023-06-24 20:36:25,475 - distributed.deploy.ssh - INFO - 2023-06-24 20:36:25,462 - distributed.worker - INFO -       Local Directory: /tmp/dask-scratch-space/worker-2xklo9sb\n",
      "2023-06-24 20:36:25,476 - distributed.deploy.ssh - INFO - 2023-06-24 20:36:25,462 - distributed.worker - INFO - -------------------------------------------------\n",
      "2023-06-24 20:36:25,513 - distributed.deploy.ssh - INFO - 2023-06-24 20:36:25,511 - distributed.worker - INFO -       Start worker at:   tcp://10.67.22.220:36437\n",
      "2023-06-24 20:36:25,514 - distributed.deploy.ssh - INFO - 2023-06-24 20:36:25,512 - distributed.worker - INFO -          Listening to:   tcp://10.67.22.220:36437\n",
      "2023-06-24 20:36:25,520 - distributed.deploy.ssh - INFO - 2023-06-24 20:36:25,512 - distributed.worker - INFO -          dashboard at:         10.67.22.220:46571\n",
      "2023-06-24 20:36:25,521 - distributed.deploy.ssh - INFO - 2023-06-24 20:36:25,512 - distributed.worker - INFO - Waiting to connect to:    tcp://10.67.22.140:8786\n",
      "2023-06-24 20:36:25,522 - distributed.deploy.ssh - INFO - 2023-06-24 20:36:25,512 - distributed.worker - INFO - -------------------------------------------------\n",
      "2023-06-24 20:36:25,523 - distributed.deploy.ssh - INFO - 2023-06-24 20:36:25,512 - distributed.worker - INFO -               Threads:                          1\n",
      "2023-06-24 20:36:25,524 - distributed.deploy.ssh - INFO - 2023-06-24 20:36:25,513 - distributed.worker - INFO -                Memory:                   1.94 GiB\n",
      "2023-06-24 20:36:25,528 - distributed.deploy.ssh - INFO - 2023-06-24 20:36:25,513 - distributed.worker - INFO -       Local Directory: /tmp/dask-scratch-space/worker-4mcucmiu\n",
      "2023-06-24 20:36:25,529 - distributed.deploy.ssh - INFO - 2023-06-24 20:36:25,513 - distributed.worker - INFO - -------------------------------------------------\n",
      "2023-06-24 20:36:25,541 - distributed.deploy.ssh - INFO - 2023-06-24 20:36:25,519 - distributed.worker - INFO -       Start worker at:   tcp://10.67.22.220:34683\n",
      "2023-06-24 20:36:25,542 - distributed.deploy.ssh - INFO - 2023-06-24 20:36:25,519 - distributed.worker - INFO -          Listening to:   tcp://10.67.22.220:34683\n",
      "2023-06-24 20:36:25,542 - distributed.deploy.ssh - INFO - 2023-06-24 20:36:25,519 - distributed.worker - INFO -          dashboard at:         10.67.22.220:37459\n",
      "2023-06-24 20:36:25,544 - distributed.deploy.ssh - INFO - 2023-06-24 20:36:25,519 - distributed.worker - INFO - Waiting to connect to:    tcp://10.67.22.140:8786\n",
      "2023-06-24 20:36:25,545 - distributed.deploy.ssh - INFO - 2023-06-24 20:36:25,519 - distributed.worker - INFO - -------------------------------------------------\n",
      "2023-06-24 20:36:25,546 - distributed.deploy.ssh - INFO - 2023-06-24 20:36:25,519 - distributed.worker - INFO -               Threads:                          1\n",
      "2023-06-24 20:36:25,547 - distributed.deploy.ssh - INFO - 2023-06-24 20:36:25,519 - distributed.worker - INFO -                Memory:                   1.94 GiB\n",
      "2023-06-24 20:36:25,548 - distributed.deploy.ssh - INFO - 2023-06-24 20:36:25,519 - distributed.worker - INFO -       Local Directory: /tmp/dask-scratch-space/worker-b5v658ny\n",
      "2023-06-24 20:36:25,549 - distributed.deploy.ssh - INFO - 2023-06-24 20:36:25,519 - distributed.worker - INFO - -------------------------------------------------\n",
      "2023-06-24 20:36:25,550 - distributed.deploy.ssh - INFO - 2023-06-24 20:36:25,524 - distributed.worker - INFO -       Start worker at:   tcp://10.67.22.220:32807\n",
      "2023-06-24 20:36:25,691 - distributed.deploy.ssh - INFO - 2023-06-24 20:36:25,684 - distributed.nanny - INFO -         Start Nanny at: 'tcp://10.67.22.31:33715'\n",
      "2023-06-24 20:36:25,692 - distributed.deploy.ssh - INFO - 2023-06-24 20:36:25,691 - distributed.nanny - INFO -         Start Nanny at: 'tcp://10.67.22.31:42809'\n",
      "2023-06-24 20:36:25,694 - distributed.deploy.ssh - INFO - 2023-06-24 20:36:25,692 - distributed.nanny - INFO -         Start Nanny at: 'tcp://10.67.22.31:39657'\n",
      "2023-06-24 20:36:25,700 - distributed.deploy.ssh - INFO - 2023-06-24 20:36:25,696 - distributed.nanny - INFO -         Start Nanny at: 'tcp://10.67.22.31:35637'\n",
      "2023-06-24 20:36:25,728 - distributed.deploy.ssh - INFO - 2023-06-24 20:36:25,727 - distributed.diskutils - INFO - Found stale lock file and directory '/tmp/dask-scratch-space/worker-61e0hy02', purging\n",
      "2023-06-24 20:36:25,731 - distributed.deploy.ssh - INFO - 2023-06-24 20:36:25,728 - distributed.diskutils - INFO - Found stale lock file and directory '/tmp/dask-scratch-space/worker-xjfhfxbd', purging\n",
      "2023-06-24 20:36:25,732 - distributed.deploy.ssh - INFO - 2023-06-24 20:36:25,729 - distributed.diskutils - INFO - Found stale lock file and directory '/tmp/dask-scratch-space/worker-lpviu14w', purging\n",
      "2023-06-24 20:36:25,733 - distributed.deploy.ssh - INFO - 2023-06-24 20:36:25,729 - distributed.diskutils - INFO - Found stale lock file and directory '/tmp/dask-scratch-space/worker-1x7ib1nz', purging\n",
      "2023-06-24 20:36:25,759 - distributed.deploy.ssh - INFO - 2023-06-24 20:36:25,759 - distributed.worker - INFO -       Start worker at:    tcp://10.67.22.81:37197\n",
      "2023-06-24 20:36:25,763 - distributed.deploy.ssh - INFO - 2023-06-24 20:36:25,759 - distributed.worker - INFO -          Listening to:    tcp://10.67.22.81:37197\n",
      "2023-06-24 20:36:25,764 - distributed.deploy.ssh - INFO - 2023-06-24 20:36:25,759 - distributed.worker - INFO -          dashboard at:          10.67.22.81:42543\n",
      "2023-06-24 20:36:25,765 - distributed.deploy.ssh - INFO - 2023-06-24 20:36:25,759 - distributed.worker - INFO - Waiting to connect to:    tcp://10.67.22.140:8786\n",
      "2023-06-24 20:36:25,766 - distributed.deploy.ssh - INFO - 2023-06-24 20:36:25,759 - distributed.worker - INFO - -------------------------------------------------\n",
      "2023-06-24 20:36:25,767 - distributed.deploy.ssh - INFO - 2023-06-24 20:36:25,759 - distributed.worker - INFO -               Threads:                          1\n",
      "2023-06-24 20:36:25,768 - distributed.deploy.ssh - INFO - 2023-06-24 20:36:25,759 - distributed.worker - INFO -                Memory:                   1.94 GiB\n",
      "2023-06-24 20:36:25,768 - distributed.deploy.ssh - INFO - 2023-06-24 20:36:25,759 - distributed.worker - INFO -       Local Directory: /tmp/dask-scratch-space/worker-4bsk9w5l\n",
      "2023-06-24 20:36:25,770 - distributed.deploy.ssh - INFO - 2023-06-24 20:36:25,759 - distributed.worker - INFO - -------------------------------------------------\n",
      "2023-06-24 20:36:25,781 - distributed.deploy.ssh - INFO - 2023-06-24 20:36:25,780 - distributed.worker - INFO -       Start worker at:    tcp://10.67.22.81:38849\n",
      "2023-06-24 20:36:25,782 - distributed.deploy.ssh - INFO - 2023-06-24 20:36:25,780 - distributed.worker - INFO -          Listening to:    tcp://10.67.22.81:38849\n",
      "2023-06-24 20:36:25,782 - distributed.deploy.ssh - INFO - 2023-06-24 20:36:25,780 - distributed.worker - INFO -          dashboard at:          10.67.22.81:40483\n",
      "2023-06-24 20:36:25,786 - distributed.deploy.ssh - INFO - 2023-06-24 20:36:25,780 - distributed.worker - INFO - Waiting to connect to:    tcp://10.67.22.140:8786\n",
      "2023-06-24 20:36:25,787 - distributed.deploy.ssh - INFO - 2023-06-24 20:36:25,780 - distributed.worker - INFO - -------------------------------------------------\n",
      "2023-06-24 20:36:25,788 - distributed.deploy.ssh - INFO - 2023-06-24 20:36:25,780 - distributed.worker - INFO -               Threads:                          1\n",
      "2023-06-24 20:36:25,790 - distributed.deploy.ssh - INFO - 2023-06-24 20:36:25,780 - distributed.worker - INFO -                Memory:                   1.94 GiB\n",
      "2023-06-24 20:36:25,791 - distributed.deploy.ssh - INFO - 2023-06-24 20:36:25,781 - distributed.worker - INFO -       Local Directory: /tmp/dask-scratch-space/worker-slocn1if\n",
      "2023-06-24 20:36:25,792 - distributed.deploy.ssh - INFO - 2023-06-24 20:36:25,781 - distributed.worker - INFO - -------------------------------------------------\n",
      "2023-06-24 20:36:25,806 - distributed.deploy.ssh - INFO - 2023-06-24 20:36:25,806 - distributed.worker - INFO -       Start worker at:    tcp://10.67.22.81:36795\n",
      "2023-06-24 20:36:25,810 - distributed.deploy.ssh - INFO - 2023-06-24 20:36:25,806 - distributed.worker - INFO -          Listening to:    tcp://10.67.22.81:36795\n",
      "2023-06-24 20:36:25,811 - distributed.deploy.ssh - INFO - 2023-06-24 20:36:25,806 - distributed.worker - INFO -          dashboard at:          10.67.22.81:44235\n",
      "2023-06-24 20:36:25,812 - distributed.deploy.ssh - INFO - 2023-06-24 20:36:25,806 - distributed.worker - INFO - Waiting to connect to:    tcp://10.67.22.140:8786\n",
      "2023-06-24 20:36:25,813 - distributed.deploy.ssh - INFO - 2023-06-24 20:36:25,807 - distributed.worker - INFO - -------------------------------------------------\n",
      "2023-06-24 20:36:25,814 - distributed.deploy.ssh - INFO - 2023-06-24 20:36:25,807 - distributed.worker - INFO -               Threads:                          1\n",
      "2023-06-24 20:36:25,815 - distributed.deploy.ssh - INFO - 2023-06-24 20:36:25,807 - distributed.worker - INFO -                Memory:                   1.94 GiB\n",
      "2023-06-24 20:36:25,816 - distributed.deploy.ssh - INFO - 2023-06-24 20:36:25,807 - distributed.worker - INFO -       Local Directory: /tmp/dask-scratch-space/worker-42q6f395\n",
      "2023-06-24 20:36:25,816 - distributed.deploy.ssh - INFO - 2023-06-24 20:36:25,807 - distributed.worker - INFO - -------------------------------------------------\n",
      "2023-06-24 20:36:25,824 - distributed.deploy.ssh - INFO - 2023-06-24 20:36:25,823 - distributed.worker - INFO -       Start worker at:    tcp://10.67.22.81:38101\n",
      "2023-06-24 20:36:26,277 - distributed.deploy.ssh - INFO - 2023-06-24 20:36:26,276 - distributed.diskutils - INFO - Found stale lock file and directory '/tmp/dask-scratch-space/worker-dszew_3x', purging\n",
      "2023-06-24 20:36:26,278 - distributed.deploy.ssh - INFO - 2023-06-24 20:36:26,277 - distributed.diskutils - INFO - Found stale lock file and directory '/tmp/dask-scratch-space/worker-s47pkps9', purging\n",
      "2023-06-24 20:36:26,280 - distributed.deploy.ssh - INFO - 2023-06-24 20:36:26,277 - distributed.diskutils - INFO - Found stale lock file and directory '/tmp/dask-scratch-space/worker-xj1tc83r', purging\n",
      "2023-06-24 20:36:26,281 - distributed.deploy.ssh - INFO - 2023-06-24 20:36:26,277 - distributed.diskutils - INFO - Found stale lock file and directory '/tmp/dask-scratch-space/worker-mklzn0jt', purging\n",
      "2023-06-24 20:36:26,302 - distributed.deploy.ssh - INFO - 2023-06-24 20:36:26,300 - distributed.worker - INFO -       Start worker at:    tcp://10.67.22.31:42795\n",
      "2023-06-24 20:36:26,303 - distributed.deploy.ssh - INFO - 2023-06-24 20:36:26,301 - distributed.worker - INFO -          Listening to:    tcp://10.67.22.31:42795\n",
      "2023-06-24 20:36:26,304 - distributed.deploy.ssh - INFO - 2023-06-24 20:36:26,301 - distributed.worker - INFO -          dashboard at:          10.67.22.31:46041\n",
      "2023-06-24 20:36:26,305 - distributed.deploy.ssh - INFO - 2023-06-24 20:36:26,301 - distributed.worker - INFO - Waiting to connect to:    tcp://10.67.22.140:8786\n",
      "2023-06-24 20:36:26,306 - distributed.deploy.ssh - INFO - 2023-06-24 20:36:26,301 - distributed.worker - INFO - -------------------------------------------------\n",
      "2023-06-24 20:36:26,307 - distributed.deploy.ssh - INFO - 2023-06-24 20:36:26,301 - distributed.worker - INFO -               Threads:                          1\n",
      "2023-06-24 20:36:26,308 - distributed.deploy.ssh - INFO - 2023-06-24 20:36:26,301 - distributed.worker - INFO -                Memory:                   1.94 GiB\n",
      "2023-06-24 20:36:26,310 - distributed.deploy.ssh - INFO - 2023-06-24 20:36:26,301 - distributed.worker - INFO -       Local Directory: /tmp/dask-scratch-space/worker-u4iwt0er\n",
      "2023-06-24 20:36:26,312 - distributed.deploy.ssh - INFO - 2023-06-24 20:36:26,301 - distributed.worker - INFO - -------------------------------------------------\n",
      "2023-06-24 20:36:26,325 - distributed.deploy.ssh - INFO - 2023-06-24 20:36:26,324 - distributed.worker - INFO -       Start worker at:    tcp://10.67.22.31:37415\n",
      "2023-06-24 20:36:26,326 - distributed.deploy.ssh - INFO - 2023-06-24 20:36:26,324 - distributed.worker - INFO -          Listening to:    tcp://10.67.22.31:37415\n",
      "2023-06-24 20:36:26,327 - distributed.deploy.ssh - INFO - 2023-06-24 20:36:26,324 - distributed.worker - INFO -          dashboard at:          10.67.22.31:43655\n",
      "2023-06-24 20:36:26,328 - distributed.deploy.ssh - INFO - 2023-06-24 20:36:26,324 - distributed.worker - INFO - Waiting to connect to:    tcp://10.67.22.140:8786\n",
      "2023-06-24 20:36:26,329 - distributed.deploy.ssh - INFO - 2023-06-24 20:36:26,324 - distributed.worker - INFO - -------------------------------------------------\n",
      "2023-06-24 20:36:26,330 - distributed.deploy.ssh - INFO - 2023-06-24 20:36:26,324 - distributed.worker - INFO -               Threads:                          1\n",
      "2023-06-24 20:36:26,333 - distributed.deploy.ssh - INFO - 2023-06-24 20:36:26,324 - distributed.worker - INFO -                Memory:                   1.94 GiB\n",
      "2023-06-24 20:36:26,334 - distributed.deploy.ssh - INFO - 2023-06-24 20:36:26,324 - distributed.worker - INFO -       Local Directory: /tmp/dask-scratch-space/worker-hgypwpy6\n",
      "2023-06-24 20:36:26,335 - distributed.deploy.ssh - INFO - 2023-06-24 20:36:26,324 - distributed.worker - INFO - -------------------------------------------------\n",
      "2023-06-24 20:36:26,345 - distributed.deploy.ssh - INFO - 2023-06-24 20:36:26,344 - distributed.worker - INFO -       Start worker at:    tcp://10.67.22.31:37079\n",
      "2023-06-24 20:36:26,346 - distributed.deploy.ssh - INFO - 2023-06-24 20:36:26,345 - distributed.worker - INFO -          Listening to:    tcp://10.67.22.31:37079\n",
      "2023-06-24 20:36:26,347 - distributed.deploy.ssh - INFO - 2023-06-24 20:36:26,345 - distributed.worker - INFO -          dashboard at:          10.67.22.31:35557\n",
      "2023-06-24 20:36:26,349 - distributed.deploy.ssh - INFO - 2023-06-24 20:36:26,345 - distributed.worker - INFO - Waiting to connect to:    tcp://10.67.22.140:8786\n",
      "2023-06-24 20:36:26,350 - distributed.deploy.ssh - INFO - 2023-06-24 20:36:26,345 - distributed.worker - INFO - -------------------------------------------------\n",
      "2023-06-24 20:36:26,355 - distributed.deploy.ssh - INFO - 2023-06-24 20:36:26,345 - distributed.worker - INFO -               Threads:                          1\n",
      "2023-06-24 20:36:26,356 - distributed.deploy.ssh - INFO - 2023-06-24 20:36:26,345 - distributed.worker - INFO -                Memory:                   1.94 GiB\n",
      "2023-06-24 20:36:26,357 - distributed.deploy.ssh - INFO - 2023-06-24 20:36:26,345 - distributed.worker - INFO -       Local Directory: /tmp/dask-scratch-space/worker-hrly7deh\n",
      "2023-06-24 20:36:26,358 - distributed.deploy.ssh - INFO - 2023-06-24 20:36:26,345 - distributed.worker - INFO - -------------------------------------------------\n",
      "2023-06-24 20:36:26,358 - distributed.deploy.ssh - INFO - 2023-06-24 20:36:26,352 - distributed.worker - INFO -       Start worker at:    tcp://10.67.22.31:45431\n",
      "/home/ubuntu/miniconda3/lib/python3.10/site-packages/distributed/client.py:1388: VersionMismatchWarning: Mismatched versions found\n",
      "\n",
      "+---------+--------+-----------+------------------+\n",
      "| Package | Client | Scheduler | Workers          |\n",
      "+---------+--------+-----------+------------------+\n",
      "| tornado | 6.3.2  | 6.3.2     | {'6.3.2', '6.2'} |\n",
      "+---------+--------+-----------+------------------+\n",
      "  warnings.warn(version_module.VersionMismatchWarning(msg[0][\"warning\"]))\n"
     ]
    }
   ],
   "source": [
    "# if __name__ == \"__main__\":\n",
    "    # cluster = dask.distributed.LocalCluster()\n",
    "    # client = dask.distributed.Client(cluster)\n",
    "cluster = SSHCluster([\"bhbh-1\", \"bhbh-1\", \"bhbh-2\", \"bhbh-3\", \"bhbh-4\", \"bhbh-5\"],\n",
    "                    connect_options={\"client_keys\": \"/home/ubuntu/private/tbertola_key.pem\"},\n",
    "                    worker_options={\"n_workers\": 4,\n",
    "                                    \"nthreads\": 1}, # because each bhbh-* has 4 cores\n",
    "                    scheduler_options={\"port\": 8786, \"dashboard_address\": \":8787\"}\n",
    "                    )\n",
    "\n",
    "client=Client(cluster)"
   ]
  },
  {
   "cell_type": "code",
   "execution_count": 6,
   "id": "7b005870-0508-4dc7-9ed1-526e064324e2",
   "metadata": {},
   "outputs": [],
   "source": [
    "# cluster"
   ]
  },
  {
   "cell_type": "code",
   "execution_count": 7,
   "id": "e3a772e3-2cfe-4142-b382-1e0d44498a03",
   "metadata": {
    "tags": []
   },
   "outputs": [],
   "source": [
    "q_drop = 0.2\n",
    "#import data\n",
    "bhbh = dd.read_parquet('/home/ubuntu/data/bag_all_dataset_with_no_kick/*')\n",
    "bhbh = bhbh[bhbh['q']>q_drop]"
   ]
  },
  {
   "cell_type": "code",
   "execution_count": 8,
   "id": "af1a2952-2ee6-4c66-b975-8f430afdbb8c",
   "metadata": {},
   "outputs": [],
   "source": [
    "# bhbh.compute()"
   ]
  },
  {
   "cell_type": "code",
   "execution_count": 9,
   "id": "4130e893-1571-47de-b8bc-77cd8f3414ea",
   "metadata": {
    "tags": []
   },
   "outputs": [
    {
     "name": "stdout",
     "output_type": "stream",
     "text": [
      "bin_edges: 51\n",
      "dask.array<sum-aggregate, shape=(50,), dtype=int64, chunksize=(50,), chunktype=numpy.ndarray>\n"
     ]
    }
   ],
   "source": [
    "#add column label\n",
    "# n_bins = int(np.sqrt(len(bhbh)))\n",
    "n_bins=50\n",
    "\n",
    "# Define the edges between bins\n",
    "counts, bin_edges = da.histogram(bhbh.q.values, bins=n_bins, range=(q_drop,1.0))\n",
    "\n",
    "# pd.cut each column, with each bin closed on left and open on right\n",
    "bhbh['label'] = bhbh['q'].map_partitions(pd.cut, bin_edges, right=True, labels=False, include_lowest=False)\n",
    "\n",
    "print('bin_edges:', len(bin_edges))\n",
    "print(counts)"
   ]
  },
  {
   "cell_type": "code",
   "execution_count": 10,
   "id": "525083b1-e4ea-41c1-9823-3e953c896114",
   "metadata": {},
   "outputs": [],
   "source": [
    "# np.unique(bhbh['label'].compute())"
   ]
  },
  {
   "cell_type": "code",
   "execution_count": 11,
   "id": "4e5eefca-5aa1-481b-9622-c78bb17b3368",
   "metadata": {},
   "outputs": [
    {
     "data": {
      "text/plain": [
       "array([0.2  , 0.216, 0.232, 0.248, 0.264, 0.28 , 0.296, 0.312, 0.328,\n",
       "       0.344, 0.36 , 0.376, 0.392, 0.408, 0.424, 0.44 , 0.456, 0.472,\n",
       "       0.488, 0.504, 0.52 , 0.536, 0.552, 0.568, 0.584, 0.6  , 0.616,\n",
       "       0.632, 0.648, 0.664, 0.68 , 0.696, 0.712, 0.728, 0.744, 0.76 ,\n",
       "       0.776, 0.792, 0.808, 0.824, 0.84 , 0.856, 0.872, 0.888, 0.904,\n",
       "       0.92 , 0.936, 0.952, 0.968, 0.984, 1.   ])"
      ]
     },
     "execution_count": 11,
     "metadata": {},
     "output_type": "execute_result"
    }
   ],
   "source": [
    "bin_edges"
   ]
  },
  {
   "cell_type": "code",
   "execution_count": 12,
   "id": "32aa2943-fc42-4c18-b919-d79b5aa59fe6",
   "metadata": {},
   "outputs": [],
   "source": [
    "# counts.compute()"
   ]
  },
  {
   "cell_type": "code",
   "execution_count": 13,
   "id": "427b414a-4e08-4bd8-8da0-28ed85bbd0c3",
   "metadata": {},
   "outputs": [],
   "source": [
    "# bhbh.compute()"
   ]
  },
  {
   "cell_type": "code",
   "execution_count": 14,
   "id": "3084027d-9cab-4d67-9b29-6c73ff4228ff",
   "metadata": {},
   "outputs": [],
   "source": [
    "bhbh_partitions = bhbh.npartitions"
   ]
  },
  {
   "cell_type": "code",
   "execution_count": 15,
   "id": "f4e57af9-7763-4979-803d-3454975727ad",
   "metadata": {
    "tags": []
   },
   "outputs": [],
   "source": [
    "# bhbh = bhbh.persist()"
   ]
  },
  {
   "cell_type": "code",
   "execution_count": 16,
   "id": "9e4f5d1b-b187-4bbc-8e4a-d910a3919530",
   "metadata": {
    "tags": []
   },
   "outputs": [],
   "source": [
    "# #Data\n",
    "# X = bhbh[['Mass_0', 'Z_0', 'Mass_1', 'a', 'e']]\n",
    "# y = bhbh['label']\n",
    "# X_train, X_test, y_train, y_test = train_test_split(X, y, train_size=0.8, shuffle=True)"
   ]
  },
  {
   "cell_type": "code",
   "execution_count": 17,
   "id": "59721279-a721-487b-ba85-28453e51c991",
   "metadata": {},
   "outputs": [],
   "source": [
    "bhbh_train, bhbh_test=train_test_split(bhbh, train_size=0.8, shuffle=True)"
   ]
  },
  {
   "cell_type": "code",
   "execution_count": 18,
   "id": "f250b82f-7eaa-4f2c-ab22-943bb43719bc",
   "metadata": {},
   "outputs": [
    {
     "data": {
      "text/plain": [
       "5991527"
      ]
     },
     "execution_count": 18,
     "metadata": {},
     "output_type": "execute_result"
    }
   ],
   "source": [
    "len(bhbh_train) # check number of records"
   ]
  },
  {
   "cell_type": "code",
   "execution_count": 19,
   "id": "b13a6ab8-857f-4a0f-94db-2d74f35f28c8",
   "metadata": {},
   "outputs": [],
   "source": [
    "bhbh_train=bhbh_train.repartition(120)"
   ]
  },
  {
   "cell_type": "code",
   "execution_count": 20,
   "id": "171e1738-f56b-4832-b4b0-b518142a000c",
   "metadata": {},
   "outputs": [
    {
     "data": {
      "text/plain": [
       "5991527"
      ]
     },
     "execution_count": 20,
     "metadata": {},
     "output_type": "execute_result"
    }
   ],
   "source": [
    "len(bhbh_train) # check consistency after repartitioning"
   ]
  },
  {
   "cell_type": "code",
   "execution_count": 21,
   "id": "acdd0ad7-77cc-4d34-b262-cab949f90553",
   "metadata": {},
   "outputs": [],
   "source": [
    "bhbh_train=bhbh_train.reset_index(drop=True)"
   ]
  },
  {
   "cell_type": "code",
   "execution_count": 22,
   "id": "3d3b02fc-2474-426b-8915-e6008eb9e483",
   "metadata": {},
   "outputs": [],
   "source": [
    "countings=bhbh['label'].to_frame().groupby('label').size().compute()"
   ]
  },
  {
   "cell_type": "code",
   "execution_count": 23,
   "id": "8fb93d27-f823-4cb0-9697-6b4296a2d50e",
   "metadata": {},
   "outputs": [],
   "source": [
    "total_counts=countings.sum()"
   ]
  },
  {
   "cell_type": "code",
   "execution_count": 24,
   "id": "98afb729-cb27-4c4f-905c-6d8efad5e3b5",
   "metadata": {},
   "outputs": [
    {
     "data": {
      "text/plain": [
       "50"
      ]
     },
     "execution_count": 24,
     "metadata": {},
     "output_type": "execute_result"
    }
   ],
   "source": [
    "n_bins"
   ]
  },
  {
   "cell_type": "code",
   "execution_count": 25,
   "id": "e2a2fd6e-6e7c-4af6-911a-48cba9ee99e5",
   "metadata": {},
   "outputs": [],
   "source": [
    "def assign_weight(i):\n",
    "    return total_counts/(n_bins*countings[i])"
   ]
  },
  {
   "cell_type": "code",
   "execution_count": 26,
   "id": "12059a9d-2689-4f73-8760-bd8aec791412",
   "metadata": {},
   "outputs": [],
   "source": [
    "bhbh_train['weight']=bhbh_train['label'].map(assign_weight)"
   ]
  },
  {
   "cell_type": "code",
   "execution_count": 27,
   "id": "d2f43da3-0e8f-4ec3-97c7-62b1487a64c1",
   "metadata": {},
   "outputs": [],
   "source": [
    "labs_weights=bhbh_train[['label', 'weight']].compute()"
   ]
  },
  {
   "cell_type": "code",
   "execution_count": 28,
   "id": "0bed8c46-80f4-4c84-ad8a-1fd7ca450c4b",
   "metadata": {},
   "outputs": [
    {
     "data": {
      "image/png": "[encoded data removed]",
      "text/plain": [
       "<Figure size 640x480 with 1 Axes>"
      ]
     },
     "metadata": {},
     "output_type": "display_data"
    }
   ],
   "source": [
    "# plt.scatter(x=labs_weights.label, y=labs_weights.weight)\n",
    "# plt.xlabel('label')\n",
    "# plt.ylabel('weight')\n",
    "# plt.savefig('labels_vs_weight.png')"
   ]
  },
  {
   "cell_type": "code",
   "execution_count": 29,
   "id": "2126c69e-229a-4b2b-b2b3-e8bf386619d7",
   "metadata": {},
   "outputs": [
    {
     "data": {
      "text/plain": [
       "Index(['name', 'Mass_0', 'Z_0', 'SN_0', 'Mass_1', 'SN_1', 'a', 'e', 'alpha',\n",
       "       'Mass_0_out', 'Mass_1_out', 'Semimajor', 'Eccentricity', 'GWtime',\n",
       "       'BWorldtime', 'RLO', 'CE', 'BSN', 'No_Kick', 'tdelay', 'Mass_max_out',\n",
       "       'q', 'Mass_chirp', 'label', 'weight'],\n",
       "      dtype='object')"
      ]
     },
     "execution_count": 29,
     "metadata": {},
     "output_type": "execute_result"
    }
   ],
   "source": [
    "bhbh_train.columns"
   ]
  },
  {
   "cell_type": "code",
   "execution_count": 30,
   "id": "33bb2aa0-b43e-42b6-b9e1-aecbcf9f4532",
   "metadata": {},
   "outputs": [],
   "source": [
    "weights=bhbh_train['weight']\n",
    "labels=bhbh_train['label']\n",
    "features=bhbh_train[['Mass_0', 'Z_0', 'Mass_1',  'a', 'e', 'alpha']]"
   ]
  },
  {
   "cell_type": "code",
   "execution_count": 31,
   "id": "ef2c71e9-f77f-4310-aa4b-213331efbab9",
   "metadata": {},
   "outputs": [
    {
     "data": {
      "text/plain": [
       "(dask.dataframe.core.DataFrame, 120)"
      ]
     },
     "execution_count": 31,
     "metadata": {},
     "output_type": "execute_result"
    }
   ],
   "source": [
    "type(features), features.npartitions"
   ]
  },
  {
   "cell_type": "code",
   "execution_count": 32,
   "id": "89834358-a5fd-4afd-82a0-b065f63992ac",
   "metadata": {},
   "outputs": [
    {
     "data": {
      "text/plain": [
       "(dask.dataframe.core.Series, 120)"
      ]
     },
     "execution_count": 32,
     "metadata": {},
     "output_type": "execute_result"
    }
   ],
   "source": [
    "type(labels), labels.npartitions"
   ]
  },
  {
   "cell_type": "code",
   "execution_count": 33,
   "id": "e500bce1-4eeb-4879-809d-755b34601862",
   "metadata": {
    "tags": []
   },
   "outputs": [],
   "source": [
    "#weights\n",
    "# le = LabelEncoder()\n",
    "# y_train = dask.dataframe.from_array(le.fit_transform(y_train))\n",
    "# sample_weight  = custom_weight[y_train]\n",
    "# sample_weights = dask.dataframe.from_pandas(pd.DataFrame({'weight':sample_weight}), npartitions=1800)\n",
    "# sample_weights = sample_weights.repartition(240).to_dask_array(lengths=True)"
   ]
  },
  {
   "cell_type": "code",
   "execution_count": 63,
   "id": "b1606c62-c9a1-4d83-848d-7db25916fc1a",
   "metadata": {
    "tags": []
   },
   "outputs": [],
   "source": [
    "#parameters\n",
    "n_estimators = 10\n",
    "max_depth = 8\n",
    "learning_rate = 0.3\n",
    "grow_policy = 'lossguide'\n",
    "max_leaves = 10\n",
    "\n",
    "param = {'objective': 'multi:softprob',\n",
    "        'grow_policy' : 'depthwise', \n",
    "        # 'n_estimators' : n_estimators, \n",
    "        'max_depth' : max_depth,\n",
    "        'learning_rate' : learning_rate,\n",
    "        'max_leaves' : n_bins,\n",
    "        'num_class': n_bins,\n",
    "        # 'n_jobs' : -1\n",
    "        }"
   ]
  },
  {
   "cell_type": "code",
   "execution_count": 64,
   "id": "60ed2314-f0cb-419a-adbc-c3c6ff6ab39b",
   "metadata": {
    "tags": []
   },
   "outputs": [],
   "source": [
    "dtrain = xgb.dask.DaskDMatrix(client, features, label=labels, weight=weights)"
   ]
  },
  {
   "cell_type": "code",
   "execution_count": 65,
   "id": "b980ec47-14eb-4523-b7dc-e7d82f5735d1",
   "metadata": {},
   "outputs": [
    {
     "data": {
      "text/plain": [
       "<xgboost.dask.DaskDMatrix at 0x7f833a7ddf00>"
      ]
     },
     "execution_count": 65,
     "metadata": {},
     "output_type": "execute_result"
    }
   ],
   "source": [
    "dtrain"
   ]
  },
  {
   "cell_type": "code",
   "execution_count": 66,
   "id": "5fe8f8c2-b0bc-491c-abb6-65cc70d3499b",
   "metadata": {
    "tags": []
   },
   "outputs": [],
   "source": [
    "bst = xgb.dask.train(client, param, dtrain, num_boost_round=2, evals=[(dtrain, \"train\")])"
   ]
  },
  {
   "cell_type": "code",
   "execution_count": 67,
   "id": "7d9b1848-01bb-46aa-9d4f-7c0c95e62997",
   "metadata": {},
   "outputs": [],
   "source": [
    "bst=bst['booster']"
   ]
  },
  {
   "cell_type": "code",
   "execution_count": 68,
   "id": "8ef1cd63-acf5-4e8d-a135-4af5a1adc60d",
   "metadata": {},
   "outputs": [],
   "source": [
    "output=xgb.dask.predict(client,bst,dtrain)"
   ]
  },
  {
   "cell_type": "code",
   "execution_count": 69,
   "id": "c137d55f-c321-456b-943f-379736c9ebfb",
   "metadata": {},
   "outputs": [],
   "source": [
    "dist_1=output.to_dask_dataframe().head()"
   ]
  },
  {
   "cell_type": "code",
   "execution_count": 73,
   "id": "e98fd139-8e26-449e-9861-ef877135daed",
   "metadata": {},
   "outputs": [
    {
     "data": {
      "text/plain": [
       "[<matplotlib.lines.Line2D at 0x7f8339ff9930>]"
      ]
     },
     "execution_count": 73,
     "metadata": {},
     "output_type": "execute_result"
    },
    {
     "data": {
      "image/png": "[encoded data removed]",
      "text/plain": [
       "<Figure size 640x480 with 1 Axes>"
      ]
     },
     "metadata": {},
     "output_type": "display_data"
    }
   ],
   "source": [
    "plt.plot(dist_1.iloc[2])"
   ]
  },
  {
   "cell_type": "code",
   "execution_count": null,
   "id": "033d930b-3765-47bf-9f57-3a10c02af912",
   "metadata": {
    "tags": []
   },
   "outputs": [],
   "source": [
    "%matplotlib inline\n",
    "import matplotlib.pyplot as plt\n",
    "\n",
    "ax = xgb.plot_importance(bst, height=0.8, max_num_features=9)\n",
    "ax.grid(False, axis=\"y\")\n",
    "ax.set_title('Estimated feature importance')\n",
    "plt.show()"
   ]
  },
  {
   "cell_type": "code",
   "execution_count": null,
   "id": "11794c30-8d1d-4903-b757-819639eda466",
   "metadata": {
    "tags": []
   },
   "outputs": [],
   "source": [
    "y_train_predict = model.predict(X_train)\n",
    "#prediction = le.inverse_transform(prediction)"
   ]
  },
  {
   "cell_type": "code",
   "execution_count": null,
   "id": "e90aeb86-b432-4e55-b4b0-a949e2fc1527",
   "metadata": {
    "tags": []
   },
   "outputs": [],
   "source": [
    "y_train_predict.shape, X_train.shape"
   ]
  },
  {
   "cell_type": "code",
   "execution_count": null,
   "id": "d62ee969-a064-44c0-bd15-29c8dfdb8df9",
   "metadata": {
    "tags": []
   },
   "outputs": [],
   "source": [
    "plt.hist(y_train_predict, bins=n_bins, alpha=1, label='predict')\n",
    "plt.hist(y_train, alpha=0.5, bins=n_bins, label='labels')\n",
    "plt.legend()"
   ]
  },
  {
   "cell_type": "code",
   "execution_count": null,
   "id": "bfc4d19e-84fc-419c-9888-80758def8007",
   "metadata": {
    "tags": []
   },
   "outputs": [],
   "source": [
    "prob_y_train_pred = model.predict_proba(X_train)\n",
    "prob_y_train_pred.shape\n",
    "\n",
    "k = 5\n",
    "plt.plot(range(0,n_bins), prob_y_train_pred[k])\n",
    "print(y[k], y_train_predict[k])"
   ]
  },
  {
   "cell_type": "code",
   "execution_count": null,
   "id": "6f4b2a9e-141c-449e-b0a9-3b07f7136c24",
   "metadata": {
    "tags": []
   },
   "outputs": [],
   "source": [
    "y_test_pred = model.predict(X_test)\n",
    "#y_pred = le.inverse_transform(y_pred)\n",
    "cm = confusion_matrix(y_test, y_test_pred)\n",
    "# print(cm)\n",
    "\n",
    "# print(accuracy_score(y_test, y_test_pred, normalize=True))\n",
    "# print(accuracy_score(y_train, y_train_predict))"
   ]
  },
  {
   "cell_type": "code",
   "execution_count": null,
   "id": "9a8fdccb-53e6-4c89-9295-981dfe337cf3",
   "metadata": {},
   "outputs": [],
   "source": [
    "prob_y_test_pred = model.predict_proba(X_test)\n",
    "plt.plot(range(0, n_bins), prob_y_test_pred[2])"
   ]
  },
  {
   "cell_type": "code",
   "execution_count": null,
   "id": "fa1e38c6-bd79-47c8-a3d1-3a5b63e9f387",
   "metadata": {
    "tags": []
   },
   "outputs": [],
   "source": [
    "label_values = np.arange(0, n_bins)"
   ]
  },
  {
   "cell_type": "code",
   "execution_count": null,
   "id": "bb7778d1-a361-4638-9203-136083d150d9",
   "metadata": {
    "tags": []
   },
   "outputs": [],
   "source": [
    "y_test_label_predict_max = np.argmax(prob_y_test_pred, axis=1)\n",
    "plt.scatter(y_test, y_test_label_predict_max, s=0.1)\n",
    "plt.plot(y_test, y_test, color='red')\n",
    "plt.xlabel('y_tes')\n",
    "plt.ylabel('y_test_label_predict_max')"
   ]
  },
  {
   "cell_type": "code",
   "execution_count": null,
   "id": "18d86142-9db7-442a-8dc1-1df9e7b40ce0",
   "metadata": {
    "tags": []
   },
   "outputs": [],
   "source": [
    "y_test_label_predict_mean = np.sum(prob_y_test_pred*(label_values), axis=1)\n",
    "y_test_label_predict_variance = np.sum(prob_y_test_pred * (label_values.reshape(1,n_bins) - y_test_label_predict_mean.reshape(len(y_test_label_predict_mean), 1))**2, axis=1)\n",
    "y_test_label_predict_std = np.sqrt(y_test_label_predict_variance)\n",
    "\n",
    "plt.errorbar(y_test[:100], y_test_label_predict_mean[:100], yerr=y_test_label_predict_std[:100], fmt='.')\n",
    "plt.plot(y_test[:100], y_test[:100], color='red')\n",
    "# plt.errorbar(y_test, y_test_label_predict_mean, yerr=y_test_label_predict_std, fmt='.')\n",
    "# plt.plot(y_test, y_test, color='red')\n",
    "plt.xlabel('y_tes')\n",
    "plt.ylabel('y_test_label_predict_mean')"
   ]
  },
  {
   "cell_type": "code",
   "execution_count": null,
   "id": "5c56902c-835d-4e8d-a1a3-f93a1f2c879f",
   "metadata": {
    "tags": []
   },
   "outputs": [],
   "source": [
    "plt.scatter(y_test, y_test_label_predict_mean, s=0.1)\n",
    "plt.plot(y_test, y_test, color='red')\n",
    "plt.xlabel('y_tes')\n",
    "plt.ylabel('y_test_label_predict_mean')"
   ]
  },
  {
   "cell_type": "code",
   "execution_count": null,
   "id": "f6a9f867-3649-407f-993a-61a58cfe68d3",
   "metadata": {
    "tags": []
   },
   "outputs": [],
   "source": [
    "chi = np.sum(((y_test_label_predict_mean - y_test)**2)/y_test_label_predict_variance)\n",
    "chi_norm = chi/len(y_test)\n",
    "print(chi)\n",
    "print(chi_norm)"
   ]
  },
  {
   "cell_type": "code",
   "execution_count": null,
   "id": "d9fcf350-b856-4737-bda2-1d9ef7d75df5",
   "metadata": {
    "tags": []
   },
   "outputs": [],
   "source": [
    "import seaborn as sns"
   ]
  },
  {
   "cell_type": "code",
   "execution_count": null,
   "id": "ecb89def-1010-4e98-a10f-15921c33af19",
   "metadata": {
    "tags": []
   },
   "outputs": [],
   "source": [
    "sns.scatterplot(x=y_test, y=y_test_label_predict_max, hue = X_test['Z_1'], s=1)"
   ]
  },
  {
   "cell_type": "code",
   "execution_count": null,
   "id": "c79bf30e-37f8-4491-9bc8-3e08a4d0e36c",
   "metadata": {
    "tags": []
   },
   "outputs": [],
   "source": [
    "X_test"
   ]
  },
  {
   "cell_type": "code",
   "execution_count": null,
   "id": "85abee86-32a1-441c-8f61-80c822f68efa",
   "metadata": {},
   "outputs": [],
   "source": []
  },
  {
   "cell_type": "code",
   "execution_count": null,
   "id": "38c3a77c-71a8-45a4-a772-4eeabd2b9bcb",
   "metadata": {},
   "outputs": [],
   "source": []
  },
  {
   "cell_type": "code",
   "execution_count": null,
   "id": "2fd0103a",
   "metadata": {},
   "outputs": [],
   "source": []
  }
 ],
 "metadata": {
  "kernelspec": {
   "display_name": "Python 3 (ipykernel)",
   "language": "python",
   "name": "python3"
  },
  "language_info": {
   "codemirror_mode": {
    "name": "ipython",
    "version": 3
   },
   "file_extension": ".py",
   "mimetype": "text/x-python",
   "name": "python",
   "nbconvert_exporter": "python",
   "pygments_lexer": "ipython3",
   "version": "3.10.10"
  }
 },
 "nbformat": 4,
 "nbformat_minor": 5
}
