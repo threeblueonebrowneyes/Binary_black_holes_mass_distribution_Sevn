{
 "cells": [
  {
   "cell_type": "code",
   "execution_count": 1,
   "id": "c344675b-3476-4b3f-8dfa-01a3b7e0b35d",
   "metadata": {
    "tags": []
   },
   "outputs": [
    {
     "data": {
      "application/javascript": [
       "(function(root) {\n",
       "  function now() {\n",
       "    return new Date();\n",
       "  }\n",
       "\n",
       "  var force = true;\n",
       "\n",
       "  if (typeof root._bokeh_onload_callbacks === \"undefined\" || force === true) {\n",
       "    root._bokeh_onload_callbacks = [];\n",
       "    root._bokeh_is_loading = undefined;\n",
       "  }\n",
       "\n",
       "  if (typeof (root._bokeh_timeout) === \"undefined\" || force === true) {\n",
       "    root._bokeh_timeout = Date.now() + 5000;\n",
       "    root._bokeh_failed_load = false;\n",
       "  }\n",
       "\n",
       "  function run_callbacks() {\n",
       "    try {\n",
       "      root._bokeh_onload_callbacks.forEach(function(callback) {\n",
       "        if (callback != null)\n",
       "          callback();\n",
       "      });\n",
       "    } finally {\n",
       "      delete root._bokeh_onload_callbacks\n",
       "    }\n",
       "    console.debug(\"Bokeh: all callbacks have finished\");\n",
       "  }\n",
       "\n",
       "  function load_libs(css_urls, js_urls, js_modules, callback) {\n",
       "    if (css_urls == null) css_urls = [];\n",
       "    if (js_urls == null) js_urls = [];\n",
       "    if (js_modules == null) js_modules = [];\n",
       "\n",
       "    root._bokeh_onload_callbacks.push(callback);\n",
       "    if (root._bokeh_is_loading > 0) {\n",
       "      console.debug(\"Bokeh: BokehJS is being loaded, scheduling callback at\", now());\n",
       "      return null;\n",
       "    }\n",
       "    if (js_urls.length === 0 && js_modules.length === 0) {\n",
       "      run_callbacks();\n",
       "      return null;\n",
       "    }\n",
       "    console.debug(\"Bokeh: BokehJS not loaded, scheduling load and callback at\", now());\n",
       "\n",
       "    function on_load() {\n",
       "      root._bokeh_is_loading--;\n",
       "      if (root._bokeh_is_loading === 0) {\n",
       "        console.debug(\"Bokeh: all BokehJS libraries/stylesheets loaded\");\n",
       "        run_callbacks()\n",
       "      }\n",
       "    }\n",
       "\n",
       "    function on_error() {\n",
       "      console.error(\"failed to load \" + url);\n",
       "    }\n",
       "\n",
       "    for (var i = 0; i < css_urls.length; i++) {\n",
       "      var url = css_urls[i];\n",
       "      const element = document.createElement(\"link\");\n",
       "      element.onload = on_load;\n",
       "      element.onerror = on_error;\n",
       "      element.rel = \"stylesheet\";\n",
       "      element.type = \"text/css\";\n",
       "      element.href = url;\n",
       "      console.debug(\"Bokeh: injecting link tag for BokehJS stylesheet: \", url);\n",
       "      document.body.appendChild(element);\n",
       "    }\n",
       "\n",
       "    var skip = [];\n",
       "    if (window.requirejs) {\n",
       "      window.requirejs.config({'packages': {}, 'paths': {'gridstack': 'https://cdn.jsdelivr.net/npm/gridstack@4.2.5/dist/gridstack-h5', 'notyf': 'https://cdn.jsdelivr.net/npm/notyf@3/notyf.min'}, 'shim': {'gridstack': {'exports': 'GridStack'}}});\n",
       "      require([\"gridstack\"], function(GridStack) {\n",
       "\twindow.GridStack = GridStack\n",
       "\ton_load()\n",
       "      })\n",
       "      require([\"notyf\"], function() {\n",
       "\ton_load()\n",
       "      })\n",
       "      root._bokeh_is_loading = css_urls.length + 2;\n",
       "    } else {\n",
       "      root._bokeh_is_loading = css_urls.length + js_urls.length + js_modules.length;\n",
       "    }    if (((window['GridStack'] !== undefined) && (!(window['GridStack'] instanceof HTMLElement))) || window.requirejs) {\n",
       "      var urls = ['https://cdn.holoviz.org/panel/0.14.4/dist/bundled/gridstack/gridstack@4.2.5/dist/gridstack-h5.js'];\n",
       "      for (var i = 0; i < urls.length; i++) {\n",
       "        skip.push(urls[i])\n",
       "      }\n",
       "    }    if (((window['Notyf'] !== undefined) && (!(window['Notyf'] instanceof HTMLElement))) || window.requirejs) {\n",
       "      var urls = ['https://cdn.holoviz.org/panel/0.14.4/dist/bundled/notificationarea/notyf@3/notyf.min.js'];\n",
       "      for (var i = 0; i < urls.length; i++) {\n",
       "        skip.push(urls[i])\n",
       "      }\n",
       "    }    for (var i = 0; i < js_urls.length; i++) {\n",
       "      var url = js_urls[i];\n",
       "      if (skip.indexOf(url) >= 0) {\n",
       "\tif (!window.requirejs) {\n",
       "\t  on_load();\n",
       "\t}\n",
       "\tcontinue;\n",
       "      }\n",
       "      var element = document.createElement('script');\n",
       "      element.onload = on_load;\n",
       "      element.onerror = on_error;\n",
       "      element.async = false;\n",
       "      element.src = url;\n",
       "      console.debug(\"Bokeh: injecting script tag for BokehJS library: \", url);\n",
       "      document.head.appendChild(element);\n",
       "    }\n",
       "    for (var i = 0; i < js_modules.length; i++) {\n",
       "      var url = js_modules[i];\n",
       "      if (skip.indexOf(url) >= 0) {\n",
       "\tif (!window.requirejs) {\n",
       "\t  on_load();\n",
       "\t}\n",
       "\tcontinue;\n",
       "      }\n",
       "      var element = document.createElement('script');\n",
       "      element.onload = on_load;\n",
       "      element.onerror = on_error;\n",
       "      element.async = false;\n",
       "      element.src = url;\n",
       "      element.type = \"module\";\n",
       "      console.debug(\"Bokeh: injecting script tag for BokehJS library: \", url);\n",
       "      document.head.appendChild(element);\n",
       "    }\n",
       "    if (!js_urls.length && !js_modules.length) {\n",
       "      on_load()\n",
       "    }\n",
       "  };\n",
       "\n",
       "  function inject_raw_css(css) {\n",
       "    const element = document.createElement(\"style\");\n",
       "    element.appendChild(document.createTextNode(css));\n",
       "    document.body.appendChild(element);\n",
       "  }\n",
       "\n",
       "  var js_urls = [\"https://cdn.bokeh.org/bokeh/release/bokeh-2.4.3.min.js\", \"https://cdn.bokeh.org/bokeh/release/bokeh-gl-2.4.3.min.js\", \"https://cdn.bokeh.org/bokeh/release/bokeh-widgets-2.4.3.min.js\", \"https://cdn.bokeh.org/bokeh/release/bokeh-tables-2.4.3.min.js\", \"https://cdn.bokeh.org/bokeh/release/bokeh-mathjax-2.4.3.min.js\", \"https://unpkg.com/@holoviz/panel@0.14.4/dist/panel.min.js\"];\n",
       "  var js_modules = [];\n",
       "  var css_urls = [\"https://cdn.holoviz.org/panel/0.14.4/dist/css/loading.css\", \"https://cdn.holoviz.org/panel/0.14.4/dist/css/json.css\", \"https://cdn.holoviz.org/panel/0.14.4/dist/css/alerts.css\", \"https://cdn.holoviz.org/panel/0.14.4/dist/css/widgets.css\", \"https://cdn.holoviz.org/panel/0.14.4/dist/css/card.css\", \"https://cdn.holoviz.org/panel/0.14.4/dist/css/markdown.css\", \"https://cdn.holoviz.org/panel/0.14.4/dist/css/dataframe.css\", \"https://cdn.holoviz.org/panel/0.14.4/dist/css/debugger.css\"];\n",
       "  var inline_js = [    function(Bokeh) {\n",
       "      inject_raw_css(\"\\n    .bk.pn-loading.arc:before {\\n      background-image: url(\\\"data:image/svg+xml;base64,PHN2ZyB4bWxucz0iaHR0cDovL3d3dy53My5vcmcvMjAwMC9zdmciIHN0eWxlPSJtYXJnaW46IGF1dG87IGJhY2tncm91bmQ6IG5vbmU7IGRpc3BsYXk6IGJsb2NrOyBzaGFwZS1yZW5kZXJpbmc6IGF1dG87IiB2aWV3Qm94PSIwIDAgMTAwIDEwMCIgcHJlc2VydmVBc3BlY3RSYXRpbz0ieE1pZFlNaWQiPiAgPGNpcmNsZSBjeD0iNTAiIGN5PSI1MCIgZmlsbD0ibm9uZSIgc3Ryb2tlPSIjYzNjM2MzIiBzdHJva2Utd2lkdGg9IjEwIiByPSIzNSIgc3Ryb2tlLWRhc2hhcnJheT0iMTY0LjkzMzYxNDMxMzQ2NDE1IDU2Ljk3Nzg3MTQzNzgyMTM4Ij4gICAgPGFuaW1hdGVUcmFuc2Zvcm0gYXR0cmlidXRlTmFtZT0idHJhbnNmb3JtIiB0eXBlPSJyb3RhdGUiIHJlcGVhdENvdW50PSJpbmRlZmluaXRlIiBkdXI9IjFzIiB2YWx1ZXM9IjAgNTAgNTA7MzYwIDUwIDUwIiBrZXlUaW1lcz0iMDsxIj48L2FuaW1hdGVUcmFuc2Zvcm0+ICA8L2NpcmNsZT48L3N2Zz4=\\\");\\n      background-size: auto calc(min(50%, 400px));\\n    }\\n    \");\n",
       "    },    function(Bokeh) {\n",
       "      Bokeh.set_log_level(\"info\");\n",
       "    },\n",
       "function(Bokeh) {} // ensure no trailing comma for IE\n",
       "  ];\n",
       "\n",
       "  function run_inline_js() {\n",
       "    if ((root.Bokeh !== undefined) || (force === true)) {\n",
       "      for (var i = 0; i < inline_js.length; i++) {\n",
       "        inline_js[i].call(root, root.Bokeh);\n",
       "      }} else if (Date.now() < root._bokeh_timeout) {\n",
       "      setTimeout(run_inline_js, 100);\n",
       "    } else if (!root._bokeh_failed_load) {\n",
       "      console.log(\"Bokeh: BokehJS failed to load within specified timeout.\");\n",
       "      root._bokeh_failed_load = true;\n",
       "    }\n",
       "  }\n",
       "\n",
       "  if (root._bokeh_is_loading === 0) {\n",
       "    console.debug(\"Bokeh: BokehJS loaded, going straight to plotting\");\n",
       "    run_inline_js();\n",
       "  } else {\n",
       "    load_libs(css_urls, js_urls, js_modules, function() {\n",
       "      console.debug(\"Bokeh: BokehJS plotting callback run at\", now());\n",
       "      run_inline_js();\n",
       "    });\n",
       "  }\n",
       "}(window));"
      ],
      "application/vnd.holoviews_load.v0+json": "(function(root) {\n  function now() {\n    return new Date();\n  }\n\n  var force = true;\n\n  if (typeof root._bokeh_onload_callbacks === \"undefined\" || force === true) {\n    root._bokeh_onload_callbacks = [];\n    root._bokeh_is_loading = undefined;\n  }\n\n  if (typeof (root._bokeh_timeout) === \"undefined\" || force === true) {\n    root._bokeh_timeout = Date.now() + 5000;\n    root._bokeh_failed_load = false;\n  }\n\n  function run_callbacks() {\n    try {\n      root._bokeh_onload_callbacks.forEach(function(callback) {\n        if (callback != null)\n          callback();\n      });\n    } finally {\n      delete root._bokeh_onload_callbacks\n    }\n    console.debug(\"Bokeh: all callbacks have finished\");\n  }\n\n  function load_libs(css_urls, js_urls, js_modules, callback) {\n    if (css_urls == null) css_urls = [];\n    if (js_urls == null) js_urls = [];\n    if (js_modules == null) js_modules = [];\n\n    root._bokeh_onload_callbacks.push(callback);\n    if (root._bokeh_is_loading > 0) {\n      console.debug(\"Bokeh: BokehJS is being loaded, scheduling callback at\", now());\n      return null;\n    }\n    if (js_urls.length === 0 && js_modules.length === 0) {\n      run_callbacks();\n      return null;\n    }\n    console.debug(\"Bokeh: BokehJS not loaded, scheduling load and callback at\", now());\n\n    function on_load() {\n      root._bokeh_is_loading--;\n      if (root._bokeh_is_loading === 0) {\n        console.debug(\"Bokeh: all BokehJS libraries/stylesheets loaded\");\n        run_callbacks()\n      }\n    }\n\n    function on_error() {\n      console.error(\"failed to load \" + url);\n    }\n\n    for (var i = 0; i < css_urls.length; i++) {\n      var url = css_urls[i];\n      const element = document.createElement(\"link\");\n      element.onload = on_load;\n      element.onerror = on_error;\n      element.rel = \"stylesheet\";\n      element.type = \"text/css\";\n      element.href = url;\n      console.debug(\"Bokeh: injecting link tag for BokehJS stylesheet: \", url);\n      document.body.appendChild(element);\n    }\n\n    var skip = [];\n    if (window.requirejs) {\n      window.requirejs.config({'packages': {}, 'paths': {'gridstack': 'https://cdn.jsdelivr.net/npm/gridstack@4.2.5/dist/gridstack-h5', 'notyf': 'https://cdn.jsdelivr.net/npm/notyf@3/notyf.min'}, 'shim': {'gridstack': {'exports': 'GridStack'}}});\n      require([\"gridstack\"], function(GridStack) {\n\twindow.GridStack = GridStack\n\ton_load()\n      })\n      require([\"notyf\"], function() {\n\ton_load()\n      })\n      root._bokeh_is_loading = css_urls.length + 2;\n    } else {\n      root._bokeh_is_loading = css_urls.length + js_urls.length + js_modules.length;\n    }    if (((window['GridStack'] !== undefined) && (!(window['GridStack'] instanceof HTMLElement))) || window.requirejs) {\n      var urls = ['https://cdn.holoviz.org/panel/0.14.4/dist/bundled/gridstack/gridstack@4.2.5/dist/gridstack-h5.js'];\n      for (var i = 0; i < urls.length; i++) {\n        skip.push(urls[i])\n      }\n    }    if (((window['Notyf'] !== undefined) && (!(window['Notyf'] instanceof HTMLElement))) || window.requirejs) {\n      var urls = ['https://cdn.holoviz.org/panel/0.14.4/dist/bundled/notificationarea/notyf@3/notyf.min.js'];\n      for (var i = 0; i < urls.length; i++) {\n        skip.push(urls[i])\n      }\n    }    for (var i = 0; i < js_urls.length; i++) {\n      var url = js_urls[i];\n      if (skip.indexOf(url) >= 0) {\n\tif (!window.requirejs) {\n\t  on_load();\n\t}\n\tcontinue;\n      }\n      var element = document.createElement('script');\n      element.onload = on_load;\n      element.onerror = on_error;\n      element.async = false;\n      element.src = url;\n      console.debug(\"Bokeh: injecting script tag for BokehJS library: \", url);\n      document.head.appendChild(element);\n    }\n    for (var i = 0; i < js_modules.length; i++) {\n      var url = js_modules[i];\n      if (skip.indexOf(url) >= 0) {\n\tif (!window.requirejs) {\n\t  on_load();\n\t}\n\tcontinue;\n      }\n      var element = document.createElement('script');\n      element.onload = on_load;\n      element.onerror = on_error;\n      element.async = false;\n      element.src = url;\n      element.type = \"module\";\n      console.debug(\"Bokeh: injecting script tag for BokehJS library: \", url);\n      document.head.appendChild(element);\n    }\n    if (!js_urls.length && !js_modules.length) {\n      on_load()\n    }\n  };\n\n  function inject_raw_css(css) {\n    const element = document.createElement(\"style\");\n    element.appendChild(document.createTextNode(css));\n    document.body.appendChild(element);\n  }\n\n  var js_urls = [\"https://cdn.bokeh.org/bokeh/release/bokeh-2.4.3.min.js\", \"https://cdn.bokeh.org/bokeh/release/bokeh-gl-2.4.3.min.js\", \"https://cdn.bokeh.org/bokeh/release/bokeh-widgets-2.4.3.min.js\", \"https://cdn.bokeh.org/bokeh/release/bokeh-tables-2.4.3.min.js\", \"https://cdn.bokeh.org/bokeh/release/bokeh-mathjax-2.4.3.min.js\", \"https://unpkg.com/@holoviz/panel@0.14.4/dist/panel.min.js\"];\n  var js_modules = [];\n  var css_urls = [\"https://cdn.holoviz.org/panel/0.14.4/dist/css/loading.css\", \"https://cdn.holoviz.org/panel/0.14.4/dist/css/json.css\", \"https://cdn.holoviz.org/panel/0.14.4/dist/css/alerts.css\", \"https://cdn.holoviz.org/panel/0.14.4/dist/css/widgets.css\", \"https://cdn.holoviz.org/panel/0.14.4/dist/css/card.css\", \"https://cdn.holoviz.org/panel/0.14.4/dist/css/markdown.css\", \"https://cdn.holoviz.org/panel/0.14.4/dist/css/dataframe.css\", \"https://cdn.holoviz.org/panel/0.14.4/dist/css/debugger.css\"];\n  var inline_js = [    function(Bokeh) {\n      inject_raw_css(\"\\n    .bk.pn-loading.arc:before {\\n      background-image: url(\\\"data:image/svg+xml;base64,PHN2ZyB4bWxucz0iaHR0cDovL3d3dy53My5vcmcvMjAwMC9zdmciIHN0eWxlPSJtYXJnaW46IGF1dG87IGJhY2tncm91bmQ6IG5vbmU7IGRpc3BsYXk6IGJsb2NrOyBzaGFwZS1yZW5kZXJpbmc6IGF1dG87IiB2aWV3Qm94PSIwIDAgMTAwIDEwMCIgcHJlc2VydmVBc3BlY3RSYXRpbz0ieE1pZFlNaWQiPiAgPGNpcmNsZSBjeD0iNTAiIGN5PSI1MCIgZmlsbD0ibm9uZSIgc3Ryb2tlPSIjYzNjM2MzIiBzdHJva2Utd2lkdGg9IjEwIiByPSIzNSIgc3Ryb2tlLWRhc2hhcnJheT0iMTY0LjkzMzYxNDMxMzQ2NDE1IDU2Ljk3Nzg3MTQzNzgyMTM4Ij4gICAgPGFuaW1hdGVUcmFuc2Zvcm0gYXR0cmlidXRlTmFtZT0idHJhbnNmb3JtIiB0eXBlPSJyb3RhdGUiIHJlcGVhdENvdW50PSJpbmRlZmluaXRlIiBkdXI9IjFzIiB2YWx1ZXM9IjAgNTAgNTA7MzYwIDUwIDUwIiBrZXlUaW1lcz0iMDsxIj48L2FuaW1hdGVUcmFuc2Zvcm0+ICA8L2NpcmNsZT48L3N2Zz4=\\\");\\n      background-size: auto calc(min(50%, 400px));\\n    }\\n    \");\n    },    function(Bokeh) {\n      Bokeh.set_log_level(\"info\");\n    },\nfunction(Bokeh) {} // ensure no trailing comma for IE\n  ];\n\n  function run_inline_js() {\n    if ((root.Bokeh !== undefined) || (force === true)) {\n      for (var i = 0; i < inline_js.length; i++) {\n        inline_js[i].call(root, root.Bokeh);\n      }} else if (Date.now() < root._bokeh_timeout) {\n      setTimeout(run_inline_js, 100);\n    } else if (!root._bokeh_failed_load) {\n      console.log(\"Bokeh: BokehJS failed to load within specified timeout.\");\n      root._bokeh_failed_load = true;\n    }\n  }\n\n  if (root._bokeh_is_loading === 0) {\n    console.debug(\"Bokeh: BokehJS loaded, going straight to plotting\");\n    run_inline_js();\n  } else {\n    load_libs(css_urls, js_urls, js_modules, function() {\n      console.debug(\"Bokeh: BokehJS plotting callback run at\", now());\n      run_inline_js();\n    });\n  }\n}(window));"
     },
     "metadata": {},
     "output_type": "display_data"
    },
    {
     "data": {
      "application/javascript": [
       "\n",
       "if ((window.PyViz === undefined) || (window.PyViz instanceof HTMLElement)) {\n",
       "  window.PyViz = {comms: {}, comm_status:{}, kernels:{}, receivers: {}, plot_index: []}\n",
       "}\n",
       "\n",
       "\n",
       "    function JupyterCommManager() {\n",
       "    }\n",
       "\n",
       "    JupyterCommManager.prototype.register_target = function(plot_id, comm_id, msg_handler) {\n",
       "      if (window.comm_manager || ((window.Jupyter !== undefined) && (Jupyter.notebook.kernel != null))) {\n",
       "        var comm_manager = window.comm_manager || Jupyter.notebook.kernel.comm_manager;\n",
       "        comm_manager.register_target(comm_id, function(comm) {\n",
       "          comm.on_msg(msg_handler);\n",
       "        });\n",
       "      } else if ((plot_id in window.PyViz.kernels) && (window.PyViz.kernels[plot_id])) {\n",
       "        window.PyViz.kernels[plot_id].registerCommTarget(comm_id, function(comm) {\n",
       "          comm.onMsg = msg_handler;\n",
       "        });\n",
       "      } else if (typeof google != 'undefined' && google.colab.kernel != null) {\n",
       "        google.colab.kernel.comms.registerTarget(comm_id, (comm) => {\n",
       "          var messages = comm.messages[Symbol.asyncIterator]();\n",
       "          function processIteratorResult(result) {\n",
       "            var message = result.value;\n",
       "            console.log(message)\n",
       "            var content = {data: message.data, comm_id};\n",
       "            var buffers = []\n",
       "            for (var buffer of message.buffers || []) {\n",
       "              buffers.push(new DataView(buffer))\n",
       "            }\n",
       "            var metadata = message.metadata || {};\n",
       "            var msg = {content, buffers, metadata}\n",
       "            msg_handler(msg);\n",
       "            return messages.next().then(processIteratorResult);\n",
       "          }\n",
       "          return messages.next().then(processIteratorResult);\n",
       "        })\n",
       "      }\n",
       "    }\n",
       "\n",
       "    JupyterCommManager.prototype.get_client_comm = function(plot_id, comm_id, msg_handler) {\n",
       "      if (comm_id in window.PyViz.comms) {\n",
       "        return window.PyViz.comms[comm_id];\n",
       "      } else if (window.comm_manager || ((window.Jupyter !== undefined) && (Jupyter.notebook.kernel != null))) {\n",
       "        var comm_manager = window.comm_manager || Jupyter.notebook.kernel.comm_manager;\n",
       "        var comm = comm_manager.new_comm(comm_id, {}, {}, {}, comm_id);\n",
       "        if (msg_handler) {\n",
       "          comm.on_msg(msg_handler);\n",
       "        }\n",
       "      } else if ((plot_id in window.PyViz.kernels) && (window.PyViz.kernels[plot_id])) {\n",
       "        var comm = window.PyViz.kernels[plot_id].connectToComm(comm_id);\n",
       "        comm.open();\n",
       "        if (msg_handler) {\n",
       "          comm.onMsg = msg_handler;\n",
       "        }\n",
       "      } else if (typeof google != 'undefined' && google.colab.kernel != null) {\n",
       "        var comm_promise = google.colab.kernel.comms.open(comm_id)\n",
       "        comm_promise.then((comm) => {\n",
       "          window.PyViz.comms[comm_id] = comm;\n",
       "          if (msg_handler) {\n",
       "            var messages = comm.messages[Symbol.asyncIterator]();\n",
       "            function processIteratorResult(result) {\n",
       "              var message = result.value;\n",
       "              var content = {data: message.data};\n",
       "              var metadata = message.metadata || {comm_id};\n",
       "              var msg = {content, metadata}\n",
       "              msg_handler(msg);\n",
       "              return messages.next().then(processIteratorResult);\n",
       "            }\n",
       "            return messages.next().then(processIteratorResult);\n",
       "          }\n",
       "        }) \n",
       "        var sendClosure = (data, metadata, buffers, disposeOnDone) => {\n",
       "          return comm_promise.then((comm) => {\n",
       "            comm.send(data, metadata, buffers, disposeOnDone);\n",
       "          });\n",
       "        };\n",
       "        var comm = {\n",
       "          send: sendClosure\n",
       "        };\n",
       "      }\n",
       "      window.PyViz.comms[comm_id] = comm;\n",
       "      return comm;\n",
       "    }\n",
       "    window.PyViz.comm_manager = new JupyterCommManager();\n",
       "    \n",
       "\n",
       "\n",
       "var JS_MIME_TYPE = 'application/javascript';\n",
       "var HTML_MIME_TYPE = 'text/html';\n",
       "var EXEC_MIME_TYPE = 'application/vnd.holoviews_exec.v0+json';\n",
       "var CLASS_NAME = 'output';\n",
       "\n",
       "/**\n",
       " * Render data to the DOM node\n",
       " */\n",
       "function render(props, node) {\n",
       "  var div = document.createElement(\"div\");\n",
       "  var script = document.createElement(\"script\");\n",
       "  node.appendChild(div);\n",
       "  node.appendChild(script);\n",
       "}\n",
       "\n",
       "/**\n",
       " * Handle when a new output is added\n",
       " */\n",
       "function handle_add_output(event, handle) {\n",
       "  var output_area = handle.output_area;\n",
       "  var output = handle.output;\n",
       "  if ((output.data == undefined) || (!output.data.hasOwnProperty(EXEC_MIME_TYPE))) {\n",
       "    return\n",
       "  }\n",
       "  var id = output.metadata[EXEC_MIME_TYPE][\"id\"];\n",
       "  var toinsert = output_area.element.find(\".\" + CLASS_NAME.split(' ')[0]);\n",
       "  if (id !== undefined) {\n",
       "    var nchildren = toinsert.length;\n",
       "    var html_node = toinsert[nchildren-1].children[0];\n",
       "    html_node.innerHTML = output.data[HTML_MIME_TYPE];\n",
       "    var scripts = [];\n",
       "    var nodelist = html_node.querySelectorAll(\"script\");\n",
       "    for (var i in nodelist) {\n",
       "      if (nodelist.hasOwnProperty(i)) {\n",
       "        scripts.push(nodelist[i])\n",
       "      }\n",
       "    }\n",
       "\n",
       "    scripts.forEach( function (oldScript) {\n",
       "      var newScript = document.createElement(\"script\");\n",
       "      var attrs = [];\n",
       "      var nodemap = oldScript.attributes;\n",
       "      for (var j in nodemap) {\n",
       "        if (nodemap.hasOwnProperty(j)) {\n",
       "          attrs.push(nodemap[j])\n",
       "        }\n",
       "      }\n",
       "      attrs.forEach(function(attr) { newScript.setAttribute(attr.name, attr.value) });\n",
       "      newScript.appendChild(document.createTextNode(oldScript.innerHTML));\n",
       "      oldScript.parentNode.replaceChild(newScript, oldScript);\n",
       "    });\n",
       "    if (JS_MIME_TYPE in output.data) {\n",
       "      toinsert[nchildren-1].children[1].textContent = output.data[JS_MIME_TYPE];\n",
       "    }\n",
       "    output_area._hv_plot_id = id;\n",
       "    if ((window.Bokeh !== undefined) && (id in Bokeh.index)) {\n",
       "      window.PyViz.plot_index[id] = Bokeh.index[id];\n",
       "    } else {\n",
       "      window.PyViz.plot_index[id] = null;\n",
       "    }\n",
       "  } else if (output.metadata[EXEC_MIME_TYPE][\"server_id\"] !== undefined) {\n",
       "    var bk_div = document.createElement(\"div\");\n",
       "    bk_div.innerHTML = output.data[HTML_MIME_TYPE];\n",
       "    var script_attrs = bk_div.children[0].attributes;\n",
       "    for (var i = 0; i < script_attrs.length; i++) {\n",
       "      toinsert[toinsert.length - 1].childNodes[1].setAttribute(script_attrs[i].name, script_attrs[i].value);\n",
       "    }\n",
       "    // store reference to server id on output_area\n",
       "    output_area._bokeh_server_id = output.metadata[EXEC_MIME_TYPE][\"server_id\"];\n",
       "  }\n",
       "}\n",
       "\n",
       "/**\n",
       " * Handle when an output is cleared or removed\n",
       " */\n",
       "function handle_clear_output(event, handle) {\n",
       "  var id = handle.cell.output_area._hv_plot_id;\n",
       "  var server_id = handle.cell.output_area._bokeh_server_id;\n",
       "  if (((id === undefined) || !(id in PyViz.plot_index)) && (server_id !== undefined)) { return; }\n",
       "  var comm = window.PyViz.comm_manager.get_client_comm(\"hv-extension-comm\", \"hv-extension-comm\", function () {});\n",
       "  if (server_id !== null) {\n",
       "    comm.send({event_type: 'server_delete', 'id': server_id});\n",
       "    return;\n",
       "  } else if (comm !== null) {\n",
       "    comm.send({event_type: 'delete', 'id': id});\n",
       "  }\n",
       "  delete PyViz.plot_index[id];\n",
       "  if ((window.Bokeh !== undefined) & (id in window.Bokeh.index)) {\n",
       "    var doc = window.Bokeh.index[id].model.document\n",
       "    doc.clear();\n",
       "    const i = window.Bokeh.documents.indexOf(doc);\n",
       "    if (i > -1) {\n",
       "      window.Bokeh.documents.splice(i, 1);\n",
       "    }\n",
       "  }\n",
       "}\n",
       "\n",
       "/**\n",
       " * Handle kernel restart event\n",
       " */\n",
       "function handle_kernel_cleanup(event, handle) {\n",
       "  delete PyViz.comms[\"hv-extension-comm\"];\n",
       "  window.PyViz.plot_index = {}\n",
       "}\n",
       "\n",
       "/**\n",
       " * Handle update_display_data messages\n",
       " */\n",
       "function handle_update_output(event, handle) {\n",
       "  handle_clear_output(event, {cell: {output_area: handle.output_area}})\n",
       "  handle_add_output(event, handle)\n",
       "}\n",
       "\n",
       "function register_renderer(events, OutputArea) {\n",
       "  function append_mime(data, metadata, element) {\n",
       "    // create a DOM node to render to\n",
       "    var toinsert = this.create_output_subarea(\n",
       "    metadata,\n",
       "    CLASS_NAME,\n",
       "    EXEC_MIME_TYPE\n",
       "    );\n",
       "    this.keyboard_manager.register_events(toinsert);\n",
       "    // Render to node\n",
       "    var props = {data: data, metadata: metadata[EXEC_MIME_TYPE]};\n",
       "    render(props, toinsert[0]);\n",
       "    element.append(toinsert);\n",
       "    return toinsert\n",
       "  }\n",
       "\n",
       "  events.on('output_added.OutputArea', handle_add_output);\n",
       "  events.on('output_updated.OutputArea', handle_update_output);\n",
       "  events.on('clear_output.CodeCell', handle_clear_output);\n",
       "  events.on('delete.Cell', handle_clear_output);\n",
       "  events.on('kernel_ready.Kernel', handle_kernel_cleanup);\n",
       "\n",
       "  OutputArea.prototype.register_mime_type(EXEC_MIME_TYPE, append_mime, {\n",
       "    safe: true,\n",
       "    index: 0\n",
       "  });\n",
       "}\n",
       "\n",
       "if (window.Jupyter !== undefined) {\n",
       "  try {\n",
       "    var events = require('base/js/events');\n",
       "    var OutputArea = require('notebook/js/outputarea').OutputArea;\n",
       "    if (OutputArea.prototype.mime_types().indexOf(EXEC_MIME_TYPE) == -1) {\n",
       "      register_renderer(events, OutputArea);\n",
       "    }\n",
       "  } catch(err) {\n",
       "  }\n",
       "}\n"
      ],
      "application/vnd.holoviews_load.v0+json": "\nif ((window.PyViz === undefined) || (window.PyViz instanceof HTMLElement)) {\n  window.PyViz = {comms: {}, comm_status:{}, kernels:{}, receivers: {}, plot_index: []}\n}\n\n\n    function JupyterCommManager() {\n    }\n\n    JupyterCommManager.prototype.register_target = function(plot_id, comm_id, msg_handler) {\n      if (window.comm_manager || ((window.Jupyter !== undefined) && (Jupyter.notebook.kernel != null))) {\n        var comm_manager = window.comm_manager || Jupyter.notebook.kernel.comm_manager;\n        comm_manager.register_target(comm_id, function(comm) {\n          comm.on_msg(msg_handler);\n        });\n      } else if ((plot_id in window.PyViz.kernels) && (window.PyViz.kernels[plot_id])) {\n        window.PyViz.kernels[plot_id].registerCommTarget(comm_id, function(comm) {\n          comm.onMsg = msg_handler;\n        });\n      } else if (typeof google != 'undefined' && google.colab.kernel != null) {\n        google.colab.kernel.comms.registerTarget(comm_id, (comm) => {\n          var messages = comm.messages[Symbol.asyncIterator]();\n          function processIteratorResult(result) {\n            var message = result.value;\n            console.log(message)\n            var content = {data: message.data, comm_id};\n            var buffers = []\n            for (var buffer of message.buffers || []) {\n              buffers.push(new DataView(buffer))\n            }\n            var metadata = message.metadata || {};\n            var msg = {content, buffers, metadata}\n            msg_handler(msg);\n            return messages.next().then(processIteratorResult);\n          }\n          return messages.next().then(processIteratorResult);\n        })\n      }\n    }\n\n    JupyterCommManager.prototype.get_client_comm = function(plot_id, comm_id, msg_handler) {\n      if (comm_id in window.PyViz.comms) {\n        return window.PyViz.comms[comm_id];\n      } else if (window.comm_manager || ((window.Jupyter !== undefined) && (Jupyter.notebook.kernel != null))) {\n        var comm_manager = window.comm_manager || Jupyter.notebook.kernel.comm_manager;\n        var comm = comm_manager.new_comm(comm_id, {}, {}, {}, comm_id);\n        if (msg_handler) {\n          comm.on_msg(msg_handler);\n        }\n      } else if ((plot_id in window.PyViz.kernels) && (window.PyViz.kernels[plot_id])) {\n        var comm = window.PyViz.kernels[plot_id].connectToComm(comm_id);\n        comm.open();\n        if (msg_handler) {\n          comm.onMsg = msg_handler;\n        }\n      } else if (typeof google != 'undefined' && google.colab.kernel != null) {\n        var comm_promise = google.colab.kernel.comms.open(comm_id)\n        comm_promise.then((comm) => {\n          window.PyViz.comms[comm_id] = comm;\n          if (msg_handler) {\n            var messages = comm.messages[Symbol.asyncIterator]();\n            function processIteratorResult(result) {\n              var message = result.value;\n              var content = {data: message.data};\n              var metadata = message.metadata || {comm_id};\n              var msg = {content, metadata}\n              msg_handler(msg);\n              return messages.next().then(processIteratorResult);\n            }\n            return messages.next().then(processIteratorResult);\n          }\n        }) \n        var sendClosure = (data, metadata, buffers, disposeOnDone) => {\n          return comm_promise.then((comm) => {\n            comm.send(data, metadata, buffers, disposeOnDone);\n          });\n        };\n        var comm = {\n          send: sendClosure\n        };\n      }\n      window.PyViz.comms[comm_id] = comm;\n      return comm;\n    }\n    window.PyViz.comm_manager = new JupyterCommManager();\n    \n\n\nvar JS_MIME_TYPE = 'application/javascript';\nvar HTML_MIME_TYPE = 'text/html';\nvar EXEC_MIME_TYPE = 'application/vnd.holoviews_exec.v0+json';\nvar CLASS_NAME = 'output';\n\n/**\n * Render data to the DOM node\n */\nfunction render(props, node) {\n  var div = document.createElement(\"div\");\n  var script = document.createElement(\"script\");\n  node.appendChild(div);\n  node.appendChild(script);\n}\n\n/**\n * Handle when a new output is added\n */\nfunction handle_add_output(event, handle) {\n  var output_area = handle.output_area;\n  var output = handle.output;\n  if ((output.data == undefined) || (!output.data.hasOwnProperty(EXEC_MIME_TYPE))) {\n    return\n  }\n  var id = output.metadata[EXEC_MIME_TYPE][\"id\"];\n  var toinsert = output_area.element.find(\".\" + CLASS_NAME.split(' ')[0]);\n  if (id !== undefined) {\n    var nchildren = toinsert.length;\n    var html_node = toinsert[nchildren-1].children[0];\n    html_node.innerHTML = output.data[HTML_MIME_TYPE];\n    var scripts = [];\n    var nodelist = html_node.querySelectorAll(\"script\");\n    for (var i in nodelist) {\n      if (nodelist.hasOwnProperty(i)) {\n        scripts.push(nodelist[i])\n      }\n    }\n\n    scripts.forEach( function (oldScript) {\n      var newScript = document.createElement(\"script\");\n      var attrs = [];\n      var nodemap = oldScript.attributes;\n      for (var j in nodemap) {\n        if (nodemap.hasOwnProperty(j)) {\n          attrs.push(nodemap[j])\n        }\n      }\n      attrs.forEach(function(attr) { newScript.setAttribute(attr.name, attr.value) });\n      newScript.appendChild(document.createTextNode(oldScript.innerHTML));\n      oldScript.parentNode.replaceChild(newScript, oldScript);\n    });\n    if (JS_MIME_TYPE in output.data) {\n      toinsert[nchildren-1].children[1].textContent = output.data[JS_MIME_TYPE];\n    }\n    output_area._hv_plot_id = id;\n    if ((window.Bokeh !== undefined) && (id in Bokeh.index)) {\n      window.PyViz.plot_index[id] = Bokeh.index[id];\n    } else {\n      window.PyViz.plot_index[id] = null;\n    }\n  } else if (output.metadata[EXEC_MIME_TYPE][\"server_id\"] !== undefined) {\n    var bk_div = document.createElement(\"div\");\n    bk_div.innerHTML = output.data[HTML_MIME_TYPE];\n    var script_attrs = bk_div.children[0].attributes;\n    for (var i = 0; i < script_attrs.length; i++) {\n      toinsert[toinsert.length - 1].childNodes[1].setAttribute(script_attrs[i].name, script_attrs[i].value);\n    }\n    // store reference to server id on output_area\n    output_area._bokeh_server_id = output.metadata[EXEC_MIME_TYPE][\"server_id\"];\n  }\n}\n\n/**\n * Handle when an output is cleared or removed\n */\nfunction handle_clear_output(event, handle) {\n  var id = handle.cell.output_area._hv_plot_id;\n  var server_id = handle.cell.output_area._bokeh_server_id;\n  if (((id === undefined) || !(id in PyViz.plot_index)) && (server_id !== undefined)) { return; }\n  var comm = window.PyViz.comm_manager.get_client_comm(\"hv-extension-comm\", \"hv-extension-comm\", function () {});\n  if (server_id !== null) {\n    comm.send({event_type: 'server_delete', 'id': server_id});\n    return;\n  } else if (comm !== null) {\n    comm.send({event_type: 'delete', 'id': id});\n  }\n  delete PyViz.plot_index[id];\n  if ((window.Bokeh !== undefined) & (id in window.Bokeh.index)) {\n    var doc = window.Bokeh.index[id].model.document\n    doc.clear();\n    const i = window.Bokeh.documents.indexOf(doc);\n    if (i > -1) {\n      window.Bokeh.documents.splice(i, 1);\n    }\n  }\n}\n\n/**\n * Handle kernel restart event\n */\nfunction handle_kernel_cleanup(event, handle) {\n  delete PyViz.comms[\"hv-extension-comm\"];\n  window.PyViz.plot_index = {}\n}\n\n/**\n * Handle update_display_data messages\n */\nfunction handle_update_output(event, handle) {\n  handle_clear_output(event, {cell: {output_area: handle.output_area}})\n  handle_add_output(event, handle)\n}\n\nfunction register_renderer(events, OutputArea) {\n  function append_mime(data, metadata, element) {\n    // create a DOM node to render to\n    var toinsert = this.create_output_subarea(\n    metadata,\n    CLASS_NAME,\n    EXEC_MIME_TYPE\n    );\n    this.keyboard_manager.register_events(toinsert);\n    // Render to node\n    var props = {data: data, metadata: metadata[EXEC_MIME_TYPE]};\n    render(props, toinsert[0]);\n    element.append(toinsert);\n    return toinsert\n  }\n\n  events.on('output_added.OutputArea', handle_add_output);\n  events.on('output_updated.OutputArea', handle_update_output);\n  events.on('clear_output.CodeCell', handle_clear_output);\n  events.on('delete.Cell', handle_clear_output);\n  events.on('kernel_ready.Kernel', handle_kernel_cleanup);\n\n  OutputArea.prototype.register_mime_type(EXEC_MIME_TYPE, append_mime, {\n    safe: true,\n    index: 0\n  });\n}\n\nif (window.Jupyter !== undefined) {\n  try {\n    var events = require('base/js/events');\n    var OutputArea = require('notebook/js/outputarea').OutputArea;\n    if (OutputArea.prototype.mime_types().indexOf(EXEC_MIME_TYPE) == -1) {\n      register_renderer(events, OutputArea);\n    }\n  } catch(err) {\n  }\n}\n"
     },
     "metadata": {},
     "output_type": "display_data"
    },
    {
     "data": {
      "text/html": [
       "<style>.bk-root, .bk-root .bk:before, .bk-root .bk:after {\n",
       "  font-family: var(--jp-ui-font-size1);\n",
       "  font-size: var(--jp-ui-font-size1);\n",
       "  color: var(--jp-ui-font-color1);\n",
       "}\n",
       "</style>"
      ]
     },
     "metadata": {},
     "output_type": "display_data"
    }
   ],
   "source": [
    "import numpy as np\n",
    "import pandas as pd\n",
    "import matplotlib.pyplot as plt\n",
    "import seaborn as sns\n",
    "import hvplot.dask\n",
    "\n",
    "from sklearn.metrics import confusion_matrix\n",
    "from sklearn.metrics import accuracy_score\n",
    "from sklearn.utils.class_weight import compute_sample_weight, compute_class_weight\n",
    "from sklearn import metrics\n",
    "\n",
    "import dask\n",
    "import dask.dataframe as dd\n",
    "import dask.array as da\n",
    "from dask.distributed import Client, SSHCluster\n",
    "import dask.distributed\n",
    "\n",
    "import dask_ml\n",
    "from dask_ml.model_selection import train_test_split\n",
    "from dask_ml.preprocessing import LabelEncoder\n",
    "\n",
    "import xgboost as xgb"
   ]
  },
  {
   "cell_type": "code",
   "execution_count": 2,
   "id": "6947ee54-3596-4f58-899a-77d8eca57db1",
   "metadata": {
    "tags": []
   },
   "outputs": [
    {
     "name": "stderr",
     "output_type": "stream",
     "text": [
      "2023-06-25 18:33:57,667 - distributed.deploy.ssh - INFO - 2023-06-25 18:33:57,665 - distributed.scheduler - INFO - State start\n",
      "2023-06-25 18:33:57,672 - distributed.deploy.ssh - INFO - 2023-06-25 18:33:57,667 - distributed.diskutils - INFO - Found stale lock file and directory '/tmp/dask-scratch-space/scheduler-3nl2idzm', purging\n",
      "2023-06-25 18:33:57,676 - distributed.deploy.ssh - INFO - 2023-06-25 18:33:57,675 - distributed.scheduler - INFO -   Scheduler at:   tcp://10.67.22.140:8786\n",
      "2023-06-25 18:33:58,702 - distributed.deploy.ssh - INFO - 2023-06-25 18:33:58,700 - distributed.nanny - INFO -         Start Nanny at: 'tcp://10.67.22.140:45709'\n",
      "2023-06-25 18:33:58,720 - distributed.deploy.ssh - INFO - 2023-06-25 18:33:58,719 - distributed.nanny - INFO -         Start Nanny at: 'tcp://10.67.22.140:35851'\n",
      "2023-06-25 18:33:58,725 - distributed.deploy.ssh - INFO - 2023-06-25 18:33:58,724 - distributed.nanny - INFO -         Start Nanny at: 'tcp://10.67.22.140:34887'\n",
      "2023-06-25 18:33:58,733 - distributed.deploy.ssh - INFO - 2023-06-25 18:33:58,733 - distributed.nanny - INFO -         Start Nanny at: 'tcp://10.67.22.21:39567'\n",
      "2023-06-25 18:33:58,736 - distributed.deploy.ssh - INFO - 2023-06-25 18:33:58,736 - distributed.nanny - INFO -         Start Nanny at: 'tcp://10.67.22.21:41775'\n",
      "2023-06-25 18:33:58,739 - distributed.deploy.ssh - INFO - 2023-06-25 18:33:58,739 - distributed.nanny - INFO -         Start Nanny at: 'tcp://10.67.22.21:33527'\n",
      "2023-06-25 18:33:58,741 - distributed.deploy.ssh - INFO - 2023-06-25 18:33:58,741 - distributed.nanny - INFO -         Start Nanny at: 'tcp://10.67.22.21:34397'\n",
      "2023-06-25 18:33:58,746 - distributed.deploy.ssh - INFO - 2023-06-25 18:33:58,746 - distributed.nanny - INFO -         Start Nanny at: 'tcp://10.67.22.140:40371'\n",
      "2023-06-25 18:33:59,006 - distributed.deploy.ssh - INFO - 2023-06-25 18:33:59,002 - distributed.nanny - INFO -         Start Nanny at: 'tcp://10.67.22.220:41083'\n",
      "2023-06-25 18:33:59,011 - distributed.deploy.ssh - INFO - 2023-06-25 18:33:59,007 - distributed.nanny - INFO -         Start Nanny at: 'tcp://10.67.22.220:37621'\n",
      "2023-06-25 18:33:59,013 - distributed.deploy.ssh - INFO - 2023-06-25 18:33:59,009 - distributed.nanny - INFO -         Start Nanny at: 'tcp://10.67.22.220:33599'\n",
      "2023-06-25 18:33:59,016 - distributed.deploy.ssh - INFO - 2023-06-25 18:33:59,012 - distributed.nanny - INFO -         Start Nanny at: 'tcp://10.67.22.220:41659'\n",
      "2023-06-25 18:33:59,086 - distributed.deploy.ssh - INFO - 2023-06-25 18:33:59,084 - distributed.worker - INFO -       Start worker at:    tcp://10.67.22.21:42023\n",
      "2023-06-25 18:33:59,087 - distributed.deploy.ssh - INFO - 2023-06-25 18:33:59,084 - distributed.worker - INFO -          Listening to:    tcp://10.67.22.21:42023\n",
      "2023-06-25 18:33:59,089 - distributed.deploy.ssh - INFO - 2023-06-25 18:33:59,084 - distributed.worker - INFO -          dashboard at:          10.67.22.21:40115\n",
      "2023-06-25 18:33:59,089 - distributed.deploy.ssh - INFO - 2023-06-25 18:33:59,084 - distributed.worker - INFO - Waiting to connect to:    tcp://10.67.22.140:8786\n",
      "2023-06-25 18:33:59,090 - distributed.deploy.ssh - INFO - 2023-06-25 18:33:59,084 - distributed.worker - INFO - -------------------------------------------------\n",
      "2023-06-25 18:33:59,091 - distributed.deploy.ssh - INFO - 2023-06-25 18:33:59,084 - distributed.worker - INFO -               Threads:                          1\n",
      "2023-06-25 18:33:59,092 - distributed.deploy.ssh - INFO - 2023-06-25 18:33:59,084 - distributed.worker - INFO -                Memory:                   1.94 GiB\n",
      "2023-06-25 18:33:59,093 - distributed.deploy.ssh - INFO - 2023-06-25 18:33:59,084 - distributed.worker - INFO -       Local Directory: /tmp/dask-scratch-space/worker-fknmuho3\n",
      "2023-06-25 18:33:59,094 - distributed.deploy.ssh - INFO - 2023-06-25 18:33:59,084 - distributed.worker - INFO - -------------------------------------------------\n",
      "2023-06-25 18:33:59,095 - distributed.deploy.ssh - INFO - 2023-06-25 18:33:59,085 - distributed.worker - INFO -       Start worker at:    tcp://10.67.22.21:45911\n",
      "2023-06-25 18:33:59,096 - distributed.deploy.ssh - INFO - 2023-06-25 18:33:59,085 - distributed.worker - INFO -          Listening to:    tcp://10.67.22.21:45911\n",
      "2023-06-25 18:33:59,097 - distributed.deploy.ssh - INFO - 2023-06-25 18:33:59,085 - distributed.worker - INFO -          dashboard at:          10.67.22.21:46501\n",
      "2023-06-25 18:33:59,099 - distributed.deploy.ssh - INFO - 2023-06-25 18:33:59,085 - distributed.worker - INFO - Waiting to connect to:    tcp://10.67.22.140:8786\n",
      "2023-06-25 18:33:59,105 - distributed.deploy.ssh - INFO - 2023-06-25 18:33:59,085 - distributed.worker - INFO - -------------------------------------------------\n",
      "2023-06-25 18:33:59,106 - distributed.deploy.ssh - INFO - 2023-06-25 18:33:59,085 - distributed.worker - INFO -               Threads:                          1\n",
      "2023-06-25 18:33:59,111 - distributed.deploy.ssh - INFO - 2023-06-25 18:33:59,085 - distributed.worker - INFO -                Memory:                   1.94 GiB\n",
      "2023-06-25 18:33:59,118 - distributed.deploy.ssh - INFO - 2023-06-25 18:33:59,085 - distributed.worker - INFO -       Local Directory: /tmp/dask-scratch-space/worker-g7uowd7o\n",
      "2023-06-25 18:33:59,119 - distributed.deploy.ssh - INFO - 2023-06-25 18:33:59,085 - distributed.worker - INFO - -------------------------------------------------\n",
      "2023-06-25 18:33:59,125 - distributed.deploy.ssh - INFO - 2023-06-25 18:33:59,097 - distributed.worker - INFO -       Start worker at:    tcp://10.67.22.21:38883\n",
      "2023-06-25 18:33:59,126 - distributed.deploy.ssh - INFO - 2023-06-25 18:33:59,097 - distributed.worker - INFO -          Listening to:    tcp://10.67.22.21:38883\n",
      "2023-06-25 18:33:59,130 - distributed.deploy.ssh - INFO - 2023-06-25 18:33:59,097 - distributed.worker - INFO -          dashboard at:          10.67.22.21:38317\n",
      "2023-06-25 18:33:59,131 - distributed.deploy.ssh - INFO - 2023-06-25 18:33:59,097 - distributed.worker - INFO - Waiting to connect to:    tcp://10.67.22.140:8786\n",
      "2023-06-25 18:33:59,136 - distributed.deploy.ssh - INFO - 2023-06-25 18:33:59,097 - distributed.worker - INFO - -------------------------------------------------\n",
      "2023-06-25 18:33:59,137 - distributed.deploy.ssh - INFO - 2023-06-25 18:33:59,098 - distributed.worker - INFO -               Threads:                          1\n",
      "2023-06-25 18:33:59,143 - distributed.deploy.ssh - INFO - 2023-06-25 18:33:59,098 - distributed.worker - INFO -                Memory:                   1.94 GiB\n",
      "2023-06-25 18:33:59,145 - distributed.deploy.ssh - INFO - 2023-06-25 18:33:59,098 - distributed.worker - INFO -       Local Directory: /tmp/dask-scratch-space/worker-iov_ewpl\n",
      "2023-06-25 18:33:59,146 - distributed.deploy.ssh - INFO - 2023-06-25 18:33:59,098 - distributed.worker - INFO - -------------------------------------------------\n",
      "2023-06-25 18:33:59,147 - distributed.deploy.ssh - INFO - 2023-06-25 18:33:59,103 - distributed.worker - INFO -       Start worker at:    tcp://10.67.22.21:42285\n",
      "2023-06-25 18:33:59,154 - distributed.deploy.ssh - INFO - 2023-06-25 18:33:59,126 - distributed.nanny - INFO -         Start Nanny at: 'tcp://10.67.22.81:40099'\n",
      "2023-06-25 18:33:59,154 - distributed.deploy.ssh - INFO - 2023-06-25 18:33:59,132 - distributed.nanny - INFO -         Start Nanny at: 'tcp://10.67.22.81:46347'\n",
      "2023-06-25 18:33:59,155 - distributed.deploy.ssh - INFO - 2023-06-25 18:33:59,138 - distributed.nanny - INFO -         Start Nanny at: 'tcp://10.67.22.81:45575'\n",
      "2023-06-25 18:33:59,156 - distributed.deploy.ssh - INFO - 2023-06-25 18:33:59,141 - distributed.nanny - INFO -         Start Nanny at: 'tcp://10.67.22.81:44931'\n",
      "2023-06-25 18:33:59,157 - distributed.deploy.ssh - INFO - 2023-06-25 18:33:59,134 - distributed.nanny - INFO -         Start Nanny at: 'tcp://10.67.22.31:42365'\n",
      "2023-06-25 18:33:59,158 - distributed.deploy.ssh - INFO - 2023-06-25 18:33:59,140 - distributed.nanny - INFO -         Start Nanny at: 'tcp://10.67.22.31:41543'\n",
      "2023-06-25 18:33:59,166 - distributed.deploy.ssh - INFO - 2023-06-25 18:33:59,144 - distributed.nanny - INFO -         Start Nanny at: 'tcp://10.67.22.31:44487'\n",
      "2023-06-25 18:33:59,167 - distributed.deploy.ssh - INFO - 2023-06-25 18:33:59,147 - distributed.nanny - INFO -         Start Nanny at: 'tcp://10.67.22.31:35429'\n",
      "2023-06-25 18:33:59,550 - distributed.deploy.ssh - INFO - 2023-06-25 18:33:59,543 - distributed.worker - INFO -       Start worker at:   tcp://10.67.22.140:43365\n",
      "2023-06-25 18:33:59,551 - distributed.deploy.ssh - INFO - 2023-06-25 18:33:59,543 - distributed.worker - INFO -          Listening to:   tcp://10.67.22.140:43365\n",
      "2023-06-25 18:33:59,554 - distributed.deploy.ssh - INFO - 2023-06-25 18:33:59,543 - distributed.worker - INFO -          dashboard at:         10.67.22.140:39653\n",
      "2023-06-25 18:33:59,555 - distributed.deploy.ssh - INFO - 2023-06-25 18:33:59,543 - distributed.worker - INFO - Waiting to connect to:    tcp://10.67.22.140:8786\n",
      "2023-06-25 18:33:59,559 - distributed.deploy.ssh - INFO - 2023-06-25 18:33:59,543 - distributed.worker - INFO - -------------------------------------------------\n",
      "2023-06-25 18:33:59,560 - distributed.deploy.ssh - INFO - 2023-06-25 18:33:59,544 - distributed.worker - INFO -               Threads:                          1\n",
      "2023-06-25 18:33:59,561 - distributed.deploy.ssh - INFO - 2023-06-25 18:33:59,544 - distributed.worker - INFO -                Memory:                   1.94 GiB\n",
      "2023-06-25 18:33:59,562 - distributed.deploy.ssh - INFO - 2023-06-25 18:33:59,544 - distributed.worker - INFO -       Local Directory: /tmp/dask-scratch-space/worker-5xly_3k4\n",
      "2023-06-25 18:33:59,563 - distributed.deploy.ssh - INFO - 2023-06-25 18:33:59,544 - distributed.worker - INFO - -------------------------------------------------\n",
      "2023-06-25 18:33:59,584 - distributed.deploy.ssh - INFO - 2023-06-25 18:33:59,583 - distributed.worker - INFO -       Start worker at:   tcp://10.67.22.140:42417\n",
      "2023-06-25 18:33:59,586 - distributed.deploy.ssh - INFO - 2023-06-25 18:33:59,583 - distributed.worker - INFO -          Listening to:   tcp://10.67.22.140:42417\n",
      "2023-06-25 18:33:59,590 - distributed.deploy.ssh - INFO - 2023-06-25 18:33:59,583 - distributed.worker - INFO -          dashboard at:         10.67.22.140:34019\n",
      "2023-06-25 18:33:59,591 - distributed.deploy.ssh - INFO - 2023-06-25 18:33:59,583 - distributed.worker - INFO - Waiting to connect to:    tcp://10.67.22.140:8786\n",
      "2023-06-25 18:33:59,592 - distributed.deploy.ssh - INFO - 2023-06-25 18:33:59,584 - distributed.worker - INFO - -------------------------------------------------\n",
      "2023-06-25 18:33:59,593 - distributed.deploy.ssh - INFO - 2023-06-25 18:33:59,584 - distributed.worker - INFO -               Threads:                          1\n",
      "2023-06-25 18:33:59,594 - distributed.deploy.ssh - INFO - 2023-06-25 18:33:59,584 - distributed.worker - INFO -                Memory:                   1.94 GiB\n",
      "2023-06-25 18:33:59,594 - distributed.deploy.ssh - INFO - 2023-06-25 18:33:59,584 - distributed.worker - INFO -       Local Directory: /tmp/dask-scratch-space/worker-71uzk198\n",
      "2023-06-25 18:33:59,595 - distributed.deploy.ssh - INFO - 2023-06-25 18:33:59,584 - distributed.worker - INFO - -------------------------------------------------\n",
      "2023-06-25 18:33:59,611 - distributed.deploy.ssh - INFO - 2023-06-25 18:33:59,610 - distributed.worker - INFO -       Start worker at:   tcp://10.67.22.140:36283\n",
      "2023-06-25 18:33:59,613 - distributed.deploy.ssh - INFO - 2023-06-25 18:33:59,610 - distributed.worker - INFO -          Listening to:   tcp://10.67.22.140:36283\n",
      "2023-06-25 18:33:59,617 - distributed.deploy.ssh - INFO - 2023-06-25 18:33:59,610 - distributed.worker - INFO -          dashboard at:         10.67.22.140:38937\n",
      "2023-06-25 18:33:59,618 - distributed.deploy.ssh - INFO - 2023-06-25 18:33:59,610 - distributed.worker - INFO - Waiting to connect to:    tcp://10.67.22.140:8786\n",
      "2023-06-25 18:33:59,618 - distributed.deploy.ssh - INFO - 2023-06-25 18:33:59,610 - distributed.worker - INFO - -------------------------------------------------\n",
      "2023-06-25 18:33:59,619 - distributed.deploy.ssh - INFO - 2023-06-25 18:33:59,610 - distributed.worker - INFO -               Threads:                          1\n",
      "2023-06-25 18:33:59,620 - distributed.deploy.ssh - INFO - 2023-06-25 18:33:59,610 - distributed.worker - INFO -                Memory:                   1.94 GiB\n",
      "2023-06-25 18:33:59,621 - distributed.deploy.ssh - INFO - 2023-06-25 18:33:59,610 - distributed.worker - INFO -       Local Directory: /tmp/dask-scratch-space/worker-ccm__lzy\n",
      "2023-06-25 18:33:59,622 - distributed.deploy.ssh - INFO - 2023-06-25 18:33:59,610 - distributed.worker - INFO - -------------------------------------------------\n",
      "2023-06-25 18:33:59,637 - distributed.deploy.ssh - INFO - 2023-06-25 18:33:59,633 - distributed.worker - INFO -       Start worker at:   tcp://10.67.22.220:46223\n",
      "2023-06-25 18:33:59,638 - distributed.deploy.ssh - INFO - 2023-06-25 18:33:59,633 - distributed.worker - INFO -          Listening to:   tcp://10.67.22.220:46223\n",
      "2023-06-25 18:33:59,643 - distributed.deploy.ssh - INFO - 2023-06-25 18:33:59,634 - distributed.worker - INFO -          dashboard at:         10.67.22.220:37887\n",
      "2023-06-25 18:33:59,643 - distributed.deploy.ssh - INFO - 2023-06-25 18:33:59,634 - distributed.worker - INFO - Waiting to connect to:    tcp://10.67.22.140:8786\n",
      "2023-06-25 18:33:59,644 - distributed.deploy.ssh - INFO - 2023-06-25 18:33:59,634 - distributed.worker - INFO - -------------------------------------------------\n",
      "2023-06-25 18:33:59,646 - distributed.deploy.ssh - INFO - 2023-06-25 18:33:59,634 - distributed.worker - INFO -               Threads:                          1\n",
      "2023-06-25 18:33:59,647 - distributed.deploy.ssh - INFO - 2023-06-25 18:33:59,634 - distributed.worker - INFO -                Memory:                   1.94 GiB\n",
      "2023-06-25 18:33:59,647 - distributed.deploy.ssh - INFO - 2023-06-25 18:33:59,635 - distributed.worker - INFO -       Local Directory: /tmp/dask-scratch-space/worker-bj8iv4be\n",
      "2023-06-25 18:33:59,648 - distributed.deploy.ssh - INFO - 2023-06-25 18:33:59,635 - distributed.worker - INFO - -------------------------------------------------\n",
      "2023-06-25 18:33:59,661 - distributed.deploy.ssh - INFO - 2023-06-25 18:33:59,650 - distributed.worker - INFO -       Start worker at:   tcp://10.67.22.220:41295\n",
      "2023-06-25 18:33:59,661 - distributed.deploy.ssh - INFO - 2023-06-25 18:33:59,650 - distributed.worker - INFO -          Listening to:   tcp://10.67.22.220:41295\n",
      "2023-06-25 18:33:59,662 - distributed.deploy.ssh - INFO - 2023-06-25 18:33:59,650 - distributed.worker - INFO -          dashboard at:         10.67.22.220:42423\n",
      "2023-06-25 18:33:59,665 - distributed.deploy.ssh - INFO - 2023-06-25 18:33:59,650 - distributed.worker - INFO - Waiting to connect to:    tcp://10.67.22.140:8786\n",
      "2023-06-25 18:33:59,667 - distributed.deploy.ssh - INFO - 2023-06-25 18:33:59,650 - distributed.worker - INFO - -------------------------------------------------\n",
      "2023-06-25 18:33:59,668 - distributed.deploy.ssh - INFO - 2023-06-25 18:33:59,650 - distributed.worker - INFO -               Threads:                          1\n",
      "2023-06-25 18:33:59,675 - distributed.deploy.ssh - INFO - 2023-06-25 18:33:59,651 - distributed.worker - INFO -                Memory:                   1.94 GiB\n",
      "2023-06-25 18:33:59,677 - distributed.deploy.ssh - INFO - 2023-06-25 18:33:59,651 - distributed.worker - INFO -       Local Directory: /tmp/dask-scratch-space/worker-cb2adfkl\n",
      "2023-06-25 18:33:59,679 - distributed.deploy.ssh - INFO - 2023-06-25 18:33:59,651 - distributed.worker - INFO - -------------------------------------------------\n",
      "2023-06-25 18:33:59,686 - distributed.deploy.ssh - INFO - 2023-06-25 18:33:59,660 - distributed.worker - INFO -       Start worker at:   tcp://10.67.22.220:44671\n",
      "2023-06-25 18:33:59,687 - distributed.deploy.ssh - INFO - 2023-06-25 18:33:59,660 - distributed.worker - INFO -          Listening to:   tcp://10.67.22.220:44671\n",
      "2023-06-25 18:33:59,688 - distributed.deploy.ssh - INFO - 2023-06-25 18:33:59,660 - distributed.worker - INFO -          dashboard at:         10.67.22.220:42131\n",
      "2023-06-25 18:33:59,689 - distributed.deploy.ssh - INFO - 2023-06-25 18:33:59,660 - distributed.worker - INFO - Waiting to connect to:    tcp://10.67.22.140:8786\n",
      "2023-06-25 18:33:59,690 - distributed.deploy.ssh - INFO - 2023-06-25 18:33:59,660 - distributed.worker - INFO - -------------------------------------------------\n",
      "2023-06-25 18:33:59,690 - distributed.deploy.ssh - INFO - 2023-06-25 18:33:59,660 - distributed.worker - INFO -               Threads:                          1\n",
      "2023-06-25 18:33:59,691 - distributed.deploy.ssh - INFO - 2023-06-25 18:33:59,660 - distributed.worker - INFO -                Memory:                   1.94 GiB\n",
      "2023-06-25 18:33:59,703 - distributed.deploy.ssh - INFO - 2023-06-25 18:33:59,660 - distributed.worker - INFO -       Local Directory: /tmp/dask-scratch-space/worker-b0lcou2e\n",
      "2023-06-25 18:33:59,707 - distributed.deploy.ssh - INFO - 2023-06-25 18:33:59,660 - distributed.worker - INFO - -------------------------------------------------\n",
      "2023-06-25 18:33:59,708 - distributed.deploy.ssh - INFO - 2023-06-25 18:33:59,669 - distributed.worker - INFO -       Start worker at:   tcp://10.67.22.220:32923\n",
      "2023-06-25 18:33:59,752 - distributed.deploy.ssh - INFO - 2023-06-25 18:33:59,751 - distributed.worker - INFO -       Start worker at:   tcp://10.67.22.140:36009\n",
      "2023-06-25 18:33:59,768 - distributed.deploy.ssh - INFO - 2023-06-25 18:33:59,766 - distributed.worker - INFO -       Start worker at:    tcp://10.67.22.31:45283\n",
      "2023-06-25 18:33:59,771 - distributed.deploy.ssh - INFO - 2023-06-25 18:33:59,766 - distributed.worker - INFO -          Listening to:    tcp://10.67.22.31:45283\n",
      "2023-06-25 18:33:59,778 - distributed.deploy.ssh - INFO - 2023-06-25 18:33:59,766 - distributed.worker - INFO -          dashboard at:          10.67.22.31:33209\n",
      "2023-06-25 18:33:59,779 - distributed.deploy.ssh - INFO - 2023-06-25 18:33:59,767 - distributed.worker - INFO - Waiting to connect to:    tcp://10.67.22.140:8786\n",
      "2023-06-25 18:33:59,780 - distributed.deploy.ssh - INFO - 2023-06-25 18:33:59,767 - distributed.worker - INFO - -------------------------------------------------\n",
      "2023-06-25 18:33:59,781 - distributed.deploy.ssh - INFO - 2023-06-25 18:33:59,767 - distributed.worker - INFO -               Threads:                          1\n",
      "2023-06-25 18:33:59,781 - distributed.deploy.ssh - INFO - 2023-06-25 18:33:59,767 - distributed.worker - INFO -                Memory:                   1.94 GiB\n",
      "2023-06-25 18:33:59,782 - distributed.deploy.ssh - INFO - 2023-06-25 18:33:59,767 - distributed.worker - INFO -       Local Directory: /tmp/dask-scratch-space/worker-4eg87h5f\n",
      "2023-06-25 18:33:59,785 - distributed.deploy.ssh - INFO - 2023-06-25 18:33:59,767 - distributed.worker - INFO - -------------------------------------------------\n",
      "2023-06-25 18:33:59,793 - distributed.deploy.ssh - INFO - 2023-06-25 18:33:59,770 - distributed.worker - INFO -       Start worker at:    tcp://10.67.22.31:36601\n",
      "2023-06-25 18:33:59,796 - distributed.deploy.ssh - INFO - 2023-06-25 18:33:59,770 - distributed.worker - INFO -          Listening to:    tcp://10.67.22.31:36601\n",
      "2023-06-25 18:33:59,796 - distributed.deploy.ssh - INFO - 2023-06-25 18:33:59,770 - distributed.worker - INFO -          dashboard at:          10.67.22.31:33063\n",
      "2023-06-25 18:33:59,797 - distributed.deploy.ssh - INFO - 2023-06-25 18:33:59,770 - distributed.worker - INFO - Waiting to connect to:    tcp://10.67.22.140:8786\n",
      "2023-06-25 18:33:59,798 - distributed.deploy.ssh - INFO - 2023-06-25 18:33:59,770 - distributed.worker - INFO - -------------------------------------------------\n",
      "2023-06-25 18:33:59,799 - distributed.deploy.ssh - INFO - 2023-06-25 18:33:59,770 - distributed.worker - INFO -               Threads:                          1\n",
      "2023-06-25 18:33:59,805 - distributed.deploy.ssh - INFO - 2023-06-25 18:33:59,770 - distributed.worker - INFO -                Memory:                   1.94 GiB\n",
      "2023-06-25 18:33:59,806 - distributed.deploy.ssh - INFO - 2023-06-25 18:33:59,770 - distributed.worker - INFO -       Local Directory: /tmp/dask-scratch-space/worker-dtht25g5\n",
      "2023-06-25 18:33:59,807 - distributed.deploy.ssh - INFO - 2023-06-25 18:33:59,770 - distributed.worker - INFO - -------------------------------------------------\n",
      "2023-06-25 18:33:59,808 - distributed.deploy.ssh - INFO - 2023-06-25 18:33:59,775 - distributed.worker - INFO -       Start worker at:    tcp://10.67.22.31:44997\n",
      "2023-06-25 18:33:59,809 - distributed.deploy.ssh - INFO - 2023-06-25 18:33:59,775 - distributed.worker - INFO -          Listening to:    tcp://10.67.22.31:44997\n",
      "2023-06-25 18:33:59,810 - distributed.deploy.ssh - INFO - 2023-06-25 18:33:59,775 - distributed.worker - INFO -          dashboard at:          10.67.22.31:39879\n",
      "2023-06-25 18:33:59,811 - distributed.deploy.ssh - INFO - 2023-06-25 18:33:59,775 - distributed.worker - INFO - Waiting to connect to:    tcp://10.67.22.140:8786\n",
      "2023-06-25 18:33:59,811 - distributed.deploy.ssh - INFO - 2023-06-25 18:33:59,775 - distributed.worker - INFO - -------------------------------------------------\n",
      "2023-06-25 18:33:59,818 - distributed.deploy.ssh - INFO - 2023-06-25 18:33:59,775 - distributed.worker - INFO -               Threads:                          1\n",
      "2023-06-25 18:33:59,819 - distributed.deploy.ssh - INFO - 2023-06-25 18:33:59,776 - distributed.worker - INFO -                Memory:                   1.94 GiB\n",
      "2023-06-25 18:33:59,820 - distributed.deploy.ssh - INFO - 2023-06-25 18:33:59,776 - distributed.worker - INFO -       Local Directory: /tmp/dask-scratch-space/worker-4y2frls_\n",
      "2023-06-25 18:33:59,821 - distributed.deploy.ssh - INFO - 2023-06-25 18:33:59,776 - distributed.worker - INFO - -------------------------------------------------\n",
      "2023-06-25 18:33:59,821 - distributed.deploy.ssh - INFO - 2023-06-25 18:33:59,788 - distributed.worker - INFO -       Start worker at:    tcp://10.67.22.31:33791\n",
      "2023-06-25 18:33:59,835 - distributed.deploy.ssh - INFO - 2023-06-25 18:33:59,773 - distributed.worker - INFO -       Start worker at:    tcp://10.67.22.81:45163\n",
      "2023-06-25 18:33:59,843 - distributed.deploy.ssh - INFO - 2023-06-25 18:33:59,773 - distributed.worker - INFO -          Listening to:    tcp://10.67.22.81:45163\n",
      "2023-06-25 18:33:59,844 - distributed.deploy.ssh - INFO - 2023-06-25 18:33:59,773 - distributed.worker - INFO -          dashboard at:          10.67.22.81:41447\n",
      "2023-06-25 18:33:59,845 - distributed.deploy.ssh - INFO - 2023-06-25 18:33:59,773 - distributed.worker - INFO - Waiting to connect to:    tcp://10.67.22.140:8786\n",
      "2023-06-25 18:33:59,846 - distributed.deploy.ssh - INFO - 2023-06-25 18:33:59,773 - distributed.worker - INFO - -------------------------------------------------\n",
      "2023-06-25 18:33:59,847 - distributed.deploy.ssh - INFO - 2023-06-25 18:33:59,773 - distributed.worker - INFO -               Threads:                          1\n",
      "2023-06-25 18:33:59,848 - distributed.deploy.ssh - INFO - 2023-06-25 18:33:59,773 - distributed.worker - INFO -                Memory:                   1.94 GiB\n",
      "2023-06-25 18:33:59,849 - distributed.deploy.ssh - INFO - 2023-06-25 18:33:59,774 - distributed.worker - INFO -       Local Directory: /tmp/dask-scratch-space/worker-p5ey2_kh\n",
      "2023-06-25 18:33:59,849 - distributed.deploy.ssh - INFO - 2023-06-25 18:33:59,774 - distributed.worker - INFO - -------------------------------------------------\n",
      "2023-06-25 18:33:59,850 - distributed.deploy.ssh - INFO - 2023-06-25 18:33:59,805 - distributed.worker - INFO -       Start worker at:    tcp://10.67.22.81:33941\n",
      "2023-06-25 18:33:59,851 - distributed.deploy.ssh - INFO - 2023-06-25 18:33:59,805 - distributed.worker - INFO -          Listening to:    tcp://10.67.22.81:33941\n",
      "2023-06-25 18:33:59,852 - distributed.deploy.ssh - INFO - 2023-06-25 18:33:59,805 - distributed.worker - INFO -          dashboard at:          10.67.22.81:44975\n",
      "2023-06-25 18:33:59,853 - distributed.deploy.ssh - INFO - 2023-06-25 18:33:59,806 - distributed.worker - INFO - Waiting to connect to:    tcp://10.67.22.140:8786\n",
      "2023-06-25 18:33:59,856 - distributed.deploy.ssh - INFO - 2023-06-25 18:33:59,806 - distributed.worker - INFO - -------------------------------------------------\n",
      "2023-06-25 18:33:59,856 - distributed.deploy.ssh - INFO - 2023-06-25 18:33:59,806 - distributed.worker - INFO -               Threads:                          1\n",
      "2023-06-25 18:33:59,857 - distributed.deploy.ssh - INFO - 2023-06-25 18:33:59,806 - distributed.worker - INFO -                Memory:                   1.94 GiB\n",
      "2023-06-25 18:33:59,858 - distributed.deploy.ssh - INFO - 2023-06-25 18:33:59,806 - distributed.worker - INFO -       Local Directory: /tmp/dask-scratch-space/worker-ty6tv1w6\n",
      "2023-06-25 18:33:59,864 - distributed.deploy.ssh - INFO - 2023-06-25 18:33:59,806 - distributed.worker - INFO - -------------------------------------------------\n",
      "2023-06-25 18:33:59,864 - distributed.deploy.ssh - INFO - 2023-06-25 18:33:59,828 - distributed.worker - INFO -       Start worker at:    tcp://10.67.22.81:36835\n",
      "2023-06-25 18:33:59,875 - distributed.deploy.ssh - INFO - 2023-06-25 18:33:59,828 - distributed.worker - INFO -          Listening to:    tcp://10.67.22.81:36835\n",
      "2023-06-25 18:33:59,876 - distributed.deploy.ssh - INFO - 2023-06-25 18:33:59,828 - distributed.worker - INFO -          dashboard at:          10.67.22.81:39061\n",
      "2023-06-25 18:33:59,876 - distributed.deploy.ssh - INFO - 2023-06-25 18:33:59,828 - distributed.worker - INFO - Waiting to connect to:    tcp://10.67.22.140:8786\n",
      "2023-06-25 18:33:59,877 - distributed.deploy.ssh - INFO - 2023-06-25 18:33:59,828 - distributed.worker - INFO - -------------------------------------------------\n",
      "2023-06-25 18:33:59,878 - distributed.deploy.ssh - INFO - 2023-06-25 18:33:59,829 - distributed.worker - INFO -               Threads:                          1\n",
      "2023-06-25 18:33:59,879 - distributed.deploy.ssh - INFO - 2023-06-25 18:33:59,829 - distributed.worker - INFO -                Memory:                   1.94 GiB\n",
      "2023-06-25 18:33:59,880 - distributed.deploy.ssh - INFO - 2023-06-25 18:33:59,829 - distributed.worker - INFO -       Local Directory: /tmp/dask-scratch-space/worker-fuenb779\n",
      "2023-06-25 18:33:59,880 - distributed.deploy.ssh - INFO - 2023-06-25 18:33:59,829 - distributed.worker - INFO - -------------------------------------------------\n",
      "2023-06-25 18:33:59,881 - distributed.deploy.ssh - INFO - 2023-06-25 18:33:59,841 - distributed.worker - INFO -       Start worker at:    tcp://10.67.22.81:37783\n"
     ]
    }
   ],
   "source": [
    "cluster = SSHCluster([\"bhbh-1\", \"bhbh-1\", \"bhbh-2\", \"bhbh-3\", \"bhbh-4\", \"bhbh-5\"],\n",
    "                    connect_options={\"client_keys\": \"/home/ubuntu/private/tbertola_key.pem\"},\n",
    "                    worker_options={\"n_workers\": 4,\n",
    "                                    \"nthreads\": 1}, # because each bhbh-* has 4 cores\n",
    "                    scheduler_options={\"port\": 8786, \"dashboard_address\": \":8787\"}\n",
    "                    )"
   ]
  },
  {
   "cell_type": "code",
   "execution_count": 3,
   "id": "147b63b0-037f-48e9-8013-4aabacdcd77f",
   "metadata": {
    "tags": []
   },
   "outputs": [
    {
     "name": "stderr",
     "output_type": "stream",
     "text": [
      "/home/ubuntu/miniconda3/lib/python3.10/site-packages/distributed/client.py:1388: VersionMismatchWarning: Mismatched versions found\n",
      "\n",
      "+---------+--------+-----------+------------------+\n",
      "| Package | Client | Scheduler | Workers          |\n",
      "+---------+--------+-----------+------------------+\n",
      "| tornado | 6.3.2  | 6.3.2     | {'6.3.2', '6.2'} |\n",
      "+---------+--------+-----------+------------------+\n",
      "  warnings.warn(version_module.VersionMismatchWarning(msg[0][\"warning\"]))\n"
     ]
    }
   ],
   "source": [
    "client=Client(cluster)"
   ]
  },
  {
   "cell_type": "code",
   "execution_count": 4,
   "id": "e3a772e3-2cfe-4142-b382-1e0d44498a03",
   "metadata": {
    "tags": []
   },
   "outputs": [],
   "source": [
    "q_drop = 0.2\n",
    "\n",
    "#import data\n",
    "bhbh = dd.read_parquet('/home/ubuntu/data/bag_all_dataset_with_no_kick/*')\n",
    "bhbh = bhbh[bhbh['q']>q_drop]"
   ]
  },
  {
   "cell_type": "code",
   "execution_count": 5,
   "id": "36a62ca5-4c1e-4d0f-a978-844df479ddaa",
   "metadata": {
    "tags": []
   },
   "outputs": [],
   "source": [
    "#add column label\n",
    "# n_bins = int(np.sqrt(len(bhbh)))\n",
    "n_bins=50\n",
    "\n",
    "# Define the edges between bins\n",
    "counts, bin_edges = da.histogram(bhbh.q.values, bins=n_bins, range=(q_drop,1.0))\n",
    "\n",
    "# pd.cut each column, with each bin closed on left and open on right\n",
    "bhbh['label'] = bhbh['q'].map_partitions(pd.cut, bin_edges, right=True, labels=False, include_lowest=False)"
   ]
  },
  {
   "cell_type": "code",
   "execution_count": 6,
   "id": "f2d842b6-9309-4e2d-9216-108743c011de",
   "metadata": {
    "tags": []
   },
   "outputs": [
    {
     "name": "stdout",
     "output_type": "stream",
     "text": [
      "bin_edges: 51\n",
      "dask.array<sum-aggregate, shape=(50,), dtype=int64, chunksize=(50,), chunktype=numpy.ndarray>\n"
     ]
    }
   ],
   "source": [
    "print('bin_edges:', len(bin_edges))\n",
    "print(counts)"
   ]
  },
  {
   "cell_type": "code",
   "execution_count": 7,
   "id": "59721279-a721-487b-ba85-28453e51c991",
   "metadata": {},
   "outputs": [],
   "source": [
    "bhbh_train, bhbh_test=train_test_split(bhbh, train_size=0.8, shuffle=True)"
   ]
  },
  {
   "cell_type": "code",
   "execution_count": 8,
   "id": "1a788beb-c226-42fb-b36b-c9176cebb6f1",
   "metadata": {},
   "outputs": [],
   "source": [
    "bhbh_train=bhbh_train.reset_index(drop=True) # just for simplicity sake in the final visualisation\n",
    "bhbh_test=bhbh_test.reset_index(drop=True)   # and so that we don't mess up later when checking the results"
   ]
  },
  {
   "cell_type": "code",
   "execution_count": 9,
   "id": "f250b82f-7eaa-4f2c-ab22-943bb43719bc",
   "metadata": {},
   "outputs": [],
   "source": [
    "# len(bhbh_train) # check number of records"
   ]
  },
  {
   "cell_type": "code",
   "execution_count": 10,
   "id": "b13a6ab8-857f-4a0f-94db-2d74f35f28c8",
   "metadata": {},
   "outputs": [],
   "source": [
    "bhbh_train=bhbh_train.repartition(120)"
   ]
  },
  {
   "cell_type": "code",
   "execution_count": 11,
   "id": "171e1738-f56b-4832-b4b0-b518142a000c",
   "metadata": {},
   "outputs": [],
   "source": [
    "# len(bhbh_train) # check consistency after repartitioning"
   ]
  },
  {
   "cell_type": "code",
   "execution_count": 11,
   "id": "3d3b02fc-2474-426b-8915-e6008eb9e483",
   "metadata": {},
   "outputs": [],
   "source": [
    "countings=bhbh_train['label'].to_frame().groupby('label').size().compute()"
   ]
  },
  {
   "cell_type": "code",
   "execution_count": 12,
   "id": "0330e555-dfb7-40e0-b181-b0c616da0a50",
   "metadata": {},
   "outputs": [],
   "source": [
    "total_counts=countings.sum()"
   ]
  },
  {
   "cell_type": "code",
   "execution_count": 13,
   "id": "98afb729-cb27-4c4f-905c-6d8efad5e3b5",
   "metadata": {},
   "outputs": [
    {
     "data": {
      "text/plain": [
       "50"
      ]
     },
     "execution_count": 13,
     "metadata": {},
     "output_type": "execute_result"
    }
   ],
   "source": [
    "n_bins"
   ]
  },
  {
   "cell_type": "code",
   "execution_count": 14,
   "id": "e2a2fd6e-6e7c-4af6-911a-48cba9ee99e5",
   "metadata": {},
   "outputs": [],
   "source": [
    "def assign_weight(i):\n",
    "    return total_counts/(n_bins*countings[i])"
   ]
  },
  {
   "cell_type": "code",
   "execution_count": 15,
   "id": "12059a9d-2689-4f73-8760-bd8aec791412",
   "metadata": {},
   "outputs": [],
   "source": [
    "bhbh_train['weight']=bhbh_train['label'].map(assign_weight)"
   ]
  },
  {
   "cell_type": "code",
   "execution_count": 17,
   "id": "3a873eb2-9d58-43c3-affb-dddbe3aa5452",
   "metadata": {},
   "outputs": [],
   "source": [
    "# bhbh_train.hvplot.scatter('label', 'weight') # cool but heavy graphics; keep commented"
   ]
  },
  {
   "cell_type": "code",
   "execution_count": 18,
   "id": "aa36b265-ff07-4372-b85a-938737c85fd7",
   "metadata": {},
   "outputs": [],
   "source": [
    "# labs_weights=bhbh_train[['label', 'weight']].compute()\n",
    "# plt.scatter(x=labs_weights.label, y=labs_weights.weight)\n",
    "# plt.xlabel('label')\n",
    "# plt.ylabel('weight')\n",
    "# plt.savefig('labels_vs_weight.png')"
   ]
  },
  {
   "cell_type": "code",
   "execution_count": 16,
   "id": "33bb2aa0-b43e-42b6-b9e1-aecbcf9f4532",
   "metadata": {},
   "outputs": [],
   "source": [
    "weights=bhbh_train['weight']\n",
    "labels=bhbh_train['label']\n",
    "features=bhbh_train[['Mass_0', 'Z_0', 'Mass_1',  'a', 'e', 'alpha']]"
   ]
  },
  {
   "cell_type": "code",
   "execution_count": 17,
   "id": "ead2351b-8dae-4647-959f-42980df22c4d",
   "metadata": {},
   "outputs": [],
   "source": [
    "features_test=bhbh_test[['Mass_0', 'Z_0', 'Mass_1',  'a', 'e', 'alpha']]\n",
    "label_test=bhbh_test['label']"
   ]
  },
  {
   "cell_type": "code",
   "execution_count": 18,
   "id": "ef2c71e9-f77f-4310-aa4b-213331efbab9",
   "metadata": {},
   "outputs": [
    {
     "data": {
      "text/plain": [
       "(dask.dataframe.core.DataFrame, 120)"
      ]
     },
     "execution_count": 18,
     "metadata": {},
     "output_type": "execute_result"
    }
   ],
   "source": [
    "type(features), features.npartitions"
   ]
  },
  {
   "cell_type": "code",
   "execution_count": 19,
   "id": "89834358-a5fd-4afd-82a0-b065f63992ac",
   "metadata": {},
   "outputs": [
    {
     "data": {
      "text/plain": [
       "(dask.dataframe.core.Series, 120)"
      ]
     },
     "execution_count": 19,
     "metadata": {},
     "output_type": "execute_result"
    }
   ],
   "source": [
    "type(labels), labels.npartitions"
   ]
  },
  {
   "cell_type": "code",
   "execution_count": 20,
   "id": "b1606c62-c9a1-4d83-848d-7db25916fc1a",
   "metadata": {
    "tags": []
   },
   "outputs": [],
   "source": [
    "#parameters\n",
    "n_estimators = 10\n",
    "max_depth = 8\n",
    "learning_rate = 0.3\n",
    "grow_policy = 'lossguide'\n",
    "max_leaves = 10\n",
    "\n",
    "param = {'objective': 'multi:softprob',\n",
    "        'grow_policy' : 'lossguide', \n",
    "        # 'n_estimators' : n_estimators, \n",
    "        'max_depth' : max_depth,\n",
    "        'learning_rate' : learning_rate,\n",
    "        'max_leaves' : n_bins,\n",
    "        'num_class': n_bins,\n",
    "        # 'n_jobs' : -1\n",
    "        }"
   ]
  },
  {
   "cell_type": "code",
   "execution_count": 21,
   "id": "60ed2314-f0cb-419a-adbc-c3c6ff6ab39b",
   "metadata": {
    "tags": []
   },
   "outputs": [],
   "source": [
    "dtrain = xgb.dask.DaskDMatrix(client, features, label=labels, weight=weights)"
   ]
  },
  {
   "cell_type": "code",
   "execution_count": 22,
   "id": "5fe8f8c2-b0bc-491c-abb6-65cc70d3499b",
   "metadata": {
    "tags": []
   },
   "outputs": [],
   "source": [
    "# train XGB\n",
    "bst = xgb.dask.train(client, param, dtrain, num_boost_round=2, evals=[(dtrain, \"train\")])"
   ]
  },
  {
   "cell_type": "code",
   "execution_count": 26,
   "id": "7d9b1848-01bb-46aa-9d4f-7c0c95e62997",
   "metadata": {},
   "outputs": [],
   "source": [
    "bst=bst['booster']"
   ]
  },
  {
   "cell_type": "code",
   "execution_count": null,
   "id": "15a9c1fc-e228-4462-a465-759f6be58e3e",
   "metadata": {},
   "outputs": [],
   "source": [
    "output=xgb.dask.predict(client,bst,dtrain)\n",
    "output = output.to_dask_dataframe()"
   ]
  },
  {
   "cell_type": "code",
   "execution_count": null,
   "id": "aed487ea-4fcd-43c8-a471-3b6a1a223dc2",
   "metadata": {},
   "outputs": [
    {
     "data": {
      "text/html": [
       "<div>\n",
       "<style scoped>\n",
       "    .dataframe tbody tr th:only-of-type {\n",
       "        vertical-align: middle;\n",
       "    }\n",
       "\n",
       "    .dataframe tbody tr th {\n",
       "        vertical-align: top;\n",
       "    }\n",
       "\n",
       "    .dataframe thead th {\n",
       "        text-align: right;\n",
       "    }\n",
       "</style>\n",
       "<table border=\"1\" class=\"dataframe\">\n",
       "  <thead>\n",
       "    <tr style=\"text-align: right;\">\n",
       "      <th></th>\n",
       "      <th>0</th>\n",
       "      <th>1</th>\n",
       "      <th>2</th>\n",
       "      <th>3</th>\n",
       "      <th>4</th>\n",
       "      <th>5</th>\n",
       "      <th>6</th>\n",
       "      <th>7</th>\n",
       "      <th>8</th>\n",
       "      <th>9</th>\n",
       "      <th>...</th>\n",
       "      <th>40</th>\n",
       "      <th>41</th>\n",
       "      <th>42</th>\n",
       "      <th>43</th>\n",
       "      <th>44</th>\n",
       "      <th>45</th>\n",
       "      <th>46</th>\n",
       "      <th>47</th>\n",
       "      <th>48</th>\n",
       "      <th>49</th>\n",
       "    </tr>\n",
       "  </thead>\n",
       "  <tbody>\n",
       "    <tr>\n",
       "      <th>0</th>\n",
       "      <td>0.013517</td>\n",
       "      <td>0.013579</td>\n",
       "      <td>0.016640</td>\n",
       "      <td>0.013884</td>\n",
       "      <td>0.013898</td>\n",
       "      <td>0.013860</td>\n",
       "      <td>0.014745</td>\n",
       "      <td>0.013768</td>\n",
       "      <td>0.013710</td>\n",
       "      <td>0.013575</td>\n",
       "      <td>...</td>\n",
       "      <td>0.020796</td>\n",
       "      <td>0.020983</td>\n",
       "      <td>0.030367</td>\n",
       "      <td>0.034680</td>\n",
       "      <td>0.042476</td>\n",
       "      <td>0.038159</td>\n",
       "      <td>0.041349</td>\n",
       "      <td>0.047000</td>\n",
       "      <td>0.037568</td>\n",
       "      <td>0.077289</td>\n",
       "    </tr>\n",
       "    <tr>\n",
       "      <th>1</th>\n",
       "      <td>0.016988</td>\n",
       "      <td>0.012436</td>\n",
       "      <td>0.012106</td>\n",
       "      <td>0.012805</td>\n",
       "      <td>0.012437</td>\n",
       "      <td>0.012059</td>\n",
       "      <td>0.012213</td>\n",
       "      <td>0.014004</td>\n",
       "      <td>0.014205</td>\n",
       "      <td>0.017244</td>\n",
       "      <td>...</td>\n",
       "      <td>0.012700</td>\n",
       "      <td>0.012531</td>\n",
       "      <td>0.012731</td>\n",
       "      <td>0.012633</td>\n",
       "      <td>0.012777</td>\n",
       "      <td>0.012507</td>\n",
       "      <td>0.012709</td>\n",
       "      <td>0.013084</td>\n",
       "      <td>0.012898</td>\n",
       "      <td>0.012691</td>\n",
       "    </tr>\n",
       "    <tr>\n",
       "      <th>2</th>\n",
       "      <td>0.013588</td>\n",
       "      <td>0.013649</td>\n",
       "      <td>0.013757</td>\n",
       "      <td>0.013721</td>\n",
       "      <td>0.013683</td>\n",
       "      <td>0.013780</td>\n",
       "      <td>0.013866</td>\n",
       "      <td>0.013839</td>\n",
       "      <td>0.013782</td>\n",
       "      <td>0.013646</td>\n",
       "      <td>...</td>\n",
       "      <td>0.037364</td>\n",
       "      <td>0.040315</td>\n",
       "      <td>0.041861</td>\n",
       "      <td>0.045046</td>\n",
       "      <td>0.046284</td>\n",
       "      <td>0.030785</td>\n",
       "      <td>0.031654</td>\n",
       "      <td>0.024677</td>\n",
       "      <td>0.027018</td>\n",
       "      <td>0.018239</td>\n",
       "    </tr>\n",
       "    <tr>\n",
       "      <th>3</th>\n",
       "      <td>0.015413</td>\n",
       "      <td>0.015483</td>\n",
       "      <td>0.015605</td>\n",
       "      <td>0.015565</td>\n",
       "      <td>0.015521</td>\n",
       "      <td>0.015632</td>\n",
       "      <td>0.015584</td>\n",
       "      <td>0.015699</td>\n",
       "      <td>0.015633</td>\n",
       "      <td>0.015479</td>\n",
       "      <td>...</td>\n",
       "      <td>0.017733</td>\n",
       "      <td>0.021380</td>\n",
       "      <td>0.017206</td>\n",
       "      <td>0.024033</td>\n",
       "      <td>0.021921</td>\n",
       "      <td>0.019167</td>\n",
       "      <td>0.018967</td>\n",
       "      <td>0.017265</td>\n",
       "      <td>0.017019</td>\n",
       "      <td>0.016747</td>\n",
       "    </tr>\n",
       "    <tr>\n",
       "      <th>4</th>\n",
       "      <td>0.017056</td>\n",
       "      <td>0.016048</td>\n",
       "      <td>0.016284</td>\n",
       "      <td>0.015772</td>\n",
       "      <td>0.015787</td>\n",
       "      <td>0.015745</td>\n",
       "      <td>0.015894</td>\n",
       "      <td>0.015639</td>\n",
       "      <td>0.015574</td>\n",
       "      <td>0.015421</td>\n",
       "      <td>...</td>\n",
       "      <td>0.023623</td>\n",
       "      <td>0.023836</td>\n",
       "      <td>0.023791</td>\n",
       "      <td>0.026980</td>\n",
       "      <td>0.027078</td>\n",
       "      <td>0.026967</td>\n",
       "      <td>0.027835</td>\n",
       "      <td>0.032972</td>\n",
       "      <td>0.022538</td>\n",
       "      <td>0.024385</td>\n",
       "    </tr>\n",
       "  </tbody>\n",
       "</table>\n",
       "<p>5 rows × 50 columns</p>\n",
       "</div>"
      ],
      "text/plain": [
       "         0         1         2         3         4         5         6   \\\n",
       "0  0.013517  0.013579  0.016640  0.013884  0.013898  0.013860  0.014745   \n",
       "1  0.016988  0.012436  0.012106  0.012805  0.012437  0.012059  0.012213   \n",
       "2  0.013588  0.013649  0.013757  0.013721  0.013683  0.013780  0.013866   \n",
       "3  0.015413  0.015483  0.015605  0.015565  0.015521  0.015632  0.015584   \n",
       "4  0.017056  0.016048  0.016284  0.015772  0.015787  0.015745  0.015894   \n",
       "\n",
       "         7         8         9   ...        40        41        42        43  \\\n",
       "0  0.013768  0.013710  0.013575  ...  0.020796  0.020983  0.030367  0.034680   \n",
       "1  0.014004  0.014205  0.017244  ...  0.012700  0.012531  0.012731  0.012633   \n",
       "2  0.013839  0.013782  0.013646  ...  0.037364  0.040315  0.041861  0.045046   \n",
       "3  0.015699  0.015633  0.015479  ...  0.017733  0.021380  0.017206  0.024033   \n",
       "4  0.015639  0.015574  0.015421  ...  0.023623  0.023836  0.023791  0.026980   \n",
       "\n",
       "         44        45        46        47        48        49  \n",
       "0  0.042476  0.038159  0.041349  0.047000  0.037568  0.077289  \n",
       "1  0.012777  0.012507  0.012709  0.013084  0.012898  0.012691  \n",
       "2  0.046284  0.030785  0.031654  0.024677  0.027018  0.018239  \n",
       "3  0.021921  0.019167  0.018967  0.017265  0.017019  0.016747  \n",
       "4  0.027078  0.026967  0.027835  0.032972  0.022538  0.024385  \n",
       "\n",
       "[5 rows x 50 columns]"
      ]
     },
     "execution_count": 24,
     "metadata": {},
     "output_type": "execute_result"
    }
   ],
   "source": [
    "output.head()"
   ]
  },
  {
   "cell_type": "code",
   "execution_count": null,
   "id": "7ee75fb3-d98c-42fa-b1ce-254cb18b3f41",
   "metadata": {},
   "outputs": [],
   "source": [
    "output_pd=output.head()"
   ]
  },
  {
   "cell_type": "code",
   "execution_count": null,
   "id": "7d4c6041-ef98-4b5c-8074-e24bf48ab6d1",
   "metadata": {},
   "outputs": [
    {
     "data": {
      "text/plain": [
       "0    1.0\n",
       "1    1.0\n",
       "2    1.0\n",
       "3    1.0\n",
       "4    1.0\n",
       "dtype: float32"
      ]
     },
     "execution_count": 26,
     "metadata": {},
     "output_type": "execute_result"
    }
   ],
   "source": [
    "output_pd.sum(axis=1) # check that it is a pdf"
   ]
  },
  {
   "cell_type": "code",
   "execution_count": null,
   "id": "e51fe605-c938-44a7-b168-cdd71f65b371",
   "metadata": {},
   "outputs": [
    {
     "data": {
      "text/plain": [
       "0    49\n",
       "1    30\n",
       "2    44\n",
       "3    32\n",
       "4    47\n",
       "dtype: int64"
      ]
     },
     "execution_count": 27,
     "metadata": {},
     "output_type": "execute_result"
    }
   ],
   "source": [
    "output_pd.idxmax(axis=1) # compute the most likely label"
   ]
  },
  {
   "cell_type": "code",
   "execution_count": null,
   "id": "459e14b9-f786-46c4-a48c-49e1900dc85f",
   "metadata": {},
   "outputs": [
    {
     "data": {
      "text/html": [
       "<div>\n",
       "<style scoped>\n",
       "    .dataframe tbody tr th:only-of-type {\n",
       "        vertical-align: middle;\n",
       "    }\n",
       "\n",
       "    .dataframe tbody tr th {\n",
       "        vertical-align: top;\n",
       "    }\n",
       "\n",
       "    .dataframe thead th {\n",
       "        text-align: right;\n",
       "    }\n",
       "</style>\n",
       "<table border=\"1\" class=\"dataframe\">\n",
       "  <thead>\n",
       "    <tr style=\"text-align: right;\">\n",
       "      <th></th>\n",
       "      <th>0</th>\n",
       "      <th>1</th>\n",
       "      <th>2</th>\n",
       "      <th>3</th>\n",
       "      <th>4</th>\n",
       "      <th>5</th>\n",
       "      <th>6</th>\n",
       "      <th>7</th>\n",
       "      <th>8</th>\n",
       "      <th>9</th>\n",
       "      <th>...</th>\n",
       "      <th>40</th>\n",
       "      <th>41</th>\n",
       "      <th>42</th>\n",
       "      <th>43</th>\n",
       "      <th>44</th>\n",
       "      <th>45</th>\n",
       "      <th>46</th>\n",
       "      <th>47</th>\n",
       "      <th>48</th>\n",
       "      <th>49</th>\n",
       "    </tr>\n",
       "  </thead>\n",
       "  <tbody>\n",
       "    <tr>\n",
       "      <th>0</th>\n",
       "      <td>0.013517</td>\n",
       "      <td>0.013579</td>\n",
       "      <td>0.016640</td>\n",
       "      <td>0.013884</td>\n",
       "      <td>0.013898</td>\n",
       "      <td>0.013860</td>\n",
       "      <td>0.014745</td>\n",
       "      <td>0.013768</td>\n",
       "      <td>0.013710</td>\n",
       "      <td>0.013575</td>\n",
       "      <td>...</td>\n",
       "      <td>0.020796</td>\n",
       "      <td>0.020983</td>\n",
       "      <td>0.030367</td>\n",
       "      <td>0.034680</td>\n",
       "      <td>0.042476</td>\n",
       "      <td>0.038159</td>\n",
       "      <td>0.041349</td>\n",
       "      <td>0.047000</td>\n",
       "      <td>0.037568</td>\n",
       "      <td>0.077289</td>\n",
       "    </tr>\n",
       "    <tr>\n",
       "      <th>1</th>\n",
       "      <td>0.016988</td>\n",
       "      <td>0.012436</td>\n",
       "      <td>0.012106</td>\n",
       "      <td>0.012805</td>\n",
       "      <td>0.012437</td>\n",
       "      <td>0.012059</td>\n",
       "      <td>0.012213</td>\n",
       "      <td>0.014004</td>\n",
       "      <td>0.014205</td>\n",
       "      <td>0.017244</td>\n",
       "      <td>...</td>\n",
       "      <td>0.012700</td>\n",
       "      <td>0.012531</td>\n",
       "      <td>0.012731</td>\n",
       "      <td>0.012633</td>\n",
       "      <td>0.012777</td>\n",
       "      <td>0.012507</td>\n",
       "      <td>0.012709</td>\n",
       "      <td>0.013084</td>\n",
       "      <td>0.012898</td>\n",
       "      <td>0.012691</td>\n",
       "    </tr>\n",
       "    <tr>\n",
       "      <th>2</th>\n",
       "      <td>0.013588</td>\n",
       "      <td>0.013649</td>\n",
       "      <td>0.013757</td>\n",
       "      <td>0.013721</td>\n",
       "      <td>0.013683</td>\n",
       "      <td>0.013780</td>\n",
       "      <td>0.013866</td>\n",
       "      <td>0.013839</td>\n",
       "      <td>0.013782</td>\n",
       "      <td>0.013646</td>\n",
       "      <td>...</td>\n",
       "      <td>0.037364</td>\n",
       "      <td>0.040315</td>\n",
       "      <td>0.041861</td>\n",
       "      <td>0.045046</td>\n",
       "      <td>0.046284</td>\n",
       "      <td>0.030785</td>\n",
       "      <td>0.031654</td>\n",
       "      <td>0.024677</td>\n",
       "      <td>0.027018</td>\n",
       "      <td>0.018239</td>\n",
       "    </tr>\n",
       "    <tr>\n",
       "      <th>3</th>\n",
       "      <td>0.015413</td>\n",
       "      <td>0.015483</td>\n",
       "      <td>0.015605</td>\n",
       "      <td>0.015565</td>\n",
       "      <td>0.015521</td>\n",
       "      <td>0.015632</td>\n",
       "      <td>0.015584</td>\n",
       "      <td>0.015699</td>\n",
       "      <td>0.015633</td>\n",
       "      <td>0.015479</td>\n",
       "      <td>...</td>\n",
       "      <td>0.017733</td>\n",
       "      <td>0.021380</td>\n",
       "      <td>0.017206</td>\n",
       "      <td>0.024033</td>\n",
       "      <td>0.021921</td>\n",
       "      <td>0.019167</td>\n",
       "      <td>0.018967</td>\n",
       "      <td>0.017265</td>\n",
       "      <td>0.017019</td>\n",
       "      <td>0.016747</td>\n",
       "    </tr>\n",
       "    <tr>\n",
       "      <th>4</th>\n",
       "      <td>0.017056</td>\n",
       "      <td>0.016048</td>\n",
       "      <td>0.016284</td>\n",
       "      <td>0.015772</td>\n",
       "      <td>0.015787</td>\n",
       "      <td>0.015745</td>\n",
       "      <td>0.015894</td>\n",
       "      <td>0.015639</td>\n",
       "      <td>0.015574</td>\n",
       "      <td>0.015421</td>\n",
       "      <td>...</td>\n",
       "      <td>0.023623</td>\n",
       "      <td>0.023836</td>\n",
       "      <td>0.023791</td>\n",
       "      <td>0.026980</td>\n",
       "      <td>0.027078</td>\n",
       "      <td>0.026967</td>\n",
       "      <td>0.027835</td>\n",
       "      <td>0.032972</td>\n",
       "      <td>0.022538</td>\n",
       "      <td>0.024385</td>\n",
       "    </tr>\n",
       "  </tbody>\n",
       "</table>\n",
       "<p>5 rows × 50 columns</p>\n",
       "</div>"
      ],
      "text/plain": [
       "         0         1         2         3         4         5         6   \\\n",
       "0  0.013517  0.013579  0.016640  0.013884  0.013898  0.013860  0.014745   \n",
       "1  0.016988  0.012436  0.012106  0.012805  0.012437  0.012059  0.012213   \n",
       "2  0.013588  0.013649  0.013757  0.013721  0.013683  0.013780  0.013866   \n",
       "3  0.015413  0.015483  0.015605  0.015565  0.015521  0.015632  0.015584   \n",
       "4  0.017056  0.016048  0.016284  0.015772  0.015787  0.015745  0.015894   \n",
       "\n",
       "         7         8         9   ...        40        41        42        43  \\\n",
       "0  0.013768  0.013710  0.013575  ...  0.020796  0.020983  0.030367  0.034680   \n",
       "1  0.014004  0.014205  0.017244  ...  0.012700  0.012531  0.012731  0.012633   \n",
       "2  0.013839  0.013782  0.013646  ...  0.037364  0.040315  0.041861  0.045046   \n",
       "3  0.015699  0.015633  0.015479  ...  0.017733  0.021380  0.017206  0.024033   \n",
       "4  0.015639  0.015574  0.015421  ...  0.023623  0.023836  0.023791  0.026980   \n",
       "\n",
       "         44        45        46        47        48        49  \n",
       "0  0.042476  0.038159  0.041349  0.047000  0.037568  0.077289  \n",
       "1  0.012777  0.012507  0.012709  0.013084  0.012898  0.012691  \n",
       "2  0.046284  0.030785  0.031654  0.024677  0.027018  0.018239  \n",
       "3  0.021921  0.019167  0.018967  0.017265  0.017019  0.016747  \n",
       "4  0.027078  0.026967  0.027835  0.032972  0.022538  0.024385  \n",
       "\n",
       "[5 rows x 50 columns]"
      ]
     },
     "execution_count": 29,
     "metadata": {},
     "output_type": "execute_result"
    }
   ],
   "source": [
    "output_pd"
   ]
  },
  {
   "cell_type": "code",
   "execution_count": null,
   "id": "78d5993f-ba8d-4480-a7a7-48503224873e",
   "metadata": {
    "tags": []
   },
   "outputs": [
    {
     "data": {
      "image/png": "[encoded data removed]",
      "text/plain": [
       "<Figure size 640x480 with 1 Axes>"
      ]
     },
     "metadata": {},
     "output_type": "display_data"
    }
   ],
   "source": [
    "# plot the pdf and show the maximum\n",
    "def print_pdf(index):\n",
    "    plt.plot(output_pd.loc[index])\n",
    "    plt.axvline(x=np.argmax(output_pd.loc[index]), linestyle ='dotted')\n",
    "    plt.legend()\n",
    "    \n",
    "print_pdf(0)\n",
    "print_pdf(1)\n",
    "print_pdf(2)\n",
    "plt.show()"
   ]
  },
  {
   "cell_type": "code",
   "execution_count": 40,
   "id": "9692d199-a89d-4832-994e-09cc013b69e7",
   "metadata": {},
   "outputs": [],
   "source": [
    "predicted_label=output.idxmax(axis=1)"
   ]
  },
  {
   "cell_type": "code",
   "execution_count": 41,
   "id": "bc328e9d-ed3f-448b-95fc-c44355121581",
   "metadata": {},
   "outputs": [
    {
     "data": {
      "text/plain": [
       "dask.dataframe.core.Series"
      ]
     },
     "execution_count": 41,
     "metadata": {},
     "output_type": "execute_result"
    }
   ],
   "source": [
    "type(predicted_label)"
   ]
  },
  {
   "cell_type": "code",
   "execution_count": 42,
   "id": "f89b8e5a-585a-4422-ac9c-1fa7c7480924",
   "metadata": {},
   "outputs": [
    {
     "data": {
      "text/plain": [
       "0    46\n",
       "1    28\n",
       "2    41\n",
       "3    32\n",
       "4    47\n",
       "Name: label, dtype: int64"
      ]
     },
     "execution_count": 42,
     "metadata": {},
     "output_type": "execute_result"
    }
   ],
   "source": [
    "label_test.head()"
   ]
  },
  {
   "cell_type": "code",
   "execution_count": 43,
   "id": "4abe21f1-89bb-4eb8-935d-eea806cb4e41",
   "metadata": {},
   "outputs": [
    {
     "data": {
      "text/plain": [
       "0    49\n",
       "1    30\n",
       "2    44\n",
       "3    32\n",
       "4    47\n",
       "dtype: int64"
      ]
     },
     "execution_count": 43,
     "metadata": {},
     "output_type": "execute_result"
    }
   ],
   "source": [
    "predicted_label.head()"
   ]
  },
  {
   "cell_type": "code",
   "execution_count": 44,
   "id": "2ea33160-811a-4815-82da-095df980addc",
   "metadata": {},
   "outputs": [
    {
     "data": {
      "text/plain": [
       "<matplotlib.collections.PathCollection at 0x7f3b73753250>"
      ]
     },
     "execution_count": 44,
     "metadata": {},
     "output_type": "execute_result"
    },
    {
     "data": {
      "image/png": "[encoded data removed]",
      "text/plain": [
       "<Figure size 640x480 with 1 Axes>"
      ]
     },
     "metadata": {},
     "output_type": "display_data"
    }
   ],
   "source": [
    "plt.scatter(label_test, predicted_label)"
   ]
  },
  {
   "cell_type": "code",
   "execution_count": 53,
   "id": "5fcde125-04e3-498e-8609-c37d2bb4a5e4",
   "metadata": {},
   "outputs": [
    {
     "data": {},
     "metadata": {},
     "output_type": "display_data"
    },
    {
     "data": {
      "application/vnd.holoviews_exec.v0+json": "",
      "text/html": [
       "<div id='1344'>\n",
       "  <div class=\"bk-root\" id=\"58659101-50cc-4c03-b68a-e71c9ffeec38\" data-root-id=\"1344\"></div>\n",
       "</div>\n",
       "<script type=\"application/javascript\">(function(root) {\n",
       "  function embed_document(root) {\n",
       "    var docs_json = {\"9fc4fece-87fa-48d4-9942-4f7ccf921619\":{\"defs\":[{\"extends\":null,\"module\":null,\"name\":\"ReactiveHTML1\",\"overrides\":[],\"properties\":[]},{\"extends\":null,\"module\":null,\"name\":\"FlexBox1\",\"overrides\":[],\"properties\":[{\"default\":\"flex-start\",\"kind\":null,\"name\":\"align_content\"},{\"default\":\"flex-start\",\"kind\":null,\"name\":\"align_items\"},{\"default\":\"row\",\"kind\":null,\"name\":\"flex_direction\"},{\"default\":\"wrap\",\"kind\":null,\"name\":\"flex_wrap\"},{\"default\":\"flex-start\",\"kind\":null,\"name\":\"justify_content\"}]},{\"extends\":null,\"module\":null,\"name\":\"GridStack1\",\"overrides\":[],\"properties\":[{\"default\":\"warn\",\"kind\":null,\"name\":\"mode\"},{\"default\":null,\"kind\":null,\"name\":\"ncols\"},{\"default\":null,\"kind\":null,\"name\":\"nrows\"},{\"default\":true,\"kind\":null,\"name\":\"allow_resize\"},{\"default\":true,\"kind\":null,\"name\":\"allow_drag\"},{\"default\":[],\"kind\":null,\"name\":\"state\"}]},{\"extends\":null,\"module\":null,\"name\":\"click1\",\"overrides\":[],\"properties\":[{\"default\":\"\",\"kind\":null,\"name\":\"terminal_output\"},{\"default\":\"\",\"kind\":null,\"name\":\"debug_name\"},{\"default\":0,\"kind\":null,\"name\":\"clears\"}]},{\"extends\":null,\"module\":null,\"name\":\"NotificationAreaBase1\",\"overrides\":[],\"properties\":[{\"default\":\"bottom-right\",\"kind\":null,\"name\":\"position\"},{\"default\":0,\"kind\":null,\"name\":\"_clear\"}]},{\"extends\":null,\"module\":null,\"name\":\"NotificationArea1\",\"overrides\":[],\"properties\":[{\"default\":[],\"kind\":null,\"name\":\"notifications\"},{\"default\":\"bottom-right\",\"kind\":null,\"name\":\"position\"},{\"default\":0,\"kind\":null,\"name\":\"_clear\"},{\"default\":[{\"background\":\"#ffc107\",\"icon\":{\"className\":\"fas fa-exclamation-triangle\",\"color\":\"white\",\"tagName\":\"i\"},\"type\":\"warning\"},{\"background\":\"#007bff\",\"icon\":{\"className\":\"fas fa-info-circle\",\"color\":\"white\",\"tagName\":\"i\"},\"type\":\"info\"}],\"kind\":null,\"name\":\"types\"}]},{\"extends\":null,\"module\":null,\"name\":\"Notification\",\"overrides\":[],\"properties\":[{\"default\":null,\"kind\":null,\"name\":\"background\"},{\"default\":3000,\"kind\":null,\"name\":\"duration\"},{\"default\":null,\"kind\":null,\"name\":\"icon\"},{\"default\":\"\",\"kind\":null,\"name\":\"message\"},{\"default\":null,\"kind\":null,\"name\":\"notification_type\"},{\"default\":false,\"kind\":null,\"name\":\"_destroyed\"}]},{\"extends\":null,\"module\":null,\"name\":\"TemplateActions1\",\"overrides\":[],\"properties\":[{\"default\":0,\"kind\":null,\"name\":\"open_modal\"},{\"default\":0,\"kind\":null,\"name\":\"close_modal\"}]},{\"extends\":null,\"module\":null,\"name\":\"MaterialTemplateActions1\",\"overrides\":[],\"properties\":[{\"default\":0,\"kind\":null,\"name\":\"open_modal\"},{\"default\":0,\"kind\":null,\"name\":\"close_modal\"}]}],\"roots\":{\"references\":[{\"attributes\":{\"active_drag\":{\"id\":\"1366\"},\"active_scroll\":{\"id\":\"1367\"},\"tools\":[{\"id\":\"1347\"},{\"id\":\"1365\"},{\"id\":\"1366\"},{\"id\":\"1367\"},{\"id\":\"1368\"},{\"id\":\"1369\"}]},\"id\":\"1371\",\"type\":\"Toolbar\"},{\"attributes\":{\"coordinates\":null,\"group\":null,\"text_color\":\"black\",\"text_font_size\":\"12pt\"},\"id\":\"1349\",\"type\":\"Title\"},{\"attributes\":{\"end\":107518.6,\"reset_end\":107518.6,\"reset_start\":0.0,\"tags\":[[[\"label_count\",\"Count\",null]]]},\"id\":\"1398\",\"type\":\"Range1d\"},{\"attributes\":{\"bottom\":{\"value\":0},\"fill_alpha\":{\"value\":0.2},\"fill_color\":{\"value\":\"#30a2da\"},\"hatch_alpha\":{\"value\":0.2},\"hatch_color\":{\"value\":\"#30a2da\"},\"left\":{\"field\":\"left\"},\"line_alpha\":{\"value\":0.2},\"right\":{\"field\":\"right\"},\"tags\":[\"apply_ranges\"],\"top\":{\"field\":\"top\"}},\"id\":\"1383\",\"type\":\"Quad\"},{\"attributes\":{\"coordinates\":null,\"group\":null,\"text_color\":\"black\",\"text_font_size\":\"12pt\"},\"id\":\"1401\",\"type\":\"Title\"},{\"attributes\":{\"axis_label\":\"\",\"coordinates\":null,\"formatter\":{\"id\":\"1443\"},\"group\":null,\"major_label_policy\":{\"id\":\"1444\"},\"ticker\":{\"id\":\"1414\"}},\"id\":\"1413\",\"type\":\"LinearAxis\"},{\"attributes\":{\"callback\":null,\"renderers\":[{\"id\":\"1384\"}],\"tags\":[\"hv_created\"],\"tooltips\":[[\"0\",\"@{A_0}\"],[\"Count\",\"@{A_0_count}\"]]},\"id\":\"1347\",\"type\":\"HoverTool\"},{\"attributes\":{},\"id\":\"1421\",\"type\":\"ResetTool\"},{\"attributes\":{},\"id\":\"1379\",\"type\":\"Selection\"},{\"attributes\":{},\"id\":\"1389\",\"type\":\"AllLabels\"},{\"attributes\":{},\"id\":\"1444\",\"type\":\"AllLabels\"},{\"attributes\":{},\"id\":\"1443\",\"type\":\"BasicTickFormatter\"},{\"attributes\":{},\"id\":\"1366\",\"type\":\"PanTool\"},{\"attributes\":{\"axis\":{\"id\":\"1357\"},\"coordinates\":null,\"grid_line_color\":null,\"group\":null,\"ticker\":null},\"id\":\"1360\",\"type\":\"Grid\"},{\"attributes\":{},\"id\":\"1410\",\"type\":\"BasicTicker\"},{\"attributes\":{\"children\":[[{\"id\":\"1348\"},0,0],[{\"id\":\"1400\"},0,1]]},\"id\":\"1473\",\"type\":\"GridBox\"},{\"attributes\":{\"data\":{\"label\":{\"__ndarray__\":\"XI/C9Shc3z+F61G4HoX3P5qZmZmZmQNAcD0K16NwC0CkcD0K16MRQJDC9ShcjxVAehSuR+F6GUBmZmZmZmYdQClcj8L1qCBAH4XrUbieIkAUrkfhepQkQArXo3A9iiZAAAAAAACAKED2KFyPwnUqQOtRuB6FayxA4XoUrkdhLkDsUbgehSswQGZmZmZmJjFA4noUrkchMkBcj8L1KBwzQNejcD0KFzRAUrgehesRNUDMzMzMzAw2QEjhehSuBzdAwvUoXI8COEA+CtejcP04QLgehetR+DlAMzMzMzPzOkCuR+F6FO47QChcj8L16DxApHA9CtfjPUAehetRuN4+QJmZmZmZ2T9ACtejcD1qQEBI4XoUrudAQIXrUbgeZUFAwvUoXI/iQUAAAAAAAGBCQD4K16Nw3UJAexSuR+FaQ0C4HoXrUdhDQPYoXI/CVURAMzMzMzPTREBwPQrXo1BFQK5H4XoUzkVA7FG4HoVLRkApXI/C9chGQGZmZmZmRkdApHA9CtfDR0DhehSuR0FIQA==\",\"dtype\":\"float64\",\"order\":\"little\",\"shape\":[50]},\"label_count\":[2737,3184,3647,3941,4464,5190,5874,6335,7067,8044,9179,10525,11814,12788,13853,15077,15691,16597,17594,17942,18876,20365,21308,23207,24231,26098,27337,28541,29718,31552,33966,36886,38930,40404,40875,41169,41877,42468,43631,44989,46481,49309,52620,55457,58689,64063,68825,75111,82498,97993],\"left\":{\"__ndarray__\":\"AAAAAAAAAABcj8L1KFzvP1yPwvUoXP8/hetRuB6FB0Bcj8L1KFwPQJqZmZmZmRNAhetRuB6FF0BwPQrXo3AbQFyPwvUoXB9ApHA9CtejIUCamZmZmZkjQI/C9ShcjyVAhetRuB6FJ0B7FK5H4XopQHA9CtejcCtAZmZmZmZmLUBcj8L1KFwvQClcj8L1qDBApHA9CtejMUAfhetRuJ4yQJqZmZmZmTNAFK5H4XqUNECPwvUoXI81QArXo3A9ijZAhetRuB6FN0AAAAAAAIA4QHsUrkfhejlA9ihcj8J1OkBwPQrXo3A7QOtRuB6FazxAZmZmZmZmPUDhehSuR2E+QFyPwvUoXD9A61G4HoUrQEApXI/C9ahAQGZmZmZmJkFApHA9CtejQUDhehSuRyFCQB+F61G4nkJAXI/C9SgcQ0CamZmZmZlDQNejcD0KF0RAFK5H4XqUREBSuB6F6xFFQI/C9Shcj0VAzczMzMwMRkAK16NwPYpGQEjhehSuB0dAhetRuB6FR0DC9ShcjwJIQA==\",\"dtype\":\"float64\",\"order\":\"little\",\"shape\":[50]},\"right\":{\"__ndarray__\":\"XI/C9Shc7z9cj8L1KFz/P4XrUbgehQdAXI/C9ShcD0CamZmZmZkTQIXrUbgehRdAcD0K16NwG0Bcj8L1KFwfQKRwPQrXoyFAmpmZmZmZI0CPwvUoXI8lQIXrUbgehSdAexSuR+F6KUBwPQrXo3ArQGZmZmZmZi1AXI/C9ShcL0ApXI/C9agwQKRwPQrXozFAH4XrUbieMkCamZmZmZkzQBSuR+F6lDRAj8L1KFyPNUAK16NwPYo2QIXrUbgehTdAAAAAAACAOEB7FK5H4Xo5QPYoXI/CdTpAcD0K16NwO0DrUbgehWs8QGZmZmZmZj1A4XoUrkdhPkBcj8L1KFw/QOtRuB6FK0BAKVyPwvWoQEBmZmZmZiZBQKRwPQrXo0FA4XoUrkchQkAfhetRuJ5CQFyPwvUoHENAmpmZmZmZQ0DXo3A9ChdEQBSuR+F6lERAUrgehesRRUCPwvUoXI9FQM3MzMzMDEZACtejcD2KRkBI4XoUrgdHQIXrUbgehUdAwvUoXI8CSEAAAAAAAIBIQA==\",\"dtype\":\"float64\",\"order\":\"little\",\"shape\":[50]},\"top\":[2737,3184,3647,3941,4464,5190,5874,6335,7067,8044,9179,10525,11814,12788,13853,15077,15691,16597,17594,17942,18876,20365,21308,23207,24231,26098,27337,28541,29718,31552,33966,36886,38930,40404,40875,41169,41877,42468,43631,44989,46481,49309,52620,55457,58689,64063,68825,75111,82498,97993]},\"selected\":{\"id\":\"1431\"},\"selection_policy\":{\"id\":\"1469\"}},\"id\":\"1430\",\"type\":\"ColumnDataSource\"},{\"attributes\":{\"toolbars\":[{\"id\":\"1371\"},{\"id\":\"1423\"}],\"tools\":[{\"id\":\"1347\"},{\"id\":\"1365\"},{\"id\":\"1366\"},{\"id\":\"1367\"},{\"id\":\"1368\"},{\"id\":\"1369\"},{\"id\":\"1399\"},{\"id\":\"1417\"},{\"id\":\"1418\"},{\"id\":\"1419\"},{\"id\":\"1420\"},{\"id\":\"1421\"}]},\"id\":\"1474\",\"type\":\"ProxyToolbar\"},{\"attributes\":{\"source\":{\"id\":\"1378\"}},\"id\":\"1385\",\"type\":\"CDSView\"},{\"attributes\":{},\"id\":\"1414\",\"type\":\"BasicTicker\"},{\"attributes\":{\"axis\":{\"id\":\"1361\"},\"coordinates\":null,\"dimension\":1,\"grid_line_color\":null,\"group\":null,\"ticker\":null},\"id\":\"1364\",\"type\":\"Grid\"},{\"attributes\":{},\"id\":\"1440\",\"type\":\"BasicTickFormatter\"},{\"attributes\":{\"axis\":{\"id\":\"1413\"},\"coordinates\":null,\"dimension\":1,\"grid_line_color\":null,\"group\":null,\"ticker\":null},\"id\":\"1416\",\"type\":\"Grid\"},{\"attributes\":{\"axis\":{\"id\":\"1409\"},\"coordinates\":null,\"grid_line_color\":null,\"group\":null,\"ticker\":null},\"id\":\"1412\",\"type\":\"Grid\"},{\"attributes\":{\"axis_label\":\"label\",\"coordinates\":null,\"formatter\":{\"id\":\"1440\"},\"group\":null,\"major_label_policy\":{\"id\":\"1441\"},\"ticker\":{\"id\":\"1410\"}},\"id\":\"1409\",\"type\":\"LinearAxis\"},{\"attributes\":{},\"id\":\"1367\",\"type\":\"WheelZoomTool\"},{\"attributes\":{},\"id\":\"1407\",\"type\":\"LinearScale\"},{\"attributes\":{\"bottom\":{\"value\":0},\"fill_alpha\":{\"value\":0.1},\"fill_color\":{\"value\":\"#30a2da\"},\"hatch_alpha\":{\"value\":0.1},\"hatch_color\":{\"value\":\"#30a2da\"},\"left\":{\"field\":\"left\"},\"line_alpha\":{\"value\":0.1},\"right\":{\"field\":\"right\"},\"tags\":[\"apply_ranges\"],\"top\":{\"field\":\"top\"}},\"id\":\"1434\",\"type\":\"Quad\"},{\"attributes\":{\"below\":[{\"id\":\"1357\"}],\"center\":[{\"id\":\"1360\"},{\"id\":\"1364\"}],\"height\":300,\"left\":[{\"id\":\"1361\"}],\"margin\":null,\"min_border_bottom\":10,\"min_border_left\":10,\"min_border_right\":10,\"min_border_top\":10,\"output_backend\":\"webgl\",\"renderers\":[{\"id\":\"1384\"}],\"sizing_mode\":\"fixed\",\"title\":{\"id\":\"1349\"},\"toolbar\":{\"id\":\"1371\"},\"toolbar_location\":null,\"width\":700,\"x_range\":{\"id\":\"1345\"},\"x_scale\":{\"id\":\"1353\"},\"y_range\":{\"id\":\"1346\"},\"y_scale\":{\"id\":\"1355\"}},\"id\":\"1348\",\"subtype\":\"Figure\",\"type\":\"Plot\"},{\"attributes\":{},\"id\":\"1419\",\"type\":\"WheelZoomTool\"},{\"attributes\":{\"bottom\":{\"value\":0},\"fill_alpha\":{\"value\":0.1},\"fill_color\":{\"value\":\"#30a2da\"},\"hatch_alpha\":{\"value\":0.1},\"hatch_color\":{\"value\":\"#30a2da\"},\"left\":{\"field\":\"left\"},\"line_alpha\":{\"value\":0.1},\"right\":{\"field\":\"right\"},\"tags\":[\"apply_ranges\"],\"top\":{\"field\":\"top\"}},\"id\":\"1382\",\"type\":\"Quad\"},{\"attributes\":{},\"id\":\"1417\",\"type\":\"SaveTool\"},{\"attributes\":{\"toolbar\":{\"id\":\"1474\"},\"toolbar_location\":\"above\"},\"id\":\"1475\",\"type\":\"ToolbarBox\"},{\"attributes\":{\"bottom_units\":\"screen\",\"coordinates\":null,\"fill_alpha\":0.5,\"fill_color\":\"lightgrey\",\"group\":null,\"left_units\":\"screen\",\"level\":\"overlay\",\"line_alpha\":1.0,\"line_color\":\"black\",\"line_dash\":[4,4],\"line_width\":2,\"right_units\":\"screen\",\"syncable\":false,\"top_units\":\"screen\"},\"id\":\"1370\",\"type\":\"BoxAnnotation\"},{\"attributes\":{},\"id\":\"1358\",\"type\":\"BasicTicker\"},{\"attributes\":{\"children\":[{\"id\":\"1475\"},{\"id\":\"1473\"}]},\"id\":\"1476\",\"type\":\"Column\"},{\"attributes\":{\"data\":{\"A_0\":{\"__ndarray__\":\"XI/C9Shc3z+F61G4HoX3P5qZmZmZmQNAcD0K16NwC0CkcD0K16MRQJDC9ShcjxVAehSuR+F6GUBmZmZmZmYdQClcj8L1qCBAH4XrUbieIkAUrkfhepQkQArXo3A9iiZAAAAAAACAKED2KFyPwnUqQOtRuB6FayxA4XoUrkdhLkDsUbgehSswQGZmZmZmJjFA4noUrkchMkBcj8L1KBwzQNejcD0KFzRAUrgehesRNUDMzMzMzAw2QEjhehSuBzdAwvUoXI8COEA+CtejcP04QLgehetR+DlAMzMzMzPzOkCuR+F6FO47QChcj8L16DxApHA9CtfjPUAehetRuN4+QJmZmZmZ2T9ACtejcD1qQEBI4XoUrudAQIXrUbgeZUFAwvUoXI/iQUAAAAAAAGBCQD4K16Nw3UJAexSuR+FaQ0C4HoXrUdhDQPYoXI/CVURAMzMzMzPTREBwPQrXo1BFQK5H4XoUzkVA7FG4HoVLRkApXI/C9chGQGZmZmZmRkdApHA9CtfDR0DhehSuR0FIQA==\",\"dtype\":\"float64\",\"order\":\"little\",\"shape\":[50]},\"A_0_count\":[19015,12136,14865,9659,13574,13830,15958,19876,16722,17884,24759,18835,20832,22157,21443,14287,15906,11974,32562,24369,14818,15683,15300,13548,17616,20043,22024,17496,23926,22028,65148,26455,31535,49249,49404,48887,45047,45900,19073,29474,32608,28454,42185,40643,45055,48330,51608,67897,101835,87105],\"left\":{\"__ndarray__\":\"AAAAAAAAAABcj8L1KFzvP1yPwvUoXP8/hetRuB6FB0Bcj8L1KFwPQJqZmZmZmRNAhetRuB6FF0BwPQrXo3AbQFyPwvUoXB9ApHA9CtejIUCamZmZmZkjQI/C9ShcjyVAhetRuB6FJ0B7FK5H4XopQHA9CtejcCtAZmZmZmZmLUBcj8L1KFwvQClcj8L1qDBApHA9CtejMUAfhetRuJ4yQJqZmZmZmTNAFK5H4XqUNECPwvUoXI81QArXo3A9ijZAhetRuB6FN0AAAAAAAIA4QHsUrkfhejlA9ihcj8J1OkBwPQrXo3A7QOtRuB6FazxAZmZmZmZmPUDhehSuR2E+QFyPwvUoXD9A61G4HoUrQEApXI/C9ahAQGZmZmZmJkFApHA9CtejQUDhehSuRyFCQB+F61G4nkJAXI/C9SgcQ0CamZmZmZlDQNejcD0KF0RAFK5H4XqUREBSuB6F6xFFQI/C9Shcj0VAzczMzMwMRkAK16NwPYpGQEjhehSuB0dAhetRuB6FR0DC9ShcjwJIQA==\",\"dtype\":\"float64\",\"order\":\"little\",\"shape\":[50]},\"right\":{\"__ndarray__\":\"XI/C9Shc7z9cj8L1KFz/P4XrUbgehQdAXI/C9ShcD0CamZmZmZkTQIXrUbgehRdAcD0K16NwG0Bcj8L1KFwfQKRwPQrXoyFAmpmZmZmZI0CPwvUoXI8lQIXrUbgehSdAexSuR+F6KUBwPQrXo3ArQGZmZmZmZi1AXI/C9ShcL0ApXI/C9agwQKRwPQrXozFAH4XrUbieMkCamZmZmZkzQBSuR+F6lDRAj8L1KFyPNUAK16NwPYo2QIXrUbgehTdAAAAAAACAOEB7FK5H4Xo5QPYoXI/CdTpAcD0K16NwO0DrUbgehWs8QGZmZmZmZj1A4XoUrkdhPkBcj8L1KFw/QOtRuB6FK0BAKVyPwvWoQEBmZmZmZiZBQKRwPQrXo0FA4XoUrkchQkAfhetRuJ5CQFyPwvUoHENAmpmZmZmZQ0DXo3A9ChdEQBSuR+F6lERAUrgehesRRUCPwvUoXI9FQM3MzMzMDEZACtejcD2KRkBI4XoUrgdHQIXrUbgehUdAwvUoXI8CSEAAAAAAAIBIQA==\",\"dtype\":\"float64\",\"order\":\"little\",\"shape\":[50]},\"top\":[19015,12136,14865,9659,13574,13830,15958,19876,16722,17884,24759,18835,20832,22157,21443,14287,15906,11974,32562,24369,14818,15683,15300,13548,17616,20043,22024,17496,23926,22028,65148,26455,31535,49249,49404,48887,45047,45900,19073,29474,32608,28454,42185,40643,45055,48330,51608,67897,101835,87105]},\"selected\":{\"id\":\"1379\"},\"selection_policy\":{\"id\":\"1458\"}},\"id\":\"1378\",\"type\":\"ColumnDataSource\"},{\"attributes\":{},\"id\":\"1388\",\"type\":\"BasicTickFormatter\"},{\"attributes\":{\"bottom\":{\"value\":0},\"fill_alpha\":{\"value\":1.0},\"fill_color\":{\"value\":\"#30a2da\"},\"hatch_alpha\":{\"value\":1.0},\"hatch_color\":{\"value\":\"#30a2da\"},\"hatch_scale\":{\"value\":12.0},\"hatch_weight\":{\"value\":1.0},\"left\":{\"field\":\"left\"},\"line_alpha\":{\"value\":1.0},\"line_cap\":{\"value\":\"butt\"},\"line_color\":{\"value\":\"black\"},\"line_dash\":{\"value\":[]},\"line_dash_offset\":{\"value\":0},\"line_join\":{\"value\":\"bevel\"},\"line_width\":{\"value\":1},\"right\":{\"field\":\"right\"},\"tags\":[\"apply_ranges\"],\"top\":{\"field\":\"top\"}},\"id\":\"1386\",\"type\":\"Quad\"},{\"attributes\":{},\"id\":\"1355\",\"type\":\"LinearScale\"},{\"attributes\":{},\"id\":\"1362\",\"type\":\"BasicTicker\"},{\"attributes\":{\"below\":[{\"id\":\"1409\"}],\"center\":[{\"id\":\"1412\"},{\"id\":\"1416\"}],\"height\":300,\"left\":[{\"id\":\"1413\"}],\"margin\":null,\"min_border_bottom\":10,\"min_border_left\":10,\"min_border_right\":10,\"min_border_top\":10,\"output_backend\":\"webgl\",\"renderers\":[{\"id\":\"1436\"}],\"sizing_mode\":\"fixed\",\"title\":{\"id\":\"1401\"},\"toolbar\":{\"id\":\"1423\"},\"toolbar_location\":null,\"width\":700,\"x_range\":{\"id\":\"1397\"},\"x_scale\":{\"id\":\"1405\"},\"y_range\":{\"id\":\"1398\"},\"y_scale\":{\"id\":\"1407\"}},\"id\":\"1400\",\"subtype\":\"Figure\",\"type\":\"Plot\"},{\"attributes\":{\"end\":51.1,\"reset_end\":51.1,\"reset_start\":-2.1,\"start\":-2.1,\"tags\":[[[\"0\",\"0\",null]]]},\"id\":\"1345\",\"type\":\"Range1d\"},{\"attributes\":{},\"id\":\"1392\",\"type\":\"AllLabels\"},{\"attributes\":{\"bottom\":{\"value\":0},\"fill_alpha\":{\"value\":0.2},\"fill_color\":{\"value\":\"#30a2da\"},\"hatch_alpha\":{\"value\":0.2},\"hatch_color\":{\"value\":\"#30a2da\"},\"left\":{\"field\":\"left\"},\"line_alpha\":{\"value\":0.2},\"right\":{\"field\":\"right\"},\"tags\":[\"apply_ranges\"],\"top\":{\"field\":\"top\"}},\"id\":\"1435\",\"type\":\"Quad\"},{\"attributes\":{},\"id\":\"1431\",\"type\":\"Selection\"},{\"attributes\":{\"bottom_units\":\"screen\",\"coordinates\":null,\"fill_alpha\":0.5,\"fill_color\":\"lightgrey\",\"group\":null,\"left_units\":\"screen\",\"level\":\"overlay\",\"line_alpha\":1.0,\"line_color\":\"black\",\"line_dash\":[4,4],\"line_width\":2,\"right_units\":\"screen\",\"syncable\":false,\"top_units\":\"screen\"},\"id\":\"1422\",\"type\":\"BoxAnnotation\"},{\"attributes\":{\"callback\":null,\"renderers\":[{\"id\":\"1436\"}],\"tags\":[\"hv_created\"],\"tooltips\":[[\"label\",\"@{label}\"],[\"Count\",\"@{label_count}\"]]},\"id\":\"1399\",\"type\":\"HoverTool\"},{\"attributes\":{},\"id\":\"1369\",\"type\":\"ResetTool\"},{\"attributes\":{\"source\":{\"id\":\"1430\"}},\"id\":\"1437\",\"type\":\"CDSView\"},{\"attributes\":{},\"id\":\"1418\",\"type\":\"PanTool\"},{\"attributes\":{},\"id\":\"1353\",\"type\":\"LinearScale\"},{\"attributes\":{},\"id\":\"1458\",\"type\":\"UnionRenderers\"},{\"attributes\":{\"bottom\":{\"value\":0},\"fill_color\":{\"value\":\"#30a2da\"},\"hatch_color\":{\"value\":\"#30a2da\"},\"left\":{\"field\":\"left\"},\"right\":{\"field\":\"right\"},\"tags\":[\"apply_ranges\"],\"top\":{\"field\":\"top\"}},\"id\":\"1433\",\"type\":\"Quad\"},{\"attributes\":{\"active_drag\":{\"id\":\"1418\"},\"active_scroll\":{\"id\":\"1419\"},\"tools\":[{\"id\":\"1399\"},{\"id\":\"1417\"},{\"id\":\"1418\"},{\"id\":\"1419\"},{\"id\":\"1420\"},{\"id\":\"1421\"}]},\"id\":\"1423\",\"type\":\"Toolbar\"},{\"attributes\":{\"overlay\":{\"id\":\"1370\"}},\"id\":\"1368\",\"type\":\"BoxZoomTool\"},{\"attributes\":{\"bottom\":{\"value\":0},\"fill_color\":{\"value\":\"#30a2da\"},\"hatch_color\":{\"value\":\"#30a2da\"},\"left\":{\"field\":\"left\"},\"right\":{\"field\":\"right\"},\"tags\":[\"apply_ranges\"],\"top\":{\"field\":\"top\"}},\"id\":\"1381\",\"type\":\"Quad\"},{\"attributes\":{},\"id\":\"1405\",\"type\":\"LinearScale\"},{\"attributes\":{},\"id\":\"1365\",\"type\":\"SaveTool\"},{\"attributes\":{\"overlay\":{\"id\":\"1422\"}},\"id\":\"1420\",\"type\":\"BoxZoomTool\"},{\"attributes\":{\"end\":111052.6,\"reset_end\":111052.6,\"reset_start\":0.0,\"tags\":[[[\"0_count\",\"Count\",null]]]},\"id\":\"1346\",\"type\":\"Range1d\"},{\"attributes\":{},\"id\":\"1391\",\"type\":\"BasicTickFormatter\"},{\"attributes\":{\"bottom\":{\"value\":0},\"fill_alpha\":{\"value\":1.0},\"fill_color\":{\"value\":\"#30a2da\"},\"hatch_alpha\":{\"value\":1.0},\"hatch_color\":{\"value\":\"#30a2da\"},\"hatch_scale\":{\"value\":12.0},\"hatch_weight\":{\"value\":1.0},\"left\":{\"field\":\"left\"},\"line_alpha\":{\"value\":1.0},\"line_cap\":{\"value\":\"butt\"},\"line_color\":{\"value\":\"black\"},\"line_dash\":{\"value\":[]},\"line_dash_offset\":{\"value\":0},\"line_join\":{\"value\":\"bevel\"},\"line_width\":{\"value\":1},\"right\":{\"field\":\"right\"},\"tags\":[\"apply_ranges\"],\"top\":{\"field\":\"top\"}},\"id\":\"1438\",\"type\":\"Quad\"},{\"attributes\":{},\"id\":\"1469\",\"type\":\"UnionRenderers\"},{\"attributes\":{\"coordinates\":null,\"data_source\":{\"id\":\"1378\"},\"glyph\":{\"id\":\"1381\"},\"group\":null,\"hover_glyph\":null,\"muted_glyph\":{\"id\":\"1383\"},\"nonselection_glyph\":{\"id\":\"1382\"},\"selection_glyph\":{\"id\":\"1386\"},\"view\":{\"id\":\"1385\"}},\"id\":\"1384\",\"type\":\"GlyphRenderer\"},{\"attributes\":{\"axis_label\":\"\",\"coordinates\":null,\"formatter\":{\"id\":\"1391\"},\"group\":null,\"major_label_policy\":{\"id\":\"1392\"},\"ticker\":{\"id\":\"1362\"}},\"id\":\"1361\",\"type\":\"LinearAxis\"},{\"attributes\":{\"coordinates\":null,\"data_source\":{\"id\":\"1430\"},\"glyph\":{\"id\":\"1433\"},\"group\":null,\"hover_glyph\":null,\"muted_glyph\":{\"id\":\"1435\"},\"nonselection_glyph\":{\"id\":\"1434\"},\"selection_glyph\":{\"id\":\"1438\"},\"view\":{\"id\":\"1437\"}},\"id\":\"1436\",\"type\":\"GlyphRenderer\"},{\"attributes\":{},\"id\":\"1441\",\"type\":\"AllLabels\"},{\"attributes\":{\"children\":[{\"id\":\"1476\"}],\"margin\":[0,0,0,0],\"name\":\"Row01248\",\"tags\":[\"embedded\"]},\"id\":\"1344\",\"type\":\"Row\"},{\"attributes\":{\"end\":51.1,\"reset_end\":51.1,\"reset_start\":-2.1,\"start\":-2.1,\"tags\":[[[\"label\",\"label\",null]]]},\"id\":\"1397\",\"type\":\"Range1d\"},{\"attributes\":{\"axis_label\":\"0\",\"coordinates\":null,\"formatter\":{\"id\":\"1388\"},\"group\":null,\"major_label_policy\":{\"id\":\"1389\"},\"ticker\":{\"id\":\"1358\"}},\"id\":\"1357\",\"type\":\"LinearAxis\"}],\"root_ids\":[\"1344\"]},\"title\":\"Bokeh Application\",\"version\":\"2.4.3\"}};\n",
       "    var render_items = [{\"docid\":\"9fc4fece-87fa-48d4-9942-4f7ccf921619\",\"root_ids\":[\"1344\"],\"roots\":{\"1344\":\"58659101-50cc-4c03-b68a-e71c9ffeec38\"}}];\n",
       "    root.Bokeh.embed.embed_items_notebook(docs_json, render_items);\n",
       "    for (const render_item of render_items) {\n",
       "      for (const root_id of render_item.root_ids) {\n",
       "\tconst id_el = document.getElementById(root_id)\n",
       "\tif (id_el.children.length && (id_el.children[0].className === 'bk-root')) {\n",
       "\t  const root_el = id_el.children[0]\n",
       "\t  root_el.id = root_el.id + '-rendered'\n",
       "\t}\n",
       "      }\n",
       "    }\n",
       "  }\n",
       "  if (root.Bokeh !== undefined && root.Bokeh.Panel !== undefined) {\n",
       "    embed_document(root);\n",
       "  } else {\n",
       "    var attempts = 0;\n",
       "    var timer = setInterval(function(root) {\n",
       "      if (root.Bokeh !== undefined && root.Bokeh.Panel !== undefined) {\n",
       "        clearInterval(timer);\n",
       "        embed_document(root);\n",
       "      } else if (document.readyState == \"complete\") {\n",
       "        attempts++;\n",
       "        if (attempts > 200) {\n",
       "          clearInterval(timer);\n",
       "          console.log(\"Bokeh: ERROR: Unable to run BokehJS code because BokehJS library is missing\");\n",
       "        }\n",
       "      }\n",
       "    }, 25, root)\n",
       "  }\n",
       "})(window);</script>"
      ],
      "text/plain": [
       ":Layout\n",
       "   .Histogram.I  :Histogram   [0]   (0_count)\n",
       "   .Histogram.II :Histogram   [label]   (label_count)"
      ]
     },
     "execution_count": 53,
     "metadata": {
      "application/vnd.holoviews_exec.v0+json": {
       "id": "1344"
      }
     },
     "output_type": "execute_result"
    }
   ],
   "source": [
    "predicted_label.hvplot.hist(bins=n_bins)+ label_test.hvplot.hist(bins=n_bins)"
   ]
  },
  {
   "cell_type": "code",
   "execution_count": 45,
   "id": "60d008ff-be54-4783-a452-ef9f1d5484dd",
   "metadata": {},
   "outputs": [
    {
     "data": {
      "text/plain": [
       "(dask.dataframe.core.Series,\n",
       " Dask Series Structure:\n",
       " npartitions=1800\n",
       "     int64\n",
       "       ...\n",
       "     ...  \n",
       "       ...\n",
       "       ...\n",
       " Name: label, dtype: int64\n",
       " Dask Name: getitem, 10 graph layers)"
      ]
     },
     "execution_count": 45,
     "metadata": {},
     "output_type": "execute_result"
    }
   ],
   "source": [
    "type(label_test), label_test"
   ]
  },
  {
   "cell_type": "code",
   "execution_count": null,
   "id": "b8af4534-fce5-4dd0-b4c1-e946bc3e2e87",
   "metadata": {},
   "outputs": [],
   "source": [
    "# label_test=label_test.reset_index(drop=False)\n",
    "# predicted_label=predicted_label.reset_index(drop=False)"
   ]
  },
  {
   "cell_type": "code",
   "execution_count": null,
   "id": "f055be9f-4033-4c95-a914-5d43d18d14a4",
   "metadata": {},
   "outputs": [],
   "source": [
    "# label_test.merge( predicted_label, how='inner', on='index').head()"
   ]
  },
  {
   "cell_type": "code",
   "execution_count": null,
   "id": "f6d33af8-3cbb-4e13-81ae-b71ab3d8ec21",
   "metadata": {},
   "outputs": [],
   "source": [
    "# labels.reset_index(drop=False).head()"
   ]
  },
  {
   "cell_type": "code",
   "execution_count": 46,
   "id": "033d930b-3765-47bf-9f57-3a10c02af912",
   "metadata": {
    "tags": []
   },
   "outputs": [
    {
     "data": {
      "image/png": "[encoded data removed]",
      "text/plain": [
       "<Figure size 640x480 with 1 Axes>"
      ]
     },
     "metadata": {},
     "output_type": "display_data"
    }
   ],
   "source": [
    "%matplotlib inline\n",
    "import matplotlib.pyplot as plt\n",
    "\n",
    "ax = xgb.plot_importance(bst['booster'], height=0.8, max_num_features=9)\n",
    "ax.grid(False, axis=\"y\")\n",
    "ax.set_title('Estimated feature importance')\n",
    "plt.show()"
   ]
  },
  {
   "cell_type": "code",
   "execution_count": 47,
   "id": "11794c30-8d1d-4903-b757-819639eda466",
   "metadata": {
    "tags": []
   },
   "outputs": [
    {
     "ename": "AttributeError",
     "evalue": "'dict' object has no attribute 'predict'",
     "output_type": "error",
     "traceback": [
      "\u001b[0;31m---------------------------------------------------------------------------\u001b[0m",
      "\u001b[0;31mAttributeError\u001b[0m                            Traceback (most recent call last)",
      "Cell \u001b[0;32mIn[48], line 1\u001b[0m\n\u001b[0;32m----> 1\u001b[0m y_train_predict \u001b[38;5;241m=\u001b[39m \u001b[43mbst\u001b[49m\u001b[38;5;241;43m.\u001b[39;49m\u001b[43mpredict\u001b[49m(X_train)\n",
      "\u001b[0;31mAttributeError\u001b[0m: 'dict' object has no attribute 'predict'"
     ]
    }
   ],
   "source": [
    "y_train_predict = model.predict(X_train)\n",
    "#prediction = le.inverse_transform(prediction)"
   ]
  },
  {
   "cell_type": "code",
   "execution_count": null,
   "id": "e90aeb86-b432-4e55-b4b0-a949e2fc1527",
   "metadata": {
    "tags": []
   },
   "outputs": [],
   "source": [
    "y_train_predict.shape, X_train.shape"
   ]
  },
  {
   "cell_type": "code",
   "execution_count": null,
   "id": "d62ee969-a064-44c0-bd15-29c8dfdb8df9",
   "metadata": {
    "tags": []
   },
   "outputs": [],
   "source": [
    "plt.hist(y_train_predict, bins=n_bins, alpha=1, label='predict')\n",
    "plt.hist(y_train, alpha=0.5, bins=n_bins, label='labels')\n",
    "plt.legend()"
   ]
  },
  {
   "cell_type": "code",
   "execution_count": null,
   "id": "bfc4d19e-84fc-419c-9888-80758def8007",
   "metadata": {
    "tags": []
   },
   "outputs": [],
   "source": [
    "prob_y_train_pred = model.predict_proba(X_train)\n",
    "prob_y_train_pred.shape\n",
    "\n",
    "k = 5\n",
    "plt.plot(range(0,n_bins), prob_y_train_pred[k])\n",
    "print(y[k], y_train_predict[k])"
   ]
  },
  {
   "cell_type": "code",
   "execution_count": null,
   "id": "6f4b2a9e-141c-449e-b0a9-3b07f7136c24",
   "metadata": {
    "tags": []
   },
   "outputs": [],
   "source": [
    "y_test_pred = model.predict(X_test)\n",
    "#y_pred = le.inverse_transform(y_pred)\n",
    "cm = confusion_matrix(y_test, y_test_pred)\n",
    "# print(cm)\n",
    "\n",
    "# print(accuracy_score(y_test, y_test_pred, normalize=True))\n",
    "# print(accuracy_score(y_train, y_train_predict))"
   ]
  },
  {
   "cell_type": "code",
   "execution_count": 50,
   "id": "9a8fdccb-53e6-4c89-9295-981dfe337cf3",
   "metadata": {},
   "outputs": [
    {
     "name": "stderr",
     "output_type": "stream",
     "text": [
      "Task exception was never retrieved\n",
      "future: <Task finished name='Task-8733' coro=<Client._gather.<locals>.wait() done, defined at /home/ubuntu/miniconda3/lib/python3.10/site-packages/distributed/client.py:2189> exception=AllExit()>\n",
      "Traceback (most recent call last):\n",
      "  File \"/home/ubuntu/miniconda3/lib/python3.10/site-packages/distributed/client.py\", line 2198, in wait\n",
      "    raise AllExit()\n",
      "distributed.client.AllExit\n"
     ]
    },
    {
     "ename": "NameError",
     "evalue": "name 'model' is not defined",
     "output_type": "error",
     "traceback": [
      "\u001b[0;31m---------------------------------------------------------------------------\u001b[0m",
      "\u001b[0;31mNameError\u001b[0m                                 Traceback (most recent call last)",
      "Cell \u001b[0;32mIn[50], line 1\u001b[0m\n\u001b[0;32m----> 1\u001b[0m prob_y_test_pred \u001b[38;5;241m=\u001b[39m \u001b[43mmodel\u001b[49m\u001b[38;5;241m.\u001b[39mpredict_proba(X_test)\n\u001b[1;32m      2\u001b[0m plt\u001b[38;5;241m.\u001b[39mplot(\u001b[38;5;28mrange\u001b[39m(\u001b[38;5;241m0\u001b[39m, n_bins), prob_y_test_pred[\u001b[38;5;241m2\u001b[39m])\n",
      "\u001b[0;31mNameError\u001b[0m: name 'model' is not defined"
     ]
    }
   ],
   "source": [
    "prob_y_test_pred = model.predict_proba(X_test)\n",
    "plt.plot(range(0, n_bins), prob_y_test_pred[2])"
   ]
  },
  {
   "cell_type": "code",
   "execution_count": null,
   "id": "fa1e38c6-bd79-47c8-a3d1-3a5b63e9f387",
   "metadata": {
    "tags": []
   },
   "outputs": [],
   "source": [
    "label_values = np.arange(0, n_bins)"
   ]
  },
  {
   "cell_type": "code",
   "execution_count": null,
   "id": "bb7778d1-a361-4638-9203-136083d150d9",
   "metadata": {
    "tags": []
   },
   "outputs": [],
   "source": [
    "y_test_label_predict_max = np.argmax(prob_y_test_pred, axis=1)\n",
    "plt.scatter(y_test, y_test_label_predict_max, s=0.1)\n",
    "plt.plot(y_test, y_test, color='red')\n",
    "plt.xlabel('y_tes')\n",
    "plt.ylabel('y_test_label_predict_max')"
   ]
  },
  {
   "cell_type": "code",
   "execution_count": null,
   "id": "18d86142-9db7-442a-8dc1-1df9e7b40ce0",
   "metadata": {
    "tags": []
   },
   "outputs": [],
   "source": [
    "y_test_label_predict_mean = np.sum(prob_y_test_pred*(label_values), axis=1)\n",
    "y_test_label_predict_variance = np.sum(prob_y_test_pred * (label_values.reshape(1,n_bins) - y_test_label_predict_mean.reshape(len(y_test_label_predict_mean), 1))**2, axis=1)\n",
    "y_test_label_predict_std = np.sqrt(y_test_label_predict_variance)\n",
    "\n",
    "plt.errorbar(y_test[:100], y_test_label_predict_mean[:100], yerr=y_test_label_predict_std[:100], fmt='.')\n",
    "plt.plot(y_test[:100], y_test[:100], color='red')\n",
    "# plt.errorbar(y_test, y_test_label_predict_mean, yerr=y_test_label_predict_std, fmt='.')\n",
    "# plt.plot(y_test, y_test, color='red')\n",
    "plt.xlabel('y_tes')\n",
    "plt.ylabel('y_test_label_predict_mean')"
   ]
  },
  {
   "cell_type": "code",
   "execution_count": null,
   "id": "5c56902c-835d-4e8d-a1a3-f93a1f2c879f",
   "metadata": {
    "tags": []
   },
   "outputs": [],
   "source": [
    "plt.scatter(y_test, y_test_label_predict_mean, s=0.1)\n",
    "plt.plot(y_test, y_test, color='red')\n",
    "plt.xlabel('y_tes')\n",
    "plt.ylabel('y_test_label_predict_mean')"
   ]
  },
  {
   "cell_type": "code",
   "execution_count": null,
   "id": "f6a9f867-3649-407f-993a-61a58cfe68d3",
   "metadata": {
    "tags": []
   },
   "outputs": [],
   "source": [
    "chi = np.sum(((y_test_label_predict_mean - y_test)**2)/y_test_label_predict_variance)\n",
    "chi_norm = chi/len(y_test)\n",
    "print(chi)\n",
    "print(chi_norm)"
   ]
  },
  {
   "cell_type": "code",
   "execution_count": null,
   "id": "d9fcf350-b856-4737-bda2-1d9ef7d75df5",
   "metadata": {
    "tags": []
   },
   "outputs": [],
   "source": [
    "import seaborn as sns"
   ]
  },
  {
   "cell_type": "code",
   "execution_count": null,
   "id": "ecb89def-1010-4e98-a10f-15921c33af19",
   "metadata": {
    "tags": []
   },
   "outputs": [],
   "source": [
    "sns.scatterplot(x=y_test, y=y_test_label_predict_max, hue = X_test['Z_1'], s=1)"
   ]
  },
  {
   "cell_type": "code",
   "execution_count": null,
   "id": "85abee86-32a1-441c-8f61-80c822f68efa",
   "metadata": {},
   "outputs": [],
   "source": []
  },
  {
   "cell_type": "code",
   "execution_count": null,
   "id": "2fd0103a",
   "metadata": {},
   "outputs": [],
   "source": []
  }
 ],
 "metadata": {
  "kernelspec": {
   "display_name": "Python 3 (ipykernel)",
   "language": "python",
   "name": "python3"
  },
  "language_info": {
   "codemirror_mode": {
    "name": "ipython",
    "version": 3
   },
   "file_extension": ".py",
   "mimetype": "text/x-python",
   "name": "python",
   "nbconvert_exporter": "python",
   "pygments_lexer": "ipython3",
   "version": "3.10.10"
  }
 },
 "nbformat": 4,
 "nbformat_minor": 5
}
