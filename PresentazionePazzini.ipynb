{
 "cells": [
  {
   "cell_type": "markdown",
   "id": "2ace0c39",
   "metadata": {},
   "source": [
    "<center><h1>MAPD-B - Preprocessing of SEVN data for binary black holes mass distribution analysis</center></h1>"
   ]
  },
  {
   "cell_type": "markdown",
   "id": "87ecacb3",
   "metadata": {},
   "source": [
    "<center><i>Tommaso Bertola, Giacomo Di Prima, Giuseppe Viterbo, Marco Zenari</i></center>"
   ]
  },
  {
   "cell_type": "markdown",
   "id": "03ab78bf",
   "metadata": {},
   "source": [
    "# Introduction: the computational problem\n",
    "\n",
    "Our aim for this project is to preprocess the data of multiple SEVN simulations of binary systems.\n",
    "\n",
    "SEVN is Python program developed by the Astronomy Department at the University of Padua to simulate the evolution of binary systems. The evolution takes into account different physical phenomena which obey the patterns and laws obeserved in the Universe, especially those seen in the stellar tracks.\n",
    "\n",
    "We will focus our attention specifically to those systems evolving into binary black holes. To study these systems we therefore need to extract from the whole dataset produced by SEVN only some information regarding the initial and final conditions of the binary system evolution.\n",
    "\n",
    "The final goal is to obtain a simple and handy DataFrame listing only those features."
   ]
  },
  {
   "cell_type": "markdown",
   "id": "01c77bc3",
   "metadata": {},
   "source": [
    "# Data structure\n",
    "\n",
    "To better understading the problem, we will briefely describe the dataset we are given.\n",
    "\n",
    "The dataset consists of a number of folders named after some \"hyperparameters\" given to SEVN while performing the simulations.\n",
    "In our case, we are given 60 different folders, whose names are like `sevn_output_Z0.001A1L1`, `sevn_output_Z0.03A5L1`, ...\n",
    "\n",
    "Inside each folder there are three kinds of files:\n",
    "* output_{nthread}.csv\n",
    "* logfile_{nthread}.dat\n",
    "* evolved_{nthread}.dat\n",
    "\n",
    "where {nthread} is a number ranging from 0 to 29, corresponding to the thread responsible for the computation of those simulations. \n",
    "\n",
    "On average, each of the `output_{nthread}.csv` files occupy 750MB, `logfile_{nthread}.dat` 200MB, and `evolved_{nthread}.dat` 50MB. \n",
    "\n",
    "In total, each folder occupies between 26 to 31GB of data for a gross total of around 1.7TB.\n",
    "\n",
    "\n",
    "## File structure\n",
    "#### output_{}.csv\n",
    "\n",
    "#### logfile_{}.dat\n",
    "\n",
    "#### evolved_{}.dat"
   ]
  },
  {
   "cell_type": "markdown",
   "id": "ff00fc44",
   "metadata": {},
   "source": [
    "# Tools\n",
    "\n",
    "## Cluster configuration\n",
    "bhbh-*\n",
    "\n",
    "### Dask on top of the cluster\n",
    "\n",
    "## NFS data sharing"
   ]
  },
  {
   "cell_type": "markdown",
   "id": "1fabece8",
   "metadata": {},
   "source": [
    "# A single simple calculation\n",
    "just the calculation we need to perform to the files. can be an abstract description (parsing data, joining,, concatenating, expected output)"
   ]
  },
  {
   "cell_type": "markdown",
   "id": "3e396f54",
   "metadata": {},
   "source": [
    "# Our attempts\n",
    "Here we show the code to \n",
    "\n",
    "Load the whole thing at once\n",
    "\n",
    "FG_new\n",
    "\n",
    "FG_normal\n",
    "\n",
    "FG_bag\n",
    "\n",
    "Brute force approach"
   ]
  }
 ],
 "metadata": {
  "kernelspec": {
   "display_name": "Python 3 (ipykernel)",
   "language": "python",
   "name": "python3"
  },
  "language_info": {
   "codemirror_mode": {
    "name": "ipython",
    "version": 3
   },
   "file_extension": ".py",
   "mimetype": "text/x-python",
   "name": "python",
   "nbconvert_exporter": "python",
   "pygments_lexer": "ipython3",
   "version": "3.10.10"
  }
 },
 "nbformat": 4,
 "nbformat_minor": 5
}
