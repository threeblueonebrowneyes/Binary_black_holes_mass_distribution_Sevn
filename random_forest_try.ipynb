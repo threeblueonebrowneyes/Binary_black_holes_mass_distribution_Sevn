{
 "cells": [
  {
   "cell_type": "markdown",
   "id": "e2ef68c2",
   "metadata": {
    "slideshow": {
     "slide_type": "slide"
    }
   },
   "source": [
    "# Importing libraries"
   ]
  },
  {
   "cell_type": "code",
   "execution_count": 2,
   "id": "4b9c9b57",
   "metadata": {},
   "outputs": [],
   "source": [
    "import pandas as pd\n",
    "import numpy as np\n",
    "import xgboost as xgb\n",
    "import matplotlib.pyplot as plt"
   ]
  },
  {
   "cell_type": "markdown",
   "id": "8e97610a",
   "metadata": {},
   "source": [
    "# Reading the data"
   ]
  },
  {
   "cell_type": "code",
   "execution_count": 5,
   "id": "c05024eb",
   "metadata": {},
   "outputs": [
    {
     "data": {
      "text/html": [
       "<div>\n",
       "<style scoped>\n",
       "    .dataframe tbody tr th:only-of-type {\n",
       "        vertical-align: middle;\n",
       "    }\n",
       "\n",
       "    .dataframe tbody tr th {\n",
       "        vertical-align: top;\n",
       "    }\n",
       "\n",
       "    .dataframe thead th {\n",
       "        text-align: right;\n",
       "    }\n",
       "</style>\n",
       "<table border=\"1\" class=\"dataframe\">\n",
       "  <thead>\n",
       "    <tr style=\"text-align: right;\">\n",
       "      <th></th>\n",
       "      <th>Unnamed: 0</th>\n",
       "      <th>name</th>\n",
       "      <th>Mass_0</th>\n",
       "      <th>Z_0</th>\n",
       "      <th>spin_0</th>\n",
       "      <th>SN_0</th>\n",
       "      <th>Tstart_0</th>\n",
       "      <th>Mass_1</th>\n",
       "      <th>Z_1</th>\n",
       "      <th>a</th>\n",
       "      <th>...</th>\n",
       "      <th>Temperature_0</th>\n",
       "      <th>Mass_1_out</th>\n",
       "      <th>Semimajor</th>\n",
       "      <th>Eccentricity</th>\n",
       "      <th>GWtime</th>\n",
       "      <th>BWorldtime</th>\n",
       "      <th>RLO</th>\n",
       "      <th>CE</th>\n",
       "      <th>tdelay</th>\n",
       "      <th>q</th>\n",
       "    </tr>\n",
       "  </thead>\n",
       "  <tbody>\n",
       "    <tr>\n",
       "      <th>60395</th>\n",
       "      <td>209</td>\n",
       "      <td>0_237173268166122</td>\n",
       "      <td>38.986</td>\n",
       "      <td>0.001</td>\n",
       "      <td>0.0</td>\n",
       "      <td>rapid_gauNS</td>\n",
       "      <td>zams</td>\n",
       "      <td>36.603</td>\n",
       "      <td>0.001</td>\n",
       "      <td>36900.0</td>\n",
       "      <td>...</td>\n",
       "      <td>1456.304</td>\n",
       "      <td>35.000250</td>\n",
       "      <td>38613.90000</td>\n",
       "      <td>0.469578</td>\n",
       "      <td>1.467217e+15</td>\n",
       "      <td>5.305830</td>\n",
       "      <td>NaN</td>\n",
       "      <td>NaN</td>\n",
       "      <td>1.467217e+15</td>\n",
       "      <td>0.945802</td>\n",
       "    </tr>\n",
       "    <tr>\n",
       "      <th>74427</th>\n",
       "      <td>314</td>\n",
       "      <td>0_619601822689455</td>\n",
       "      <td>53.812</td>\n",
       "      <td>0.010</td>\n",
       "      <td>0.0</td>\n",
       "      <td>rapid_gauNS</td>\n",
       "      <td>zams</td>\n",
       "      <td>45.722</td>\n",
       "      <td>0.010</td>\n",
       "      <td>1840.0</td>\n",
       "      <td>...</td>\n",
       "      <td>2113.531</td>\n",
       "      <td>14.892850</td>\n",
       "      <td>650.26520</td>\n",
       "      <td>0.015402</td>\n",
       "      <td>3.159041e+09</td>\n",
       "      <td>4.467546</td>\n",
       "      <td>2.0</td>\n",
       "      <td>NaN</td>\n",
       "      <td>3.159041e+09</td>\n",
       "      <td>0.847657</td>\n",
       "    </tr>\n",
       "    <tr>\n",
       "      <th>19596</th>\n",
       "      <td>182</td>\n",
       "      <td>0_627668720580822</td>\n",
       "      <td>62.816</td>\n",
       "      <td>0.001</td>\n",
       "      <td>0.0</td>\n",
       "      <td>rapid_gauNS</td>\n",
       "      <td>zams</td>\n",
       "      <td>44.208</td>\n",
       "      <td>0.001</td>\n",
       "      <td>9070.0</td>\n",
       "      <td>...</td>\n",
       "      <td>1184.211</td>\n",
       "      <td>41.659050</td>\n",
       "      <td>9848.93600</td>\n",
       "      <td>0.085256</td>\n",
       "      <td>6.046951e+12</td>\n",
       "      <td>4.666363</td>\n",
       "      <td>NaN</td>\n",
       "      <td>NaN</td>\n",
       "      <td>6.046951e+12</td>\n",
       "      <td>0.744376</td>\n",
       "    </tr>\n",
       "    <tr>\n",
       "      <th>78838</th>\n",
       "      <td>298</td>\n",
       "      <td>0_956602933765968</td>\n",
       "      <td>32.894</td>\n",
       "      <td>0.010</td>\n",
       "      <td>0.0</td>\n",
       "      <td>rapid_gauNS</td>\n",
       "      <td>zams</td>\n",
       "      <td>24.726</td>\n",
       "      <td>0.010</td>\n",
       "      <td>94.4</td>\n",
       "      <td>...</td>\n",
       "      <td>3023.349</td>\n",
       "      <td>5.982366</td>\n",
       "      <td>67.27397</td>\n",
       "      <td>0.209334</td>\n",
       "      <td>3.494275e+06</td>\n",
       "      <td>6.771645</td>\n",
       "      <td>3.0</td>\n",
       "      <td>NaN</td>\n",
       "      <td>3.494282e+06</td>\n",
       "      <td>0.696746</td>\n",
       "    </tr>\n",
       "    <tr>\n",
       "      <th>74567</th>\n",
       "      <td>110</td>\n",
       "      <td>0_435695643683693</td>\n",
       "      <td>76.275</td>\n",
       "      <td>0.001</td>\n",
       "      <td>0.0</td>\n",
       "      <td>rapid_gauNS</td>\n",
       "      <td>zams</td>\n",
       "      <td>60.763</td>\n",
       "      <td>0.001</td>\n",
       "      <td>1090.0</td>\n",
       "      <td>...</td>\n",
       "      <td>1474.168</td>\n",
       "      <td>35.156080</td>\n",
       "      <td>590.51490</td>\n",
       "      <td>0.025411</td>\n",
       "      <td>2.013698e+08</td>\n",
       "      <td>3.814600</td>\n",
       "      <td>2.0</td>\n",
       "      <td>NaN</td>\n",
       "      <td>2.013698e+08</td>\n",
       "      <td>0.973463</td>\n",
       "    </tr>\n",
       "  </tbody>\n",
       "</table>\n",
       "<p>5 rows × 24 columns</p>\n",
       "</div>"
      ],
      "text/plain": [
       "       Unnamed: 0               name  Mass_0    Z_0  spin_0         SN_0  \\\n",
       "60395         209  0_237173268166122  38.986  0.001     0.0  rapid_gauNS   \n",
       "74427         314  0_619601822689455  53.812  0.010     0.0  rapid_gauNS   \n",
       "19596         182  0_627668720580822  62.816  0.001     0.0  rapid_gauNS   \n",
       "78838         298  0_956602933765968  32.894  0.010     0.0  rapid_gauNS   \n",
       "74567         110  0_435695643683693  76.275  0.001     0.0  rapid_gauNS   \n",
       "\n",
       "      Tstart_0  Mass_1    Z_1        a  ...  Temperature_0  Mass_1_out  \\\n",
       "60395     zams  36.603  0.001  36900.0  ...       1456.304   35.000250   \n",
       "74427     zams  45.722  0.010   1840.0  ...       2113.531   14.892850   \n",
       "19596     zams  44.208  0.001   9070.0  ...       1184.211   41.659050   \n",
       "78838     zams  24.726  0.010     94.4  ...       3023.349    5.982366   \n",
       "74567     zams  60.763  0.001   1090.0  ...       1474.168   35.156080   \n",
       "\n",
       "         Semimajor  Eccentricity        GWtime  BWorldtime  RLO  CE  \\\n",
       "60395  38613.90000      0.469578  1.467217e+15    5.305830  NaN NaN   \n",
       "74427    650.26520      0.015402  3.159041e+09    4.467546  2.0 NaN   \n",
       "19596   9848.93600      0.085256  6.046951e+12    4.666363  NaN NaN   \n",
       "78838     67.27397      0.209334  3.494275e+06    6.771645  3.0 NaN   \n",
       "74567    590.51490      0.025411  2.013698e+08    3.814600  2.0 NaN   \n",
       "\n",
       "             tdelay         q  \n",
       "60395  1.467217e+15  0.945802  \n",
       "74427  3.159041e+09  0.847657  \n",
       "19596  6.046951e+12  0.744376  \n",
       "78838  3.494282e+06  0.696746  \n",
       "74567  2.013698e+08  0.973463  \n",
       "\n",
       "[5 rows x 24 columns]"
      ]
     },
     "execution_count": 5,
     "metadata": {},
     "output_type": "execute_result"
    }
   ],
   "source": [
    "#read data and shuffle\n",
    "bhbh = pd.read_csv('../Data/BHBH.csv')\n",
    "bhbh = bhbh.sample(frac=1, random_state=4269)\n",
    "\n",
    "#adding q column\n",
    "bhbh['q'] = np.where(bhbh['Mass_1_out']>bhbh['Mass_0_out'], bhbh['Mass_0_out']/bhbh['Mass_1_out'], bhbh['Mass_1_out']/bhbh['Mass_0_out'] )\n",
    "bhbh.head()"
   ]
  },
  {
   "cell_type": "markdown",
   "id": "4eb2a74e",
   "metadata": {},
   "source": [
    "## Setting the labels"
   ]
  },
  {
   "cell_type": "code",
   "execution_count": null,
   "id": "14d79dde",
   "metadata": {},
   "outputs": [],
   "source": []
  },
  {
   "cell_type": "markdown",
   "id": "b49b4fb1",
   "metadata": {},
   "source": [
    "# Minimal working example for bin naming"
   ]
  },
  {
   "cell_type": "code",
   "execution_count": 92,
   "id": "0cac4d0c",
   "metadata": {},
   "outputs": [],
   "source": [
    "lower=0\n",
    "upper=1\n",
    "# n_bins=244\n",
    "bin_labels=np.linspace(lower,upper,num=n_bins+1) # I need one bin more because otherwise \n",
    "                                                 # I wouldn't get exactly n_bins labels at the end\n",
    "bhbh['q_labels_hist']=pd.cut(bhbh['q'], n_bins+1, labels=bin_labels)"
   ]
  },
  {
   "cell_type": "markdown",
   "id": "b669aba9",
   "metadata": {},
   "source": [
    "# End of minimal working examples for bin naming"
   ]
  },
  {
   "cell_type": "code",
   "execution_count": 87,
   "id": "120f27c1",
   "metadata": {},
   "outputs": [
    {
     "data": {
      "text/plain": [
       "(221,)"
      ]
     },
     "execution_count": 87,
     "metadata": {},
     "output_type": "execute_result"
    }
   ],
   "source": [
    "# Setting the labels\n",
    "\n",
    "n_bins = 244\n",
    "\n",
    "bhbh['q_label'] = (bhbh['q']*n_bins).astype('int')\n",
    "#bhbh['q_label']=(bhbh['q'].round(2)*100).astype('int')\n",
    "\n",
    "bhbh['q_label'].unique().shape"
   ]
  },
  {
   "cell_type": "code",
   "execution_count": 7,
   "id": "3b4ad94a",
   "metadata": {},
   "outputs": [
    {
     "data": {
      "text/html": [
       "<div>\n",
       "<style scoped>\n",
       "    .dataframe tbody tr th:only-of-type {\n",
       "        vertical-align: middle;\n",
       "    }\n",
       "\n",
       "    .dataframe tbody tr th {\n",
       "        vertical-align: top;\n",
       "    }\n",
       "\n",
       "    .dataframe thead th {\n",
       "        text-align: right;\n",
       "    }\n",
       "</style>\n",
       "<table border=\"1\" class=\"dataframe\">\n",
       "  <thead>\n",
       "    <tr style=\"text-align: right;\">\n",
       "      <th></th>\n",
       "      <th>Unnamed: 0</th>\n",
       "      <th>name</th>\n",
       "      <th>Mass_0</th>\n",
       "      <th>Z_0</th>\n",
       "      <th>spin_0</th>\n",
       "      <th>SN_0</th>\n",
       "      <th>Tstart_0</th>\n",
       "      <th>Mass_1</th>\n",
       "      <th>Z_1</th>\n",
       "      <th>a</th>\n",
       "      <th>...</th>\n",
       "      <th>Mass_1_out</th>\n",
       "      <th>Semimajor</th>\n",
       "      <th>Eccentricity</th>\n",
       "      <th>GWtime</th>\n",
       "      <th>BWorldtime</th>\n",
       "      <th>RLO</th>\n",
       "      <th>CE</th>\n",
       "      <th>tdelay</th>\n",
       "      <th>q</th>\n",
       "      <th>q_label</th>\n",
       "    </tr>\n",
       "  </thead>\n",
       "  <tbody>\n",
       "  </tbody>\n",
       "</table>\n",
       "<p>0 rows × 25 columns</p>\n",
       "</div>"
      ],
      "text/plain": [
       "Empty DataFrame\n",
       "Columns: [Unnamed: 0, name, Mass_0, Z_0, spin_0, SN_0, Tstart_0, Mass_1, Z_1, a, e, Seed, ID, Mass_0_out, Temperature_0, Mass_1_out, Semimajor, Eccentricity, GWtime, BWorldtime, RLO, CE, tdelay, q, q_label]\n",
       "Index: []\n",
       "\n",
       "[0 rows x 25 columns]"
      ]
     },
     "execution_count": 7,
     "metadata": {},
     "output_type": "execute_result"
    }
   ],
   "source": [
    "bhbh[bhbh['q']<0.05]"
   ]
  },
  {
   "cell_type": "markdown",
   "id": "bf0d52b4",
   "metadata": {},
   "source": [
    "## Preparing the data for xgboost"
   ]
  },
  {
   "cell_type": "code",
   "execution_count": 8,
   "id": "624609b0",
   "metadata": {},
   "outputs": [],
   "source": [
    "#bhbh[bhbh['q'].round(2)>=1]"
   ]
  },
  {
   "cell_type": "code",
   "execution_count": 9,
   "id": "9ade612f",
   "metadata": {},
   "outputs": [],
   "source": [
    "data = bhbh[['Mass_0', 'Z_0', 'Mass_1', 'Z_1', 'a', 'e']][1:60000]\n",
    "label = bhbh[['q_label']][1:60000]\n",
    "dtrain = xgb.DMatrix(data, label=label)"
   ]
  },
  {
   "cell_type": "code",
   "execution_count": 10,
   "id": "a0e4477a",
   "metadata": {},
   "outputs": [],
   "source": [
    "data = bhbh[['Mass_0', 'Z_0', 'Mass_1', 'Z_1', 'a', 'e']][60000:70000]\n",
    "label = bhbh[['q_label']][60000:70000]\n",
    "dtest = xgb.DMatrix(data, label=label)"
   ]
  },
  {
   "cell_type": "markdown",
   "id": "bade1e59",
   "metadata": {},
   "source": [
    "## Boost Parameters"
   ]
  },
  {
   "cell_type": "code",
   "execution_count": 11,
   "id": "3356d527",
   "metadata": {},
   "outputs": [],
   "source": [
    "param = {'max_depth': 6, 'eta': 0.3, 'objective': 'multi:softprob'}\n",
    "#param['nthread'] = 4\n",
    "param['eval_metric'] = 'auc'\n",
    "param['num_class']=n_bins\n",
    "#param['eval_metric'] = ['auc', 'ams@0']\n",
    "\n",
    "evallist = [(dtrain, 'train'), (dtest, 'eval')]"
   ]
  },
  {
   "cell_type": "markdown",
   "id": "f1ee0619",
   "metadata": {},
   "source": [
    "## Training"
   ]
  },
  {
   "cell_type": "code",
   "execution_count": 12,
   "id": "36edd111",
   "metadata": {},
   "outputs": [
    {
     "data": {
      "text/plain": [
       "{'max_depth': 6,\n",
       " 'eta': 0.3,\n",
       " 'objective': 'multi:softprob',\n",
       " 'eval_metric': 'auc',\n",
       " 'num_class': 244}"
      ]
     },
     "execution_count": 12,
     "metadata": {},
     "output_type": "execute_result"
    }
   ],
   "source": [
    "param"
   ]
  },
  {
   "cell_type": "code",
   "execution_count": 13,
   "id": "d6e7f000",
   "metadata": {},
   "outputs": [
    {
     "name": "stderr",
     "output_type": "stream",
     "text": [
      "/home/tom/anaconda3/envs/lcp/lib/python3.10/site-packages/xgboost/core.py:617: FutureWarning: Pass `evals` as keyword args.\n",
      "  warnings.warn(msg, FutureWarning)\n"
     ]
    },
    {
     "name": "stdout",
     "output_type": "stream",
     "text": [
      "[23:03:41] WARNING: /croot/xgboost-split_1675457761144/work/src/metric/auc.cc:328: Dataset is empty, or contains only positive or negative samples.\n",
      "[23:03:41] WARNING: /croot/xgboost-split_1675457761144/work/src/metric/auc.cc:328: Dataset is empty, or contains only positive or negative samples.\n",
      "[0]\ttrain-auc:nan\teval-auc:nan\n",
      "[23:03:48] WARNING: /croot/xgboost-split_1675457761144/work/src/metric/auc.cc:328: Dataset is empty, or contains only positive or negative samples.\n",
      "[23:03:48] WARNING: /croot/xgboost-split_1675457761144/work/src/metric/auc.cc:328: Dataset is empty, or contains only positive or negative samples.\n",
      "[1]\ttrain-auc:nan\teval-auc:nan\n",
      "[23:03:55] WARNING: /croot/xgboost-split_1675457761144/work/src/metric/auc.cc:328: Dataset is empty, or contains only positive or negative samples.\n",
      "[23:03:55] WARNING: /croot/xgboost-split_1675457761144/work/src/metric/auc.cc:328: Dataset is empty, or contains only positive or negative samples.\n",
      "[2]\ttrain-auc:nan\teval-auc:nan\n",
      "[23:04:02] WARNING: /croot/xgboost-split_1675457761144/work/src/metric/auc.cc:328: Dataset is empty, or contains only positive or negative samples.\n",
      "[23:04:02] WARNING: /croot/xgboost-split_1675457761144/work/src/metric/auc.cc:328: Dataset is empty, or contains only positive or negative samples.\n",
      "[3]\ttrain-auc:nan\teval-auc:nan\n",
      "[23:04:07] WARNING: /croot/xgboost-split_1675457761144/work/src/metric/auc.cc:328: Dataset is empty, or contains only positive or negative samples.\n",
      "[23:04:07] WARNING: /croot/xgboost-split_1675457761144/work/src/metric/auc.cc:328: Dataset is empty, or contains only positive or negative samples.\n",
      "[4]\ttrain-auc:nan\teval-auc:nan\n",
      "[23:04:20] WARNING: /croot/xgboost-split_1675457761144/work/src/metric/auc.cc:328: Dataset is empty, or contains only positive or negative samples.\n",
      "[23:04:20] WARNING: /croot/xgboost-split_1675457761144/work/src/metric/auc.cc:328: Dataset is empty, or contains only positive or negative samples.\n",
      "[5]\ttrain-auc:nan\teval-auc:nan\n",
      "[23:04:29] WARNING: /croot/xgboost-split_1675457761144/work/src/metric/auc.cc:328: Dataset is empty, or contains only positive or negative samples.\n",
      "[23:04:29] WARNING: /croot/xgboost-split_1675457761144/work/src/metric/auc.cc:328: Dataset is empty, or contains only positive or negative samples.\n",
      "[6]\ttrain-auc:nan\teval-auc:nan\n",
      "[23:04:35] WARNING: /croot/xgboost-split_1675457761144/work/src/metric/auc.cc:328: Dataset is empty, or contains only positive or negative samples.\n",
      "[23:04:35] WARNING: /croot/xgboost-split_1675457761144/work/src/metric/auc.cc:328: Dataset is empty, or contains only positive or negative samples.\n",
      "[7]\ttrain-auc:nan\teval-auc:nan\n",
      "[23:04:41] WARNING: /croot/xgboost-split_1675457761144/work/src/metric/auc.cc:328: Dataset is empty, or contains only positive or negative samples.\n",
      "[23:04:41] WARNING: /croot/xgboost-split_1675457761144/work/src/metric/auc.cc:328: Dataset is empty, or contains only positive or negative samples.\n",
      "[8]\ttrain-auc:nan\teval-auc:nan\n",
      "[23:04:46] WARNING: /croot/xgboost-split_1675457761144/work/src/metric/auc.cc:328: Dataset is empty, or contains only positive or negative samples.\n",
      "[23:04:46] WARNING: /croot/xgboost-split_1675457761144/work/src/metric/auc.cc:328: Dataset is empty, or contains only positive or negative samples.\n",
      "[9]\ttrain-auc:nan\teval-auc:nan\n"
     ]
    }
   ],
   "source": [
    "num_round = 10\n",
    "bst = xgb.train(param, dtrain, num_round, evallist)"
   ]
  },
  {
   "cell_type": "markdown",
   "id": "ceb0e3e2",
   "metadata": {},
   "source": [
    "## Saving the model"
   ]
  },
  {
   "cell_type": "code",
   "execution_count": 14,
   "id": "490bfbeb",
   "metadata": {},
   "outputs": [],
   "source": [
    "bst.save_model('0001.model')"
   ]
  },
  {
   "cell_type": "markdown",
   "id": "bdd65401",
   "metadata": {},
   "source": [
    "## Loading a saved model"
   ]
  },
  {
   "cell_type": "code",
   "execution_count": 15,
   "id": "d01e1a45",
   "metadata": {},
   "outputs": [],
   "source": [
    "#bst = xgb.Booster({'nthread': 4})  # init model\n",
    "bst.load_model('0001.model')  # load data"
   ]
  },
  {
   "cell_type": "markdown",
   "id": "c3d63649",
   "metadata": {},
   "source": [
    "## Predictions of the model"
   ]
  },
  {
   "cell_type": "code",
   "execution_count": 16,
   "id": "408657ea",
   "metadata": {},
   "outputs": [],
   "source": [
    "ypred = bst.predict(dtest)"
   ]
  },
  {
   "cell_type": "code",
   "execution_count": 17,
   "id": "d5071b6b",
   "metadata": {},
   "outputs": [],
   "source": [
    "#bst.score(data, label)"
   ]
  },
  {
   "cell_type": "code",
   "execution_count": 18,
   "id": "4d010fe3",
   "metadata": {},
   "outputs": [
    {
     "data": {
      "text/plain": [
       "(10000, 244)"
      ]
     },
     "execution_count": 18,
     "metadata": {},
     "output_type": "execute_result"
    }
   ],
   "source": [
    "prediction = pd.DataFrame(ypred)\n",
    "a=np.array(prediction)\n",
    "a.shape"
   ]
  },
  {
   "cell_type": "code",
   "execution_count": 111,
   "id": "c3f9de08",
   "metadata": {},
   "outputs": [
    {
     "data": {
      "text/html": [
       "<div>\n",
       "<style scoped>\n",
       "    .dataframe tbody tr th:only-of-type {\n",
       "        vertical-align: middle;\n",
       "    }\n",
       "\n",
       "    .dataframe tbody tr th {\n",
       "        vertical-align: top;\n",
       "    }\n",
       "\n",
       "    .dataframe thead th {\n",
       "        text-align: right;\n",
       "    }\n",
       "</style>\n",
       "<table border=\"1\" class=\"dataframe\">\n",
       "  <thead>\n",
       "    <tr style=\"text-align: right;\">\n",
       "      <th></th>\n",
       "      <th>0</th>\n",
       "      <th>3</th>\n",
       "      <th>4</th>\n",
       "    </tr>\n",
       "  </thead>\n",
       "  <tbody>\n",
       "    <tr>\n",
       "      <th>0</th>\n",
       "      <td>0.000810</td>\n",
       "      <td>0.000810</td>\n",
       "      <td>0.000810</td>\n",
       "    </tr>\n",
       "    <tr>\n",
       "      <th>1</th>\n",
       "      <td>0.001089</td>\n",
       "      <td>0.001089</td>\n",
       "      <td>0.001089</td>\n",
       "    </tr>\n",
       "    <tr>\n",
       "      <th>2</th>\n",
       "      <td>0.000893</td>\n",
       "      <td>0.000893</td>\n",
       "      <td>0.000893</td>\n",
       "    </tr>\n",
       "    <tr>\n",
       "      <th>3</th>\n",
       "      <td>0.000899</td>\n",
       "      <td>0.000899</td>\n",
       "      <td>0.000899</td>\n",
       "    </tr>\n",
       "    <tr>\n",
       "      <th>4</th>\n",
       "      <td>0.000867</td>\n",
       "      <td>0.000867</td>\n",
       "      <td>0.000867</td>\n",
       "    </tr>\n",
       "    <tr>\n",
       "      <th>...</th>\n",
       "      <td>...</td>\n",
       "      <td>...</td>\n",
       "      <td>...</td>\n",
       "    </tr>\n",
       "    <tr>\n",
       "      <th>9995</th>\n",
       "      <td>0.000825</td>\n",
       "      <td>0.000825</td>\n",
       "      <td>0.000825</td>\n",
       "    </tr>\n",
       "    <tr>\n",
       "      <th>9996</th>\n",
       "      <td>0.000908</td>\n",
       "      <td>0.000908</td>\n",
       "      <td>0.000908</td>\n",
       "    </tr>\n",
       "    <tr>\n",
       "      <th>9997</th>\n",
       "      <td>0.000866</td>\n",
       "      <td>0.000866</td>\n",
       "      <td>0.000866</td>\n",
       "    </tr>\n",
       "    <tr>\n",
       "      <th>9998</th>\n",
       "      <td>0.001015</td>\n",
       "      <td>0.001015</td>\n",
       "      <td>0.001015</td>\n",
       "    </tr>\n",
       "    <tr>\n",
       "      <th>9999</th>\n",
       "      <td>0.000818</td>\n",
       "      <td>0.000818</td>\n",
       "      <td>0.000818</td>\n",
       "    </tr>\n",
       "  </tbody>\n",
       "</table>\n",
       "<p>10000 rows × 3 columns</p>\n",
       "</div>"
      ],
      "text/plain": [
       "             0         3         4\n",
       "0     0.000810  0.000810  0.000810\n",
       "1     0.001089  0.001089  0.001089\n",
       "2     0.000893  0.000893  0.000893\n",
       "3     0.000899  0.000899  0.000899\n",
       "4     0.000867  0.000867  0.000867\n",
       "...        ...       ...       ...\n",
       "9995  0.000825  0.000825  0.000825\n",
       "9996  0.000908  0.000908  0.000908\n",
       "9997  0.000866  0.000866  0.000866\n",
       "9998  0.001015  0.001015  0.001015\n",
       "9999  0.000818  0.000818  0.000818\n",
       "\n",
       "[10000 rows x 3 columns]"
      ]
     },
     "execution_count": 111,
     "metadata": {},
     "output_type": "execute_result"
    }
   ],
   "source": [
    "prediction.loc[:,[0,3,4]]"
   ]
  },
  {
   "cell_type": "code",
   "execution_count": 115,
   "id": "3b0a9a8e",
   "metadata": {},
   "outputs": [
    {
     "data": {
      "text/plain": [
       "0.00409836"
      ]
     },
     "execution_count": 115,
     "metadata": {},
     "output_type": "execute_result"
    }
   ],
   "source": [
    "example.mean()"
   ]
  },
  {
   "cell_type": "code",
   "execution_count": 112,
   "id": "4325a954",
   "metadata": {},
   "outputs": [
    {
     "data": {
      "text/plain": [
       "181.76986117468914"
      ]
     },
     "execution_count": 112,
     "metadata": {},
     "output_type": "execute_result"
    }
   ],
   "source": [
    "(x*example).sum()"
   ]
  },
  {
   "cell_type": "code",
   "execution_count": 25,
   "id": "18485a80",
   "metadata": {},
   "outputs": [
    {
     "data": {
      "text/plain": [
       "0.0064419336"
      ]
     },
     "execution_count": 25,
     "metadata": {},
     "output_type": "execute_result"
    }
   ],
   "source": [
    "example.std()"
   ]
  },
  {
   "cell_type": "code",
   "execution_count": 26,
   "id": "99faab07",
   "metadata": {},
   "outputs": [
    {
     "data": {
      "text/plain": [
       "array([  0,   1,   2,   3,   4,   5,   6,   7,   8,   9,  10,  11,  12,\n",
       "        13,  14,  15,  16,  17,  18,  19,  20,  21,  22,  23,  24,  25,\n",
       "        26,  27,  28,  29,  30,  31,  32,  33,  34,  35,  36,  37,  38,\n",
       "        39,  40,  41,  42,  43,  44,  45,  46,  47,  48,  49,  50,  51,\n",
       "        52,  53,  54,  55,  56,  57,  58,  59,  60,  61,  62,  63,  64,\n",
       "        65,  66,  67,  68,  69,  70,  71,  72,  73,  74,  75,  76,  77,\n",
       "        78,  79,  80,  81,  82,  83,  84,  85,  86,  87,  88,  89,  90,\n",
       "        91,  92,  93,  94,  95,  96,  97,  98,  99, 100, 101, 102, 103,\n",
       "       104, 105, 106, 107, 108, 109, 110, 111, 112, 113, 114, 115, 116,\n",
       "       117, 118, 119, 120, 121, 122, 123, 124, 125, 126, 127, 128, 129,\n",
       "       130, 131, 132, 133, 134, 135, 136, 137, 138, 139, 140, 141, 142,\n",
       "       143, 144, 145, 146, 147, 148, 149, 150, 151, 152, 153, 154, 155,\n",
       "       156, 157, 158, 159, 160, 161, 162, 163, 164, 165, 166, 167, 168,\n",
       "       169, 170, 171, 172, 173, 174, 175, 176, 177, 178, 179, 180, 181,\n",
       "       182, 183, 184, 185, 186, 187, 188, 189, 190, 191, 192, 193, 194,\n",
       "       195, 196, 197, 198, 199, 200, 201, 202, 203, 204, 205, 206, 207,\n",
       "       208, 209, 210, 211, 212, 213, 214, 215, 216, 217, 218, 219, 220,\n",
       "       221, 222, 223, 224, 225, 226, 227, 228, 229, 230, 231, 232, 233,\n",
       "       234, 235, 236, 237, 238, 239, 240, 241, 242, 243])"
      ]
     },
     "execution_count": 26,
     "metadata": {},
     "output_type": "execute_result"
    }
   ],
   "source": [
    "x = np.arange(0, n_bins)\n",
    "x"
   ]
  },
  {
   "cell_type": "code",
   "execution_count": 34,
   "id": "430bb27e",
   "metadata": {},
   "outputs": [
    {
     "data": {
      "text/plain": [
       "51.2000773430611"
      ]
     },
     "execution_count": 34,
     "metadata": {},
     "output_type": "execute_result"
    }
   ],
   "source": [
    "np.sqrt((x**2*example).sum()-(x*example).sum()**2)"
   ]
  },
  {
   "cell_type": "code",
   "execution_count": 19,
   "id": "7fc40bd2",
   "metadata": {},
   "outputs": [
    {
     "data": {
      "text/plain": [
       "array([0.00081008, 0.00081008, 0.00081008, 0.00081008, 0.00081008,\n",
       "       0.00081008, 0.00081008, 0.00081008, 0.00081008, 0.00081008,\n",
       "       0.00081008, 0.00081008, 0.00081008, 0.00081008, 0.00081008,\n",
       "       0.00081008, 0.00082126, 0.00081008, 0.00081008, 0.00081008,\n",
       "       0.00081008, 0.00081008, 0.00081008, 0.00081008, 0.00082126,\n",
       "       0.00082126, 0.00081394, 0.00083295, 0.00081008, 0.00083293,\n",
       "       0.0008101 , 0.00081715, 0.00082238, 0.00081511, 0.00081267,\n",
       "       0.00082586, 0.00082979, 0.00081573, 0.00084313, 0.00081323,\n",
       "       0.00082735, 0.00081406, 0.0008201 , 0.00084578, 0.00083285,\n",
       "       0.00085473, 0.00082907, 0.00085579, 0.00094793, 0.00085856,\n",
       "       0.00085901, 0.00083614, 0.00082488, 0.000828  , 0.00083979,\n",
       "       0.00090607, 0.00083388, 0.00087225, 0.00085458, 0.00083709,\n",
       "       0.00082862, 0.00087448, 0.00083329, 0.00086062, 0.00085375,\n",
       "       0.00085882, 0.00086588, 0.0008485 , 0.00086899, 0.00085238,\n",
       "       0.00101737, 0.00088174, 0.00089938, 0.00096964, 0.00086008,\n",
       "       0.00088428, 0.00087661, 0.00085035, 0.00088976, 0.00131652,\n",
       "       0.00092012, 0.00117005, 0.0013915 , 0.00197989, 0.0008982 ,\n",
       "       0.00121808, 0.00085919, 0.00090048, 0.00176756, 0.00102717,\n",
       "       0.0008517 , 0.00099837, 0.00086404, 0.00092075, 0.00112213,\n",
       "       0.00085953, 0.00091952, 0.00104592, 0.00106463, 0.001072  ,\n",
       "       0.00095373, 0.00098956, 0.00133807, 0.00102458, 0.00097858,\n",
       "       0.00094638, 0.00111125, 0.00111852, 0.00087083, 0.0020863 ,\n",
       "       0.00144459, 0.00135212, 0.00113965, 0.00255225, 0.00128026,\n",
       "       0.00100456, 0.0013801 , 0.00108014, 0.00163975, 0.00127244,\n",
       "       0.00148667, 0.0018425 , 0.00090181, 0.00220803, 0.00133   ,\n",
       "       0.00189435, 0.00294973, 0.00159285, 0.00167213, 0.0017318 ,\n",
       "       0.00268682, 0.00166444, 0.00266322, 0.00231865, 0.00138271,\n",
       "       0.00213505, 0.00244717, 0.00205945, 0.0023934 , 0.00125431,\n",
       "       0.00127934, 0.00223875, 0.00379962, 0.00285075, 0.00668106,\n",
       "       0.00261813, 0.00158311, 0.00155874, 0.00175117, 0.00322105,\n",
       "       0.00222011, 0.00247868, 0.00207579, 0.00466523, 0.00255548,\n",
       "       0.00336785, 0.00195722, 0.00210341, 0.00317859, 0.00447845,\n",
       "       0.00212187, 0.00305759, 0.00321675, 0.00276463, 0.0034462 ,\n",
       "       0.00364019, 0.00520488, 0.00603638, 0.00250873, 0.00780977,\n",
       "       0.0048661 , 0.00536595, 0.00523588, 0.00470245, 0.004056  ,\n",
       "       0.00346577, 0.00709159, 0.00471158, 0.0067494 , 0.00503878,\n",
       "       0.00485578, 0.00340886, 0.02044783, 0.01712235, 0.07175937,\n",
       "       0.00358525, 0.00840376, 0.00729415, 0.02514058, 0.02397368,\n",
       "       0.01101617, 0.00948648, 0.00623113, 0.01149107, 0.01308791,\n",
       "       0.00565157, 0.01196397, 0.01051171, 0.0069861 , 0.01532854,\n",
       "       0.0047855 , 0.00589122, 0.02903127, 0.00526945, 0.01205938,\n",
       "       0.00973599, 0.00662678, 0.00764848, 0.00696103, 0.01418949,\n",
       "       0.00612387, 0.00455634, 0.01069025, 0.00561723, 0.00828811,\n",
       "       0.00946365, 0.00520197, 0.00409245, 0.00464489, 0.01086896,\n",
       "       0.00848864, 0.00764205, 0.01096657, 0.00887994, 0.01278086,\n",
       "       0.0104337 , 0.02572781, 0.00883973, 0.00567518, 0.01087407,\n",
       "       0.01070741, 0.00535996, 0.01651839, 0.01453893, 0.01147085,\n",
       "       0.00623711, 0.00414274, 0.00773545, 0.00821336, 0.00587626,\n",
       "       0.00699879, 0.01858033, 0.00676648, 0.00571061], dtype=float32)"
      ]
     },
     "execution_count": 19,
     "metadata": {},
     "output_type": "execute_result"
    }
   ],
   "source": [
    "example = np.array(prediction)[0,:]\n",
    "example"
   ]
  },
  {
   "cell_type": "code",
   "execution_count": 20,
   "id": "65a75987",
   "metadata": {},
   "outputs": [
    {
     "data": {
      "text/plain": [
       "[<matplotlib.lines.Line2D at 0x7f7c7b1254b0>]"
      ]
     },
     "execution_count": 20,
     "metadata": {},
     "output_type": "execute_result"
    },
    {
     "data": {
      "image/png": "[encoded data removed]",
      "text/plain": [
       "<Figure size 640x480 with 1 Axes>"
      ]
     },
     "metadata": {},
     "output_type": "display_data"
    }
   ],
   "source": [
    "x = np.arange(0, n_bins)\n",
    "plt.plot(x, example)"
   ]
  },
  {
   "cell_type": "code",
   "execution_count": 21,
   "id": "10ae744f",
   "metadata": {},
   "outputs": [
    {
     "data": {
      "text/plain": [
       "219"
      ]
     },
     "execution_count": 21,
     "metadata": {},
     "output_type": "execute_result"
    }
   ],
   "source": [
    "bhbh['q_label'][60001]"
   ]
  },
  {
   "cell_type": "code",
   "execution_count": 22,
   "id": "7b2f3c88",
   "metadata": {},
   "outputs": [
    {
     "data": {
      "text/plain": [
       "(10000,)"
      ]
     },
     "execution_count": 22,
     "metadata": {},
     "output_type": "execute_result"
    }
   ],
   "source": [
    "prediction_tot = np.argmax(a, axis=1)\n",
    "prediction_tot.shape"
   ]
  },
  {
   "cell_type": "code",
   "execution_count": 23,
   "id": "b5a58da4",
   "metadata": {},
   "outputs": [
    {
     "name": "stderr",
     "output_type": "stream",
     "text": [
      "/tmp/ipykernel_331/1666709382.py:1: FutureWarning: The behavior of `series[i:j]` with an integer-dtype index is deprecated. In a future version, this will be treated as *label-based* indexing, consistent with e.g. `series[i]` lookups. To retain the old behavior, use `series.iloc[i:j]`. To get the future behavior, use `series.loc[i:j]`.\n",
      "  plt.scatter( prediction_tot, bhbh['q'][60000:70000], s=0.5, alpha=0.5)\n"
     ]
    },
    {
     "data": {
      "text/plain": [
       "<matplotlib.collections.PathCollection at 0x7f7c7af9ee00>"
      ]
     },
     "execution_count": 23,
     "metadata": {},
     "output_type": "execute_result"
    },
    {
     "data": {
      "image/png": "[encoded data removed]",
      "text/plain": [
       "<Figure size 640x480 with 1 Axes>"
      ]
     },
     "metadata": {},
     "output_type": "display_data"
    }
   ],
   "source": [
    "plt.scatter( prediction_tot, bhbh['q'][60000:70000], s=0.5, alpha=0.5)"
   ]
  },
  {
   "cell_type": "code",
   "execution_count": null,
   "id": "07ee6d2d",
   "metadata": {},
   "outputs": [],
   "source": [
    "plt.hist(prediction_tot);\n",
    "plt.hist(bhbh['q_label'][60000:70000], alpha=0.5);"
   ]
  },
  {
   "cell_type": "code",
   "execution_count": null,
   "id": "30bdd5c4",
   "metadata": {
    "scrolled": false
   },
   "outputs": [],
   "source": [
    "plt.hist(bhbh['q'], bins=100, log=True);"
   ]
  },
  {
   "cell_type": "code",
   "execution_count": null,
   "id": "dcfc3da4",
   "metadata": {},
   "outputs": [],
   "source": []
  }
 ],
 "metadata": {
  "kernelspec": {
   "display_name": "Python 3 (ipykernel)",
   "language": "python",
   "name": "python3"
  },
  "language_info": {
   "codemirror_mode": {
    "name": "ipython",
    "version": 3
   },
   "file_extension": ".py",
   "mimetype": "text/x-python",
   "name": "python",
   "nbconvert_exporter": "python",
   "pygments_lexer": "ipython3",
   "version": "3.10.9"
  }
 },
 "nbformat": 4,
 "nbformat_minor": 5
}
