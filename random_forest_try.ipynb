{
 "cells": [
  {
   "cell_type": "markdown",
   "id": "e2ef68c2",
   "metadata": {
    "slideshow": {
     "slide_type": "slide"
    }
   },
   "source": [
    "# Importing libraries"
   ]
  },
  {
   "cell_type": "code",
   "execution_count": 76,
   "id": "4b9c9b57",
   "metadata": {},
   "outputs": [],
   "source": [
    "import pandas as pd\n",
    "import numpy as np\n",
    "import xgboost as xgb\n",
    "from xgboost import XGBRFClassifier\n",
    "import matplotlib.pyplot as plt\n",
    "import sklearn as skl"
   ]
  },
  {
   "cell_type": "code",
   "execution_count": 73,
   "id": "dd1ed075",
   "metadata": {},
   "outputs": [
    {
     "name": "stdout",
     "output_type": "stream",
     "text": [
      "Collecting scikit-learn\n",
      "  Downloading scikit_learn-1.2.2-cp311-cp311-manylinux_2_17_x86_64.manylinux2014_x86_64.whl (9.6 MB)\n",
      "\u001b[2K     \u001b[38;2;114;156;31m━━━━━━━━━━━━━━━━━━━━━━━━━━━━━━━━━━━━━━━━\u001b[0m \u001b[32m9.6/9.6 MB\u001b[0m \u001b[31m9.1 MB/s\u001b[0m eta \u001b[36m0:00:00\u001b[0m0m eta \u001b[36m0:00:01\u001b[0m0:01\u001b[0m:01\u001b[0m\n",
      "\u001b[?25hRequirement already satisfied: numpy>=1.17.3 in /home/zenn/anaconda3/envs/dask/lib/python3.11/site-packages (from scikit-learn) (1.24.3)\n",
      "Requirement already satisfied: scipy>=1.3.2 in /home/zenn/anaconda3/envs/dask/lib/python3.11/site-packages (from scikit-learn) (1.10.1)\n",
      "Collecting joblib>=1.1.1\n",
      "  Downloading joblib-1.2.0-py3-none-any.whl (297 kB)\n",
      "\u001b[2K     \u001b[38;2;114;156;31m━━━━━━━━━━━━━━━━━━━━━━━━━━━━━━━━━━━━━━\u001b[0m \u001b[32m298.0/298.0 kB\u001b[0m \u001b[31m10.4 MB/s\u001b[0m eta \u001b[36m0:00:00\u001b[0m\n",
      "\u001b[?25hCollecting threadpoolctl>=2.0.0\n",
      "  Downloading threadpoolctl-3.1.0-py3-none-any.whl (14 kB)\n",
      "Installing collected packages: threadpoolctl, joblib, scikit-learn\n",
      "Successfully installed joblib-1.2.0 scikit-learn-1.2.2 threadpoolctl-3.1.0\n"
     ]
    }
   ],
   "source": [
    "#import sys\n",
    "#!{sys.executable} -m pip install scikit-learn"
   ]
  },
  {
   "cell_type": "markdown",
   "id": "8e97610a",
   "metadata": {},
   "source": [
    "# Reading the data"
   ]
  },
  {
   "cell_type": "code",
   "execution_count": 2,
   "id": "c05024eb",
   "metadata": {},
   "outputs": [
    {
     "data": {
      "text/html": [
       "<div>\n",
       "<style scoped>\n",
       "    .dataframe tbody tr th:only-of-type {\n",
       "        vertical-align: middle;\n",
       "    }\n",
       "\n",
       "    .dataframe tbody tr th {\n",
       "        vertical-align: top;\n",
       "    }\n",
       "\n",
       "    .dataframe thead th {\n",
       "        text-align: right;\n",
       "    }\n",
       "</style>\n",
       "<table border=\"1\" class=\"dataframe\">\n",
       "  <thead>\n",
       "    <tr style=\"text-align: right;\">\n",
       "      <th></th>\n",
       "      <th>Unnamed: 0</th>\n",
       "      <th>name</th>\n",
       "      <th>Mass_0</th>\n",
       "      <th>Z_0</th>\n",
       "      <th>spin_0</th>\n",
       "      <th>SN_0</th>\n",
       "      <th>Tstart_0</th>\n",
       "      <th>Mass_1</th>\n",
       "      <th>Z_1</th>\n",
       "      <th>a</th>\n",
       "      <th>...</th>\n",
       "      <th>Temperature_0</th>\n",
       "      <th>Mass_1_out</th>\n",
       "      <th>Semimajor</th>\n",
       "      <th>Eccentricity</th>\n",
       "      <th>GWtime</th>\n",
       "      <th>BWorldtime</th>\n",
       "      <th>RLO</th>\n",
       "      <th>CE</th>\n",
       "      <th>tdelay</th>\n",
       "      <th>q</th>\n",
       "    </tr>\n",
       "  </thead>\n",
       "  <tbody>\n",
       "    <tr>\n",
       "      <th>60395</th>\n",
       "      <td>209</td>\n",
       "      <td>0_237173268166122</td>\n",
       "      <td>38.986</td>\n",
       "      <td>0.001</td>\n",
       "      <td>0.0</td>\n",
       "      <td>rapid_gauNS</td>\n",
       "      <td>zams</td>\n",
       "      <td>36.603</td>\n",
       "      <td>0.001</td>\n",
       "      <td>36900.0</td>\n",
       "      <td>...</td>\n",
       "      <td>1456.304</td>\n",
       "      <td>35.000250</td>\n",
       "      <td>38613.90000</td>\n",
       "      <td>0.469578</td>\n",
       "      <td>1.467217e+15</td>\n",
       "      <td>5.305830</td>\n",
       "      <td>NaN</td>\n",
       "      <td>NaN</td>\n",
       "      <td>1.467217e+15</td>\n",
       "      <td>0.945802</td>\n",
       "    </tr>\n",
       "    <tr>\n",
       "      <th>74427</th>\n",
       "      <td>314</td>\n",
       "      <td>0_619601822689455</td>\n",
       "      <td>53.812</td>\n",
       "      <td>0.010</td>\n",
       "      <td>0.0</td>\n",
       "      <td>rapid_gauNS</td>\n",
       "      <td>zams</td>\n",
       "      <td>45.722</td>\n",
       "      <td>0.010</td>\n",
       "      <td>1840.0</td>\n",
       "      <td>...</td>\n",
       "      <td>2113.531</td>\n",
       "      <td>14.892850</td>\n",
       "      <td>650.26520</td>\n",
       "      <td>0.015402</td>\n",
       "      <td>3.159041e+09</td>\n",
       "      <td>4.467546</td>\n",
       "      <td>2.0</td>\n",
       "      <td>NaN</td>\n",
       "      <td>3.159041e+09</td>\n",
       "      <td>0.847657</td>\n",
       "    </tr>\n",
       "    <tr>\n",
       "      <th>19596</th>\n",
       "      <td>182</td>\n",
       "      <td>0_627668720580822</td>\n",
       "      <td>62.816</td>\n",
       "      <td>0.001</td>\n",
       "      <td>0.0</td>\n",
       "      <td>rapid_gauNS</td>\n",
       "      <td>zams</td>\n",
       "      <td>44.208</td>\n",
       "      <td>0.001</td>\n",
       "      <td>9070.0</td>\n",
       "      <td>...</td>\n",
       "      <td>1184.211</td>\n",
       "      <td>41.659050</td>\n",
       "      <td>9848.93600</td>\n",
       "      <td>0.085256</td>\n",
       "      <td>6.046951e+12</td>\n",
       "      <td>4.666363</td>\n",
       "      <td>NaN</td>\n",
       "      <td>NaN</td>\n",
       "      <td>6.046951e+12</td>\n",
       "      <td>0.744376</td>\n",
       "    </tr>\n",
       "    <tr>\n",
       "      <th>78838</th>\n",
       "      <td>298</td>\n",
       "      <td>0_956602933765968</td>\n",
       "      <td>32.894</td>\n",
       "      <td>0.010</td>\n",
       "      <td>0.0</td>\n",
       "      <td>rapid_gauNS</td>\n",
       "      <td>zams</td>\n",
       "      <td>24.726</td>\n",
       "      <td>0.010</td>\n",
       "      <td>94.4</td>\n",
       "      <td>...</td>\n",
       "      <td>3023.349</td>\n",
       "      <td>5.982366</td>\n",
       "      <td>67.27397</td>\n",
       "      <td>0.209334</td>\n",
       "      <td>3.494275e+06</td>\n",
       "      <td>6.771645</td>\n",
       "      <td>3.0</td>\n",
       "      <td>NaN</td>\n",
       "      <td>3.494282e+06</td>\n",
       "      <td>0.696746</td>\n",
       "    </tr>\n",
       "    <tr>\n",
       "      <th>74567</th>\n",
       "      <td>110</td>\n",
       "      <td>0_435695643683693</td>\n",
       "      <td>76.275</td>\n",
       "      <td>0.001</td>\n",
       "      <td>0.0</td>\n",
       "      <td>rapid_gauNS</td>\n",
       "      <td>zams</td>\n",
       "      <td>60.763</td>\n",
       "      <td>0.001</td>\n",
       "      <td>1090.0</td>\n",
       "      <td>...</td>\n",
       "      <td>1474.168</td>\n",
       "      <td>35.156080</td>\n",
       "      <td>590.51490</td>\n",
       "      <td>0.025411</td>\n",
       "      <td>2.013698e+08</td>\n",
       "      <td>3.814600</td>\n",
       "      <td>2.0</td>\n",
       "      <td>NaN</td>\n",
       "      <td>2.013698e+08</td>\n",
       "      <td>0.973463</td>\n",
       "    </tr>\n",
       "  </tbody>\n",
       "</table>\n",
       "<p>5 rows × 24 columns</p>\n",
       "</div>"
      ],
      "text/plain": [
       "       Unnamed: 0               name  Mass_0    Z_0  spin_0         SN_0  \\\n",
       "60395         209  0_237173268166122  38.986  0.001     0.0  rapid_gauNS   \n",
       "74427         314  0_619601822689455  53.812  0.010     0.0  rapid_gauNS   \n",
       "19596         182  0_627668720580822  62.816  0.001     0.0  rapid_gauNS   \n",
       "78838         298  0_956602933765968  32.894  0.010     0.0  rapid_gauNS   \n",
       "74567         110  0_435695643683693  76.275  0.001     0.0  rapid_gauNS   \n",
       "\n",
       "      Tstart_0  Mass_1    Z_1        a  ...  Temperature_0  Mass_1_out  \\\n",
       "60395     zams  36.603  0.001  36900.0  ...       1456.304   35.000250   \n",
       "74427     zams  45.722  0.010   1840.0  ...       2113.531   14.892850   \n",
       "19596     zams  44.208  0.001   9070.0  ...       1184.211   41.659050   \n",
       "78838     zams  24.726  0.010     94.4  ...       3023.349    5.982366   \n",
       "74567     zams  60.763  0.001   1090.0  ...       1474.168   35.156080   \n",
       "\n",
       "         Semimajor  Eccentricity        GWtime  BWorldtime  RLO  CE  \\\n",
       "60395  38613.90000      0.469578  1.467217e+15    5.305830  NaN NaN   \n",
       "74427    650.26520      0.015402  3.159041e+09    4.467546  2.0 NaN   \n",
       "19596   9848.93600      0.085256  6.046951e+12    4.666363  NaN NaN   \n",
       "78838     67.27397      0.209334  3.494275e+06    6.771645  3.0 NaN   \n",
       "74567    590.51490      0.025411  2.013698e+08    3.814600  2.0 NaN   \n",
       "\n",
       "             tdelay         q  \n",
       "60395  1.467217e+15  0.945802  \n",
       "74427  3.159041e+09  0.847657  \n",
       "19596  6.046951e+12  0.744376  \n",
       "78838  3.494282e+06  0.696746  \n",
       "74567  2.013698e+08  0.973463  \n",
       "\n",
       "[5 rows x 24 columns]"
      ]
     },
     "execution_count": 2,
     "metadata": {},
     "output_type": "execute_result"
    }
   ],
   "source": [
    "#read data and shuffle\n",
    "bhbh = pd.read_csv('../Data/BHBH.csv')\n",
    "bhbh = bhbh.sample(frac=1, random_state=4269)\n",
    "\n",
    "#adding q column\n",
    "bhbh['q'] = np.where(bhbh['Mass_1_out']>bhbh['Mass_0_out'], bhbh['Mass_0_out']/bhbh['Mass_1_out'], bhbh['Mass_1_out']/bhbh['Mass_0_out'] )\n",
    "bhbh.head()"
   ]
  },
  {
   "cell_type": "markdown",
   "id": "4eb2a74e",
   "metadata": {},
   "source": [
    "## Setting the labels"
   ]
  },
  {
   "cell_type": "code",
   "execution_count": 3,
   "id": "14d79dde",
   "metadata": {},
   "outputs": [],
   "source": [
    "#number of bins\n",
    "n_bins=200\n",
    "\n",
    "#histogram and cut to assign the labels\n",
    "count, bin_edg = np.histogram(bhbh['q'], bins= n_bins, range=(0,1))\n",
    "bhbh['label'] = pd.cut(bhbh['q'], bins=bin_edg, labels=False)"
   ]
  },
  {
   "cell_type": "code",
   "execution_count": 4,
   "id": "aa7be102",
   "metadata": {},
   "outputs": [
    {
     "data": {
      "image/png": "[encoded data removed]",
      "text/plain": [
       "<Figure size 640x480 with 1 Axes>"
      ]
     },
     "metadata": {},
     "output_type": "display_data"
    }
   ],
   "source": [
    "#histogram of the q\n",
    "center = (bin_edg[1:]+bin_edg[:-1])/2\n",
    "plt.bar(center, count, width=np.diff(bin_edg));"
   ]
  },
  {
   "cell_type": "code",
   "execution_count": 5,
   "id": "26f12423",
   "metadata": {},
   "outputs": [
    {
     "data": {
      "image/png": "[encoded data removed]",
      "text/plain": [
       "<Figure size 640x480 with 1 Axes>"
      ]
     },
     "metadata": {},
     "output_type": "display_data"
    }
   ],
   "source": [
    "#histogram of labels\n",
    "plt.hist(bhbh['label'], range=(0, n_bins), bins=n_bins, );"
   ]
  },
  {
   "cell_type": "markdown",
   "id": "b49b4fb1",
   "metadata": {},
   "source": [
    "## Another way to set the labels with histogram (deprecated)"
   ]
  },
  {
   "cell_type": "code",
   "execution_count": 6,
   "id": "0cac4d0c",
   "metadata": {},
   "outputs": [],
   "source": [
    "#lower=0\n",
    "#upper=1\n",
    "# n_bins=244\n",
    "#bin_labels=np.linspace(lower,upper,num=n_bins+1) # I need one bin more because otherwise \n",
    "                                                 # I wouldn't get exactly n_bins labels at the end\n",
    "#bhbh['q_labels_hist']=pd.cut(bhbh['q'], n_bins+1, labels=bin_labels)"
   ]
  },
  {
   "cell_type": "markdown",
   "id": "b669aba9",
   "metadata": {},
   "source": [
    "## Another way to set the label (deprecated)"
   ]
  },
  {
   "cell_type": "code",
   "execution_count": 7,
   "id": "120f27c1",
   "metadata": {},
   "outputs": [],
   "source": [
    "# Setting the label\n",
    "\n",
    "#bhbh['q_label'] = (bhbh['q']*n_bins).astype('int')\n",
    "#bhbh['q_label']=(bhbh['q'].round(2)*100).astype('int')\n"
   ]
  },
  {
   "cell_type": "markdown",
   "id": "bf0d52b4",
   "metadata": {},
   "source": [
    "## Preparing the data for xgboost"
   ]
  },
  {
   "cell_type": "code",
   "execution_count": 8,
   "id": "624609b0",
   "metadata": {},
   "outputs": [],
   "source": [
    "#division between train and test set\n",
    "r_train = 0.75\n",
    "r_test = 1 - r_train\n",
    "\n",
    "m_train = int(r_train*bhbh.shape[0])\n",
    "m_test = bhbh.shape[0]-m_train"
   ]
  },
  {
   "cell_type": "code",
   "execution_count": 9,
   "id": "9ade612f",
   "metadata": {},
   "outputs": [],
   "source": [
    "#train\n",
    "feature = bhbh[['Mass_0', 'Z_0', 'Mass_1', 'Z_1', 'a', 'e']][:m_train]\n",
    "label = bhbh[['label']][:m_train]\n",
    "train = bhbh[['Mass_0', 'Z_0', 'Mass_1', 'Z_1', 'a', 'e', 'label']][:m_train]\n",
    "dtrain = xgb.DMatrix(feature, label=label)"
   ]
  },
  {
   "cell_type": "code",
   "execution_count": 11,
   "id": "a0e4477a",
   "metadata": {},
   "outputs": [],
   "source": [
    "#test\n",
    "feature = bhbh[['Mass_0', 'Z_0', 'Mass_1', 'Z_1', 'a', 'e']][m_train:]\n",
    "label = bhbh[['label']][m_train:]\n",
    "test = bhbh[['Mass_0', 'Z_0', 'Mass_1', 'Z_1', 'a', 'e', 'label']][m_train:]\n",
    "dtest = xgb.DMatrix(feature, label=label)"
   ]
  },
  {
   "cell_type": "markdown",
   "id": "c23c6b29",
   "metadata": {},
   "source": [
    "## Implementation of RF classifier with XGBoost"
   ]
  },
  {
   "cell_type": "code",
   "execution_count": 67,
   "id": "3b0b3c2a",
   "metadata": {},
   "outputs": [],
   "source": [
    "#parameters\n",
    "n_estimators = 10\n",
    "max_depth = 6\n",
    "learning_rate = 0.3\n",
    "grow_policy = 0\n",
    "max_leaves = n_bins\n",
    "\n",
    "param = {'n_estimators' : 10, \n",
    "        'max_depth' : 6,\n",
    "        'learning_rate' : 0.3,\n",
    "        'grow_policy' : 0,\n",
    "        'max_leaves' : n_bins\n",
    "        }"
   ]
  },
  {
   "cell_type": "code",
   "execution_count": 77,
   "id": "fe8a951f",
   "metadata": {},
   "outputs": [
    {
     "ename": "ImportError",
     "evalue": "sklearn needs to be installed in order to use this module",
     "output_type": "error",
     "traceback": [
      "\u001b[0;31m---------------------------------------------------------------------------\u001b[0m",
      "\u001b[0;31mImportError\u001b[0m                               Traceback (most recent call last)",
      "Cell \u001b[0;32mIn[77], line 1\u001b[0m\n\u001b[0;32m----> 1\u001b[0m RF \u001b[38;5;241m=\u001b[39m \u001b[43mXGBRFClassifier\u001b[49m\u001b[43m(\u001b[49m\u001b[43mparam\u001b[49m\u001b[43m)\u001b[49m\n",
      "File \u001b[0;32m~/anaconda3/envs/dask/lib/python3.11/site-packages/xgboost/core.py:620\u001b[0m, in \u001b[0;36mrequire_keyword_args.<locals>.throw_if.<locals>.inner_f\u001b[0;34m(*args, **kwargs)\u001b[0m\n\u001b[1;32m    618\u001b[0m \u001b[38;5;28;01mfor\u001b[39;00m k, arg \u001b[38;5;129;01min\u001b[39;00m \u001b[38;5;28mzip\u001b[39m(sig\u001b[38;5;241m.\u001b[39mparameters, args):\n\u001b[1;32m    619\u001b[0m     kwargs[k] \u001b[38;5;241m=\u001b[39m arg\n\u001b[0;32m--> 620\u001b[0m \u001b[38;5;28;01mreturn\u001b[39;00m \u001b[43mfunc\u001b[49m\u001b[43m(\u001b[49m\u001b[38;5;241;43m*\u001b[39;49m\u001b[38;5;241;43m*\u001b[39;49m\u001b[43mkwargs\u001b[49m\u001b[43m)\u001b[49m\n",
      "File \u001b[0;32m~/anaconda3/envs/dask/lib/python3.11/site-packages/xgboost/sklearn.py:1639\u001b[0m, in \u001b[0;36mXGBRFClassifier.__init__\u001b[0;34m(self, learning_rate, subsample, colsample_bynode, reg_lambda, **kwargs)\u001b[0m\n\u001b[1;32m   1629\u001b[0m \u001b[38;5;129m@_deprecate_positional_args\u001b[39m\n\u001b[1;32m   1630\u001b[0m \u001b[38;5;28;01mdef\u001b[39;00m \u001b[38;5;21m__init__\u001b[39m(\n\u001b[1;32m   1631\u001b[0m     \u001b[38;5;28mself\u001b[39m,\n\u001b[0;32m   (...)\u001b[0m\n\u001b[1;32m   1637\u001b[0m     \u001b[38;5;241m*\u001b[39m\u001b[38;5;241m*\u001b[39mkwargs: Any,\n\u001b[1;32m   1638\u001b[0m ):\n\u001b[0;32m-> 1639\u001b[0m     \u001b[38;5;28;43msuper\u001b[39;49m\u001b[43m(\u001b[49m\u001b[43m)\u001b[49m\u001b[38;5;241;43m.\u001b[39;49m\u001b[38;5;21;43m__init__\u001b[39;49m\u001b[43m(\u001b[49m\n\u001b[1;32m   1640\u001b[0m \u001b[43m        \u001b[49m\u001b[43mlearning_rate\u001b[49m\u001b[38;5;241;43m=\u001b[39;49m\u001b[43mlearning_rate\u001b[49m\u001b[43m,\u001b[49m\n\u001b[1;32m   1641\u001b[0m \u001b[43m        \u001b[49m\u001b[43msubsample\u001b[49m\u001b[38;5;241;43m=\u001b[39;49m\u001b[43msubsample\u001b[49m\u001b[43m,\u001b[49m\n\u001b[1;32m   1642\u001b[0m \u001b[43m        \u001b[49m\u001b[43mcolsample_bynode\u001b[49m\u001b[38;5;241;43m=\u001b[39;49m\u001b[43mcolsample_bynode\u001b[49m\u001b[43m,\u001b[49m\n\u001b[1;32m   1643\u001b[0m \u001b[43m        \u001b[49m\u001b[43mreg_lambda\u001b[49m\u001b[38;5;241;43m=\u001b[39;49m\u001b[43mreg_lambda\u001b[49m\u001b[43m,\u001b[49m\n\u001b[1;32m   1644\u001b[0m \u001b[43m        \u001b[49m\u001b[38;5;241;43m*\u001b[39;49m\u001b[38;5;241;43m*\u001b[39;49m\u001b[43mkwargs\u001b[49m\u001b[43m,\u001b[49m\n\u001b[1;32m   1645\u001b[0m \u001b[43m    \u001b[49m\u001b[43m)\u001b[49m\n\u001b[1;32m   1646\u001b[0m     _check_rf_callback(\u001b[38;5;28mself\u001b[39m\u001b[38;5;241m.\u001b[39mearly_stopping_rounds, \u001b[38;5;28mself\u001b[39m\u001b[38;5;241m.\u001b[39mcallbacks)\n",
      "File \u001b[0;32m~/anaconda3/envs/dask/lib/python3.11/site-packages/xgboost/core.py:620\u001b[0m, in \u001b[0;36mrequire_keyword_args.<locals>.throw_if.<locals>.inner_f\u001b[0;34m(*args, **kwargs)\u001b[0m\n\u001b[1;32m    618\u001b[0m \u001b[38;5;28;01mfor\u001b[39;00m k, arg \u001b[38;5;129;01min\u001b[39;00m \u001b[38;5;28mzip\u001b[39m(sig\u001b[38;5;241m.\u001b[39mparameters, args):\n\u001b[1;32m    619\u001b[0m     kwargs[k] \u001b[38;5;241m=\u001b[39m arg\n\u001b[0;32m--> 620\u001b[0m \u001b[38;5;28;01mreturn\u001b[39;00m \u001b[43mfunc\u001b[49m\u001b[43m(\u001b[49m\u001b[38;5;241;43m*\u001b[39;49m\u001b[38;5;241;43m*\u001b[39;49m\u001b[43mkwargs\u001b[49m\u001b[43m)\u001b[49m\n",
      "File \u001b[0;32m~/anaconda3/envs/dask/lib/python3.11/site-packages/xgboost/sklearn.py:1396\u001b[0m, in \u001b[0;36mXGBClassifier.__init__\u001b[0;34m(self, objective, use_label_encoder, **kwargs)\u001b[0m\n\u001b[1;32m   1394\u001b[0m \u001b[38;5;28;01mif\u001b[39;00m use_label_encoder \u001b[38;5;129;01mis\u001b[39;00m \u001b[38;5;129;01mnot\u001b[39;00m \u001b[38;5;28;01mNone\u001b[39;00m:\n\u001b[1;32m   1395\u001b[0m     warnings\u001b[38;5;241m.\u001b[39mwarn(\u001b[38;5;124m\"\u001b[39m\u001b[38;5;124m`use_label_encoder` is deprecated in 1.7.0.\u001b[39m\u001b[38;5;124m\"\u001b[39m)\n\u001b[0;32m-> 1396\u001b[0m \u001b[38;5;28;43msuper\u001b[39;49m\u001b[43m(\u001b[49m\u001b[43m)\u001b[49m\u001b[38;5;241;43m.\u001b[39;49m\u001b[38;5;21;43m__init__\u001b[39;49m\u001b[43m(\u001b[49m\u001b[43mobjective\u001b[49m\u001b[38;5;241;43m=\u001b[39;49m\u001b[43mobjective\u001b[49m\u001b[43m,\u001b[49m\u001b[43m \u001b[49m\u001b[38;5;241;43m*\u001b[39;49m\u001b[38;5;241;43m*\u001b[39;49m\u001b[43mkwargs\u001b[49m\u001b[43m)\u001b[49m\n",
      "File \u001b[0;32m~/anaconda3/envs/dask/lib/python3.11/site-packages/xgboost/sklearn.py:584\u001b[0m, in \u001b[0;36mXGBModel.__init__\u001b[0;34m(self, max_depth, max_leaves, max_bin, grow_policy, learning_rate, n_estimators, verbosity, objective, booster, tree_method, n_jobs, gamma, min_child_weight, max_delta_step, subsample, sampling_method, colsample_bytree, colsample_bylevel, colsample_bynode, reg_alpha, reg_lambda, scale_pos_weight, base_score, random_state, missing, num_parallel_tree, monotone_constraints, interaction_constraints, importance_type, gpu_id, validate_parameters, predictor, enable_categorical, feature_types, max_cat_to_onehot, max_cat_threshold, eval_metric, early_stopping_rounds, callbacks, **kwargs)\u001b[0m\n\u001b[1;32m    540\u001b[0m \u001b[38;5;28;01mdef\u001b[39;00m \u001b[38;5;21m__init__\u001b[39m(\n\u001b[1;32m    541\u001b[0m     \u001b[38;5;28mself\u001b[39m,\n\u001b[1;32m    542\u001b[0m     max_depth: Optional[\u001b[38;5;28mint\u001b[39m] \u001b[38;5;241m=\u001b[39m \u001b[38;5;28;01mNone\u001b[39;00m,\n\u001b[0;32m   (...)\u001b[0m\n\u001b[1;32m    581\u001b[0m     \u001b[38;5;241m*\u001b[39m\u001b[38;5;241m*\u001b[39mkwargs: Any,\n\u001b[1;32m    582\u001b[0m ) \u001b[38;5;241m-\u001b[39m\u001b[38;5;241m>\u001b[39m \u001b[38;5;28;01mNone\u001b[39;00m:\n\u001b[1;32m    583\u001b[0m     \u001b[38;5;28;01mif\u001b[39;00m \u001b[38;5;129;01mnot\u001b[39;00m SKLEARN_INSTALLED:\n\u001b[0;32m--> 584\u001b[0m         \u001b[38;5;28;01mraise\u001b[39;00m \u001b[38;5;167;01mImportError\u001b[39;00m(\n\u001b[1;32m    585\u001b[0m             \u001b[38;5;124m\"\u001b[39m\u001b[38;5;124msklearn needs to be installed in order to use this module\u001b[39m\u001b[38;5;124m\"\u001b[39m\n\u001b[1;32m    586\u001b[0m         )\n\u001b[1;32m    587\u001b[0m     \u001b[38;5;28mself\u001b[39m\u001b[38;5;241m.\u001b[39mn_estimators \u001b[38;5;241m=\u001b[39m n_estimators\n\u001b[1;32m    588\u001b[0m     \u001b[38;5;28mself\u001b[39m\u001b[38;5;241m.\u001b[39mobjective \u001b[38;5;241m=\u001b[39m objective\n",
      "\u001b[0;31mImportError\u001b[0m: sklearn needs to be installed in order to use this module"
     ]
    }
   ],
   "source": [
    "RF = XGBRFClassifier(param)"
   ]
  },
  {
   "cell_type": "markdown",
   "id": "bade1e59",
   "metadata": {},
   "source": [
    "## Boost Parameters"
   ]
  },
  {
   "cell_type": "code",
   "execution_count": 12,
   "id": "3356d527",
   "metadata": {},
   "outputs": [],
   "source": [
    "param = {'max_depth': 6, 'eta': 0.3, 'objective': 'multi:softprob'}\n",
    "#param['nthread'] = 4\n",
    "param['eval_metric'] = 'auc'\n",
    "param['num_class']=n_bins\n",
    "#param['eval_metric'] = ['auc', 'ams@0']\n",
    "\n",
    "evallist = [(dtrain, 'train'), (dtest, 'eval')]"
   ]
  },
  {
   "cell_type": "markdown",
   "id": "f1ee0619",
   "metadata": {},
   "source": [
    "## Training"
   ]
  },
  {
   "cell_type": "code",
   "execution_count": 13,
   "id": "36edd111",
   "metadata": {},
   "outputs": [
    {
     "data": {
      "text/plain": [
       "{'max_depth': 6,\n",
       " 'eta': 0.3,\n",
       " 'objective': 'multi:softprob',\n",
       " 'eval_metric': 'auc',\n",
       " 'num_class': 200}"
      ]
     },
     "execution_count": 13,
     "metadata": {},
     "output_type": "execute_result"
    }
   ],
   "source": [
    "param"
   ]
  },
  {
   "cell_type": "code",
   "execution_count": 14,
   "id": "d6e7f000",
   "metadata": {},
   "outputs": [
    {
     "name": "stderr",
     "output_type": "stream",
     "text": [
      "/home/zenn/anaconda3/envs/dask/lib/python3.11/site-packages/xgboost/core.py:617: FutureWarning: Pass `evals` as keyword args.\n",
      "  warnings.warn(msg, FutureWarning)\n"
     ]
    },
    {
     "name": "stdout",
     "output_type": "stream",
     "text": [
      "[11:42:54] WARNING: ../src/metric/auc.cc:328: Dataset is empty, or contains only positive or negative samples.\n",
      "[11:42:55] WARNING: ../src/metric/auc.cc:328: Dataset is empty, or contains only positive or negative samples.\n",
      "[0]\ttrain-auc:nan\teval-auc:nan\n",
      "[11:43:08] WARNING: ../src/metric/auc.cc:328: Dataset is empty, or contains only positive or negative samples.\n",
      "[11:43:09] WARNING: ../src/metric/auc.cc:328: Dataset is empty, or contains only positive or negative samples.\n",
      "[1]\ttrain-auc:nan\teval-auc:nan\n",
      "[11:43:23] WARNING: ../src/metric/auc.cc:328: Dataset is empty, or contains only positive or negative samples.\n",
      "[11:43:23] WARNING: ../src/metric/auc.cc:328: Dataset is empty, or contains only positive or negative samples.\n",
      "[2]\ttrain-auc:nan\teval-auc:nan\n",
      "[11:43:36] WARNING: ../src/metric/auc.cc:328: Dataset is empty, or contains only positive or negative samples.\n",
      "[11:43:37] WARNING: ../src/metric/auc.cc:328: Dataset is empty, or contains only positive or negative samples.\n",
      "[3]\ttrain-auc:nan\teval-auc:nan\n",
      "[11:43:50] WARNING: ../src/metric/auc.cc:328: Dataset is empty, or contains only positive or negative samples.\n",
      "[11:43:50] WARNING: ../src/metric/auc.cc:328: Dataset is empty, or contains only positive or negative samples.\n",
      "[4]\ttrain-auc:nan\teval-auc:nan\n",
      "[11:44:03] WARNING: ../src/metric/auc.cc:328: Dataset is empty, or contains only positive or negative samples.\n",
      "[11:44:03] WARNING: ../src/metric/auc.cc:328: Dataset is empty, or contains only positive or negative samples.\n",
      "[5]\ttrain-auc:nan\teval-auc:nan\n",
      "[11:44:14] WARNING: ../src/metric/auc.cc:328: Dataset is empty, or contains only positive or negative samples.\n",
      "[11:44:15] WARNING: ../src/metric/auc.cc:328: Dataset is empty, or contains only positive or negative samples.\n",
      "[6]\ttrain-auc:nan\teval-auc:nan\n",
      "[11:44:26] WARNING: ../src/metric/auc.cc:328: Dataset is empty, or contains only positive or negative samples.\n",
      "[11:44:27] WARNING: ../src/metric/auc.cc:328: Dataset is empty, or contains only positive or negative samples.\n",
      "[7]\ttrain-auc:nan\teval-auc:nan\n",
      "[11:44:38] WARNING: ../src/metric/auc.cc:328: Dataset is empty, or contains only positive or negative samples.\n",
      "[11:44:39] WARNING: ../src/metric/auc.cc:328: Dataset is empty, or contains only positive or negative samples.\n",
      "[8]\ttrain-auc:nan\teval-auc:nan\n",
      "[11:44:50] WARNING: ../src/metric/auc.cc:328: Dataset is empty, or contains only positive or negative samples.\n",
      "[11:44:50] WARNING: ../src/metric/auc.cc:328: Dataset is empty, or contains only positive or negative samples.\n",
      "[9]\ttrain-auc:nan\teval-auc:nan\n"
     ]
    }
   ],
   "source": [
    "num_round = 10\n",
    "bst = xgb.train(param, dtrain, num_round, evallist)"
   ]
  },
  {
   "cell_type": "markdown",
   "id": "ceb0e3e2",
   "metadata": {},
   "source": [
    "## Saving the model"
   ]
  },
  {
   "cell_type": "code",
   "execution_count": 15,
   "id": "490bfbeb",
   "metadata": {},
   "outputs": [],
   "source": [
    "bst.save_model('0001.model')"
   ]
  },
  {
   "cell_type": "markdown",
   "id": "bdd65401",
   "metadata": {},
   "source": [
    "## Loading a saved model"
   ]
  },
  {
   "cell_type": "code",
   "execution_count": 16,
   "id": "d01e1a45",
   "metadata": {},
   "outputs": [],
   "source": [
    "#bst = xgb.Booster({'nthread': 4})  # init model\n",
    "bst.load_model('0001.model')  # load data"
   ]
  },
  {
   "cell_type": "markdown",
   "id": "c3d63649",
   "metadata": {},
   "source": [
    "## Predictions of the model"
   ]
  },
  {
   "cell_type": "code",
   "execution_count": 17,
   "id": "408657ea",
   "metadata": {},
   "outputs": [],
   "source": [
    "ypred = bst.predict(dtest)"
   ]
  },
  {
   "cell_type": "code",
   "execution_count": 18,
   "id": "d5071b6b",
   "metadata": {},
   "outputs": [],
   "source": [
    "#bst.score(data, label)"
   ]
  },
  {
   "cell_type": "code",
   "execution_count": 19,
   "id": "4d010fe3",
   "metadata": {},
   "outputs": [
    {
     "data": {
      "text/plain": [
       "(20474, 200)"
      ]
     },
     "execution_count": 19,
     "metadata": {},
     "output_type": "execute_result"
    }
   ],
   "source": [
    "prediction = pd.DataFrame(ypred)\n",
    "a=np.array(prediction)\n",
    "a.shape"
   ]
  },
  {
   "cell_type": "code",
   "execution_count": 20,
   "id": "c3f9de08",
   "metadata": {},
   "outputs": [
    {
     "data": {
      "text/html": [
       "<div>\n",
       "<style scoped>\n",
       "    .dataframe tbody tr th:only-of-type {\n",
       "        vertical-align: middle;\n",
       "    }\n",
       "\n",
       "    .dataframe tbody tr th {\n",
       "        vertical-align: top;\n",
       "    }\n",
       "\n",
       "    .dataframe thead th {\n",
       "        text-align: right;\n",
       "    }\n",
       "</style>\n",
       "<table border=\"1\" class=\"dataframe\">\n",
       "  <thead>\n",
       "    <tr style=\"text-align: right;\">\n",
       "      <th></th>\n",
       "      <th>0</th>\n",
       "      <th>3</th>\n",
       "      <th>4</th>\n",
       "    </tr>\n",
       "  </thead>\n",
       "  <tbody>\n",
       "    <tr>\n",
       "      <th>0</th>\n",
       "      <td>0.001031</td>\n",
       "      <td>0.001031</td>\n",
       "      <td>0.001031</td>\n",
       "    </tr>\n",
       "    <tr>\n",
       "      <th>1</th>\n",
       "      <td>0.001186</td>\n",
       "      <td>0.001186</td>\n",
       "      <td>0.001186</td>\n",
       "    </tr>\n",
       "    <tr>\n",
       "      <th>2</th>\n",
       "      <td>0.001105</td>\n",
       "      <td>0.001105</td>\n",
       "      <td>0.001105</td>\n",
       "    </tr>\n",
       "    <tr>\n",
       "      <th>3</th>\n",
       "      <td>0.001101</td>\n",
       "      <td>0.001101</td>\n",
       "      <td>0.001101</td>\n",
       "    </tr>\n",
       "    <tr>\n",
       "      <th>4</th>\n",
       "      <td>0.000982</td>\n",
       "      <td>0.000982</td>\n",
       "      <td>0.000982</td>\n",
       "    </tr>\n",
       "    <tr>\n",
       "      <th>...</th>\n",
       "      <td>...</td>\n",
       "      <td>...</td>\n",
       "      <td>...</td>\n",
       "    </tr>\n",
       "    <tr>\n",
       "      <th>20469</th>\n",
       "      <td>0.001083</td>\n",
       "      <td>0.001083</td>\n",
       "      <td>0.001083</td>\n",
       "    </tr>\n",
       "    <tr>\n",
       "      <th>20470</th>\n",
       "      <td>0.001195</td>\n",
       "      <td>0.001195</td>\n",
       "      <td>0.001195</td>\n",
       "    </tr>\n",
       "    <tr>\n",
       "      <th>20471</th>\n",
       "      <td>0.001143</td>\n",
       "      <td>0.001143</td>\n",
       "      <td>0.001143</td>\n",
       "    </tr>\n",
       "    <tr>\n",
       "      <th>20472</th>\n",
       "      <td>0.000731</td>\n",
       "      <td>0.000731</td>\n",
       "      <td>0.000731</td>\n",
       "    </tr>\n",
       "    <tr>\n",
       "      <th>20473</th>\n",
       "      <td>0.000829</td>\n",
       "      <td>0.000829</td>\n",
       "      <td>0.000829</td>\n",
       "    </tr>\n",
       "  </tbody>\n",
       "</table>\n",
       "<p>20474 rows × 3 columns</p>\n",
       "</div>"
      ],
      "text/plain": [
       "              0         3         4\n",
       "0      0.001031  0.001031  0.001031\n",
       "1      0.001186  0.001186  0.001186\n",
       "2      0.001105  0.001105  0.001105\n",
       "3      0.001101  0.001101  0.001101\n",
       "4      0.000982  0.000982  0.000982\n",
       "...         ...       ...       ...\n",
       "20469  0.001083  0.001083  0.001083\n",
       "20470  0.001195  0.001195  0.001195\n",
       "20471  0.001143  0.001143  0.001143\n",
       "20472  0.000731  0.000731  0.000731\n",
       "20473  0.000829  0.000829  0.000829\n",
       "\n",
       "[20474 rows x 3 columns]"
      ]
     },
     "execution_count": 20,
     "metadata": {},
     "output_type": "execute_result"
    }
   ],
   "source": [
    "prediction.loc[:,[0,3,4]]"
   ]
  },
  {
   "cell_type": "code",
   "execution_count": 46,
   "id": "6c690edd",
   "metadata": {},
   "outputs": [
    {
     "data": {
      "text/plain": [
       "array([0.00110073, 0.00110073, 0.00110073, 0.00110073, 0.00110073,\n",
       "       0.00110073, 0.00110073, 0.00110073, 0.00110073, 0.00110073,\n",
       "       0.00110073, 0.00110073, 0.00110073, 0.00111297, 0.00110073,\n",
       "       0.00110073, 0.00110073, 0.00110073, 0.00110073, 0.00110073,\n",
       "       0.00112523, 0.0011067 , 0.0011375 , 0.00111297, 0.00112523,\n",
       "       0.00112239, 0.00112729, 0.00110742, 0.00110366, 0.00111364,\n",
       "       0.00110356, 0.00111623, 0.00110639, 0.00110643, 0.00110512,\n",
       "       0.00113681, 0.00111483, 0.00110419, 0.00110894, 0.00110418,\n",
       "       0.00111555, 0.00111047, 0.00111827, 0.00111741, 0.00112467,\n",
       "       0.00114652, 0.0011189 , 0.00113911, 0.00111374, 0.0011194 ,\n",
       "       0.00112511, 0.00112756, 0.0011185 , 0.00134918, 0.001124  ,\n",
       "       0.0011065 , 0.00115306, 0.00115647, 0.00116896, 0.0014389 ,\n",
       "       0.00112679, 0.00112676, 0.00124525, 0.00151895, 0.001234  ,\n",
       "       0.00115636, 0.00145886, 0.00169908, 0.00129752, 0.00114241,\n",
       "       0.00119504, 0.0016276 , 0.00130931, 0.00120373, 0.0012166 ,\n",
       "       0.00159806, 0.0051298 , 0.00166991, 0.00207823, 0.00120333,\n",
       "       0.00230239, 0.00161109, 0.00210636, 0.00316962, 0.00222539,\n",
       "       0.00166173, 0.00221179, 0.00212182, 0.00195905, 0.00269543,\n",
       "       0.00170407, 0.00219604, 0.00244753, 0.00141692, 0.00143429,\n",
       "       0.00303854, 0.00303355, 0.00249739, 0.00403691, 0.00216769,\n",
       "       0.00203722, 0.00300628, 0.00232375, 0.00191622, 0.00191113,\n",
       "       0.00179217, 0.00376393, 0.00254987, 0.00423083, 0.00296869,\n",
       "       0.00280498, 0.00274619, 0.004     , 0.00392939, 0.00309827,\n",
       "       0.00190617, 0.00323175, 0.00772969, 0.00517281, 0.00224597,\n",
       "       0.00256477, 0.00350939, 0.00299117, 0.00526655, 0.00531119,\n",
       "       0.00256461, 0.00482483, 0.00327508, 0.00551264, 0.00551601,\n",
       "       0.00506304, 0.00664086, 0.00781403, 0.00583202, 0.00539122,\n",
       "       0.00640487, 0.00840709, 0.00916889, 0.0098784 , 0.00648626,\n",
       "       0.00537446, 0.01502713, 0.00702801, 0.01575699, 0.00543071,\n",
       "       0.0103988 , 0.01064955, 0.00960471, 0.00597853, 0.0122815 ,\n",
       "       0.01057195, 0.02058546, 0.00956848, 0.00875865, 0.00928443,\n",
       "       0.01258898, 0.03788666, 0.00963386, 0.01431112, 0.01005209,\n",
       "       0.00774797, 0.01481785, 0.00713589, 0.01023576, 0.00765582,\n",
       "       0.00869786, 0.01223735, 0.01381163, 0.00708362, 0.01143739,\n",
       "       0.01315907, 0.00811773, 0.01092372, 0.01069685, 0.01652698,\n",
       "       0.00715521, 0.01249727, 0.00703698, 0.01697804, 0.0072107 ,\n",
       "       0.01113121, 0.01120075, 0.01118601, 0.00558244, 0.01352529,\n",
       "       0.00889633, 0.00675039, 0.01510995, 0.01573904, 0.01519881,\n",
       "       0.0092256 , 0.01901844, 0.01545541, 0.01640897, 0.00667392,\n",
       "       0.01430363, 0.00683171, 0.00979928, 0.00765757, 0.00789813],\n",
       "      dtype=float32)"
      ]
     },
     "execution_count": 46,
     "metadata": {},
     "output_type": "execute_result"
    }
   ],
   "source": [
    "example = np.array(prediction)[3,:]\n",
    "example"
   ]
  },
  {
   "cell_type": "code",
   "execution_count": 47,
   "id": "3b0a9a8e",
   "metadata": {},
   "outputs": [
    {
     "data": {
      "text/plain": [
       "0.005"
      ]
     },
     "execution_count": 47,
     "metadata": {},
     "output_type": "execute_result"
    }
   ],
   "source": [
    "example.mean()"
   ]
  },
  {
   "cell_type": "code",
   "execution_count": 48,
   "id": "97ae6ce7",
   "metadata": {},
   "outputs": [
    {
     "data": {
      "text/plain": [
       "array([  0,   1,   2,   3,   4,   5,   6,   7,   8,   9,  10,  11,  12,\n",
       "        13,  14,  15,  16,  17,  18,  19,  20,  21,  22,  23,  24,  25,\n",
       "        26,  27,  28,  29,  30,  31,  32,  33,  34,  35,  36,  37,  38,\n",
       "        39,  40,  41,  42,  43,  44,  45,  46,  47,  48,  49,  50,  51,\n",
       "        52,  53,  54,  55,  56,  57,  58,  59,  60,  61,  62,  63,  64,\n",
       "        65,  66,  67,  68,  69,  70,  71,  72,  73,  74,  75,  76,  77,\n",
       "        78,  79,  80,  81,  82,  83,  84,  85,  86,  87,  88,  89,  90,\n",
       "        91,  92,  93,  94,  95,  96,  97,  98,  99, 100, 101, 102, 103,\n",
       "       104, 105, 106, 107, 108, 109, 110, 111, 112, 113, 114, 115, 116,\n",
       "       117, 118, 119, 120, 121, 122, 123, 124, 125, 126, 127, 128, 129,\n",
       "       130, 131, 132, 133, 134, 135, 136, 137, 138, 139, 140, 141, 142,\n",
       "       143, 144, 145, 146, 147, 148, 149, 150, 151, 152, 153, 154, 155,\n",
       "       156, 157, 158, 159, 160, 161, 162, 163, 164, 165, 166, 167, 168,\n",
       "       169, 170, 171, 172, 173, 174, 175, 176, 177, 178, 179, 180, 181,\n",
       "       182, 183, 184, 185, 186, 187, 188, 189, 190, 191, 192, 193, 194,\n",
       "       195, 196, 197, 198, 199])"
      ]
     },
     "execution_count": 48,
     "metadata": {},
     "output_type": "execute_result"
    }
   ],
   "source": [
    "x = np.arange(0, n_bins)\n",
    "x"
   ]
  },
  {
   "cell_type": "code",
   "execution_count": 49,
   "id": "4325a954",
   "metadata": {},
   "outputs": [
    {
     "data": {
      "text/plain": [
       "145.31650684890337"
      ]
     },
     "execution_count": 49,
     "metadata": {},
     "output_type": "execute_result"
    }
   ],
   "source": [
    "(x*example).sum()"
   ]
  },
  {
   "cell_type": "code",
   "execution_count": 50,
   "id": "18485a80",
   "metadata": {},
   "outputs": [
    {
     "data": {
      "text/plain": [
       "0.005193011"
      ]
     },
     "execution_count": 50,
     "metadata": {},
     "output_type": "execute_result"
    }
   ],
   "source": [
    "example.std()"
   ]
  },
  {
   "cell_type": "code",
   "execution_count": 51,
   "id": "430bb27e",
   "metadata": {},
   "outputs": [
    {
     "data": {
      "text/plain": [
       "43.99047008639411"
      ]
     },
     "execution_count": 51,
     "metadata": {},
     "output_type": "execute_result"
    }
   ],
   "source": [
    "np.sqrt((x**2*example).sum()-(x*example).sum()**2)"
   ]
  },
  {
   "cell_type": "code",
   "execution_count": 52,
   "id": "7fc40bd2",
   "metadata": {},
   "outputs": [
    {
     "data": {
      "text/plain": [
       "array([3.3701e+01, 1.0000e-02, 2.9312e+01, 1.0000e-02, 3.8200e+02,\n",
       "       7.6400e-02, 1.5600e+02])"
      ]
     },
     "execution_count": 52,
     "metadata": {},
     "output_type": "execute_result"
    }
   ],
   "source": [
    "np.array(test)[3,:]"
   ]
  },
  {
   "cell_type": "code",
   "execution_count": 53,
   "id": "65a75987",
   "metadata": {},
   "outputs": [
    {
     "data": {
      "text/plain": [
       "[<matplotlib.lines.Line2D at 0x7f5be7692b90>]"
      ]
     },
     "execution_count": 53,
     "metadata": {},
     "output_type": "execute_result"
    },
    {
     "data": {
      "image/png": "[encoded data removed]",
      "text/plain": [
       "<Figure size 640x480 with 1 Axes>"
      ]
     },
     "metadata": {},
     "output_type": "display_data"
    }
   ],
   "source": [
    "x = np.arange(0, n_bins)\n",
    "plt.plot(x, example)"
   ]
  },
  {
   "cell_type": "code",
   "execution_count": 41,
   "id": "10ae744f",
   "metadata": {},
   "outputs": [
    {
     "ename": "KeyError",
     "evalue": "'q_label'",
     "output_type": "error",
     "traceback": [
      "\u001b[0;31m---------------------------------------------------------------------------\u001b[0m",
      "\u001b[0;31mKeyError\u001b[0m                                  Traceback (most recent call last)",
      "File \u001b[0;32m~/anaconda3/envs/dask/lib/python3.11/site-packages/pandas/core/indexes/base.py:3802\u001b[0m, in \u001b[0;36mIndex.get_loc\u001b[0;34m(self, key, method, tolerance)\u001b[0m\n\u001b[1;32m   3801\u001b[0m \u001b[38;5;28;01mtry\u001b[39;00m:\n\u001b[0;32m-> 3802\u001b[0m     \u001b[38;5;28;01mreturn\u001b[39;00m \u001b[38;5;28;43mself\u001b[39;49m\u001b[38;5;241;43m.\u001b[39;49m\u001b[43m_engine\u001b[49m\u001b[38;5;241;43m.\u001b[39;49m\u001b[43mget_loc\u001b[49m\u001b[43m(\u001b[49m\u001b[43mcasted_key\u001b[49m\u001b[43m)\u001b[49m\n\u001b[1;32m   3803\u001b[0m \u001b[38;5;28;01mexcept\u001b[39;00m \u001b[38;5;167;01mKeyError\u001b[39;00m \u001b[38;5;28;01mas\u001b[39;00m err:\n",
      "File \u001b[0;32m~/anaconda3/envs/dask/lib/python3.11/site-packages/pandas/_libs/index.pyx:138\u001b[0m, in \u001b[0;36mpandas._libs.index.IndexEngine.get_loc\u001b[0;34m()\u001b[0m\n",
      "File \u001b[0;32m~/anaconda3/envs/dask/lib/python3.11/site-packages/pandas/_libs/index.pyx:165\u001b[0m, in \u001b[0;36mpandas._libs.index.IndexEngine.get_loc\u001b[0;34m()\u001b[0m\n",
      "File \u001b[0;32mpandas/_libs/hashtable_class_helper.pxi:5745\u001b[0m, in \u001b[0;36mpandas._libs.hashtable.PyObjectHashTable.get_item\u001b[0;34m()\u001b[0m\n",
      "File \u001b[0;32mpandas/_libs/hashtable_class_helper.pxi:5753\u001b[0m, in \u001b[0;36mpandas._libs.hashtable.PyObjectHashTable.get_item\u001b[0;34m()\u001b[0m\n",
      "\u001b[0;31mKeyError\u001b[0m: 'q_label'",
      "\nThe above exception was the direct cause of the following exception:\n",
      "\u001b[0;31mKeyError\u001b[0m                                  Traceback (most recent call last)",
      "Cell \u001b[0;32mIn[41], line 1\u001b[0m\n\u001b[0;32m----> 1\u001b[0m \u001b[43mbhbh\u001b[49m\u001b[43m[\u001b[49m\u001b[38;5;124;43m'\u001b[39;49m\u001b[38;5;124;43mq_label\u001b[39;49m\u001b[38;5;124;43m'\u001b[39;49m\u001b[43m]\u001b[49m[\u001b[38;5;241m60001\u001b[39m]\n",
      "File \u001b[0;32m~/anaconda3/envs/dask/lib/python3.11/site-packages/pandas/core/frame.py:3807\u001b[0m, in \u001b[0;36mDataFrame.__getitem__\u001b[0;34m(self, key)\u001b[0m\n\u001b[1;32m   3805\u001b[0m \u001b[38;5;28;01mif\u001b[39;00m \u001b[38;5;28mself\u001b[39m\u001b[38;5;241m.\u001b[39mcolumns\u001b[38;5;241m.\u001b[39mnlevels \u001b[38;5;241m>\u001b[39m \u001b[38;5;241m1\u001b[39m:\n\u001b[1;32m   3806\u001b[0m     \u001b[38;5;28;01mreturn\u001b[39;00m \u001b[38;5;28mself\u001b[39m\u001b[38;5;241m.\u001b[39m_getitem_multilevel(key)\n\u001b[0;32m-> 3807\u001b[0m indexer \u001b[38;5;241m=\u001b[39m \u001b[38;5;28;43mself\u001b[39;49m\u001b[38;5;241;43m.\u001b[39;49m\u001b[43mcolumns\u001b[49m\u001b[38;5;241;43m.\u001b[39;49m\u001b[43mget_loc\u001b[49m\u001b[43m(\u001b[49m\u001b[43mkey\u001b[49m\u001b[43m)\u001b[49m\n\u001b[1;32m   3808\u001b[0m \u001b[38;5;28;01mif\u001b[39;00m is_integer(indexer):\n\u001b[1;32m   3809\u001b[0m     indexer \u001b[38;5;241m=\u001b[39m [indexer]\n",
      "File \u001b[0;32m~/anaconda3/envs/dask/lib/python3.11/site-packages/pandas/core/indexes/base.py:3804\u001b[0m, in \u001b[0;36mIndex.get_loc\u001b[0;34m(self, key, method, tolerance)\u001b[0m\n\u001b[1;32m   3802\u001b[0m     \u001b[38;5;28;01mreturn\u001b[39;00m \u001b[38;5;28mself\u001b[39m\u001b[38;5;241m.\u001b[39m_engine\u001b[38;5;241m.\u001b[39mget_loc(casted_key)\n\u001b[1;32m   3803\u001b[0m \u001b[38;5;28;01mexcept\u001b[39;00m \u001b[38;5;167;01mKeyError\u001b[39;00m \u001b[38;5;28;01mas\u001b[39;00m err:\n\u001b[0;32m-> 3804\u001b[0m     \u001b[38;5;28;01mraise\u001b[39;00m \u001b[38;5;167;01mKeyError\u001b[39;00m(key) \u001b[38;5;28;01mfrom\u001b[39;00m \u001b[38;5;21;01merr\u001b[39;00m\n\u001b[1;32m   3805\u001b[0m \u001b[38;5;28;01mexcept\u001b[39;00m \u001b[38;5;167;01mTypeError\u001b[39;00m:\n\u001b[1;32m   3806\u001b[0m     \u001b[38;5;66;03m# If we have a listlike key, _check_indexing_error will raise\u001b[39;00m\n\u001b[1;32m   3807\u001b[0m     \u001b[38;5;66;03m#  InvalidIndexError. Otherwise we fall through and re-raise\u001b[39;00m\n\u001b[1;32m   3808\u001b[0m     \u001b[38;5;66;03m#  the TypeError.\u001b[39;00m\n\u001b[1;32m   3809\u001b[0m     \u001b[38;5;28mself\u001b[39m\u001b[38;5;241m.\u001b[39m_check_indexing_error(key)\n",
      "\u001b[0;31mKeyError\u001b[0m: 'q_label'"
     ]
    }
   ],
   "source": [
    "bhbh['q_label'][60001]"
   ]
  },
  {
   "cell_type": "code",
   "execution_count": 42,
   "id": "7b2f3c88",
   "metadata": {},
   "outputs": [
    {
     "data": {
      "text/plain": [
       "(20474,)"
      ]
     },
     "execution_count": 42,
     "metadata": {},
     "output_type": "execute_result"
    }
   ],
   "source": [
    "prediction_tot = np.argmax(a, axis=1)\n",
    "prediction_tot.shape"
   ]
  },
  {
   "cell_type": "code",
   "execution_count": 43,
   "id": "b5a58da4",
   "metadata": {},
   "outputs": [
    {
     "ename": "ValueError",
     "evalue": "x and y must be the same size",
     "output_type": "error",
     "traceback": [
      "\u001b[0;31m---------------------------------------------------------------------------\u001b[0m",
      "\u001b[0;31mValueError\u001b[0m                                Traceback (most recent call last)",
      "Cell \u001b[0;32mIn[43], line 1\u001b[0m\n\u001b[0;32m----> 1\u001b[0m \u001b[43mplt\u001b[49m\u001b[38;5;241;43m.\u001b[39;49m\u001b[43mscatter\u001b[49m\u001b[43m(\u001b[49m\u001b[43m \u001b[49m\u001b[43mprediction_tot\u001b[49m\u001b[43m,\u001b[49m\u001b[43m \u001b[49m\u001b[43mbhbh\u001b[49m\u001b[43m[\u001b[49m\u001b[38;5;124;43m'\u001b[39;49m\u001b[38;5;124;43mq\u001b[39;49m\u001b[38;5;124;43m'\u001b[39;49m\u001b[43m]\u001b[49m\u001b[43m[\u001b[49m\u001b[38;5;241;43m60000\u001b[39;49m\u001b[43m:\u001b[49m\u001b[38;5;241;43m70000\u001b[39;49m\u001b[43m]\u001b[49m\u001b[43m,\u001b[49m\u001b[43m \u001b[49m\u001b[43ms\u001b[49m\u001b[38;5;241;43m=\u001b[39;49m\u001b[38;5;241;43m0.5\u001b[39;49m\u001b[43m,\u001b[49m\u001b[43m \u001b[49m\u001b[43malpha\u001b[49m\u001b[38;5;241;43m=\u001b[39;49m\u001b[38;5;241;43m0.5\u001b[39;49m\u001b[43m)\u001b[49m\n",
      "File \u001b[0;32m~/anaconda3/envs/dask/lib/python3.11/site-packages/matplotlib/pyplot.py:2862\u001b[0m, in \u001b[0;36mscatter\u001b[0;34m(x, y, s, c, marker, cmap, norm, vmin, vmax, alpha, linewidths, edgecolors, plotnonfinite, data, **kwargs)\u001b[0m\n\u001b[1;32m   2857\u001b[0m \u001b[38;5;129m@_copy_docstring_and_deprecators\u001b[39m(Axes\u001b[38;5;241m.\u001b[39mscatter)\n\u001b[1;32m   2858\u001b[0m \u001b[38;5;28;01mdef\u001b[39;00m \u001b[38;5;21mscatter\u001b[39m(\n\u001b[1;32m   2859\u001b[0m         x, y, s\u001b[38;5;241m=\u001b[39m\u001b[38;5;28;01mNone\u001b[39;00m, c\u001b[38;5;241m=\u001b[39m\u001b[38;5;28;01mNone\u001b[39;00m, marker\u001b[38;5;241m=\u001b[39m\u001b[38;5;28;01mNone\u001b[39;00m, cmap\u001b[38;5;241m=\u001b[39m\u001b[38;5;28;01mNone\u001b[39;00m, norm\u001b[38;5;241m=\u001b[39m\u001b[38;5;28;01mNone\u001b[39;00m,\n\u001b[1;32m   2860\u001b[0m         vmin\u001b[38;5;241m=\u001b[39m\u001b[38;5;28;01mNone\u001b[39;00m, vmax\u001b[38;5;241m=\u001b[39m\u001b[38;5;28;01mNone\u001b[39;00m, alpha\u001b[38;5;241m=\u001b[39m\u001b[38;5;28;01mNone\u001b[39;00m, linewidths\u001b[38;5;241m=\u001b[39m\u001b[38;5;28;01mNone\u001b[39;00m, \u001b[38;5;241m*\u001b[39m,\n\u001b[1;32m   2861\u001b[0m         edgecolors\u001b[38;5;241m=\u001b[39m\u001b[38;5;28;01mNone\u001b[39;00m, plotnonfinite\u001b[38;5;241m=\u001b[39m\u001b[38;5;28;01mFalse\u001b[39;00m, data\u001b[38;5;241m=\u001b[39m\u001b[38;5;28;01mNone\u001b[39;00m, \u001b[38;5;241m*\u001b[39m\u001b[38;5;241m*\u001b[39mkwargs):\n\u001b[0;32m-> 2862\u001b[0m     __ret \u001b[38;5;241m=\u001b[39m \u001b[43mgca\u001b[49m\u001b[43m(\u001b[49m\u001b[43m)\u001b[49m\u001b[38;5;241;43m.\u001b[39;49m\u001b[43mscatter\u001b[49m\u001b[43m(\u001b[49m\n\u001b[1;32m   2863\u001b[0m \u001b[43m        \u001b[49m\u001b[43mx\u001b[49m\u001b[43m,\u001b[49m\u001b[43m \u001b[49m\u001b[43my\u001b[49m\u001b[43m,\u001b[49m\u001b[43m \u001b[49m\u001b[43ms\u001b[49m\u001b[38;5;241;43m=\u001b[39;49m\u001b[43ms\u001b[49m\u001b[43m,\u001b[49m\u001b[43m \u001b[49m\u001b[43mc\u001b[49m\u001b[38;5;241;43m=\u001b[39;49m\u001b[43mc\u001b[49m\u001b[43m,\u001b[49m\u001b[43m \u001b[49m\u001b[43mmarker\u001b[49m\u001b[38;5;241;43m=\u001b[39;49m\u001b[43mmarker\u001b[49m\u001b[43m,\u001b[49m\u001b[43m \u001b[49m\u001b[43mcmap\u001b[49m\u001b[38;5;241;43m=\u001b[39;49m\u001b[43mcmap\u001b[49m\u001b[43m,\u001b[49m\u001b[43m \u001b[49m\u001b[43mnorm\u001b[49m\u001b[38;5;241;43m=\u001b[39;49m\u001b[43mnorm\u001b[49m\u001b[43m,\u001b[49m\n\u001b[1;32m   2864\u001b[0m \u001b[43m        \u001b[49m\u001b[43mvmin\u001b[49m\u001b[38;5;241;43m=\u001b[39;49m\u001b[43mvmin\u001b[49m\u001b[43m,\u001b[49m\u001b[43m \u001b[49m\u001b[43mvmax\u001b[49m\u001b[38;5;241;43m=\u001b[39;49m\u001b[43mvmax\u001b[49m\u001b[43m,\u001b[49m\u001b[43m \u001b[49m\u001b[43malpha\u001b[49m\u001b[38;5;241;43m=\u001b[39;49m\u001b[43malpha\u001b[49m\u001b[43m,\u001b[49m\u001b[43m \u001b[49m\u001b[43mlinewidths\u001b[49m\u001b[38;5;241;43m=\u001b[39;49m\u001b[43mlinewidths\u001b[49m\u001b[43m,\u001b[49m\n\u001b[1;32m   2865\u001b[0m \u001b[43m        \u001b[49m\u001b[43medgecolors\u001b[49m\u001b[38;5;241;43m=\u001b[39;49m\u001b[43medgecolors\u001b[49m\u001b[43m,\u001b[49m\u001b[43m \u001b[49m\u001b[43mplotnonfinite\u001b[49m\u001b[38;5;241;43m=\u001b[39;49m\u001b[43mplotnonfinite\u001b[49m\u001b[43m,\u001b[49m\n\u001b[1;32m   2866\u001b[0m \u001b[43m        \u001b[49m\u001b[38;5;241;43m*\u001b[39;49m\u001b[38;5;241;43m*\u001b[39;49m\u001b[43m(\u001b[49m\u001b[43m{\u001b[49m\u001b[38;5;124;43m\"\u001b[39;49m\u001b[38;5;124;43mdata\u001b[39;49m\u001b[38;5;124;43m\"\u001b[39;49m\u001b[43m:\u001b[49m\u001b[43m \u001b[49m\u001b[43mdata\u001b[49m\u001b[43m}\u001b[49m\u001b[43m \u001b[49m\u001b[38;5;28;43;01mif\u001b[39;49;00m\u001b[43m \u001b[49m\u001b[43mdata\u001b[49m\u001b[43m \u001b[49m\u001b[38;5;129;43;01mis\u001b[39;49;00m\u001b[43m \u001b[49m\u001b[38;5;129;43;01mnot\u001b[39;49;00m\u001b[43m \u001b[49m\u001b[38;5;28;43;01mNone\u001b[39;49;00m\u001b[43m \u001b[49m\u001b[38;5;28;43;01melse\u001b[39;49;00m\u001b[43m \u001b[49m\u001b[43m{\u001b[49m\u001b[43m}\u001b[49m\u001b[43m)\u001b[49m\u001b[43m,\u001b[49m\u001b[43m \u001b[49m\u001b[38;5;241;43m*\u001b[39;49m\u001b[38;5;241;43m*\u001b[39;49m\u001b[43mkwargs\u001b[49m\u001b[43m)\u001b[49m\n\u001b[1;32m   2867\u001b[0m     sci(__ret)\n\u001b[1;32m   2868\u001b[0m     \u001b[38;5;28;01mreturn\u001b[39;00m __ret\n",
      "File \u001b[0;32m~/anaconda3/envs/dask/lib/python3.11/site-packages/matplotlib/__init__.py:1442\u001b[0m, in \u001b[0;36m_preprocess_data.<locals>.inner\u001b[0;34m(ax, data, *args, **kwargs)\u001b[0m\n\u001b[1;32m   1439\u001b[0m \u001b[38;5;129m@functools\u001b[39m\u001b[38;5;241m.\u001b[39mwraps(func)\n\u001b[1;32m   1440\u001b[0m \u001b[38;5;28;01mdef\u001b[39;00m \u001b[38;5;21minner\u001b[39m(ax, \u001b[38;5;241m*\u001b[39margs, data\u001b[38;5;241m=\u001b[39m\u001b[38;5;28;01mNone\u001b[39;00m, \u001b[38;5;241m*\u001b[39m\u001b[38;5;241m*\u001b[39mkwargs):\n\u001b[1;32m   1441\u001b[0m     \u001b[38;5;28;01mif\u001b[39;00m data \u001b[38;5;129;01mis\u001b[39;00m \u001b[38;5;28;01mNone\u001b[39;00m:\n\u001b[0;32m-> 1442\u001b[0m         \u001b[38;5;28;01mreturn\u001b[39;00m \u001b[43mfunc\u001b[49m\u001b[43m(\u001b[49m\u001b[43max\u001b[49m\u001b[43m,\u001b[49m\u001b[43m \u001b[49m\u001b[38;5;241;43m*\u001b[39;49m\u001b[38;5;28;43mmap\u001b[39;49m\u001b[43m(\u001b[49m\u001b[43msanitize_sequence\u001b[49m\u001b[43m,\u001b[49m\u001b[43m \u001b[49m\u001b[43margs\u001b[49m\u001b[43m)\u001b[49m\u001b[43m,\u001b[49m\u001b[43m \u001b[49m\u001b[38;5;241;43m*\u001b[39;49m\u001b[38;5;241;43m*\u001b[39;49m\u001b[43mkwargs\u001b[49m\u001b[43m)\u001b[49m\n\u001b[1;32m   1444\u001b[0m     bound \u001b[38;5;241m=\u001b[39m new_sig\u001b[38;5;241m.\u001b[39mbind(ax, \u001b[38;5;241m*\u001b[39margs, \u001b[38;5;241m*\u001b[39m\u001b[38;5;241m*\u001b[39mkwargs)\n\u001b[1;32m   1445\u001b[0m     auto_label \u001b[38;5;241m=\u001b[39m (bound\u001b[38;5;241m.\u001b[39marguments\u001b[38;5;241m.\u001b[39mget(label_namer)\n\u001b[1;32m   1446\u001b[0m                   \u001b[38;5;129;01mor\u001b[39;00m bound\u001b[38;5;241m.\u001b[39mkwargs\u001b[38;5;241m.\u001b[39mget(label_namer))\n",
      "File \u001b[0;32m~/anaconda3/envs/dask/lib/python3.11/site-packages/matplotlib/axes/_axes.py:4584\u001b[0m, in \u001b[0;36mAxes.scatter\u001b[0;34m(self, x, y, s, c, marker, cmap, norm, vmin, vmax, alpha, linewidths, edgecolors, plotnonfinite, **kwargs)\u001b[0m\n\u001b[1;32m   4582\u001b[0m y \u001b[38;5;241m=\u001b[39m np\u001b[38;5;241m.\u001b[39mma\u001b[38;5;241m.\u001b[39mravel(y)\n\u001b[1;32m   4583\u001b[0m \u001b[38;5;28;01mif\u001b[39;00m x\u001b[38;5;241m.\u001b[39msize \u001b[38;5;241m!=\u001b[39m y\u001b[38;5;241m.\u001b[39msize:\n\u001b[0;32m-> 4584\u001b[0m     \u001b[38;5;28;01mraise\u001b[39;00m \u001b[38;5;167;01mValueError\u001b[39;00m(\u001b[38;5;124m\"\u001b[39m\u001b[38;5;124mx and y must be the same size\u001b[39m\u001b[38;5;124m\"\u001b[39m)\n\u001b[1;32m   4586\u001b[0m \u001b[38;5;28;01mif\u001b[39;00m s \u001b[38;5;129;01mis\u001b[39;00m \u001b[38;5;28;01mNone\u001b[39;00m:\n\u001b[1;32m   4587\u001b[0m     s \u001b[38;5;241m=\u001b[39m (\u001b[38;5;241m20\u001b[39m \u001b[38;5;28;01mif\u001b[39;00m mpl\u001b[38;5;241m.\u001b[39mrcParams[\u001b[38;5;124m'\u001b[39m\u001b[38;5;124m_internal.classic_mode\u001b[39m\u001b[38;5;124m'\u001b[39m] \u001b[38;5;28;01melse\u001b[39;00m\n\u001b[1;32m   4588\u001b[0m          mpl\u001b[38;5;241m.\u001b[39mrcParams[\u001b[38;5;124m'\u001b[39m\u001b[38;5;124mlines.markersize\u001b[39m\u001b[38;5;124m'\u001b[39m] \u001b[38;5;241m*\u001b[39m\u001b[38;5;241m*\u001b[39m \u001b[38;5;241m2.0\u001b[39m)\n",
      "\u001b[0;31mValueError\u001b[0m: x and y must be the same size"
     ]
    },
    {
     "data": {
      "image/png": "[encoded data removed]",
      "text/plain": [
       "<Figure size 640x480 with 1 Axes>"
      ]
     },
     "metadata": {},
     "output_type": "display_data"
    }
   ],
   "source": [
    "plt.scatter( prediction_tot, bhbh['q'][60000:70000], s=0.5, alpha=0.5)"
   ]
  },
  {
   "cell_type": "code",
   "execution_count": 29,
   "id": "07ee6d2d",
   "metadata": {},
   "outputs": [
    {
     "ename": "NameError",
     "evalue": "name 'prediction_tot' is not defined",
     "output_type": "error",
     "traceback": [
      "\u001b[0;31m---------------------------------------------------------------------------\u001b[0m",
      "\u001b[0;31mNameError\u001b[0m                                 Traceback (most recent call last)",
      "Cell \u001b[0;32mIn[29], line 1\u001b[0m\n\u001b[0;32m----> 1\u001b[0m plt\u001b[38;5;241m.\u001b[39mhist(\u001b[43mprediction_tot\u001b[49m);\n\u001b[1;32m      2\u001b[0m plt\u001b[38;5;241m.\u001b[39mhist(bhbh[\u001b[38;5;124m'\u001b[39m\u001b[38;5;124mq_label\u001b[39m\u001b[38;5;124m'\u001b[39m][\u001b[38;5;241m60000\u001b[39m:\u001b[38;5;241m70000\u001b[39m], alpha\u001b[38;5;241m=\u001b[39m\u001b[38;5;241m0.5\u001b[39m);\n",
      "\u001b[0;31mNameError\u001b[0m: name 'prediction_tot' is not defined"
     ]
    }
   ],
   "source": [
    "plt.hist(prediction_tot);\n",
    "plt.hist(bhbh['q_label'][60000:70000], alpha=0.5);"
   ]
  },
  {
   "cell_type": "code",
   "execution_count": 30,
   "id": "30bdd5c4",
   "metadata": {
    "scrolled": false
   },
   "outputs": [
    {
     "data": {
      "image/png": "[encoded data removed]",
      "text/plain": [
       "<Figure size 640x480 with 1 Axes>"
      ]
     },
     "metadata": {},
     "output_type": "display_data"
    }
   ],
   "source": [
    "plt.hist(bhbh['q'], bins=100, log=True);"
   ]
  },
  {
   "cell_type": "code",
   "execution_count": null,
   "id": "5dfca718",
   "metadata": {},
   "outputs": [],
   "source": []
  }
 ],
 "metadata": {
  "kernelspec": {
   "display_name": "Python 3 (ipykernel)",
   "language": "python",
   "name": "python3"
  },
  "language_info": {
   "codemirror_mode": {
    "name": "ipython",
    "version": 3
   },
   "file_extension": ".py",
   "mimetype": "text/x-python",
   "name": "python",
   "nbconvert_exporter": "python",
   "pygments_lexer": "ipython3",
   "version": "3.11.3"
  }
 },
 "nbformat": 4,
 "nbformat_minor": 5
}
