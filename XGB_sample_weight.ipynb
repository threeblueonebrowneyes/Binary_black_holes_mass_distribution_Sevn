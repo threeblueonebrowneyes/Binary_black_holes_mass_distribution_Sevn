{
 "cells": [
  {
   "cell_type": "code",
   "execution_count": 15,
   "id": "c344675b-3476-4b3f-8dfa-01a3b7e0b35d",
   "metadata": {
    "tags": []
   },
   "outputs": [],
   "source": [
    "import numpy as np\n",
    "import pandas as pd\n",
    "import matplotlib.pyplot as plt\n",
    "\n",
    "import xgboost as xgb\n",
    "from xgboost import XGBClassifier\n",
    "from sklearn.preprocessing import LabelEncoder\n",
    "from sklearn.model_selection import train_test_split\n",
    "from sklearn.metrics import confusion_matrix\n",
    "from sklearn.metrics import accuracy_score\n",
    "from sklearn.utils.class_weight import compute_sample_weight\n",
    "from sklearn import metrics"
   ]
  },
  {
   "cell_type": "code",
   "execution_count": 16,
   "id": "745537ff-acb2-4c23-89e0-cfc77dd7747e",
   "metadata": {
    "tags": []
   },
   "outputs": [
    {
     "data": {
      "text/html": [
       "<div>\n",
       "<style scoped>\n",
       "    .dataframe tbody tr th:only-of-type {\n",
       "        vertical-align: middle;\n",
       "    }\n",
       "\n",
       "    .dataframe tbody tr th {\n",
       "        vertical-align: top;\n",
       "    }\n",
       "\n",
       "    .dataframe thead th {\n",
       "        text-align: right;\n",
       "    }\n",
       "</style>\n",
       "<table border=\"1\" class=\"dataframe\">\n",
       "  <thead>\n",
       "    <tr style=\"text-align: right;\">\n",
       "      <th></th>\n",
       "      <th>Unnamed: 0</th>\n",
       "      <th>name</th>\n",
       "      <th>Mass_0</th>\n",
       "      <th>Z_0</th>\n",
       "      <th>Mass_1</th>\n",
       "      <th>a</th>\n",
       "      <th>e</th>\n",
       "      <th>Mass_0_out</th>\n",
       "      <th>Mass_1_out</th>\n",
       "      <th>GWtime</th>\n",
       "      <th>BWorldtime</th>\n",
       "      <th>RLO</th>\n",
       "      <th>CE</th>\n",
       "      <th>tdelay</th>\n",
       "      <th>Mass_max_out</th>\n",
       "      <th>q</th>\n",
       "      <th>Mass_chirp</th>\n",
       "    </tr>\n",
       "  </thead>\n",
       "  <tbody>\n",
       "    <tr>\n",
       "      <th>0</th>\n",
       "      <td>0</td>\n",
       "      <td>0_892687128228499</td>\n",
       "      <td>34.044</td>\n",
       "      <td>0.0001</td>\n",
       "      <td>26.514</td>\n",
       "      <td>1850.0</td>\n",
       "      <td>0.0535</td>\n",
       "      <td>33.47953</td>\n",
       "      <td>10.136270</td>\n",
       "      <td>1.063429e+11</td>\n",
       "      <td>6.826057</td>\n",
       "      <td>0.0</td>\n",
       "      <td>2.0</td>\n",
       "      <td>1.063429e+11</td>\n",
       "      <td>10.136270</td>\n",
       "      <td>0.302760</td>\n",
       "      <td>15.504785</td>\n",
       "    </tr>\n",
       "    <tr>\n",
       "      <th>1</th>\n",
       "      <td>1</td>\n",
       "      <td>0_853530625884132</td>\n",
       "      <td>72.066</td>\n",
       "      <td>0.0001</td>\n",
       "      <td>27.308</td>\n",
       "      <td>2980.0</td>\n",
       "      <td>0.6550</td>\n",
       "      <td>35.86105</td>\n",
       "      <td>6.408674</td>\n",
       "      <td>5.383296e+05</td>\n",
       "      <td>6.673187</td>\n",
       "      <td>1.0</td>\n",
       "      <td>1.0</td>\n",
       "      <td>5.383363e+05</td>\n",
       "      <td>6.408674</td>\n",
       "      <td>0.178708</td>\n",
       "      <td>12.348916</td>\n",
       "    </tr>\n",
       "    <tr>\n",
       "      <th>2</th>\n",
       "      <td>2</td>\n",
       "      <td>0_663761388951870</td>\n",
       "      <td>45.129</td>\n",
       "      <td>0.0001</td>\n",
       "      <td>43.875</td>\n",
       "      <td>8900.0</td>\n",
       "      <td>0.8860</td>\n",
       "      <td>44.50211</td>\n",
       "      <td>43.256140</td>\n",
       "      <td>2.696385e+10</td>\n",
       "      <td>4.636688</td>\n",
       "      <td>0.0</td>\n",
       "      <td>0.0</td>\n",
       "      <td>2.696385e+10</td>\n",
       "      <td>43.256140</td>\n",
       "      <td>0.972002</td>\n",
       "      <td>38.194377</td>\n",
       "    </tr>\n",
       "    <tr>\n",
       "      <th>3</th>\n",
       "      <td>3</td>\n",
       "      <td>0_288577009013924</td>\n",
       "      <td>91.090</td>\n",
       "      <td>0.0001</td>\n",
       "      <td>53.664</td>\n",
       "      <td>7730.0</td>\n",
       "      <td>0.6940</td>\n",
       "      <td>38.06668</td>\n",
       "      <td>53.322640</td>\n",
       "      <td>1.109533e+11</td>\n",
       "      <td>4.094508</td>\n",
       "      <td>1.0</td>\n",
       "      <td>0.0</td>\n",
       "      <td>1.109533e+11</td>\n",
       "      <td>38.066680</td>\n",
       "      <td>0.713893</td>\n",
       "      <td>39.110638</td>\n",
       "    </tr>\n",
       "    <tr>\n",
       "      <th>4</th>\n",
       "      <td>4</td>\n",
       "      <td>0_736350695048425</td>\n",
       "      <td>53.827</td>\n",
       "      <td>0.0001</td>\n",
       "      <td>38.009</td>\n",
       "      <td>15200.0</td>\n",
       "      <td>0.0196</td>\n",
       "      <td>53.10823</td>\n",
       "      <td>37.424980</td>\n",
       "      <td>4.710726e+13</td>\n",
       "      <td>5.119633</td>\n",
       "      <td>0.0</td>\n",
       "      <td>0.0</td>\n",
       "      <td>4.710726e+13</td>\n",
       "      <td>37.424980</td>\n",
       "      <td>0.704693</td>\n",
       "      <td>38.693005</td>\n",
       "    </tr>\n",
       "    <tr>\n",
       "      <th>...</th>\n",
       "      <td>...</td>\n",
       "      <td>...</td>\n",
       "      <td>...</td>\n",
       "      <td>...</td>\n",
       "      <td>...</td>\n",
       "      <td>...</td>\n",
       "      <td>...</td>\n",
       "      <td>...</td>\n",
       "      <td>...</td>\n",
       "      <td>...</td>\n",
       "      <td>...</td>\n",
       "      <td>...</td>\n",
       "      <td>...</td>\n",
       "      <td>...</td>\n",
       "      <td>...</td>\n",
       "      <td>...</td>\n",
       "      <td>...</td>\n",
       "    </tr>\n",
       "    <tr>\n",
       "      <th>81888</th>\n",
       "      <td>331</td>\n",
       "      <td>0_133330331314376</td>\n",
       "      <td>24.346</td>\n",
       "      <td>0.0100</td>\n",
       "      <td>24.215</td>\n",
       "      <td>7570.0</td>\n",
       "      <td>0.0716</td>\n",
       "      <td>20.10294</td>\n",
       "      <td>20.050940</td>\n",
       "      <td>5.588582e+13</td>\n",
       "      <td>7.316824</td>\n",
       "      <td>0.0</td>\n",
       "      <td>0.0</td>\n",
       "      <td>5.588582e+13</td>\n",
       "      <td>20.050940</td>\n",
       "      <td>0.997413</td>\n",
       "      <td>17.477974</td>\n",
       "    </tr>\n",
       "    <tr>\n",
       "      <th>81889</th>\n",
       "      <td>332</td>\n",
       "      <td>0_386148050098142</td>\n",
       "      <td>119.702</td>\n",
       "      <td>0.0100</td>\n",
       "      <td>84.740</td>\n",
       "      <td>81600.0</td>\n",
       "      <td>0.3620</td>\n",
       "      <td>41.13939</td>\n",
       "      <td>34.333730</td>\n",
       "      <td>1.901373e+18</td>\n",
       "      <td>3.272379</td>\n",
       "      <td>0.0</td>\n",
       "      <td>0.0</td>\n",
       "      <td>1.901373e+18</td>\n",
       "      <td>34.333730</td>\n",
       "      <td>0.834571</td>\n",
       "      <td>32.691048</td>\n",
       "    </tr>\n",
       "    <tr>\n",
       "      <th>81890</th>\n",
       "      <td>333</td>\n",
       "      <td>0_272337824410863</td>\n",
       "      <td>56.315</td>\n",
       "      <td>0.0100</td>\n",
       "      <td>34.050</td>\n",
       "      <td>11500.0</td>\n",
       "      <td>0.6130</td>\n",
       "      <td>23.80512</td>\n",
       "      <td>22.512770</td>\n",
       "      <td>2.610532e+14</td>\n",
       "      <td>5.458789</td>\n",
       "      <td>0.0</td>\n",
       "      <td>0.0</td>\n",
       "      <td>2.610532e+14</td>\n",
       "      <td>22.512770</td>\n",
       "      <td>0.945711</td>\n",
       "      <td>20.151614</td>\n",
       "    </tr>\n",
       "    <tr>\n",
       "      <th>81891</th>\n",
       "      <td>334</td>\n",
       "      <td>0_862589532557700</td>\n",
       "      <td>104.790</td>\n",
       "      <td>0.0100</td>\n",
       "      <td>44.480</td>\n",
       "      <td>93300.0</td>\n",
       "      <td>0.6480</td>\n",
       "      <td>38.47061</td>\n",
       "      <td>20.186010</td>\n",
       "      <td>1.457729e+18</td>\n",
       "      <td>4.544498</td>\n",
       "      <td>0.0</td>\n",
       "      <td>0.0</td>\n",
       "      <td>1.457729e+18</td>\n",
       "      <td>20.186010</td>\n",
       "      <td>0.524713</td>\n",
       "      <td>24.012884</td>\n",
       "    </tr>\n",
       "    <tr>\n",
       "      <th>81892</th>\n",
       "      <td>335</td>\n",
       "      <td>0_439536525856219</td>\n",
       "      <td>108.675</td>\n",
       "      <td>0.0100</td>\n",
       "      <td>87.443</td>\n",
       "      <td>338.0</td>\n",
       "      <td>0.4890</td>\n",
       "      <td>38.87282</td>\n",
       "      <td>30.039960</td>\n",
       "      <td>3.204613e+07</td>\n",
       "      <td>3.235191</td>\n",
       "      <td>2.0</td>\n",
       "      <td>0.0</td>\n",
       "      <td>3.204613e+07</td>\n",
       "      <td>30.039960</td>\n",
       "      <td>0.772775</td>\n",
       "      <td>29.699373</td>\n",
       "    </tr>\n",
       "  </tbody>\n",
       "</table>\n",
       "<p>81893 rows × 17 columns</p>\n",
       "</div>"
      ],
      "text/plain": [
       "       Unnamed: 0               name   Mass_0     Z_0  Mass_1        a  \\\n",
       "0               0  0_892687128228499   34.044  0.0001  26.514   1850.0   \n",
       "1               1  0_853530625884132   72.066  0.0001  27.308   2980.0   \n",
       "2               2  0_663761388951870   45.129  0.0001  43.875   8900.0   \n",
       "3               3  0_288577009013924   91.090  0.0001  53.664   7730.0   \n",
       "4               4  0_736350695048425   53.827  0.0001  38.009  15200.0   \n",
       "...           ...                ...      ...     ...     ...      ...   \n",
       "81888         331  0_133330331314376   24.346  0.0100  24.215   7570.0   \n",
       "81889         332  0_386148050098142  119.702  0.0100  84.740  81600.0   \n",
       "81890         333  0_272337824410863   56.315  0.0100  34.050  11500.0   \n",
       "81891         334  0_862589532557700  104.790  0.0100  44.480  93300.0   \n",
       "81892         335  0_439536525856219  108.675  0.0100  87.443    338.0   \n",
       "\n",
       "            e  Mass_0_out  Mass_1_out        GWtime  BWorldtime  RLO   CE  \\\n",
       "0      0.0535    33.47953   10.136270  1.063429e+11    6.826057  0.0  2.0   \n",
       "1      0.6550    35.86105    6.408674  5.383296e+05    6.673187  1.0  1.0   \n",
       "2      0.8860    44.50211   43.256140  2.696385e+10    4.636688  0.0  0.0   \n",
       "3      0.6940    38.06668   53.322640  1.109533e+11    4.094508  1.0  0.0   \n",
       "4      0.0196    53.10823   37.424980  4.710726e+13    5.119633  0.0  0.0   \n",
       "...       ...         ...         ...           ...         ...  ...  ...   \n",
       "81888  0.0716    20.10294   20.050940  5.588582e+13    7.316824  0.0  0.0   \n",
       "81889  0.3620    41.13939   34.333730  1.901373e+18    3.272379  0.0  0.0   \n",
       "81890  0.6130    23.80512   22.512770  2.610532e+14    5.458789  0.0  0.0   \n",
       "81891  0.6480    38.47061   20.186010  1.457729e+18    4.544498  0.0  0.0   \n",
       "81892  0.4890    38.87282   30.039960  3.204613e+07    3.235191  2.0  0.0   \n",
       "\n",
       "             tdelay  Mass_max_out         q  Mass_chirp  \n",
       "0      1.063429e+11     10.136270  0.302760   15.504785  \n",
       "1      5.383363e+05      6.408674  0.178708   12.348916  \n",
       "2      2.696385e+10     43.256140  0.972002   38.194377  \n",
       "3      1.109533e+11     38.066680  0.713893   39.110638  \n",
       "4      4.710726e+13     37.424980  0.704693   38.693005  \n",
       "...             ...           ...       ...         ...  \n",
       "81888  5.588582e+13     20.050940  0.997413   17.477974  \n",
       "81889  1.901373e+18     34.333730  0.834571   32.691048  \n",
       "81890  2.610532e+14     22.512770  0.945711   20.151614  \n",
       "81891  1.457729e+18     20.186010  0.524713   24.012884  \n",
       "81892  3.204613e+07     30.039960  0.772775   29.699373  \n",
       "\n",
       "[81893 rows x 17 columns]"
      ]
     },
     "execution_count": 16,
     "metadata": {},
     "output_type": "execute_result"
    }
   ],
   "source": [
    "#import data\n",
    "bhbh = pd.read_csv('BHBH.csv')\n",
    "#fill na\n",
    "bhbh.fillna(0)"
   ]
  },
  {
   "cell_type": "code",
   "execution_count": 21,
   "id": "76af3f12-6349-4971-8c7c-74f375552554",
   "metadata": {
    "tags": []
   },
   "outputs": [
    {
     "name": "stdout",
     "output_type": "stream",
     "text": [
      "bin_edges: 201\n",
      "[   0    0    0    0    0    0    0    0    0    0    0    0    0    1\n",
      "    0    0    0    0    0    0    2    2    3    2    4    8    9   27\n",
      "   25   31   22   27   49   33   49   39   55   46   68   51   72   67\n",
      "   62   56   58   61   82   88   64   76   82   80   71   99   79  113\n",
      "  114  130  107  106  129  115  124  105  122  136  143  143  163  132\n",
      "  121  163  161  140  158  152  209  186  228  207  241  205  223  230\n",
      "  209  216  216  257  255  283  307  294  281  288  310  294  328  315\n",
      "  319  338  293  313  319  357  334  351  333  354  389  359  428  411\n",
      "  392  413  420  459  432  461  420  454  473  454  516  447  496  485\n",
      "  501  516  560  537  531  536  547  569  564  577  592  567  633  627\n",
      "  596  635  654  602  700  642  656  655  652  652  698  664  666  709\n",
      "  697  680  645  725  739  700  669  699  690  780  707  735  777  735\n",
      "  744  769  767  840  808  771  872  887  863  892  874  880  924  927\n",
      "  983  938 1025 1063 1125 1137 1158 1198 1196 1237 1246 1206 1345 1390\n",
      " 1347 1373 1372 1491]\n"
     ]
    },
    {
     "data": {
      "text/plain": [
       "array([ 13,  20,  21,  22,  23,  24,  25,  26,  27,  28,  29,  30,  31,\n",
       "        32,  33,  34,  35,  36,  37,  38,  39,  40,  41,  42,  43,  44,\n",
       "        45,  46,  47,  48,  49,  50,  51,  52,  53,  54,  55,  56,  57,\n",
       "        58,  59,  60,  61,  62,  63,  64,  65,  66,  67,  68,  69,  70,\n",
       "        71,  72,  73,  74,  75,  76,  77,  78,  79,  80,  81,  82,  83,\n",
       "        84,  85,  86,  87,  88,  89,  90,  91,  92,  93,  94,  95,  96,\n",
       "        97,  98,  99, 100, 101, 102, 103, 104, 105, 106, 107, 108, 109,\n",
       "       110, 111, 112, 113, 114, 115, 116, 117, 118, 119, 120, 121, 122,\n",
       "       123, 124, 125, 126, 127, 128, 129, 130, 131, 132, 133, 134, 135,\n",
       "       136, 137, 138, 139, 140, 141, 142, 143, 144, 145, 146, 147, 148,\n",
       "       149, 150, 151, 152, 153, 154, 155, 156, 157, 158, 159, 160, 161,\n",
       "       162, 163, 164, 165, 166, 167, 168, 169, 170, 171, 172, 173, 174,\n",
       "       175, 176, 177, 178, 179, 180, 181, 182, 183, 184, 185, 186, 187,\n",
       "       188, 189, 190, 191, 192, 193, 194, 195, 196, 197, 198, 199])"
      ]
     },
     "execution_count": 21,
     "metadata": {},
     "output_type": "execute_result"
    }
   ],
   "source": [
    "#add column label\n",
    "n_bins = 200\n",
    "\n",
    "# Define the edges between bins\n",
    "counts, bin_edges = np.histogram(bhbh.q.values, bins=n_bins, range=(0.0,1.0))\n",
    "\n",
    "# pd.cut each column, with each bin closed on left and open on right\n",
    "bhbh['label'] = pd.cut(bhbh['q'].values, bins=bin_edges, right=True, labels=False, include_lowest=False)\n",
    "\n",
    "print('bin_edges:', len(bin_edges))\n",
    "print(counts)\n",
    "\n",
    "np.unique(np.array(bhbh['label']))"
   ]
  },
  {
   "cell_type": "code",
   "execution_count": 22,
   "id": "7cfad912-1065-4422-8a88-314f22883adc",
   "metadata": {
    "tags": []
   },
   "outputs": [
    {
     "data": {
      "text/plain": [
       "(array([1.000e+00, 0.000e+00, 0.000e+00, 0.000e+00, 0.000e+00, 0.000e+00,\n",
       "        0.000e+00, 2.000e+00, 2.000e+00, 3.000e+00, 2.000e+00, 4.000e+00,\n",
       "        8.000e+00, 9.000e+00, 0.000e+00, 2.700e+01, 2.500e+01, 3.100e+01,\n",
       "        2.200e+01, 2.700e+01, 4.900e+01, 3.300e+01, 4.900e+01, 3.900e+01,\n",
       "        5.500e+01, 4.600e+01, 6.800e+01, 5.100e+01, 0.000e+00, 7.200e+01,\n",
       "        6.700e+01, 6.200e+01, 5.600e+01, 5.800e+01, 6.100e+01, 8.200e+01,\n",
       "        8.800e+01, 6.400e+01, 7.600e+01, 8.200e+01, 8.000e+01, 7.100e+01,\n",
       "        0.000e+00, 9.900e+01, 7.900e+01, 1.130e+02, 1.140e+02, 1.300e+02,\n",
       "        1.070e+02, 1.060e+02, 1.290e+02, 1.150e+02, 1.240e+02, 1.050e+02,\n",
       "        1.220e+02, 1.360e+02, 1.430e+02, 0.000e+00, 1.430e+02, 1.630e+02,\n",
       "        1.320e+02, 1.210e+02, 1.630e+02, 1.610e+02, 1.400e+02, 1.580e+02,\n",
       "        1.520e+02, 2.090e+02, 1.860e+02, 2.280e+02, 2.070e+02, 0.000e+00,\n",
       "        2.410e+02, 2.050e+02, 2.230e+02, 2.300e+02, 2.090e+02, 2.160e+02,\n",
       "        2.160e+02, 2.570e+02, 2.550e+02, 2.830e+02, 3.070e+02, 2.940e+02,\n",
       "        2.810e+02, 0.000e+00, 2.880e+02, 3.100e+02, 2.940e+02, 3.280e+02,\n",
       "        3.150e+02, 3.190e+02, 3.380e+02, 2.930e+02, 3.130e+02, 3.190e+02,\n",
       "        3.570e+02, 3.340e+02, 3.510e+02, 0.000e+00, 3.330e+02, 3.540e+02,\n",
       "        3.890e+02, 3.590e+02, 4.280e+02, 4.110e+02, 3.920e+02, 4.130e+02,\n",
       "        4.200e+02, 4.590e+02, 4.320e+02, 4.610e+02, 4.200e+02, 4.540e+02,\n",
       "        0.000e+00, 4.730e+02, 4.540e+02, 5.160e+02, 4.470e+02, 4.960e+02,\n",
       "        4.850e+02, 5.010e+02, 5.160e+02, 5.600e+02, 5.370e+02, 5.310e+02,\n",
       "        5.360e+02, 5.470e+02, 0.000e+00, 5.690e+02, 5.640e+02, 5.770e+02,\n",
       "        5.920e+02, 5.670e+02, 6.330e+02, 6.270e+02, 5.960e+02, 6.350e+02,\n",
       "        6.540e+02, 6.020e+02, 7.000e+02, 6.420e+02, 0.000e+00, 6.560e+02,\n",
       "        6.550e+02, 6.520e+02, 6.520e+02, 6.980e+02, 6.640e+02, 6.660e+02,\n",
       "        7.090e+02, 6.970e+02, 6.800e+02, 6.450e+02, 7.250e+02, 7.390e+02,\n",
       "        7.000e+02, 0.000e+00, 6.690e+02, 6.990e+02, 6.900e+02, 7.800e+02,\n",
       "        7.070e+02, 7.350e+02, 7.770e+02, 7.350e+02, 7.440e+02, 7.690e+02,\n",
       "        7.670e+02, 8.400e+02, 8.080e+02, 0.000e+00, 7.710e+02, 8.720e+02,\n",
       "        8.870e+02, 8.630e+02, 8.920e+02, 8.740e+02, 8.800e+02, 9.240e+02,\n",
       "        9.270e+02, 9.830e+02, 9.380e+02, 1.025e+03, 1.063e+03, 0.000e+00,\n",
       "        1.125e+03, 1.137e+03, 1.158e+03, 1.198e+03, 1.196e+03, 1.237e+03,\n",
       "        1.246e+03, 1.206e+03, 1.345e+03, 1.390e+03, 1.347e+03, 1.373e+03,\n",
       "        1.372e+03, 1.491e+03]),\n",
       " array([ 13.  ,  13.93,  14.86,  15.79,  16.72,  17.65,  18.58,  19.51,\n",
       "         20.44,  21.37,  22.3 ,  23.23,  24.16,  25.09,  26.02,  26.95,\n",
       "         27.88,  28.81,  29.74,  30.67,  31.6 ,  32.53,  33.46,  34.39,\n",
       "         35.32,  36.25,  37.18,  38.11,  39.04,  39.97,  40.9 ,  41.83,\n",
       "         42.76,  43.69,  44.62,  45.55,  46.48,  47.41,  48.34,  49.27,\n",
       "         50.2 ,  51.13,  52.06,  52.99,  53.92,  54.85,  55.78,  56.71,\n",
       "         57.64,  58.57,  59.5 ,  60.43,  61.36,  62.29,  63.22,  64.15,\n",
       "         65.08,  66.01,  66.94,  67.87,  68.8 ,  69.73,  70.66,  71.59,\n",
       "         72.52,  73.45,  74.38,  75.31,  76.24,  77.17,  78.1 ,  79.03,\n",
       "         79.96,  80.89,  81.82,  82.75,  83.68,  84.61,  85.54,  86.47,\n",
       "         87.4 ,  88.33,  89.26,  90.19,  91.12,  92.05,  92.98,  93.91,\n",
       "         94.84,  95.77,  96.7 ,  97.63,  98.56,  99.49, 100.42, 101.35,\n",
       "        102.28, 103.21, 104.14, 105.07, 106.  , 106.93, 107.86, 108.79,\n",
       "        109.72, 110.65, 111.58, 112.51, 113.44, 114.37, 115.3 , 116.23,\n",
       "        117.16, 118.09, 119.02, 119.95, 120.88, 121.81, 122.74, 123.67,\n",
       "        124.6 , 125.53, 126.46, 127.39, 128.32, 129.25, 130.18, 131.11,\n",
       "        132.04, 132.97, 133.9 , 134.83, 135.76, 136.69, 137.62, 138.55,\n",
       "        139.48, 140.41, 141.34, 142.27, 143.2 , 144.13, 145.06, 145.99,\n",
       "        146.92, 147.85, 148.78, 149.71, 150.64, 151.57, 152.5 , 153.43,\n",
       "        154.36, 155.29, 156.22, 157.15, 158.08, 159.01, 159.94, 160.87,\n",
       "        161.8 , 162.73, 163.66, 164.59, 165.52, 166.45, 167.38, 168.31,\n",
       "        169.24, 170.17, 171.1 , 172.03, 172.96, 173.89, 174.82, 175.75,\n",
       "        176.68, 177.61, 178.54, 179.47, 180.4 , 181.33, 182.26, 183.19,\n",
       "        184.12, 185.05, 185.98, 186.91, 187.84, 188.77, 189.7 , 190.63,\n",
       "        191.56, 192.49, 193.42, 194.35, 195.28, 196.21, 197.14, 198.07,\n",
       "        199.  ]),\n",
       " <BarContainer object of 200 artists>)"
      ]
     },
     "execution_count": 22,
     "metadata": {},
     "output_type": "execute_result"
    },
    {
     "data": {
      "image/png": "[encoded data removed]",
      "text/plain": [
       "<Figure size 640x480 with 1 Axes>"
      ]
     },
     "metadata": {},
     "output_type": "display_data"
    }
   ],
   "source": [
    "plt.hist(bhbh['label'], bins=n_bins)"
   ]
  },
  {
   "cell_type": "code",
   "execution_count": 23,
   "id": "5ee320b0-6c50-4707-884e-7ab743ba2d69",
   "metadata": {
    "tags": []
   },
   "outputs": [],
   "source": [
    "sample_weights = compute_sample_weight(\n",
    "    class_weight='balanced',\n",
    "    y=bhbh['label'] \n",
    ")"
   ]
  },
  {
   "cell_type": "markdown",
   "id": "0baaf8b2-c507-4475-8687-6276f757a465",
   "metadata": {},
   "source": [
    "## Model data and parameters"
   ]
  },
  {
   "cell_type": "code",
   "execution_count": 6,
   "id": "07aac3bc-f290-470f-a333-29f10e2548b2",
   "metadata": {
    "tags": []
   },
   "outputs": [],
   "source": [
    "#Data\n",
    "X = bhbh[['Mass_0', 'Z_0', 'Mass_1', 'a', 'e']]\n",
    "le = LabelEncoder()\n",
    "#y = le.fit_transform(bhbh['label'])\n",
    "y = bhbh['label']\n",
    "\n",
    "X_train, X_test, y_train, y_test = train_test_split(X, y, train_size=0.7)\n",
    "\n",
    "y_train = le.fit_transform(y_train)\n",
    "#weight\n",
    "sample_weights = compute_sample_weight(\n",
    "    class_weight='balanced',\n",
    "    y=y_train\n",
    ")\n",
    "\n",
    "\n",
    "#parameters\n",
    "n_estimators = 10\n",
    "max_depth = 8\n",
    "learning_rate = 0.3\n",
    "grow_policy = 0\n",
    "max_leaves = n_bins\n",
    "\n",
    "param = {'objective': 'multi:softprob',\n",
    "        'n_estimators' : 10, \n",
    "        'max_depth' : 2,\n",
    "        'learning_rate' : 0.3,\n",
    "        'grow_policy' : 0,\n",
    "        #'max_leaves' : n_bins,\n",
    "         'num_class': n_bins,\n",
    "        'n_jobs' : -1\n",
    "        }"
   ]
  },
  {
   "cell_type": "code",
   "execution_count": 7,
   "id": "abe696d1-7031-466a-8a1e-5b1af1a93739",
   "metadata": {
    "tags": []
   },
   "outputs": [
    {
     "name": "stderr",
     "output_type": "stream",
     "text": [
      "/home/vepe/miniconda3/envs/torch/lib/python3.10/site-packages/xgboost/core.py:617: FutureWarning: Pass `objective` as keyword args.\n",
      "  warnings.warn(msg, FutureWarning)\n"
     ]
    }
   ],
   "source": [
    "model = XGBClassifier(param)"
   ]
  },
  {
   "cell_type": "code",
   "execution_count": 8,
   "id": "00444bbd-dd5e-46f5-879a-bd829e3b976e",
   "metadata": {
    "tags": []
   },
   "outputs": [
    {
     "data": {
      "text/plain": [
       "array([0, 1, 2, 3, 4, 5, 6, 7, 8, 9])"
      ]
     },
     "execution_count": 8,
     "metadata": {},
     "output_type": "execute_result"
    }
   ],
   "source": [
    "np.unique(np.array(y))"
   ]
  },
  {
   "cell_type": "code",
   "execution_count": 9,
   "id": "0c8452f2-b095-4afe-9de8-cc9b5b0a0948",
   "metadata": {
    "tags": []
   },
   "outputs": [
    {
     "data": {
      "text/html": [
       "<style>#sk-container-id-1 {color: black;background-color: white;}#sk-container-id-1 pre{padding: 0;}#sk-container-id-1 div.sk-toggleable {background-color: white;}#sk-container-id-1 label.sk-toggleable__label {cursor: pointer;display: block;width: 100%;margin-bottom: 0;padding: 0.3em;box-sizing: border-box;text-align: center;}#sk-container-id-1 label.sk-toggleable__label-arrow:before {content: \"▸\";float: left;margin-right: 0.25em;color: #696969;}#sk-container-id-1 label.sk-toggleable__label-arrow:hover:before {color: black;}#sk-container-id-1 div.sk-estimator:hover label.sk-toggleable__label-arrow:before {color: black;}#sk-container-id-1 div.sk-toggleable__content {max-height: 0;max-width: 0;overflow: hidden;text-align: left;background-color: #f0f8ff;}#sk-container-id-1 div.sk-toggleable__content pre {margin: 0.2em;color: black;border-radius: 0.25em;background-color: #f0f8ff;}#sk-container-id-1 input.sk-toggleable__control:checked~div.sk-toggleable__content {max-height: 200px;max-width: 100%;overflow: auto;}#sk-container-id-1 input.sk-toggleable__control:checked~label.sk-toggleable__label-arrow:before {content: \"▾\";}#sk-container-id-1 div.sk-estimator input.sk-toggleable__control:checked~label.sk-toggleable__label {background-color: #d4ebff;}#sk-container-id-1 div.sk-label input.sk-toggleable__control:checked~label.sk-toggleable__label {background-color: #d4ebff;}#sk-container-id-1 input.sk-hidden--visually {border: 0;clip: rect(1px 1px 1px 1px);clip: rect(1px, 1px, 1px, 1px);height: 1px;margin: -1px;overflow: hidden;padding: 0;position: absolute;width: 1px;}#sk-container-id-1 div.sk-estimator {font-family: monospace;background-color: #f0f8ff;border: 1px dotted black;border-radius: 0.25em;box-sizing: border-box;margin-bottom: 0.5em;}#sk-container-id-1 div.sk-estimator:hover {background-color: #d4ebff;}#sk-container-id-1 div.sk-parallel-item::after {content: \"\";width: 100%;border-bottom: 1px solid gray;flex-grow: 1;}#sk-container-id-1 div.sk-label:hover label.sk-toggleable__label {background-color: #d4ebff;}#sk-container-id-1 div.sk-serial::before {content: \"\";position: absolute;border-left: 1px solid gray;box-sizing: border-box;top: 0;bottom: 0;left: 50%;z-index: 0;}#sk-container-id-1 div.sk-serial {display: flex;flex-direction: column;align-items: center;background-color: white;padding-right: 0.2em;padding-left: 0.2em;position: relative;}#sk-container-id-1 div.sk-item {position: relative;z-index: 1;}#sk-container-id-1 div.sk-parallel {display: flex;align-items: stretch;justify-content: center;background-color: white;position: relative;}#sk-container-id-1 div.sk-item::before, #sk-container-id-1 div.sk-parallel-item::before {content: \"\";position: absolute;border-left: 1px solid gray;box-sizing: border-box;top: 0;bottom: 0;left: 50%;z-index: -1;}#sk-container-id-1 div.sk-parallel-item {display: flex;flex-direction: column;z-index: 1;position: relative;background-color: white;}#sk-container-id-1 div.sk-parallel-item:first-child::after {align-self: flex-end;width: 50%;}#sk-container-id-1 div.sk-parallel-item:last-child::after {align-self: flex-start;width: 50%;}#sk-container-id-1 div.sk-parallel-item:only-child::after {width: 0;}#sk-container-id-1 div.sk-dashed-wrapped {border: 1px dashed gray;margin: 0 0.4em 0.5em 0.4em;box-sizing: border-box;padding-bottom: 0.4em;background-color: white;}#sk-container-id-1 div.sk-label label {font-family: monospace;font-weight: bold;display: inline-block;line-height: 1.2em;}#sk-container-id-1 div.sk-label-container {text-align: center;}#sk-container-id-1 div.sk-container {/* jupyter's `normalize.less` sets `[hidden] { display: none; }` but bootstrap.min.css set `[hidden] { display: none !important; }` so we also need the `!important` here to be able to override the default hidden behavior on the sphinx rendered scikit-learn.org. See: https://github.com/scikit-learn/scikit-learn/issues/21755 */display: inline-block !important;position: relative;}#sk-container-id-1 div.sk-text-repr-fallback {display: none;}</style><div id=\"sk-container-id-1\" class=\"sk-top-container\"><div class=\"sk-text-repr-fallback\"><pre>XGBClassifier(base_score=None, booster=None, callbacks=None,\n",
       "              colsample_bylevel=None, colsample_bynode=None,\n",
       "              colsample_bytree=None, early_stopping_rounds=None,\n",
       "              enable_categorical=False, eval_metric=None, feature_types=None,\n",
       "              gamma=None, gpu_id=None, grow_policy=None, importance_type=None,\n",
       "              interaction_constraints=None, learning_rate=None, max_bin=None,\n",
       "              max_cat_threshold=None, max_cat_to_onehot=None,\n",
       "              max_delta_step=None, max_depth=None, max_leaves=None,\n",
       "              min_child_weight=None, missing=nan, monotone_constraints=None,\n",
       "              n_estimators=100, n_jobs=None, num_parallel_tree=None,\n",
       "              objective=&#x27;multi:softprob&#x27;, predictor=None, ...)</pre><b>In a Jupyter environment, please rerun this cell to show the HTML representation or trust the notebook. <br />On GitHub, the HTML representation is unable to render, please try loading this page with nbviewer.org.</b></div><div class=\"sk-container\" hidden><div class=\"sk-item\"><div class=\"sk-estimator sk-toggleable\"><input class=\"sk-toggleable__control sk-hidden--visually\" id=\"sk-estimator-id-1\" type=\"checkbox\" checked><label for=\"sk-estimator-id-1\" class=\"sk-toggleable__label sk-toggleable__label-arrow\">XGBClassifier</label><div class=\"sk-toggleable__content\"><pre>XGBClassifier(base_score=None, booster=None, callbacks=None,\n",
       "              colsample_bylevel=None, colsample_bynode=None,\n",
       "              colsample_bytree=None, early_stopping_rounds=None,\n",
       "              enable_categorical=False, eval_metric=None, feature_types=None,\n",
       "              gamma=None, gpu_id=None, grow_policy=None, importance_type=None,\n",
       "              interaction_constraints=None, learning_rate=None, max_bin=None,\n",
       "              max_cat_threshold=None, max_cat_to_onehot=None,\n",
       "              max_delta_step=None, max_depth=None, max_leaves=None,\n",
       "              min_child_weight=None, missing=nan, monotone_constraints=None,\n",
       "              n_estimators=100, n_jobs=None, num_parallel_tree=None,\n",
       "              objective=&#x27;multi:softprob&#x27;, predictor=None, ...)</pre></div></div></div></div></div>"
      ],
      "text/plain": [
       "XGBClassifier(base_score=None, booster=None, callbacks=None,\n",
       "              colsample_bylevel=None, colsample_bynode=None,\n",
       "              colsample_bytree=None, early_stopping_rounds=None,\n",
       "              enable_categorical=False, eval_metric=None, feature_types=None,\n",
       "              gamma=None, gpu_id=None, grow_policy=None, importance_type=None,\n",
       "              interaction_constraints=None, learning_rate=None, max_bin=None,\n",
       "              max_cat_threshold=None, max_cat_to_onehot=None,\n",
       "              max_delta_step=None, max_depth=None, max_leaves=None,\n",
       "              min_child_weight=None, missing=nan, monotone_constraints=None,\n",
       "              n_estimators=100, n_jobs=None, num_parallel_tree=None,\n",
       "              objective='multi:softprob', predictor=None, ...)"
      ]
     },
     "execution_count": 9,
     "metadata": {},
     "output_type": "execute_result"
    }
   ],
   "source": [
    "model.fit(X_train, y_train, sample_weight=sample_weights)"
   ]
  },
  {
   "cell_type": "code",
   "execution_count": 10,
   "id": "11794c30-8d1d-4903-b757-819639eda466",
   "metadata": {
    "tags": []
   },
   "outputs": [],
   "source": [
    "prediction = model.predict(X_train)\n",
    "#prediction = le.inverse_transform(prediction)"
   ]
  },
  {
   "cell_type": "code",
   "execution_count": 11,
   "id": "e90aeb86-b432-4e55-b4b0-a949e2fc1527",
   "metadata": {
    "tags": []
   },
   "outputs": [
    {
     "data": {
      "text/plain": [
       "((57325,), (57325, 5))"
      ]
     },
     "execution_count": 11,
     "metadata": {},
     "output_type": "execute_result"
    }
   ],
   "source": [
    "prediction.shape, X_train.shape"
   ]
  },
  {
   "cell_type": "code",
   "execution_count": 12,
   "id": "d62ee969-a064-44c0-bd15-29c8dfdb8df9",
   "metadata": {
    "tags": []
   },
   "outputs": [
    {
     "data": {
      "text/plain": [
       "<matplotlib.legend.Legend at 0x7fed37c874f0>"
      ]
     },
     "execution_count": 12,
     "metadata": {},
     "output_type": "execute_result"
    },
    {
     "data": {
      "image/png": "[encoded data removed]",
      "text/plain": [
       "<Figure size 640x480 with 1 Axes>"
      ]
     },
     "metadata": {},
     "output_type": "display_data"
    }
   ],
   "source": [
    "plt.hist(prediction, bins=n_bins, alpha=1, label='predict')\n",
    "plt.hist(y_train, alpha=0.5, bins=n_bins, label='labels')\n",
    "plt.legend()"
   ]
  },
  {
   "cell_type": "code",
   "execution_count": 13,
   "id": "bfc4d19e-84fc-419c-9888-80758def8007",
   "metadata": {
    "tags": []
   },
   "outputs": [
    {
     "name": "stdout",
     "output_type": "stream",
     "text": [
      "5 8\n"
     ]
    },
    {
     "data": {
      "image/png": "[encoded data removed]",
      "text/plain": [
       "<Figure size 640x480 with 1 Axes>"
      ]
     },
     "metadata": {},
     "output_type": "display_data"
    }
   ],
   "source": [
    "prob_y_pred = model.predict_proba(X_train)\n",
    "prob_y_pred.shape\n",
    "\n",
    "k = 5\n",
    "plt.plot(range(0,n_bins), prob_y_pred[k])\n",
    "print(y[k], prediction[k])"
   ]
  },
  {
   "cell_type": "code",
   "execution_count": 14,
   "id": "6f4b2a9e-141c-449e-b0a9-3b07f7136c24",
   "metadata": {
    "tags": []
   },
   "outputs": [
    {
     "name": "stdout",
     "output_type": "stream",
     "text": [
      "[[   0    0    0    0    0    0    0    0    0    0]\n",
      " [   0  107   49    8    8    1    1    1    0    0]\n",
      " [   0   30  341   67   13   13    7    4    1    3]\n",
      " [   0   14  101  638   98   54   13    6    3   14]\n",
      " [   0   15   46  280  998  187   51   34   30   22]\n",
      " [   0   31   48  141  353 1201  314   82   50   36]\n",
      " [   0   10   36   80  201  384 1873  449  131  107]\n",
      " [   1    3   33   53  116  174  503 2425  573  156]\n",
      " [   0    5   19   45  106   90  202  721 2929  672]\n",
      " [   0    3   17   49   83   81  189  319 1026 5190]]\n",
      "0.639124063822859\n",
      "0.7640819886611426\n"
     ]
    }
   ],
   "source": [
    "y_pred = model.predict(X_test)\n",
    "#y_pred = le.inverse_transform(y_pred)\n",
    "cm = confusion_matrix(y_test, y_pred)\n",
    "print(cm)\n",
    "\n",
    "print(accuracy_score(y_test, y_pred, normalize=True))\n",
    "print(accuracy_score(y_train, prediction))"
   ]
  },
  {
   "cell_type": "code",
   "execution_count": null,
   "id": "9a8fdccb-53e6-4c89-9295-981dfe337cf3",
   "metadata": {},
   "outputs": [],
   "source": []
  }
 ],
 "metadata": {
  "kernelspec": {
   "display_name": "Python 3 (ipykernel)",
   "language": "python",
   "name": "python3"
  },
  "language_info": {
   "codemirror_mode": {
    "name": "ipython",
    "version": 3
   },
   "file_extension": ".py",
   "mimetype": "text/x-python",
   "name": "python",
   "nbconvert_exporter": "python",
   "pygments_lexer": "ipython3",
   "version": "3.10.11"
  }
 },
 "nbformat": 4,
 "nbformat_minor": 5
}
