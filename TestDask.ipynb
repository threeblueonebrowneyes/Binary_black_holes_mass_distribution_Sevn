{
 "cells": [
  {
   "cell_type": "code",
   "execution_count": 1,
   "id": "8909a631-d101-4e47-bfa2-7b369d50da4d",
   "metadata": {},
   "outputs": [],
   "source": [
    "import numpy as np\n",
    "import pandas as pd\n",
    "\n",
    "import dask.dataframe as dd\n",
    "import dask.array as da\n",
    "import dask.bag as db\n",
    "import dask\n",
    "\n",
    "import re"
   ]
  },
  {
   "cell_type": "markdown",
   "id": "2dc49c28-45a8-4d89-9fbc-29f0157be1e8",
   "metadata": {},
   "source": [
    "## Importing as Dask Dataframes all files\n",
    "(output_*.csv, evolved_*.dat, logfile_*.dat)"
   ]
  },
  {
   "cell_type": "code",
   "execution_count": 2,
   "id": "76fa6e04-7606-441f-ad13-35c02b0e3f93",
   "metadata": {},
   "outputs": [
    {
     "name": "stdout",
     "output_type": "stream",
     "text": [
      "Number of pratitions for evolved files : 30\n",
      "Number of pratitions for output files : 60\n",
      "Number of pratitions for logfile files : 30\n"
     ]
    }
   ],
   "source": [
    "output = dd.read_csv('sevn_output_Z0.001A1L1/sevn_output_Z0.001A1L1/0/output_*.csv')\n",
    "evolved = dd.read_table('sevn_output_Z0.001A1L1/sevn_output_Z0.001A1L1/0/evolved_*.dat', sep='\\s+')\n",
    "logfile = dd.read_csv('sevn_output_Z0.001A1L1/sevn_output_Z0.001A1L1/0/logfile_*.dat', header =None).squeeze()\n",
    "# logfile = dd.read_table('sevn_output_Z0.001A1L1/sevn_output_Z0.001A1L1/0/logfile_*.dat', sep=';', header=None, names=['Object', 'name', 'ID', 'event', 'time', 'info'])\n",
    "\n",
    "print(f'Number of pratitions for evolved files : {evolved.npartitions}')\n",
    "print(f'Number of pratitions for output files : {output.npartitions}')\n",
    "print(f'Number of pratitions for logfile files : {logfile.npartitions}')"
   ]
  },
  {
   "cell_type": "markdown",
   "id": "7861c555-c338-46c6-958b-f95b96721da7",
   "metadata": {},
   "source": [
    "## Filtering logfile files to count the number of RL overflows and CE"
   ]
  },
  {
   "cell_type": "code",
   "execution_count": 3,
   "id": "8e846bf0-aeeb-46ea-8682-b20c159d0358",
   "metadata": {},
   "outputs": [],
   "source": [
    "df_RLO = logfile.str.extract(r\"B;((?:\\d*\\_)?\\d+);(\\d+);RLO_BEGIN;\").dropna().rename(columns={0:'name', 1:'ID'}).groupby('name').size().to_frame(name='RLO').reset_index()\n",
    "df_CE = logfile.str.extract(r\"B;((?:\\d*\\_)?\\d+);(\\d+);CE;\").dropna().rename(columns={0:'name', 1:'ID'}).groupby('name').size().to_frame(name='CE').reset_index()"
   ]
  },
  {
   "cell_type": "markdown",
   "id": "c69d8c49-3451-45e5-9936-5ae6ee39634b",
   "metadata": {},
   "source": [
    "This is an alternative method. The previous one is better since parallelize all operations"
   ]
  },
  {
   "cell_type": "code",
   "execution_count": 4,
   "id": "912c005d-497b-4441-b0b3-dd3ab875da8a",
   "metadata": {},
   "outputs": [],
   "source": [
    "# df_logfile = logfile.str.findall(r\"B;((?:\\d*\\_)?\\d+);(\\d+);RLO_BEGIN;\").to_frame(name='id').explode('id').dropna().compute()\n",
    "# df_logfile[['name','ID']] = pd.DataFrame(df_logfile['id'].tolist(), index=df_logfile.index)\n",
    "# df_logfile =df_logfile.drop(columns=['id']).groupby('name').size().to_frame(name='RLO').reset_index()\n",
    "\n",
    "# df_logfile.head(10)"
   ]
  },
  {
   "cell_type": "markdown",
   "id": "785c1864-6c08-481a-947e-9e484ecc6ede",
   "metadata": {},
   "source": [
    "## Filtering output files to get only binaries black holes"
   ]
  },
  {
   "cell_type": "code",
   "execution_count": 5,
   "id": "be233f1a-2aac-44f3-a15e-b8525b6120da",
   "metadata": {},
   "outputs": [],
   "source": [
    "idxBHBH=(output.RemnantType_0==6) & (output.RemnantType_1==6) & (output.Semimajor.notnull())\n",
    "output_bhbh=output[idxBHBH] #Distributed DataFrame containing only binaries BB\n",
    "# output_bhbh = output_bhbh.compute()"
   ]
  },
  {
   "cell_type": "markdown",
   "id": "7b3d97c8-2180-4971-8579-a174974ef909",
   "metadata": {},
   "source": [
    "## Joining tables\n",
    "Due to the reshuffling among the partition it is not clear wheter or not is covenient to join the tables trhough dask or locally (https://docs.dask.org/en/stable/dataframe-groupby.html)"
   ]
  },
  {
   "cell_type": "code",
   "execution_count": 6,
   "id": "9dff3fa4-48e1-485d-8b9f-92e0621b1380",
   "metadata": {},
   "outputs": [],
   "source": [
    "bhbh = output_bhbh.merge(evolved, on='name', how='inner').merge(df_RLO, on='name', how='inner').merge(df_CE, on='name', how='inner')"
   ]
  },
  {
   "cell_type": "code",
   "execution_count": 7,
   "id": "99182aa9-a7f4-4300-8044-aa9a64f5b744",
   "metadata": {},
   "outputs": [
    {
     "data": {
      "text/html": [
       "<div>\n",
       "<style scoped>\n",
       "    .dataframe tbody tr th:only-of-type {\n",
       "        vertical-align: middle;\n",
       "    }\n",
       "\n",
       "    .dataframe tbody tr th {\n",
       "        vertical-align: top;\n",
       "    }\n",
       "\n",
       "    .dataframe thead th {\n",
       "        text-align: right;\n",
       "    }\n",
       "</style>\n",
       "<table border=\"1\" class=\"dataframe\">\n",
       "  <thead>\n",
       "    <tr style=\"text-align: right;\">\n",
       "      <th></th>\n",
       "      <th>ID</th>\n",
       "      <th>name</th>\n",
       "      <th>Mass_0_x</th>\n",
       "      <th>MHE_0</th>\n",
       "      <th>MCO_0</th>\n",
       "      <th>Radius_0</th>\n",
       "      <th>RHE_0</th>\n",
       "      <th>RCO_0</th>\n",
       "      <th>Luminosity_0</th>\n",
       "      <th>Temperature_0</th>\n",
       "      <th>...</th>\n",
       "      <th>spin_1</th>\n",
       "      <th>SN_1</th>\n",
       "      <th>Tstart_1</th>\n",
       "      <th>a</th>\n",
       "      <th>e</th>\n",
       "      <th>Tend</th>\n",
       "      <th>Dtout</th>\n",
       "      <th>Seed</th>\n",
       "      <th>RLO</th>\n",
       "      <th>CE</th>\n",
       "    </tr>\n",
       "  </thead>\n",
       "  <tbody>\n",
       "    <tr>\n",
       "      <th>0</th>\n",
       "      <td>98</td>\n",
       "      <td>0_724296633239333</td>\n",
       "      <td>25.355020</td>\n",
       "      <td>0.0</td>\n",
       "      <td>0.0</td>\n",
       "      <td>0.000108</td>\n",
       "      <td>0.0</td>\n",
       "      <td>0.0</td>\n",
       "      <td>1.000000e-10</td>\n",
       "      <td>1759.363</td>\n",
       "      <td>...</td>\n",
       "      <td>0.0</td>\n",
       "      <td>rapid_gauNS</td>\n",
       "      <td>zams</td>\n",
       "      <td>2690.0</td>\n",
       "      <td>0.02640</td>\n",
       "      <td>end</td>\n",
       "      <td>events</td>\n",
       "      <td>324470267133292</td>\n",
       "      <td>2</td>\n",
       "      <td>2</td>\n",
       "    </tr>\n",
       "    <tr>\n",
       "      <th>1</th>\n",
       "      <td>302986</td>\n",
       "      <td>0_710936744924376</td>\n",
       "      <td>41.395490</td>\n",
       "      <td>0.0</td>\n",
       "      <td>0.0</td>\n",
       "      <td>0.000176</td>\n",
       "      <td>0.0</td>\n",
       "      <td>0.0</td>\n",
       "      <td>1.000000e-10</td>\n",
       "      <td>1376.927</td>\n",
       "      <td>...</td>\n",
       "      <td>0.0</td>\n",
       "      <td>rapid_gauNS</td>\n",
       "      <td>zams</td>\n",
       "      <td>4700.0</td>\n",
       "      <td>0.53200</td>\n",
       "      <td>end</td>\n",
       "      <td>events</td>\n",
       "      <td>190919426911395</td>\n",
       "      <td>2</td>\n",
       "      <td>1</td>\n",
       "    </tr>\n",
       "    <tr>\n",
       "      <th>2</th>\n",
       "      <td>303827</td>\n",
       "      <td>0_712650372297186</td>\n",
       "      <td>17.949900</td>\n",
       "      <td>0.0</td>\n",
       "      <td>0.0</td>\n",
       "      <td>0.000076</td>\n",
       "      <td>0.0</td>\n",
       "      <td>0.0</td>\n",
       "      <td>1.000000e-10</td>\n",
       "      <td>2091.012</td>\n",
       "      <td>...</td>\n",
       "      <td>0.0</td>\n",
       "      <td>rapid_gauNS</td>\n",
       "      <td>zams</td>\n",
       "      <td>435.0</td>\n",
       "      <td>0.07110</td>\n",
       "      <td>end</td>\n",
       "      <td>events</td>\n",
       "      <td>44464430933553</td>\n",
       "      <td>2</td>\n",
       "      <td>1</td>\n",
       "    </tr>\n",
       "    <tr>\n",
       "      <th>3</th>\n",
       "      <td>304803</td>\n",
       "      <td>0_447617162191296</td>\n",
       "      <td>8.636704</td>\n",
       "      <td>0.0</td>\n",
       "      <td>0.0</td>\n",
       "      <td>0.000037</td>\n",
       "      <td>0.0</td>\n",
       "      <td>0.0</td>\n",
       "      <td>1.000000e-10</td>\n",
       "      <td>3014.487</td>\n",
       "      <td>...</td>\n",
       "      <td>0.0</td>\n",
       "      <td>rapid_gauNS</td>\n",
       "      <td>zams</td>\n",
       "      <td>89.8</td>\n",
       "      <td>0.00204</td>\n",
       "      <td>end</td>\n",
       "      <td>events</td>\n",
       "      <td>659506961639401</td>\n",
       "      <td>3</td>\n",
       "      <td>1</td>\n",
       "    </tr>\n",
       "    <tr>\n",
       "      <th>4</th>\n",
       "      <td>103663</td>\n",
       "      <td>0_933499514149433</td>\n",
       "      <td>25.235000</td>\n",
       "      <td>0.0</td>\n",
       "      <td>0.0</td>\n",
       "      <td>0.000107</td>\n",
       "      <td>0.0</td>\n",
       "      <td>0.0</td>\n",
       "      <td>1.000000e-10</td>\n",
       "      <td>1763.542</td>\n",
       "      <td>...</td>\n",
       "      <td>0.0</td>\n",
       "      <td>rapid_gauNS</td>\n",
       "      <td>zams</td>\n",
       "      <td>323.0</td>\n",
       "      <td>0.00775</td>\n",
       "      <td>end</td>\n",
       "      <td>events</td>\n",
       "      <td>27886306847488</td>\n",
       "      <td>2</td>\n",
       "      <td>1</td>\n",
       "    </tr>\n",
       "  </tbody>\n",
       "</table>\n",
       "<p>5 rows × 51 columns</p>\n",
       "</div>"
      ],
      "text/plain": [
       "       ID               name   Mass_0_x  MHE_0  MCO_0  Radius_0  RHE_0  RCO_0  \\\n",
       "0      98  0_724296633239333  25.355020    0.0    0.0  0.000108    0.0    0.0   \n",
       "1  302986  0_710936744924376  41.395490    0.0    0.0  0.000176    0.0    0.0   \n",
       "2  303827  0_712650372297186  17.949900    0.0    0.0  0.000076    0.0    0.0   \n",
       "3  304803  0_447617162191296   8.636704    0.0    0.0  0.000037    0.0    0.0   \n",
       "4  103663  0_933499514149433  25.235000    0.0    0.0  0.000107    0.0    0.0   \n",
       "\n",
       "   Luminosity_0  Temperature_0  ...  spin_1         SN_1  Tstart_1       a  \\\n",
       "0  1.000000e-10       1759.363  ...     0.0  rapid_gauNS      zams  2690.0   \n",
       "1  1.000000e-10       1376.927  ...     0.0  rapid_gauNS      zams  4700.0   \n",
       "2  1.000000e-10       2091.012  ...     0.0  rapid_gauNS      zams   435.0   \n",
       "3  1.000000e-10       3014.487  ...     0.0  rapid_gauNS      zams    89.8   \n",
       "4  1.000000e-10       1763.542  ...     0.0  rapid_gauNS      zams   323.0   \n",
       "\n",
       "         e  Tend   Dtout             Seed  RLO  CE  \n",
       "0  0.02640   end  events  324470267133292    2   2  \n",
       "1  0.53200   end  events  190919426911395    2   1  \n",
       "2  0.07110   end  events   44464430933553    2   1  \n",
       "3  0.00204   end  events  659506961639401    3   1  \n",
       "4  0.00775   end  events   27886306847488    2   1  \n",
       "\n",
       "[5 rows x 51 columns]"
      ]
     },
     "execution_count": 7,
     "metadata": {},
     "output_type": "execute_result"
    }
   ],
   "source": [
    "bhbh.head()"
   ]
  }
 ],
 "metadata": {
  "kernelspec": {
   "display_name": "Python 3 (ipykernel)",
   "language": "python",
   "name": "python3"
  },
  "language_info": {
   "codemirror_mode": {
    "name": "ipython",
    "version": 3
   },
   "file_extension": ".py",
   "mimetype": "text/x-python",
   "name": "python",
   "nbconvert_exporter": "python",
   "pygments_lexer": "ipython3",
   "version": "3.8.16"
  }
 },
 "nbformat": 4,
 "nbformat_minor": 5
}
