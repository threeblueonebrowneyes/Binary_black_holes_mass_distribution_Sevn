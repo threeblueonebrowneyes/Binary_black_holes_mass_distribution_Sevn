{
 "cells": [
  {
   "cell_type": "code",
   "execution_count": 1,
   "id": "8909a631-d101-4e47-bfa2-7b369d50da4d",
   "metadata": {},
   "outputs": [],
   "source": [
    "import numpy as np\n",
    "import pandas as pd\n",
    "\n",
    "import dask.dataframe as dd\n",
    "import dask.array as da\n",
    "import dask.bag as db"
   ]
  },
  {
   "cell_type": "markdown",
   "id": "3c1b5544-92c9-4dd6-b244-74134777fc95",
   "metadata": {},
   "source": [
    "sevn_output_Z0.001A1L1/sevn_output_Z0.001A1L1/0/evolved_0.dat"
   ]
  },
  {
   "cell_type": "code",
   "execution_count": 2,
   "id": "76fa6e04-7606-441f-ad13-35c02b0e3f93",
   "metadata": {},
   "outputs": [
    {
     "name": "stdout",
     "output_type": "stream",
     "text": [
      "Number of pratitions for evolved files : 30\n",
      "Number of pratitions for output files : 60\n",
      "Number of pratitions for logfile files : 30\n"
     ]
    }
   ],
   "source": [
    "output = dd.read_csv('sevn_output_Z0.001A1L1/sevn_output_Z0.001A1L1/0/output_*.csv')\n",
    "evolved = dd.read_table('sevn_output_Z0.001A1L1/sevn_output_Z0.001A1L1/0/evolved_*.dat', sep='\\s+')\n",
    "logfile = dd.read_table('sevn_output_Z0.001A1L1/sevn_output_Z0.001A1L1/0/logfile_*.dat', sep=';', header=None, names=['Object', 'name', 'ID', 'event', 'time', 'info'])\n",
    "\n",
    "print(f'Number of pratitions for evolved files : {evolved.npartitions}')\n",
    "print(f'Number of pratitions for output files : {output.npartitions}')\n",
    "print(f'Number of pratitions for logfile files : {logfile.npartitions}')"
   ]
  },
  {
   "cell_type": "markdown",
   "id": "785c1864-6c08-481a-947e-9e484ecc6ede",
   "metadata": {},
   "source": [
    "Filtering output files to get only binaries black holes"
   ]
  },
  {
   "cell_type": "code",
   "execution_count": 4,
   "id": "be233f1a-2aac-44f3-a15e-b8525b6120da",
   "metadata": {},
   "outputs": [],
   "source": [
    "idxBHBH=(output.RemnantType_0==6) & (output.RemnantType_1==6) & (output.Semimajor.notnull())\n",
    "output_bhbh=output[idxBHBH] #Distributed DataFrame containing only binaries BB\n",
    "# output_bhbh = output_bhbh.compute()"
   ]
  },
  {
   "cell_type": "markdown",
   "id": "5d9982cc-4e20-4cdd-8b58-c47fff86777a",
   "metadata": {},
   "source": [
    "Filtering logfile files to count the number of RL overflows and CE"
   ]
  },
  {
   "cell_type": "code",
   "execution_count": 20,
   "id": "d1e69be8-b0bd-4850-92ee-d82d4c94eb19",
   "metadata": {},
   "outputs": [],
   "source": [
    "test_logfile = logfile.partitions[0].compute()"
   ]
  },
  {
   "cell_type": "code",
   "execution_count": 42,
   "id": "b783bdb0-1da4-4475-8354-aac256b70f7a",
   "metadata": {},
   "outputs": [
    {
     "ename": "TypeError",
     "evalue": "count() takes 1 positional argument but 2 were given",
     "output_type": "error",
     "traceback": [
      "\u001b[1;31m---------------------------------------------------------------------------\u001b[0m",
      "\u001b[1;31mTypeError\u001b[0m                                 Traceback (most recent call last)",
      "Cell \u001b[1;32mIn[42], line 1\u001b[0m\n\u001b[1;32m----> 1\u001b[0m \u001b[43mtest_logfile\u001b[49m\u001b[43m[\u001b[49m\u001b[43m(\u001b[49m\u001b[43mtest_logfile\u001b[49m\u001b[43m[\u001b[49m\u001b[38;5;124;43m'\u001b[39;49m\u001b[38;5;124;43mObject\u001b[39;49m\u001b[38;5;124;43m'\u001b[39;49m\u001b[43m]\u001b[49m\u001b[38;5;241;43m==\u001b[39;49m\u001b[38;5;124;43m'\u001b[39;49m\u001b[38;5;124;43mB\u001b[39;49m\u001b[38;5;124;43m'\u001b[39;49m\u001b[43m)\u001b[49m\u001b[43m \u001b[49m\u001b[38;5;241;43m&\u001b[39;49m\u001b[43m \u001b[49m\u001b[43m(\u001b[49m\u001b[43mtest_logfile\u001b[49m\u001b[43m[\u001b[49m\u001b[38;5;124;43m'\u001b[39;49m\u001b[38;5;124;43mevent\u001b[39;49m\u001b[38;5;124;43m'\u001b[39;49m\u001b[43m]\u001b[49m\u001b[38;5;241;43m==\u001b[39;49m\u001b[38;5;124;43m'\u001b[39;49m\u001b[38;5;124;43mRLO_BEGIN\u001b[39;49m\u001b[38;5;124;43m'\u001b[39;49m\u001b[43m)\u001b[49m\u001b[43m]\u001b[49m\u001b[38;5;241;43m.\u001b[39;49m\u001b[43mgroupby\u001b[49m\u001b[43m(\u001b[49m\u001b[38;5;124;43m'\u001b[39;49m\u001b[38;5;124;43mname\u001b[39;49m\u001b[38;5;124;43m'\u001b[39;49m\u001b[43m)\u001b[49m\u001b[38;5;241;43m.\u001b[39;49m\u001b[43mcount\u001b[49m\u001b[43m(\u001b[49m\u001b[38;5;241;43m3\u001b[39;49m\u001b[43m)\u001b[49m\n",
      "\u001b[1;31mTypeError\u001b[0m: count() takes 1 positional argument but 2 were given"
     ]
    }
   ],
   "source": [
    "test_logfile[(test_logfile['Object']=='B') & (test_logfile['event']=='RLO_BEGIN')].groupby('name').count(3)"
   ]
  },
  {
   "cell_type": "code",
   "execution_count": 37,
   "id": "36de4528-93f2-4c5a-aca3-ea554bbd7e70",
   "metadata": {},
   "outputs": [
    {
     "data": {
      "text/html": [
       "<div>\n",
       "<style scoped>\n",
       "    .dataframe tbody tr th:only-of-type {\n",
       "        vertical-align: middle;\n",
       "    }\n",
       "\n",
       "    .dataframe tbody tr th {\n",
       "        vertical-align: top;\n",
       "    }\n",
       "\n",
       "    .dataframe thead th {\n",
       "        text-align: right;\n",
       "    }\n",
       "</style>\n",
       "<table border=\"1\" class=\"dataframe\">\n",
       "  <thead>\n",
       "    <tr style=\"text-align: right;\">\n",
       "      <th></th>\n",
       "      <th>RLO_BEGIN</th>\n",
       "    </tr>\n",
       "    <tr>\n",
       "      <th>name</th>\n",
       "      <th></th>\n",
       "    </tr>\n",
       "  </thead>\n",
       "  <tbody>\n",
       "    <tr>\n",
       "      <th>0_100007997087318</th>\n",
       "      <td>3</td>\n",
       "    </tr>\n",
       "    <tr>\n",
       "      <th>0_100012052065590</th>\n",
       "      <td>3</td>\n",
       "    </tr>\n",
       "    <tr>\n",
       "      <th>0_100033685856903</th>\n",
       "      <td>1</td>\n",
       "    </tr>\n",
       "    <tr>\n",
       "      <th>0_100092103196401</th>\n",
       "      <td>1</td>\n",
       "    </tr>\n",
       "    <tr>\n",
       "      <th>0_100169242642500</th>\n",
       "      <td>3</td>\n",
       "    </tr>\n",
       "    <tr>\n",
       "      <th>...</th>\n",
       "      <td>...</td>\n",
       "    </tr>\n",
       "    <tr>\n",
       "      <th>0_999818461840174</th>\n",
       "      <td>3</td>\n",
       "    </tr>\n",
       "    <tr>\n",
       "      <th>0_999834779179683</th>\n",
       "      <td>2</td>\n",
       "    </tr>\n",
       "    <tr>\n",
       "      <th>0_999869300318696</th>\n",
       "      <td>1</td>\n",
       "    </tr>\n",
       "    <tr>\n",
       "      <th>0_999922226594166</th>\n",
       "      <td>3</td>\n",
       "    </tr>\n",
       "    <tr>\n",
       "      <th>0_999962725556976</th>\n",
       "      <td>3</td>\n",
       "    </tr>\n",
       "  </tbody>\n",
       "</table>\n",
       "<p>22173 rows × 1 columns</p>\n",
       "</div>"
      ],
      "text/plain": [
       "                   RLO_BEGIN\n",
       "name                        \n",
       "0_100007997087318          3\n",
       "0_100012052065590          3\n",
       "0_100033685856903          1\n",
       "0_100092103196401          1\n",
       "0_100169242642500          3\n",
       "...                      ...\n",
       "0_999818461840174          3\n",
       "0_999834779179683          2\n",
       "0_999869300318696          1\n",
       "0_999922226594166          3\n",
       "0_999962725556976          3\n",
       "\n",
       "[22173 rows x 1 columns]"
      ]
     },
     "execution_count": 37,
     "metadata": {},
     "output_type": "execute_result"
    }
   ],
   "source": [
    "test_logfile[(test_logfile['Object']=='B') & (test_logfile['event']=='RLO_BEGIN')].groupby('name').event.count().to_frame(name='RLO_BEGIN')"
   ]
  },
  {
   "cell_type": "code",
   "execution_count": 18,
   "id": "87ac3711-89a6-42bc-8481-7b89914d5922",
   "metadata": {},
   "outputs": [
    {
     "data": {
      "text/html": [
       "<div>\n",
       "<style scoped>\n",
       "    .dataframe tbody tr th:only-of-type {\n",
       "        vertical-align: middle;\n",
       "    }\n",
       "\n",
       "    .dataframe tbody tr th {\n",
       "        vertical-align: top;\n",
       "    }\n",
       "\n",
       "    .dataframe thead th {\n",
       "        text-align: right;\n",
       "    }\n",
       "</style>\n",
       "<table border=\"1\" class=\"dataframe\">\n",
       "  <thead>\n",
       "    <tr style=\"text-align: right;\">\n",
       "      <th></th>\n",
       "      <th>Object</th>\n",
       "      <th>ID</th>\n",
       "      <th>event</th>\n",
       "      <th>time</th>\n",
       "      <th>info</th>\n",
       "    </tr>\n",
       "    <tr>\n",
       "      <th>name</th>\n",
       "      <th></th>\n",
       "      <th></th>\n",
       "      <th></th>\n",
       "      <th></th>\n",
       "      <th></th>\n",
       "    </tr>\n",
       "  </thead>\n",
       "  <tbody>\n",
       "    <tr>\n",
       "      <th>0_100007997087318</th>\n",
       "      <td>3</td>\n",
       "      <td>3</td>\n",
       "      <td>3</td>\n",
       "      <td>3</td>\n",
       "      <td>3</td>\n",
       "    </tr>\n",
       "    <tr>\n",
       "      <th>0_100012052065590</th>\n",
       "      <td>3</td>\n",
       "      <td>3</td>\n",
       "      <td>3</td>\n",
       "      <td>3</td>\n",
       "      <td>3</td>\n",
       "    </tr>\n",
       "    <tr>\n",
       "      <th>0_100033685856903</th>\n",
       "      <td>1</td>\n",
       "      <td>1</td>\n",
       "      <td>1</td>\n",
       "      <td>1</td>\n",
       "      <td>1</td>\n",
       "    </tr>\n",
       "    <tr>\n",
       "      <th>0_100092103196401</th>\n",
       "      <td>1</td>\n",
       "      <td>1</td>\n",
       "      <td>1</td>\n",
       "      <td>1</td>\n",
       "      <td>1</td>\n",
       "    </tr>\n",
       "    <tr>\n",
       "      <th>0_100169242642500</th>\n",
       "      <td>3</td>\n",
       "      <td>3</td>\n",
       "      <td>3</td>\n",
       "      <td>3</td>\n",
       "      <td>3</td>\n",
       "    </tr>\n",
       "    <tr>\n",
       "      <th>...</th>\n",
       "      <td>...</td>\n",
       "      <td>...</td>\n",
       "      <td>...</td>\n",
       "      <td>...</td>\n",
       "      <td>...</td>\n",
       "    </tr>\n",
       "    <tr>\n",
       "      <th>0_999743251118553</th>\n",
       "      <td>1</td>\n",
       "      <td>1</td>\n",
       "      <td>1</td>\n",
       "      <td>1</td>\n",
       "      <td>1</td>\n",
       "    </tr>\n",
       "    <tr>\n",
       "      <th>0_999802623413951</th>\n",
       "      <td>3</td>\n",
       "      <td>3</td>\n",
       "      <td>3</td>\n",
       "      <td>3</td>\n",
       "      <td>3</td>\n",
       "    </tr>\n",
       "    <tr>\n",
       "      <th>0_999827934345559</th>\n",
       "      <td>2</td>\n",
       "      <td>2</td>\n",
       "      <td>2</td>\n",
       "      <td>2</td>\n",
       "      <td>2</td>\n",
       "    </tr>\n",
       "    <tr>\n",
       "      <th>0_999900380990405</th>\n",
       "      <td>1</td>\n",
       "      <td>1</td>\n",
       "      <td>1</td>\n",
       "      <td>1</td>\n",
       "      <td>1</td>\n",
       "    </tr>\n",
       "    <tr>\n",
       "      <th>0_999968173656181</th>\n",
       "      <td>2</td>\n",
       "      <td>2</td>\n",
       "      <td>2</td>\n",
       "      <td>2</td>\n",
       "      <td>2</td>\n",
       "    </tr>\n",
       "  </tbody>\n",
       "</table>\n",
       "<p>667055 rows × 5 columns</p>\n",
       "</div>"
      ],
      "text/plain": [
       "                   Object  ID  event  time  info\n",
       "name                                            \n",
       "0_100007997087318       3   3      3     3     3\n",
       "0_100012052065590       3   3      3     3     3\n",
       "0_100033685856903       1   1      1     1     1\n",
       "0_100092103196401       1   1      1     1     1\n",
       "0_100169242642500       3   3      3     3     3\n",
       "...                   ...  ..    ...   ...   ...\n",
       "0_999743251118553       1   1      1     1     1\n",
       "0_999802623413951       3   3      3     3     3\n",
       "0_999827934345559       2   2      2     2     2\n",
       "0_999900380990405       1   1      1     1     1\n",
       "0_999968173656181       2   2      2     2     2\n",
       "\n",
       "[667055 rows x 5 columns]"
      ]
     },
     "execution_count": 18,
     "metadata": {},
     "output_type": "execute_result"
    }
   ],
   "source": [
    "#NON RANNARLO, e' un reperto storico\n",
    "# logfile[(logfile['event']=='RLO_BEGIN')].groupby('name').event.value_counts().compute()\n",
    "logfile[(logfile['event']=='RLO_BEGIN')].groupby('name').count().compute()"
   ]
  },
  {
   "cell_type": "code",
   "execution_count": 8,
   "id": "42386a73-bb39-4d8b-854d-8baa985a9406",
   "metadata": {},
   "outputs": [],
   "source": [
    "bhbh = output_bhbh.merge(evolved, on='name', how='inner')\n",
    "# bhbh.head()"
   ]
  }
 ],
 "metadata": {
  "kernelspec": {
   "display_name": "Python 3 (ipykernel)",
   "language": "python",
   "name": "python3"
  },
  "language_info": {
   "codemirror_mode": {
    "name": "ipython",
    "version": 3
   },
   "file_extension": ".py",
   "mimetype": "text/x-python",
   "name": "python",
   "nbconvert_exporter": "python",
   "pygments_lexer": "ipython3",
   "version": "3.8.16"
  }
 },
 "nbformat": 4,
 "nbformat_minor": 5
}
