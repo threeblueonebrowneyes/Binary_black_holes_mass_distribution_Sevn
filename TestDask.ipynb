{
 "cells": [
  {
   "cell_type": "markdown",
   "id": "d2a0c9ff",
   "metadata": {},
   "source": [
    "## Import libraries"
   ]
  },
  {
   "cell_type": "code",
   "execution_count": 1,
   "id": "8909a631-d101-4e47-bfa2-7b369d50da4d",
   "metadata": {},
   "outputs": [],
   "source": [
    "import numpy as np\n",
    "import pandas as pd\n",
    "\n",
    "import dask.dataframe as dd\n",
    "import dask.array as da\n",
    "import dask.bag as db\n",
    "import dask\n",
    "\n",
    "import re"
   ]
  },
  {
   "cell_type": "markdown",
   "id": "2dc49c28-45a8-4d89-9fbc-29f0157be1e8",
   "metadata": {},
   "source": [
    "## Importing as Dask Dataframes all files\n",
    "(output_*.csv, evolved_*.dat, logfile_*.dat)"
   ]
  },
  {
   "cell_type": "code",
   "execution_count": 2,
   "id": "76fa6e04-7606-441f-ad13-35c02b0e3f93",
   "metadata": {},
   "outputs": [
    {
     "name": "stdout",
     "output_type": "stream",
     "text": [
      "Number of pratitions for evolved files : 30\n",
      "Number of pratitions for output files : 60\n",
      "Number of pratitions for logfile files : 30\n"
     ]
    }
   ],
   "source": [
    "output = dd.read_csv('../Data/sevn_output_Z0.001A1L1/sevn_output_Z0.001A1L1/0/output_*.csv')\n",
    "evolved = dd.read_table('../Data/sevn_output_Z0.001A1L1/sevn_output_Z0.001A1L1/0/evolved_*.dat', sep='\\s+')\n",
    "logfile = dd.read_csv('../Data/sevn_output_Z0.001A1L1/sevn_output_Z0.001A1L1/0/logfile_*.dat', header =None).squeeze()\n",
    "# logfile = dd.read_table('sevn_output_Z0.001A1L1/sevn_output_Z0.001A1L1/0/logfile_*.dat', sep=';', header=None, names=['Object', 'name', 'ID', 'event', 'time', 'info'])\n",
    "\n",
    "print(f'Number of pratitions for evolved files : {evolved.npartitions}')\n",
    "print(f'Number of pratitions for output files : {output.npartitions}')\n",
    "print(f'Number of pratitions for logfile files : {logfile.npartitions}')"
   ]
  },
  {
   "cell_type": "markdown",
   "id": "7861c555-c338-46c6-958b-f95b96721da7",
   "metadata": {},
   "source": [
    "## Filtering logfile files to count the number of RL overflows and CE"
   ]
  },
  {
   "cell_type": "code",
   "execution_count": 3,
   "id": "8e846bf0-aeeb-46ea-8682-b20c159d0358",
   "metadata": {},
   "outputs": [],
   "source": [
    "df_RLO = logfile.str.extract(r\"B;((?:\\d*\\_)?\\d+);(\\d+);RLO_BEGIN;\").dropna().rename(columns={0:'name', 1:'ID'}).groupby('name').size().to_frame(name='RLO').reset_index()\n",
    "df_CE = logfile.str.extract(r\"B;((?:\\d*\\_)?\\d+);(\\d+);CE;\").dropna().rename(columns={0:'name', 1:'ID'}).groupby('name').size().to_frame(name='CE').reset_index()"
   ]
  },
  {
   "cell_type": "markdown",
   "id": "c69d8c49-3451-45e5-9936-5ae6ee39634b",
   "metadata": {},
   "source": [
    "This is an alternative method. The previous one is better since parallelize all operations"
   ]
  },
  {
   "cell_type": "code",
   "execution_count": 4,
   "id": "912c005d-497b-4441-b0b3-dd3ab875da8a",
   "metadata": {},
   "outputs": [],
   "source": [
    "# df_logfile = logfile.str.findall(r\"B;((?:\\d*\\_)?\\d+);(\\d+);RLO_BEGIN;\").to_frame(name='id').explode('id').dropna().compute()\n",
    "# df_logfile[['name','ID']] = pd.DataFrame(df_logfile['id'].tolist(), index=df_logfile.index)\n",
    "# df_logfile =df_logfile.drop(columns=['id']).groupby('name').size().to_frame(name='RLO').reset_index()\n",
    "\n",
    "# df_logfile.head(10)"
   ]
  },
  {
   "cell_type": "markdown",
   "id": "785c1864-6c08-481a-947e-9e484ecc6ede",
   "metadata": {},
   "source": [
    "## Filtering output files to get only binaries black holes"
   ]
  },
  {
   "cell_type": "code",
   "execution_count": 5,
   "id": "be233f1a-2aac-44f3-a15e-b8525b6120da",
   "metadata": {},
   "outputs": [],
   "source": [
    "idxBHBH=(output.RemnantType_0==6) & (output.RemnantType_1==6) & (output.Semimajor.notnull())\n",
    "output_bhbh=output[idxBHBH] #Distributed DataFrame containing only binaries BB\n",
    "# output_bhbh = output_bhbh.compute()"
   ]
  },
  {
   "cell_type": "markdown",
   "id": "7b3d97c8-2180-4971-8579-a174974ef909",
   "metadata": {},
   "source": [
    "## Joining tables\n",
    "Due to the reshuffling among the partition it is not clear wheter or not is covenient to join the tables trhough dask or locally (https://docs.dask.org/en/stable/dataframe-groupby.html)"
   ]
  },
  {
   "cell_type": "code",
   "execution_count": 11,
   "id": "9dff3fa4-48e1-485d-8b9f-92e0621b1380",
   "metadata": {},
   "outputs": [],
   "source": [
    "bhbh = output_bhbh.merge(evolved, on='name', how='inner').merge(df_RLO, on='name', how='left').merge(df_CE, on='name', how='left')"
   ]
  },
  {
   "cell_type": "code",
   "execution_count": 12,
   "id": "99182aa9-a7f4-4300-8044-aa9a64f5b744",
   "metadata": {
    "scrolled": true
   },
   "outputs": [
    {
     "data": {
      "text/html": [
       "<div>\n",
       "<style scoped>\n",
       "    .dataframe tbody tr th:only-of-type {\n",
       "        vertical-align: middle;\n",
       "    }\n",
       "\n",
       "    .dataframe tbody tr th {\n",
       "        vertical-align: top;\n",
       "    }\n",
       "\n",
       "    .dataframe thead th {\n",
       "        text-align: right;\n",
       "    }\n",
       "</style>\n",
       "<table border=\"1\" class=\"dataframe\">\n",
       "  <thead>\n",
       "    <tr style=\"text-align: right;\">\n",
       "      <th></th>\n",
       "      <th>ID</th>\n",
       "      <th>name</th>\n",
       "      <th>Mass_0_x</th>\n",
       "      <th>MHE_0</th>\n",
       "      <th>MCO_0</th>\n",
       "      <th>Radius_0</th>\n",
       "      <th>RHE_0</th>\n",
       "      <th>RCO_0</th>\n",
       "      <th>Luminosity_0</th>\n",
       "      <th>Temperature_0</th>\n",
       "      <th>...</th>\n",
       "      <th>spin_1</th>\n",
       "      <th>SN_1</th>\n",
       "      <th>Tstart_1</th>\n",
       "      <th>a</th>\n",
       "      <th>e</th>\n",
       "      <th>Tend</th>\n",
       "      <th>Dtout</th>\n",
       "      <th>Seed</th>\n",
       "      <th>RLO</th>\n",
       "      <th>CE</th>\n",
       "    </tr>\n",
       "  </thead>\n",
       "  <tbody>\n",
       "    <tr>\n",
       "      <th>0</th>\n",
       "      <td>113161</td>\n",
       "      <td>0_633970558512000</td>\n",
       "      <td>13.43931</td>\n",
       "      <td>0.0</td>\n",
       "      <td>0.0</td>\n",
       "      <td>0.000057</td>\n",
       "      <td>0.0</td>\n",
       "      <td>0.0</td>\n",
       "      <td>1.000000e-10</td>\n",
       "      <td>2416.568</td>\n",
       "      <td>...</td>\n",
       "      <td>0.0</td>\n",
       "      <td>rapid_gauNS</td>\n",
       "      <td>zams</td>\n",
       "      <td>2150.0</td>\n",
       "      <td>0.5580</td>\n",
       "      <td>end</td>\n",
       "      <td>events</td>\n",
       "      <td>584653665136967</td>\n",
       "      <td>2.0</td>\n",
       "      <td>2.0</td>\n",
       "    </tr>\n",
       "    <tr>\n",
       "      <th>1</th>\n",
       "      <td>115326</td>\n",
       "      <td>0_982302651669916</td>\n",
       "      <td>48.80722</td>\n",
       "      <td>0.0</td>\n",
       "      <td>0.0</td>\n",
       "      <td>0.000207</td>\n",
       "      <td>0.0</td>\n",
       "      <td>0.0</td>\n",
       "      <td>1.000000e-10</td>\n",
       "      <td>1268.076</td>\n",
       "      <td>...</td>\n",
       "      <td>0.0</td>\n",
       "      <td>rapid_gauNS</td>\n",
       "      <td>zams</td>\n",
       "      <td>7850.0</td>\n",
       "      <td>0.4280</td>\n",
       "      <td>end</td>\n",
       "      <td>events</td>\n",
       "      <td>517569089613274</td>\n",
       "      <td>NaN</td>\n",
       "      <td>NaN</td>\n",
       "    </tr>\n",
       "    <tr>\n",
       "      <th>2</th>\n",
       "      <td>119321</td>\n",
       "      <td>0_192184231174707</td>\n",
       "      <td>35.85404</td>\n",
       "      <td>0.0</td>\n",
       "      <td>0.0</td>\n",
       "      <td>0.000152</td>\n",
       "      <td>0.0</td>\n",
       "      <td>0.0</td>\n",
       "      <td>1.000000e-10</td>\n",
       "      <td>1479.512</td>\n",
       "      <td>...</td>\n",
       "      <td>0.0</td>\n",
       "      <td>rapid_gauNS</td>\n",
       "      <td>zams</td>\n",
       "      <td>96000.0</td>\n",
       "      <td>0.5780</td>\n",
       "      <td>end</td>\n",
       "      <td>events</td>\n",
       "      <td>696338637666074</td>\n",
       "      <td>NaN</td>\n",
       "      <td>NaN</td>\n",
       "    </tr>\n",
       "    <tr>\n",
       "      <th>3</th>\n",
       "      <td>415724</td>\n",
       "      <td>0_194426475249492</td>\n",
       "      <td>24.70646</td>\n",
       "      <td>0.0</td>\n",
       "      <td>0.0</td>\n",
       "      <td>0.000105</td>\n",
       "      <td>0.0</td>\n",
       "      <td>0.0</td>\n",
       "      <td>1.000000e-10</td>\n",
       "      <td>1782.306</td>\n",
       "      <td>...</td>\n",
       "      <td>0.0</td>\n",
       "      <td>rapid_gauNS</td>\n",
       "      <td>zams</td>\n",
       "      <td>803.0</td>\n",
       "      <td>0.0356</td>\n",
       "      <td>end</td>\n",
       "      <td>events</td>\n",
       "      <td>246916327964595</td>\n",
       "      <td>1.0</td>\n",
       "      <td>1.0</td>\n",
       "    </tr>\n",
       "    <tr>\n",
       "      <th>4</th>\n",
       "      <td>703313</td>\n",
       "      <td>0_990268926659684</td>\n",
       "      <td>38.02112</td>\n",
       "      <td>0.0</td>\n",
       "      <td>0.0</td>\n",
       "      <td>0.000161</td>\n",
       "      <td>0.0</td>\n",
       "      <td>0.0</td>\n",
       "      <td>1.000000e-10</td>\n",
       "      <td>1436.730</td>\n",
       "      <td>...</td>\n",
       "      <td>0.0</td>\n",
       "      <td>rapid_gauNS</td>\n",
       "      <td>zams</td>\n",
       "      <td>459.0</td>\n",
       "      <td>0.2350</td>\n",
       "      <td>end</td>\n",
       "      <td>events</td>\n",
       "      <td>599453684608335</td>\n",
       "      <td>2.0</td>\n",
       "      <td>NaN</td>\n",
       "    </tr>\n",
       "  </tbody>\n",
       "</table>\n",
       "<p>5 rows × 51 columns</p>\n",
       "</div>"
      ],
      "text/plain": [
       "       ID               name  Mass_0_x  MHE_0  MCO_0  Radius_0  RHE_0  RCO_0  \\\n",
       "0  113161  0_633970558512000  13.43931    0.0    0.0  0.000057    0.0    0.0   \n",
       "1  115326  0_982302651669916  48.80722    0.0    0.0  0.000207    0.0    0.0   \n",
       "2  119321  0_192184231174707  35.85404    0.0    0.0  0.000152    0.0    0.0   \n",
       "3  415724  0_194426475249492  24.70646    0.0    0.0  0.000105    0.0    0.0   \n",
       "4  703313  0_990268926659684  38.02112    0.0    0.0  0.000161    0.0    0.0   \n",
       "\n",
       "   Luminosity_0  Temperature_0  ...  spin_1         SN_1  Tstart_1        a  \\\n",
       "0  1.000000e-10       2416.568  ...     0.0  rapid_gauNS      zams   2150.0   \n",
       "1  1.000000e-10       1268.076  ...     0.0  rapid_gauNS      zams   7850.0   \n",
       "2  1.000000e-10       1479.512  ...     0.0  rapid_gauNS      zams  96000.0   \n",
       "3  1.000000e-10       1782.306  ...     0.0  rapid_gauNS      zams    803.0   \n",
       "4  1.000000e-10       1436.730  ...     0.0  rapid_gauNS      zams    459.0   \n",
       "\n",
       "        e  Tend   Dtout             Seed  RLO   CE  \n",
       "0  0.5580   end  events  584653665136967  2.0  2.0  \n",
       "1  0.4280   end  events  517569089613274  NaN  NaN  \n",
       "2  0.5780   end  events  696338637666074  NaN  NaN  \n",
       "3  0.0356   end  events  246916327964595  1.0  1.0  \n",
       "4  0.2350   end  events  599453684608335  2.0  NaN  \n",
       "\n",
       "[5 rows x 51 columns]"
      ]
     },
     "execution_count": 12,
     "metadata": {},
     "output_type": "execute_result"
    }
   ],
   "source": [
    "bhbh.head()"
   ]
  },
  {
   "cell_type": "markdown",
   "id": "b2a17665",
   "metadata": {},
   "source": [
    "# Some Analysis"
   ]
  },
  {
   "cell_type": "code",
   "execution_count": 14,
   "id": "1368eeb1",
   "metadata": {},
   "outputs": [
    {
     "name": "stdout",
     "output_type": "stream",
     "text": [
      "Index(['ID', 'name', 'Mass_0_x', 'MHE_0', 'MCO_0', 'Radius_0', 'RHE_0',\n",
      "       'RCO_0', 'Luminosity_0', 'Temperature_0', 'Lambda_0', 'Phase_0',\n",
      "       'PhaseBSE_0', 'RemnantType_0', 'Zams_0', 'Mass_1_x', 'MHE_1', 'MCO_1',\n",
      "       'Radius_1', 'RHE_1', 'RCO_1', 'Luminosity_1', 'Temperature_1',\n",
      "       'Lambda_1', 'Phase_1', 'PhaseBSE_1', 'RemnantType_1', 'Zams_1',\n",
      "       'Semimajor', 'Eccentricity', 'GWtime', 'BWorldtime', 'BEvent', '#ID',\n",
      "       'Mass_0_y', 'Z_0', 'spin_0', 'SN_0', 'Tstart_0', 'Mass_1_y', 'Z_1',\n",
      "       'spin_1', 'SN_1', 'Tstart_1', 'a', 'e', 'Tend', 'Dtout', 'Seed', 'RLO',\n",
      "       'CE', 'tdelay'],\n",
      "      dtype='object')\n"
     ]
    }
   ],
   "source": [
    "#list all the columns\n",
    "print(bhbh.columns)"
   ]
  },
  {
   "cell_type": "code",
   "execution_count": 13,
   "id": "af54ea22",
   "metadata": {},
   "outputs": [],
   "source": [
    "#Add a column with the merging time\n",
    "bhbh['tdelay'] = bhbh['GWtime']+ bhbh['BWorldtime']"
   ]
  },
  {
   "cell_type": "code",
   "execution_count": null,
   "id": "5c4e299d",
   "metadata": {},
   "outputs": [],
   "source": [
    "bhbh.head()"
   ]
  }
 ],
 "metadata": {
  "kernelspec": {
   "display_name": "Python 3 (ipykernel)",
   "language": "python",
   "name": "python3"
  },
  "language_info": {
   "codemirror_mode": {
    "name": "ipython",
    "version": 3
   },
   "file_extension": ".py",
   "mimetype": "text/x-python",
   "name": "python",
   "nbconvert_exporter": "python",
   "pygments_lexer": "ipython3",
   "version": "3.11.3"
  }
 },
 "nbformat": 4,
 "nbformat_minor": 5
}
