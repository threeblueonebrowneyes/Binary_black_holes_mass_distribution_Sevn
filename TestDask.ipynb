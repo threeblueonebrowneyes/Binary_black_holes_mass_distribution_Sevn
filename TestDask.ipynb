{
 "cells": [
  {
   "cell_type": "code",
   "execution_count": 1,
   "id": "8909a631-d101-4e47-bfa2-7b369d50da4d",
   "metadata": {},
   "outputs": [],
   "source": [
    "import numpy as np\n",
    "import pandas as pd\n",
    "\n",
    "import dask.dataframe as dd\n",
    "import dask.array as da\n",
    "import dask.bag as db\n",
    "\n",
    "import re"
   ]
  },
  {
   "cell_type": "code",
   "execution_count": 2,
   "id": "76fa6e04-7606-441f-ad13-35c02b0e3f93",
   "metadata": {},
   "outputs": [
    {
     "name": "stdout",
     "output_type": "stream",
     "text": [
      "Number of pratitions for evolved files : 30\n",
      "Number of pratitions for output files : 60\n",
      "Number of pratitions for logfile files : 30\n"
     ]
    }
   ],
   "source": [
    "output = dd.read_csv('sevn_output_Z0.001A1L1/sevn_output_Z0.001A1L1/0/output_*.csv')\n",
    "evolved = dd.read_table('sevn_output_Z0.001A1L1/sevn_output_Z0.001A1L1/0/evolved_*.dat', sep='\\s+')\n",
    "logfile = dd.read_csv('sevn_output_Z0.001A1L1/sevn_output_Z0.001A1L1/0/logfile_*.dat', header =None).squeeze()\n",
    "# logfile = dd.read_table('sevn_output_Z0.001A1L1/sevn_output_Z0.001A1L1/0/logfile_*.dat', sep=';', header=None, names=['Object', 'name', 'ID', 'event', 'time', 'info'])\n",
    "\n",
    "print(f'Number of pratitions for evolved files : {evolved.npartitions}')\n",
    "print(f'Number of pratitions for output files : {output.npartitions}')\n",
    "print(f'Number of pratitions for logfile files : {logfile.npartitions}')"
   ]
  },
  {
   "cell_type": "markdown",
   "id": "7861c555-c338-46c6-958b-f95b96721da7",
   "metadata": {},
   "source": [
    "Filtering logfile files to count the number of RL overflows and CE"
   ]
  },
  {
   "cell_type": "code",
   "execution_count": 34,
   "id": "5f41ffd1-dba0-4599-8351-fb8aa3795aeb",
   "metadata": {},
   "outputs": [],
   "source": [
    "a = logfile.str.findall(r\"B;(?:\\d*\\_)?\\d+;(\\d+);RLO_BEGIN;\").compute()"
   ]
  },
  {
   "cell_type": "code",
   "execution_count": 35,
   "id": "69441ebf-8e3a-4767-9b73-12577a7affb5",
   "metadata": {},
   "outputs": [
    {
     "data": {
      "text/plain": [
       "0     []\n",
       "1     []\n",
       "2     []\n",
       "3     []\n",
       "4     []\n",
       "5    [1]\n",
       "6     []\n",
       "7     []\n",
       "8     []\n",
       "9     []\n",
       "Name: 0, dtype: object"
      ]
     },
     "execution_count": 35,
     "metadata": {},
     "output_type": "execute_result"
    }
   ],
   "source": [
    "a.head(10)"
   ]
  },
  {
   "cell_type": "code",
   "execution_count": 73,
   "id": "e029c548-e2ef-4ffb-9a3c-3575c2199d65",
   "metadata": {},
   "outputs": [],
   "source": [
    "b = a.to_frame(name='ID').explode('ID').groupby('ID').size().to_frame(name='RLO').reset_index()"
   ]
  },
  {
   "cell_type": "code",
   "execution_count": 76,
   "id": "563aa4e3-5892-4d8a-8fd4-865c33a4de8d",
   "metadata": {},
   "outputs": [
    {
     "data": {
      "text/html": [
       "<div>\n",
       "<style scoped>\n",
       "    .dataframe tbody tr th:only-of-type {\n",
       "        vertical-align: middle;\n",
       "    }\n",
       "\n",
       "    .dataframe tbody tr th {\n",
       "        vertical-align: top;\n",
       "    }\n",
       "\n",
       "    .dataframe thead th {\n",
       "        text-align: right;\n",
       "    }\n",
       "</style>\n",
       "<table border=\"1\" class=\"dataframe\">\n",
       "  <thead>\n",
       "    <tr style=\"text-align: right;\">\n",
       "      <th></th>\n",
       "      <th>ID</th>\n",
       "      <th>RLO</th>\n",
       "    </tr>\n",
       "  </thead>\n",
       "  <tbody>\n",
       "  </tbody>\n",
       "</table>\n",
       "</div>"
      ],
      "text/plain": [
       "Empty DataFrame\n",
       "Columns: [ID, RLO]\n",
       "Index: []"
      ]
     },
     "execution_count": 76,
     "metadata": {},
     "output_type": "execute_result"
    }
   ],
   "source": [
    "b[b['ID']==6]"
   ]
  },
  {
   "cell_type": "markdown",
   "id": "785c1864-6c08-481a-947e-9e484ecc6ede",
   "metadata": {},
   "source": [
    "Filtering output files to get only binaries black holes"
   ]
  },
  {
   "cell_type": "code",
   "execution_count": null,
   "id": "be233f1a-2aac-44f3-a15e-b8525b6120da",
   "metadata": {},
   "outputs": [],
   "source": [
    "idxBHBH=(output.RemnantType_0==6) & (output.RemnantType_1==6) & (output.Semimajor.notnull())\n",
    "output_bhbh=output[idxBHBH] #Distributed DataFrame containing only binaries BB\n",
    "# output_bhbh = output_bhbh.compute()"
   ]
  }
 ],
 "metadata": {
  "kernelspec": {
   "display_name": "Python 3 (ipykernel)",
   "language": "python",
   "name": "python3"
  },
  "language_info": {
   "codemirror_mode": {
    "name": "ipython",
    "version": 3
   },
   "file_extension": ".py",
   "mimetype": "text/x-python",
   "name": "python",
   "nbconvert_exporter": "python",
   "pygments_lexer": "ipython3",
   "version": "3.8.16"
  }
 },
 "nbformat": 4,
 "nbformat_minor": 5
}
