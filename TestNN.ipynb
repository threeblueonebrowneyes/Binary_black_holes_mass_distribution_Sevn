{
 "cells": [
  {
   "cell_type": "code",
   "execution_count": 1,
   "id": "dfb843e7-bf6e-410d-9461-be946e888d3b",
   "metadata": {},
   "outputs": [],
   "source": [
    "import torch\n",
    "import torch.nn as nn\n",
    "import torch.nn.functional as F\n",
    "from torch.utils.data import DataLoader\n",
    "from sklearn.preprocessing import StandardScaler\n",
    "import pandas as pd"
   ]
  },
  {
   "cell_type": "code",
   "execution_count": 2,
   "id": "a7ef3d7b-2f79-474b-b02f-63dbb0b7135b",
   "metadata": {},
   "outputs": [],
   "source": [
    "class BHBHdatset(torch.utils.data.Dataset):\n",
    "    def __init__(self, df, input_cols, target_cols, scale_data=True):\n",
    "        self.X = torch.from_numpy(df[input_cols].values)\n",
    "        self.y = torch.from_numpy(df[target_cols].values)\n",
    "            \n",
    "    def __len__(self):\n",
    "        return len(self.X)\n",
    "    \n",
    "    def __getitem__(self, i):\n",
    "        return self.X[i], self.y[i]"
   ]
  },
  {
   "cell_type": "code",
   "execution_count": 3,
   "id": "b176ef2c-f416-4408-a368-b801793c1069",
   "metadata": {},
   "outputs": [],
   "source": [
    "# torch.manual_seed(42)\n",
    "bhbh = pd.read_csv('BHBH.csv')\n",
    "bhbh = bhbh.fillna(0)\n",
    "bhbh['q'] = bhbh.apply(lambda x: x['Mass_0_out']/x['Mass_1_out'] if (x['Mass_1_out'] > x['Mass_0_out']) else x['Mass_1_out']/x['Mass_0_out'], axis=1)"
   ]
  },
  {
   "cell_type": "code",
   "execution_count": 4,
   "id": "1f2860d3-e996-432d-ba50-02eac3e3a208",
   "metadata": {},
   "outputs": [],
   "source": [
    "data =bhbh\n",
    "dataset = BHBHdatset(data,\n",
    "                     ['Mass_0', 'Z_0', 'Mass_1', 'Z_1', 'a', 'e'],\n",
    "                     ['q'])\n",
    "trainloader = torch.utils.data.DataLoader(dataset,\n",
    "                                          batch_size=500,\n",
    "                                          shuffle=True)"
   ]
  },
  {
   "cell_type": "code",
   "execution_count": 5,
   "id": "c110af72-1b72-4ada-a3e5-9a403d954f05",
   "metadata": {},
   "outputs": [],
   "source": [
    "class Net(nn.Module):\n",
    "    def __init__(self):\n",
    "        super(Net, self).__init__()\n",
    "        self.in1 = nn.Linear(6,4)\n",
    "        self.in2 = nn.Linear(6,4)\n",
    "        self.in3 = nn.Linear(6,4)\n",
    "        # self.in4 = nn.Linear(6,4)\n",
    "\n",
    "        self.lin1_1 = nn.Linear(4,4)\n",
    "        self.lin1_2 = nn.Linear(4,4)\n",
    "        self.lin1_3 = nn.Linear(4,4)\n",
    "        # self.lin1_4 = nn.Linear(4,4)\n",
    "        \n",
    "        \n",
    "        # self.out1 = nn.Linear(12,4)\n",
    "        # self.out2 = nn.Linear(4,1)\n",
    "        \n",
    "        self.out = nn.Linear(12,1)\n",
    "\n",
    "    # x represents our data\n",
    "    def forward(self, x):\n",
    "        x1 = self.in1(x)\n",
    "        x1 = torch.relu(x1)\n",
    "        \n",
    "        x1 = self.lin1_1(x1)\n",
    "        x1 = torch.relu(x1)\n",
    "        \n",
    "        x2 = self.in2(x)\n",
    "        x2 = torch.relu(x2)\n",
    "        \n",
    "        x2 = self.lin1_2(x2)\n",
    "        x2 = torch.relu(x2)\n",
    "        \n",
    "        x3 = self.in3(x)\n",
    "        x3 = torch.relu(x3)\n",
    "        \n",
    "        x3 = self.lin1_3(x3)\n",
    "        x3 = torch.relu(x3)\n",
    "        \n",
    "#         x4 = self.in4(x)\n",
    "#         x4 = torch.relu(x4)\n",
    "        \n",
    "#         x4 = self.lin1_4(x4)\n",
    "#         x4 = torch.relu(x4)\n",
    "        \n",
    "        \n",
    "        output = torch.concat((x1, x2, x3), axis=1)\n",
    "        output = self.out(output)\n",
    "        output = torch.sigmoid(output)\n",
    "        \n",
    "#         output = torch.concat((x1, x2, x3), axis=1)\n",
    "#         output = self.out1(output)\n",
    "#         output = torch.relu(output)\n",
    "        \n",
    "#         output = self.out2(output)\n",
    "#         output = torch.sigmoid(output)\n",
    "        \n",
    "        \n",
    "        return output"
   ]
  },
  {
   "cell_type": "code",
   "execution_count": 6,
   "id": "e614a316-ad16-4f5e-bfb0-7f33caf4713e",
   "metadata": {},
   "outputs": [],
   "source": [
    "net = Net()\n",
    "loss_function = nn.MSELoss()\n",
    "optimizer = torch.optim.Adam(net.parameters(), lr=1e-4)"
   ]
  },
  {
   "cell_type": "code",
   "execution_count": 7,
   "id": "004ab5e3-de37-4364-87eb-84cc5c9885de",
   "metadata": {
    "tags": []
   },
   "outputs": [
    {
     "name": "stdout",
     "output_type": "stream",
     "text": [
      "Starting epoch 1\n",
      "Loss after mini-batch     1: 0.000\n",
      "Loss after mini-batch    11: 0.002\n",
      "Loss after mini-batch    21: 0.002\n",
      "Loss after mini-batch    31: 0.002\n",
      "Loss after mini-batch    41: 0.002\n",
      "Loss after mini-batch    51: 0.002\n",
      "Loss after mini-batch    61: 0.002\n",
      "Loss after mini-batch    71: 0.002\n",
      "Loss after mini-batch    81: 0.002\n",
      "Loss after mini-batch    91: 0.002\n",
      "Loss after mini-batch   101: 0.002\n",
      "Loss after mini-batch   111: 0.002\n",
      "Loss after mini-batch   121: 0.001\n",
      "Loss after mini-batch   131: 0.001\n",
      "Loss after mini-batch   141: 0.001\n",
      "Loss after mini-batch   151: 0.001\n",
      "Loss after mini-batch   161: 0.001\n",
      "Training process has finished.\n",
      "Starting epoch 2\n",
      "Loss after mini-batch     1: 0.000\n",
      "Loss after mini-batch    11: 0.001\n",
      "Loss after mini-batch    21: 0.001\n",
      "Loss after mini-batch    31: 0.001\n",
      "Loss after mini-batch    41: 0.001\n",
      "Loss after mini-batch    51: 0.001\n",
      "Loss after mini-batch    61: 0.001\n",
      "Loss after mini-batch    71: 0.001\n",
      "Loss after mini-batch    81: 0.001\n",
      "Loss after mini-batch    91: 0.001\n",
      "Loss after mini-batch   101: 0.001\n",
      "Loss after mini-batch   111: 0.001\n",
      "Loss after mini-batch   121: 0.001\n",
      "Loss after mini-batch   131: 0.001\n",
      "Loss after mini-batch   141: 0.001\n",
      "Loss after mini-batch   151: 0.001\n",
      "Loss after mini-batch   161: 0.001\n",
      "Training process has finished.\n",
      "Starting epoch 3\n",
      "Loss after mini-batch     1: 0.000\n",
      "Loss after mini-batch    11: 0.001\n",
      "Loss after mini-batch    21: 0.001\n",
      "Loss after mini-batch    31: 0.001\n",
      "Loss after mini-batch    41: 0.001\n",
      "Loss after mini-batch    51: 0.001\n",
      "Loss after mini-batch    61: 0.001\n",
      "Loss after mini-batch    71: 0.001\n",
      "Loss after mini-batch    81: 0.001\n",
      "Loss after mini-batch    91: 0.001\n",
      "Loss after mini-batch   101: 0.001\n",
      "Loss after mini-batch   111: 0.001\n",
      "Loss after mini-batch   121: 0.001\n",
      "Loss after mini-batch   131: 0.001\n",
      "Loss after mini-batch   141: 0.001\n",
      "Loss after mini-batch   151: 0.001\n",
      "Loss after mini-batch   161: 0.001\n",
      "Training process has finished.\n",
      "Starting epoch 4\n",
      "Loss after mini-batch     1: 0.000\n",
      "Loss after mini-batch    11: 0.001\n",
      "Loss after mini-batch    21: 0.001\n",
      "Loss after mini-batch    31: 0.001\n",
      "Loss after mini-batch    41: 0.001\n",
      "Loss after mini-batch    51: 0.001\n",
      "Loss after mini-batch    61: 0.001\n",
      "Loss after mini-batch    71: 0.001\n",
      "Loss after mini-batch    81: 0.001\n",
      "Loss after mini-batch    91: 0.001\n",
      "Loss after mini-batch   101: 0.001\n",
      "Loss after mini-batch   111: 0.001\n",
      "Loss after mini-batch   121: 0.001\n",
      "Loss after mini-batch   131: 0.001\n",
      "Loss after mini-batch   141: 0.001\n",
      "Loss after mini-batch   151: 0.001\n",
      "Loss after mini-batch   161: 0.001\n",
      "Training process has finished.\n",
      "Starting epoch 5\n",
      "Loss after mini-batch     1: 0.000\n",
      "Loss after mini-batch    11: 0.001\n",
      "Loss after mini-batch    21: 0.001\n",
      "Loss after mini-batch    31: 0.001\n",
      "Loss after mini-batch    41: 0.001\n",
      "Loss after mini-batch    51: 0.001\n",
      "Loss after mini-batch    61: 0.001\n",
      "Loss after mini-batch    71: 0.001\n",
      "Loss after mini-batch    81: 0.001\n",
      "Loss after mini-batch    91: 0.001\n",
      "Loss after mini-batch   101: 0.001\n",
      "Loss after mini-batch   111: 0.001\n",
      "Loss after mini-batch   121: 0.001\n",
      "Loss after mini-batch   131: 0.001\n",
      "Loss after mini-batch   141: 0.001\n",
      "Loss after mini-batch   151: 0.001\n",
      "Loss after mini-batch   161: 0.001\n",
      "Training process has finished.\n"
     ]
    }
   ],
   "source": [
    "# Run the training loop\n",
    "for epoch in range(0, 5): # 5 epochs at maximum\n",
    "\n",
    "# Print epoch\n",
    "    print(f'Starting epoch {epoch+1}')\n",
    "\n",
    "    # Set current loss value\n",
    "    current_loss = 0.0\n",
    "\n",
    "    # Iterate over the DataLoader for training data\n",
    "    for i, data in enumerate(trainloader, 0):\n",
    "\n",
    "        # Get and prepare inputs\n",
    "        inputs, targets = data\n",
    "        inputs, targets = inputs.float(), targets.float()\n",
    "        targets = targets.reshape((targets.shape[0], 1))\n",
    "\n",
    "        # Zero the gradients\n",
    "        optimizer.zero_grad()\n",
    "\n",
    "        # Perform forward pass\n",
    "        outputs = net(inputs)\n",
    "\n",
    "        # Compute loss\n",
    "        loss = loss_function(outputs, targets)\n",
    "\n",
    "        # Perform backward pass\n",
    "        loss.backward()\n",
    "\n",
    "        # Perform optimization\n",
    "        optimizer.step()\n",
    "\n",
    "        # Print statistics\n",
    "        current_loss += loss.item()\n",
    "\n",
    "        if i % 10 == 0:\n",
    "            print('Loss after mini-batch %5d: %.3f' %(i + 1, current_loss / 500))\n",
    "            current_loss = 0.0\n",
    "    # Process is complete.\n",
    "    print('Training process has finished.')       "
   ]
  },
  {
   "cell_type": "code",
   "execution_count": 8,
   "id": "c126a057-6630-4724-a342-5495e6803075",
   "metadata": {},
   "outputs": [
    {
     "data": {
      "text/plain": [
       "Net(\n",
       "  (in1): Linear(in_features=6, out_features=4, bias=True)\n",
       "  (in2): Linear(in_features=6, out_features=4, bias=True)\n",
       "  (in3): Linear(in_features=6, out_features=4, bias=True)\n",
       "  (lin1_1): Linear(in_features=4, out_features=4, bias=True)\n",
       "  (lin1_2): Linear(in_features=4, out_features=4, bias=True)\n",
       "  (lin1_3): Linear(in_features=4, out_features=4, bias=True)\n",
       "  (out): Linear(in_features=12, out_features=1, bias=True)\n",
       ")"
      ]
     },
     "execution_count": 8,
     "metadata": {},
     "output_type": "execute_result"
    }
   ],
   "source": [
    "net.eval()"
   ]
  },
  {
   "cell_type": "code",
   "execution_count": 9,
   "id": "20e7eedf-858b-47a0-ae85-512f0d0e5acc",
   "metadata": {},
   "outputs": [],
   "source": [
    "import matplotlib.pyplot as plt"
   ]
  },
  {
   "cell_type": "code",
   "execution_count": 10,
   "id": "32d1033b-1365-4685-a11e-3f49e600d9e3",
   "metadata": {},
   "outputs": [],
   "source": [
    "input_cols = ['Mass_0', 'Z_0', 'Mass_1', 'Z_1', 'a', 'e']\n",
    "target_cols = ['q']\n",
    "X = torch.from_numpy(bhbh[input_cols].values)\n",
    "y = torch.from_numpy(bhbh[target_cols].values)\n",
    "y_test = net(X.float()).detach().numpy()"
   ]
  },
  {
   "cell_type": "code",
   "execution_count": 11,
   "id": "f01b5bce-c5c3-4d23-869a-ce431a8c8046",
   "metadata": {},
   "outputs": [
    {
     "data": {
      "image/png": "[encoded data removed]",
      "text/plain": [
       "<Figure size 640x480 with 1 Axes>"
      ]
     },
     "metadata": {},
     "output_type": "display_data"
    }
   ],
   "source": [
    "plt.hist(y_test);"
   ]
  },
  {
   "cell_type": "code",
   "execution_count": 12,
   "id": "6986b510-0b3f-4372-8ffa-71f99288eece",
   "metadata": {},
   "outputs": [
    {
     "data": {
      "image/png": "[encoded data removed]",
      "text/plain": [
       "<Figure size 640x480 with 1 Axes>"
      ]
     },
     "metadata": {},
     "output_type": "display_data"
    }
   ],
   "source": [
    "plt.hist(bhbh['q'].values);"
   ]
  },
  {
   "cell_type": "code",
   "execution_count": null,
   "id": "cb1b2651-cbc0-4fa1-a0f6-4ddf02d4d028",
   "metadata": {},
   "outputs": [],
   "source": []
  }
 ],
 "metadata": {
  "kernelspec": {
   "display_name": "Python 3 (ipykernel)",
   "language": "python",
   "name": "python3"
  },
  "language_info": {
   "codemirror_mode": {
    "name": "ipython",
    "version": 3
   },
   "file_extension": ".py",
   "mimetype": "text/x-python",
   "name": "python",
   "nbconvert_exporter": "python",
   "pygments_lexer": "ipython3",
   "version": "3.10.9"
  }
 },
 "nbformat": 4,
 "nbformat_minor": 5
}
