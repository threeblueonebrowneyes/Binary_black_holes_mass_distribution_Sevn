{
 "cells": [
  {
   "cell_type": "code",
   "execution_count": null,
   "id": "67487254",
   "metadata": {},
   "outputs": [],
   "source": [
    "import time\n",
    "file = open('scaler2.txt', 'a') # Open a file in append mode\n",
    "for i in range(1000):\n",
    "    file.write('Ciao Jack Scaler'+str(i)+'\\n') # Write some text\n",
    "    file.flush()\n",
    "    time.sleep(0.5)\n",
    "file.write('DONE DUMBASS')\n",
    "file.close()"
   ]
  },
  {
   "cell_type": "code",
   "execution_count": null,
   "id": "1291f918",
   "metadata": {},
   "outputs": [],
   "source": []
  }
 ],
 "metadata": {
  "kernelspec": {
   "display_name": "Python 3 (ipykernel)",
   "language": "python",
   "name": "python3"
  },
  "language_info": {
   "codemirror_mode": {
    "name": "ipython",
    "version": 3
   },
   "file_extension": ".py",
   "mimetype": "text/x-python",
   "name": "python",
   "nbconvert_exporter": "python",
   "pygments_lexer": "ipython3",
   "version": "3.10.10"
  }
 },
 "nbformat": 4,
 "nbformat_minor": 5
}
