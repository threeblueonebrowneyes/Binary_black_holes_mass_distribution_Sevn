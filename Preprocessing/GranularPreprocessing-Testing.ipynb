{
 "cells": [
  {
   "cell_type": "code",
   "execution_count": 1,
   "id": "67cf85fe-03a0-43bc-8a84-88c1e6b07d28",
   "metadata": {},
   "outputs": [],
   "source": [
    "import numpy as np\n",
    "import pandas as pd\n",
    "# import matplotlib.pyplot as plt\n",
    "# import seaborn as sns\n",
    "import re\n",
    "\n",
    "import dask.dataframe as dd\n",
    "import dask.array as da\n",
    "# import dask.bag as db\n",
    "import dask\n",
    "from dask.distributed import Client, SSHCluster\n",
    "import dask.distributed\n",
    "\n",
    "# import hvplot.dask"
   ]
  },
  {
   "cell_type": "code",
   "execution_count": 2,
   "id": "0250408b",
   "metadata": {},
   "outputs": [
    {
     "name": "stderr",
     "output_type": "stream",
     "text": [
      "2023-06-05 17:26:20,201 - distributed.deploy.ssh - INFO - 2023-06-05 17:26:20,200 - distributed.scheduler - INFO - State start\n",
      "2023-06-05 17:26:20,209 - distributed.deploy.ssh - INFO - 2023-06-05 17:26:20,207 - distributed.scheduler - INFO -   Scheduler at:   tcp://10.67.22.140:8786\n",
      "2023-06-05 17:26:21,124 - distributed.deploy.ssh - INFO - 2023-06-05 17:26:21,123 - distributed.nanny - INFO -         Start Nanny at: 'tcp://10.67.22.140:42283'\n",
      "2023-06-05 17:26:21,988 - distributed.deploy.ssh - INFO - 2023-06-05 17:26:21,986 - distributed.worker - INFO -       Start worker at:   tcp://10.67.22.140:39369\n",
      "2023-06-05 17:26:25,656 - distributed.deploy.ssh - INFO - 2023-06-05 17:26:25,655 - distributed.nanny - INFO -         Start Nanny at: 'tcp://10.67.22.220:36843'\n",
      "2023-06-05 17:26:26,422 - distributed.deploy.ssh - INFO - 2023-06-05 17:26:26,419 - distributed.worker - INFO -       Start worker at:   tcp://10.67.22.220:46267\n",
      "2023-06-05 17:26:27,197 - distributed.deploy.ssh - INFO - 2023-06-05 17:26:27,192 - distributed.nanny - INFO -         Start Nanny at: 'tcp://10.67.22.81:38531'\n",
      "2023-06-05 17:26:28,085 - distributed.deploy.ssh - INFO - 2023-06-05 17:26:28,079 - distributed.worker - INFO -       Start worker at:    tcp://10.67.22.81:34269\n"
     ]
    }
   ],
   "source": [
    "cluster = SSHCluster(\n",
    "    [ \"bhbh-1\", \"bhbh-2\", \"bhbh-3\", \"bhbh-1\",],\n",
    "    connect_options={\"client_keys\": \"/home/ubuntu/private/tbertola_key.pem\"},\n",
    "    worker_options={\"nthreads\": 4}, # because each bhbh-* has 4 cores\n",
    "    scheduler_options={\"port\": 8786, \"dashboard_address\": \":8787\"}\n",
    ")"
   ]
  },
  {
   "cell_type": "code",
   "execution_count": 3,
   "id": "727a803e",
   "metadata": {},
   "outputs": [
    {
     "name": "stderr",
     "output_type": "stream",
     "text": [
      "/home/ubuntu/miniconda3/lib/python3.10/site-packages/distributed/client.py:1386: VersionMismatchWarning: Mismatched versions found\n",
      "\n",
      "+---------+--------+-----------+------------------+\n",
      "| Package | Client | Scheduler | Workers          |\n",
      "+---------+--------+-----------+------------------+\n",
      "| tornado | 6.3.2  | 6.3.2     | {'6.2', '6.3.2'} |\n",
      "+---------+--------+-----------+------------------+\n",
      "  warnings.warn(version_module.VersionMismatchWarning(msg[0][\"warning\"]))\n"
     ]
    }
   ],
   "source": [
    "client = Client(cluster)"
   ]
  },
  {
   "cell_type": "code",
   "execution_count": 4,
   "id": "be746ba5-5af5-4941-bfd0-39abcdc04141",
   "metadata": {},
   "outputs": [
    {
     "data": {
      "text/html": [
       "<div>\n",
       "    <div style=\"width: 24px; height: 24px; background-color: #e1e1e1; border: 3px solid #9D9D9D; border-radius: 5px; position: absolute;\"> </div>\n",
       "    <div style=\"margin-left: 48px;\">\n",
       "        <h3 style=\"margin-bottom: 0px;\">Client</h3>\n",
       "        <p style=\"color: #9D9D9D; margin-bottom: 0px;\">Client-1cda5f35-03c6-11ee-a67b-fa163e9f4919</p>\n",
       "        <table style=\"width: 100%; text-align: left;\">\n",
       "\n",
       "        <tr>\n",
       "        \n",
       "            <td style=\"text-align: left;\"><strong>Connection method:</strong> Cluster object</td>\n",
       "            <td style=\"text-align: left;\"><strong>Cluster type:</strong> distributed.SpecCluster</td>\n",
       "        \n",
       "        </tr>\n",
       "\n",
       "        \n",
       "            <tr>\n",
       "                <td style=\"text-align: left;\">\n",
       "                    <strong>Dashboard: </strong> <a href=\"http://10.67.22.140:8787/status\" target=\"_blank\">http://10.67.22.140:8787/status</a>\n",
       "                </td>\n",
       "                <td style=\"text-align: left;\"></td>\n",
       "            </tr>\n",
       "        \n",
       "\n",
       "        </table>\n",
       "\n",
       "        \n",
       "\n",
       "        \n",
       "            <details>\n",
       "            <summary style=\"margin-bottom: 20px;\"><h3 style=\"display: inline;\">Cluster Info</h3></summary>\n",
       "            <div class=\"jp-RenderedHTMLCommon jp-RenderedHTML jp-mod-trusted jp-OutputArea-output\">\n",
       "    <div style=\"width: 24px; height: 24px; background-color: #e1e1e1; border: 3px solid #9D9D9D; border-radius: 5px; position: absolute;\">\n",
       "    </div>\n",
       "    <div style=\"margin-left: 48px;\">\n",
       "        <h3 style=\"margin-bottom: 0px; margin-top: 0px;\">SpecCluster</h3>\n",
       "        <p style=\"color: #9D9D9D; margin-bottom: 0px;\">SSHCluster</p>\n",
       "        <table style=\"width: 100%; text-align: left;\">\n",
       "            <tr>\n",
       "                <td style=\"text-align: left;\">\n",
       "                    <strong>Dashboard:</strong> <a href=\"http://10.67.22.140:8787/status\" target=\"_blank\">http://10.67.22.140:8787/status</a>\n",
       "                </td>\n",
       "                <td style=\"text-align: left;\">\n",
       "                    <strong>Workers:</strong> 3\n",
       "                </td>\n",
       "            </tr>\n",
       "            <tr>\n",
       "                <td style=\"text-align: left;\">\n",
       "                    <strong>Total threads:</strong> 12\n",
       "                </td>\n",
       "                <td style=\"text-align: left;\">\n",
       "                    <strong>Total memory:</strong> 23.29 GiB\n",
       "                </td>\n",
       "            </tr>\n",
       "            \n",
       "        </table>\n",
       "\n",
       "        <details>\n",
       "            <summary style=\"margin-bottom: 20px;\">\n",
       "                <h3 style=\"display: inline;\">Scheduler Info</h3>\n",
       "            </summary>\n",
       "\n",
       "            <div style=\"\">\n",
       "    <div>\n",
       "        <div style=\"width: 24px; height: 24px; background-color: #FFF7E5; border: 3px solid #FF6132; border-radius: 5px; position: absolute;\"> </div>\n",
       "        <div style=\"margin-left: 48px;\">\n",
       "            <h3 style=\"margin-bottom: 0px;\">Scheduler</h3>\n",
       "            <p style=\"color: #9D9D9D; margin-bottom: 0px;\">Scheduler-07e84713-5ba3-431c-9160-e7f8454fe048</p>\n",
       "            <table style=\"width: 100%; text-align: left;\">\n",
       "                <tr>\n",
       "                    <td style=\"text-align: left;\">\n",
       "                        <strong>Comm:</strong> tcp://10.67.22.140:8786\n",
       "                    </td>\n",
       "                    <td style=\"text-align: left;\">\n",
       "                        <strong>Workers:</strong> 3\n",
       "                    </td>\n",
       "                </tr>\n",
       "                <tr>\n",
       "                    <td style=\"text-align: left;\">\n",
       "                        <strong>Dashboard:</strong> <a href=\"http://10.67.22.140:8787/status\" target=\"_blank\">http://10.67.22.140:8787/status</a>\n",
       "                    </td>\n",
       "                    <td style=\"text-align: left;\">\n",
       "                        <strong>Total threads:</strong> 12\n",
       "                    </td>\n",
       "                </tr>\n",
       "                <tr>\n",
       "                    <td style=\"text-align: left;\">\n",
       "                        <strong>Started:</strong> Just now\n",
       "                    </td>\n",
       "                    <td style=\"text-align: left;\">\n",
       "                        <strong>Total memory:</strong> 23.29 GiB\n",
       "                    </td>\n",
       "                </tr>\n",
       "            </table>\n",
       "        </div>\n",
       "    </div>\n",
       "\n",
       "    <details style=\"margin-left: 48px;\">\n",
       "        <summary style=\"margin-bottom: 20px;\">\n",
       "            <h3 style=\"display: inline;\">Workers</h3>\n",
       "        </summary>\n",
       "\n",
       "        \n",
       "        <div style=\"margin-bottom: 20px;\">\n",
       "            <div style=\"width: 24px; height: 24px; background-color: #DBF5FF; border: 3px solid #4CC9FF; border-radius: 5px; position: absolute;\"> </div>\n",
       "            <div style=\"margin-left: 48px;\">\n",
       "            <details>\n",
       "                <summary>\n",
       "                    <h4 style=\"margin-bottom: 0px; display: inline;\">Worker: tcp://10.67.22.140:39369</h4>\n",
       "                </summary>\n",
       "                <table style=\"width: 100%; text-align: left;\">\n",
       "                    <tr>\n",
       "                        <td style=\"text-align: left;\">\n",
       "                            <strong>Comm: </strong> tcp://10.67.22.140:39369\n",
       "                        </td>\n",
       "                        <td style=\"text-align: left;\">\n",
       "                            <strong>Total threads: </strong> 4\n",
       "                        </td>\n",
       "                    </tr>\n",
       "                    <tr>\n",
       "                        <td style=\"text-align: left;\">\n",
       "                            <strong>Dashboard: </strong> <a href=\"http://10.67.22.140:34453/status\" target=\"_blank\">http://10.67.22.140:34453/status</a>\n",
       "                        </td>\n",
       "                        <td style=\"text-align: left;\">\n",
       "                            <strong>Memory: </strong> 7.76 GiB\n",
       "                        </td>\n",
       "                    </tr>\n",
       "                    <tr>\n",
       "                        <td style=\"text-align: left;\">\n",
       "                            <strong>Nanny: </strong> tcp://10.67.22.140:42283\n",
       "                        </td>\n",
       "                        <td style=\"text-align: left;\"></td>\n",
       "                    </tr>\n",
       "                    <tr>\n",
       "                        <td colspan=\"2\" style=\"text-align: left;\">\n",
       "                            <strong>Local directory: </strong> /tmp/dask-worker-space/worker-74votb84\n",
       "                        </td>\n",
       "                    </tr>\n",
       "\n",
       "                    \n",
       "\n",
       "                    \n",
       "\n",
       "                </table>\n",
       "            </details>\n",
       "            </div>\n",
       "        </div>\n",
       "        \n",
       "        <div style=\"margin-bottom: 20px;\">\n",
       "            <div style=\"width: 24px; height: 24px; background-color: #DBF5FF; border: 3px solid #4CC9FF; border-radius: 5px; position: absolute;\"> </div>\n",
       "            <div style=\"margin-left: 48px;\">\n",
       "            <details>\n",
       "                <summary>\n",
       "                    <h4 style=\"margin-bottom: 0px; display: inline;\">Worker: tcp://10.67.22.220:46267</h4>\n",
       "                </summary>\n",
       "                <table style=\"width: 100%; text-align: left;\">\n",
       "                    <tr>\n",
       "                        <td style=\"text-align: left;\">\n",
       "                            <strong>Comm: </strong> tcp://10.67.22.220:46267\n",
       "                        </td>\n",
       "                        <td style=\"text-align: left;\">\n",
       "                            <strong>Total threads: </strong> 4\n",
       "                        </td>\n",
       "                    </tr>\n",
       "                    <tr>\n",
       "                        <td style=\"text-align: left;\">\n",
       "                            <strong>Dashboard: </strong> <a href=\"http://10.67.22.220:39635/status\" target=\"_blank\">http://10.67.22.220:39635/status</a>\n",
       "                        </td>\n",
       "                        <td style=\"text-align: left;\">\n",
       "                            <strong>Memory: </strong> 7.76 GiB\n",
       "                        </td>\n",
       "                    </tr>\n",
       "                    <tr>\n",
       "                        <td style=\"text-align: left;\">\n",
       "                            <strong>Nanny: </strong> tcp://10.67.22.220:36843\n",
       "                        </td>\n",
       "                        <td style=\"text-align: left;\"></td>\n",
       "                    </tr>\n",
       "                    <tr>\n",
       "                        <td colspan=\"2\" style=\"text-align: left;\">\n",
       "                            <strong>Local directory: </strong> /tmp/dask-worker-space/worker-g6hxd90m\n",
       "                        </td>\n",
       "                    </tr>\n",
       "\n",
       "                    \n",
       "\n",
       "                    \n",
       "\n",
       "                </table>\n",
       "            </details>\n",
       "            </div>\n",
       "        </div>\n",
       "        \n",
       "        <div style=\"margin-bottom: 20px;\">\n",
       "            <div style=\"width: 24px; height: 24px; background-color: #DBF5FF; border: 3px solid #4CC9FF; border-radius: 5px; position: absolute;\"> </div>\n",
       "            <div style=\"margin-left: 48px;\">\n",
       "            <details>\n",
       "                <summary>\n",
       "                    <h4 style=\"margin-bottom: 0px; display: inline;\">Worker: tcp://10.67.22.81:34269</h4>\n",
       "                </summary>\n",
       "                <table style=\"width: 100%; text-align: left;\">\n",
       "                    <tr>\n",
       "                        <td style=\"text-align: left;\">\n",
       "                            <strong>Comm: </strong> tcp://10.67.22.81:34269\n",
       "                        </td>\n",
       "                        <td style=\"text-align: left;\">\n",
       "                            <strong>Total threads: </strong> 4\n",
       "                        </td>\n",
       "                    </tr>\n",
       "                    <tr>\n",
       "                        <td style=\"text-align: left;\">\n",
       "                            <strong>Dashboard: </strong> <a href=\"http://10.67.22.81:46521/status\" target=\"_blank\">http://10.67.22.81:46521/status</a>\n",
       "                        </td>\n",
       "                        <td style=\"text-align: left;\">\n",
       "                            <strong>Memory: </strong> 7.76 GiB\n",
       "                        </td>\n",
       "                    </tr>\n",
       "                    <tr>\n",
       "                        <td style=\"text-align: left;\">\n",
       "                            <strong>Nanny: </strong> tcp://10.67.22.81:38531\n",
       "                        </td>\n",
       "                        <td style=\"text-align: left;\"></td>\n",
       "                    </tr>\n",
       "                    <tr>\n",
       "                        <td colspan=\"2\" style=\"text-align: left;\">\n",
       "                            <strong>Local directory: </strong> /tmp/dask-worker-space/worker-ywnidf44\n",
       "                        </td>\n",
       "                    </tr>\n",
       "\n",
       "                    \n",
       "\n",
       "                    \n",
       "\n",
       "                </table>\n",
       "            </details>\n",
       "            </div>\n",
       "        </div>\n",
       "        \n",
       "\n",
       "    </details>\n",
       "</div>\n",
       "\n",
       "        </details>\n",
       "    </div>\n",
       "</div>\n",
       "            </details>\n",
       "        \n",
       "\n",
       "    </div>\n",
       "</div>"
      ],
      "text/plain": [
       "<Client: 'tcp://10.67.22.140:8786' processes=3 threads=12, memory=23.29 GiB>"
      ]
     },
     "execution_count": 4,
     "metadata": {},
     "output_type": "execute_result"
    }
   ],
   "source": [
    "client"
   ]
  },
  {
   "cell_type": "code",
   "execution_count": 5,
   "id": "e7b3592f-3c9a-4afa-9254-c5e1ace1d372",
   "metadata": {},
   "outputs": [
    {
     "name": "stdout",
     "output_type": "stream",
     "text": [
      "60\n"
     ]
    }
   ],
   "source": [
    "import glob\n",
    "dir_path = '/mnt/bhbh/fiducial_Hrad_5M/sevn_output_*'\n",
    "dir_list = glob.glob(dir_path)\n",
    "print(len(dir_list))"
   ]
  },
  {
   "cell_type": "code",
   "execution_count": 6,
   "id": "930c251a",
   "metadata": {},
   "outputs": [],
   "source": [
    "# dir_list"
   ]
  },
  {
   "cell_type": "markdown",
   "id": "49523e4f",
   "metadata": {},
   "source": [
    "# Alpha\n",
    "Since alpha values are fixed and written in the name directory, just run the regexp on the direcotry name, get the full list of alphas and then pass it to the function later"
   ]
  },
  {
   "cell_type": "code",
   "execution_count": 7,
   "id": "973ddc5a",
   "metadata": {},
   "outputs": [],
   "source": [
    "alpha = [float(re.findall(r\".+(?<=A)(.*)(?=L)\", dir_)[0]) for dir_ in dir_list]\n",
    "# alpha # the list of ordered alpha"
   ]
  },
  {
   "cell_type": "code",
   "execution_count": 8,
   "id": "d35400cc",
   "metadata": {},
   "outputs": [],
   "source": [
    "output_column_to_remove = ['ID', 'MHE_0', 'MCO_0', 'Radius_0', 'RHE_0','RCO_0', 'Luminosity_0', 'Temperature_0', 'Lambda_0',\n",
    "                               'Phase_0', 'PhaseBSE_0', 'Zams_0', 'MHE_1', 'MCO_1','Radius_1', 'RHE_1', 'RCO_1', \n",
    "                               'Luminosity_1', 'Temperature_1','Lambda_1', 'Phase_1', 'PhaseBSE_1', 'Zams_1']\n",
    "    \n",
    "evolved_column_to_remove = ['#ID', 'spin_0', 'Tstart_0', 'spin_1', 'Tstart_1', 'Tend', 'Dtout', 'Seed']\n",
    "drop_list = ['RemnantType_0',  'RemnantType_1']"
   ]
  },
  {
   "cell_type": "code",
   "execution_count": 9,
   "id": "bcbe9727",
   "metadata": {},
   "outputs": [],
   "source": [
    "output_str = f'{dir_list[0]}/0/output_*.csv'\n",
    "evolved_str = f'{dir_list[0]}/0/evolved_*.dat'\n",
    "logfile_str = f'{dir_list[0]}/0/logfile_*.dat'"
   ]
  },
  {
   "cell_type": "code",
   "execution_count": null,
   "id": "8ea2a9cd",
   "metadata": {},
   "outputs": [],
   "source": [
    "# output = dd.read_csv(output_str).\\\n",
    "#             rename(columns={'Mass_0':'Mass_0_out', 'Mass_1':'Mass_1_out'}).\\\n",
    "#             drop(columns=output_column_to_remove)\n",
    "# # output1 = dd.read_csv(f'{dir_list[0]}/0/output_1.csv').\\\n",
    "# #             rename(columns={'Mass_0':'Mass_0_out', 'Mass_1':'Mass_1_out'}).\\\n",
    "# #             drop(columns=output_column_to_remove)"
   ]
  },
  {
   "cell_type": "code",
   "execution_count": null,
   "id": "1dc8d776",
   "metadata": {},
   "outputs": [],
   "source": [
    "# output.map_partitions(len).compute()"
   ]
  },
  {
   "cell_type": "code",
   "execution_count": null,
   "id": "bcf243f6",
   "metadata": {},
   "outputs": [],
   "source": [
    "# idxBHBH=(output.RemnantType_0==6) & (output.RemnantType_1==6) & (output.Semimajor.notnull())\n",
    "# # idxBHBH1=(output1.RemnantType_0==6) & (output1.RemnantType_1==6) & (output1.Semimajor.notnull())\n",
    "\n",
    "# output=output[idxBHBH] #Distributed DataFrame containing only binaries BB\n",
    "# # output1=output1[idxBHBH1]"
   ]
  },
  {
   "cell_type": "code",
   "execution_count": null,
   "id": "31911bea",
   "metadata": {},
   "outputs": [],
   "source": [
    "# output1.map_partitions(len).compute()"
   ]
  },
  {
   "cell_type": "code",
   "execution_count": null,
   "id": "865a05e1",
   "metadata": {},
   "outputs": [],
   "source": [
    "# output"
   ]
  },
  {
   "cell_type": "code",
   "execution_count": null,
   "id": "e3f22fd9",
   "metadata": {},
   "outputs": [],
   "source": [
    "# output.map_partitions(len).compute()"
   ]
  },
  {
   "cell_type": "code",
   "execution_count": null,
   "id": "aed38319",
   "metadata": {},
   "outputs": [],
   "source": [
    "# dask_divisions = output.set_index(\"name\").divisions\n",
    "# unique_divisions = list(dict.fromkeys(list(dask_divisions)))"
   ]
  },
  {
   "cell_type": "code",
   "execution_count": null,
   "id": "816fdc5e",
   "metadata": {},
   "outputs": [],
   "source": [
    "# len(unique_divisions)"
   ]
  },
  {
   "cell_type": "code",
   "execution_count": null,
   "id": "ada455f4",
   "metadata": {},
   "outputs": [],
   "source": [
    "# evolved = dd.read_table(evolved_str, sep='\\s+').drop(columns=evolved_column_to_remove).\\\n",
    "#             set_index(\"name\", divisions=unique_divisions)"
   ]
  },
  {
   "cell_type": "code",
   "execution_count": null,
   "id": "555289d0",
   "metadata": {},
   "outputs": [],
   "source": [
    "# output = output.set_index(\"name\", divisions=unique_divisions)"
   ]
  },
  {
   "cell_type": "code",
   "execution_count": null,
   "id": "1c897774",
   "metadata": {},
   "outputs": [],
   "source": [
    "# evolved"
   ]
  },
  {
   "cell_type": "code",
   "execution_count": null,
   "id": "c33a349b",
   "metadata": {},
   "outputs": [],
   "source": []
  },
  {
   "cell_type": "code",
   "execution_count": null,
   "id": "c91a5a9c",
   "metadata": {},
   "outputs": [],
   "source": [
    "# logfile = dd.read_csv(logfile_str, header=None)"
   ]
  },
  {
   "cell_type": "code",
   "execution_count": null,
   "id": "0bfffbe9",
   "metadata": {},
   "outputs": [],
   "source": [
    "# df_RLO = logfile[0].str.extract(r\"B;((?:\\d*\\_)?\\d+);(\\d+);RLO_BEGIN;\").\\\n",
    "#             dropna().\\\n",
    "#                 rename(columns={0:'name', 1:'ID'}).\\\n",
    "#                 groupby(['name']).\\\n",
    "#                 size().to_frame(name='RLO').reset_index().set_index('name', divisions=unique_divisions)"
   ]
  },
  {
   "cell_type": "code",
   "execution_count": null,
   "id": "d717eca4",
   "metadata": {},
   "outputs": [],
   "source": [
    "# df_RLO"
   ]
  },
  {
   "cell_type": "code",
   "execution_count": null,
   "id": "11f38347",
   "metadata": {},
   "outputs": [],
   "source": [
    "# bhbh = evolved.merge(output,  left_index=True, right_index=True, how='inner')"
   ]
  },
  {
   "cell_type": "code",
   "execution_count": null,
   "id": "20d59af4",
   "metadata": {},
   "outputs": [],
   "source": [
    "# bhbh=bhbh.merge(df_RLO, left_index=True,right_index=True,  how='left')"
   ]
  },
  {
   "cell_type": "code",
   "execution_count": null,
   "id": "07c3e07a",
   "metadata": {},
   "outputs": [],
   "source": [
    "# bhbh.compute()"
   ]
  },
  {
   "cell_type": "code",
   "execution_count": 10,
   "id": "d54d5cd3",
   "metadata": {},
   "outputs": [],
   "source": [
    "# alpha = [float(re.findall(r\".+(?<=A)(.*)(?=L)\", dir_)[0]) for dir_ in dir_list]\n",
    "\n",
    "def FG_new(alpha: float,\n",
    "           dir_path: str,\n",
    "#            n_thread: int,\n",
    "           output_column_to_remove: list,\n",
    "           evolved_column_to_remove: list,\n",
    "           drop_list: list):\n",
    "    \n",
    "    output_str = f'{dir_path}/0/output_*.csv'\n",
    "    evolved_str = f'{dir_path}/0/evolved_*.dat'\n",
    "    logfile_str = f'{dir_path}/0/logfile_*.dat'\n",
    "\n",
    "    ################################\n",
    "    output = dd.read_csv(output_str).\\\n",
    "                rename(columns={'Mass_0':'Mass_0_out', 'Mass_1':'Mass_1_out'}).\\\n",
    "                drop(columns=output_column_to_remove)\n",
    "\n",
    "\n",
    "    idxBHBH=(output.RemnantType_0==6) & (output.RemnantType_1==6) & (output.Semimajor.notnull())\n",
    "    output=output[idxBHBH] #Distributed DataFrame containing only binaries BB\n",
    "\n",
    "    ################################   \n",
    "\n",
    "    \n",
    "    dask_divisions = output.set_index(\"name\").divisions\n",
    "    unique_divisions = list(dict.fromkeys(list(dask_divisions)))\n",
    "    \n",
    "    \n",
    "    ##############\n",
    "    \n",
    "    output=output.set_index(\"name\", divisions=unique_divisions)\n",
    "\n",
    "    ############\n",
    "\n",
    "    evolved = dd.read_table(evolved_str, sep='\\s+').\\\n",
    "                drop(columns=evolved_column_to_remove).set_index(\"name\", divisions=unique_divisions)\n",
    "    ################################\n",
    "\n",
    "    logfile = dd.read_csv(logfile_str, header=None)\n",
    "\n",
    "    df_RLO = logfile[0].str.extract(r\"B;((?:\\d*\\_)?\\d+);(\\d+);RLO_BEGIN;\").\\\n",
    "                dropna().\\\n",
    "                rename(columns={0:'name', 1:'ID'}).\\\n",
    "                groupby(['name']).\\\n",
    "                size().to_frame(name='RLO').\\\n",
    "                reset_index().set_index('name', divisions=unique_divisions)\n",
    "\n",
    "    df_CE = logfile[0].str.extract(r\"B;((?:\\d*\\_)?\\d+);(\\d+);CE;\").\\\n",
    "                dropna().\\\n",
    "                rename(columns={0:'name', 1:'ID'}).\\\n",
    "                groupby(['name']).\\\n",
    "                size().to_frame(name='CE').\\\n",
    "                reset_index().set_index('name', divisions=unique_divisions)\n",
    "\n",
    "    df_BSN = logfile[0].str.extract(r\"B;((?:\\d*\\_)?\\d+);(\\d+);BSN;\").\\\n",
    "                dropna().\\\n",
    "                rename(columns={0:'name', 1:'ID'}).\\\n",
    "                groupby(['name']).\\\n",
    "                size().to_frame(name='BSN').\\\n",
    "                reset_index().set_index('name', divisions=unique_divisions)\n",
    "\n",
    "    ################################\n",
    "\n",
    "    bhbh = evolved.merge(output, left_index=True, right_index=True, how='inner').\\\n",
    "                   merge(df_RLO, left_index=True, right_index=True, how='left').\\\n",
    "                   merge(df_CE,  left_index=True, right_index=True, how='left').\\\n",
    "                   merge(df_BSN, left_index=True, right_index=True, how='left').\\\n",
    "                   fillna(value=0).\\\n",
    "                   drop(columns=drop_list)\n",
    "\n",
    "    ###############################\n",
    "\n",
    "    bhbh['tdelay'] = bhbh['GWtime'] + bhbh['BWorldtime']\n",
    "\n",
    "    bhbh['Mass_max_out'] = bhbh['Mass_1_out']\n",
    "    bhbh['Mass_max_out'] = bhbh['Mass_max_out'].\\\n",
    "                            where(cond=(bhbh['Mass_max_out'] > bhbh['Mass_0_out']), other=bhbh['Mass_0_out'])\n",
    "\n",
    "    bhbh['q'] = bhbh['Mass_1_out']/bhbh['Mass_0_out']\n",
    "    bhbh['q'] = bhbh['q'].\\\n",
    "                where(cond=(bhbh['Mass_1_out'] < bhbh['Mass_0_out']), other=bhbh['Mass_0_out']/bhbh['Mass_1_out'])\n",
    "\n",
    "    bhbh['Mass_chirp'] = ((bhbh['Mass_0_out'] * bhbh['Mass_1_out'])**(3/5))/((bhbh['Mass_0_out'] + bhbh['Mass_1_out'])**(1/5))\n",
    "    bhbh['alpha']=alpha\n",
    "#     bhbh=bhbh.compute()\n",
    "    return bhbh"
   ]
  },
  {
   "cell_type": "code",
   "execution_count": null,
   "id": "c68d9c47",
   "metadata": {},
   "outputs": [],
   "source": [
    "%%time \n",
    "\n",
    "bhbh_list=[]\n",
    "for i,directory in enumerate(dir_list):\n",
    "    print(i)\n",
    "    bhbh_list.append(FG_new(alpha[i], directory, output_column_to_remove, evolved_column_to_remove, drop_list))\n",
    "    \n",
    "bhbh = dd.multi.concat(bhbh_list)\n",
    "\n",
    "bhbh_test = bhbh.compute()\n",
    "\n",
    "bhbh_test.to_parquet('/mnt/bhbh/parquet/bhbh_all')"
   ]
  },
  {
   "cell_type": "code",
   "execution_count": null,
   "id": "9083c95a",
   "metadata": {},
   "outputs": [],
   "source": [
    "# bhbh = dd.multi.concat(bhbh_list)"
   ]
  },
  {
   "cell_type": "code",
   "execution_count": null,
   "id": "6b859fe5",
   "metadata": {},
   "outputs": [],
   "source": [
    "# %%time\n",
    "\n",
    "# bhbh_test = bhbh.compute()\n",
    "\n",
    "# bhbh_test.to_parquet('/mnt/bhbh/parquet/bhbh')"
   ]
  },
  {
   "cell_type": "code",
   "execution_count": null,
   "id": "0a1bbaef",
   "metadata": {},
   "outputs": [],
   "source": [
    "# f=client.submit(FG_new, 1.0, dir_list[0], output_column_to_remove, evolved_column_to_remove, drop_list)"
   ]
  },
  {
   "cell_type": "code",
   "execution_count": null,
   "id": "b2bf359d",
   "metadata": {},
   "outputs": [],
   "source": [
    "# a=FG_new(1, dir_list[0], output_column_to_remove, evolved_column_to_remove, drop_list)"
   ]
  },
  {
   "cell_type": "code",
   "execution_count": null,
   "id": "f317f07d",
   "metadata": {},
   "outputs": [],
   "source": [
    "# f.result().compute()"
   ]
  },
  {
   "cell_type": "code",
   "execution_count": null,
   "id": "2aa29dc9",
   "metadata": {},
   "outputs": [],
   "source": [
    "# b=FG_new(1, dir_list[1], output_column_to_remove, evolved_column_to_remove, drop_list)"
   ]
  },
  {
   "cell_type": "code",
   "execution_count": null,
   "id": "8fa5aaad",
   "metadata": {},
   "outputs": [],
   "source": [
    "# for i in range(len(bhbh_list)):\n",
    "#     bhbh_list[i].compute().to_parquet('/mnt/bhbh/all_my_hopes/test'+str(i)+'.parquet')"
   ]
  },
  {
   "cell_type": "code",
   "execution_count": null,
   "id": "bfc07b43",
   "metadata": {},
   "outputs": [],
   "source": [
    "# bhbh_list=[]\n",
    "# for i,directory in enumerate(dir_list):\n",
    "#     bhbh_list.append(client.submit(FG_new,alpha[i], directory, output_column_to_remove, evolved_column_to_remove, drop_list))"
   ]
  },
  {
   "cell_type": "code",
   "execution_count": null,
   "id": "ecc174b9",
   "metadata": {},
   "outputs": [],
   "source": [
    "# bhbh_list[0].result()"
   ]
  },
  {
   "cell_type": "code",
   "execution_count": null,
   "id": "cc7ef580",
   "metadata": {},
   "outputs": [],
   "source": [
    "# bhbh.to_parquet('/mnt/bhbh/parquet/all_my_efforts')"
   ]
  },
  {
   "cell_type": "code",
   "execution_count": null,
   "id": "c0bf8fa5",
   "metadata": {},
   "outputs": [],
   "source": [
    "# %time\n",
    "# n_threads_DEMO = 30\n",
    "# bhbh_list=[]\n",
    "# for j,dir_name in enumerate(dir_list_reduced):\n",
    "#     for i in range(n_threads_DEMO):\n",
    "#         bhbh_list.append(FG_new(alpha[j], dir_name, i,  output_column_to_remove, evolved_column_to_remove, drop_list))"
   ]
  },
  {
   "cell_type": "code",
   "execution_count": null,
   "id": "65a26a8f",
   "metadata": {},
   "outputs": [],
   "source": [
    "# len(bhbh_list)\n",
    "\n",
    "# bhbh_list[0]\n",
    "\n",
    "# bhbh_list[0].compute()\n",
    "\n",
    "# bhbh\n",
    "\n",
    "# bhbh_test = bhbh.compute()\n",
    "\n",
    "# # bhbh_test.describe() # momentaneamente commentato dato che deve \"solo\" salvare in parquet"
   ]
  },
  {
   "cell_type": "code",
   "execution_count": null,
   "id": "7beb522e",
   "metadata": {},
   "outputs": [],
   "source": []
  },
  {
   "cell_type": "code",
   "execution_count": null,
   "id": "6f7e1b67",
   "metadata": {},
   "outputs": [],
   "source": [
    "# def FGpreprocessing(dir_path: str, n_thread: int, output_column_to_remove: list, evolved_column_to_remove: list, drop_list: list):\n",
    "    \n",
    "#     output_str = f'{dir_path}/0/output_{n_thread}.csv'\n",
    "#     evolved_str = f'{dir_path}/0/evolved_{n_thread}.dat'\n",
    "#     logfile_str = f'{dir_path}/0/logfile_{n_thread}.dat'\n",
    "    \n",
    "# #     Z_0 = float(re.findall(r\".+((?<=Z)\\d.\\d+)\", output_str)[0]) # in teoria non serve perchè Z_0 lo si prende negli evloved\n",
    "#     alpha = float(re.findall(r\".+(?<=A)(.*)(?=L)\", output_str)[0])\n",
    "#     ################################\n",
    "#     output = dd.read_csv(output_str).\\\n",
    "#                 rename(columns={'Mass_0':'Mass_0_out', 'Mass_1':'Mass_1_out'}).\\\n",
    "#                 drop(columns=output_column_to_remove)\n",
    "\n",
    "\n",
    "#     idxBHBH=(output.RemnantType_0==6) & (output.RemnantType_1==6) & (output.Semimajor.notnull())\n",
    "#     output=output[idxBHBH] #Distributed DataFrame containing only binaries BB\n",
    "\n",
    "#     ################################         \n",
    "\n",
    "#     evolved = dd.read_table(evolved_str, sep='\\s+').\\\n",
    "#                 drop(columns=evolved_column_to_remove)\n",
    "#     evolved['alpha'] = alpha\n",
    "#     ################################\n",
    "\n",
    "#     logfile = dd.read_csv(logfile_str, header=None)\n",
    "\n",
    "#     df_RLO = logfile[0].str.extract(r\"B;((?:\\d*\\_)?\\d+);(\\d+);RLO_BEGIN;\").\\\n",
    "#                 dropna().\\\n",
    "#                 rename(columns={0:'name', 1:'ID'}).\\\n",
    "#                 groupby(['name']).\\\n",
    "#                 size().to_frame(name='RLO').\\\n",
    "#                 reset_index()\n",
    "\n",
    "#     df_CE = logfile[0].str.extract(r\"B;((?:\\d*\\_)?\\d+);(\\d+);CE;\").\\\n",
    "#                 dropna().\\\n",
    "#                 rename(columns={0:'name', 1:'ID'}).\\\n",
    "#                 groupby(['name']).\\\n",
    "#                 size().to_frame(name='CE').\\\n",
    "#                 reset_index()\n",
    "\n",
    "#     df_BSN = logfile[0].str.extract(r\"B;((?:\\d*\\_)?\\d+);(\\d+);BSN;\").\\\n",
    "#                 dropna().\\\n",
    "#                 rename(columns={0:'name', 1:'ID'}).\\\n",
    "#                 groupby(['name']).\\\n",
    "#                 size().to_frame(name='BSN').\\\n",
    "#                 reset_index()\n",
    "\n",
    "#     ##################################\n",
    "\n",
    "    \n",
    "\n",
    "#     ################################\n",
    "\n",
    "#     bhbh = evolved.merge(output, on=['name'], how='inner').\\\n",
    "#                    merge(df_RLO, on=['name'], how='left').\\\n",
    "#                    merge(df_CE,  on=['name'], how='left').\\\n",
    "#                    merge(df_BSN, on=['name'], how='left').\\\n",
    "#                    fillna(value=0).\\\n",
    "#                    drop(columns=drop_list)\n",
    "\n",
    "#     ###############################\n",
    "\n",
    "#     bhbh['tdelay'] = bhbh['GWtime'] + bhbh['BWorldtime']\n",
    "\n",
    "#     bhbh['Mass_max_out'] = bhbh['Mass_1_out']\n",
    "#     bhbh['Mass_max_out'] = bhbh['Mass_max_out'].\\\n",
    "#                             where(cond=(bhbh['Mass_max_out'] > bhbh['Mass_0_out']), other=bhbh['Mass_0_out'])\n",
    "\n",
    "#     bhbh['q'] = bhbh['Mass_1_out']/bhbh['Mass_0_out']\n",
    "#     bhbh['q'] = bhbh['q'].\\\n",
    "#                 where(cond=(bhbh['Mass_1_out'] < bhbh['Mass_0_out']), other=bhbh['Mass_0_out']/bhbh['Mass_1_out'])\n",
    "\n",
    "#     bhbh['Mass_chirp'] = ((bhbh['Mass_0_out'] * bhbh['Mass_1_out'])**(3/5))/((bhbh['Mass_0_out'] + bhbh['Mass_1_out'])**(1/5))\n",
    "#     print(alpha)\n",
    "#     return bhbh"
   ]
  },
  {
   "cell_type": "code",
   "execution_count": null,
   "id": "0567fa57",
   "metadata": {},
   "outputs": [],
   "source": []
  },
  {
   "cell_type": "code",
   "execution_count": null,
   "id": "2658dfdc",
   "metadata": {},
   "outputs": [],
   "source": []
  },
  {
   "cell_type": "code",
   "execution_count": null,
   "id": "0ec0b86c",
   "metadata": {},
   "outputs": [],
   "source": []
  },
  {
   "cell_type": "code",
   "execution_count": null,
   "id": "8b0c1e9d",
   "metadata": {},
   "outputs": [],
   "source": []
  },
  {
   "cell_type": "code",
   "execution_count": null,
   "id": "0093c5a0",
   "metadata": {},
   "outputs": [],
   "source": []
  },
  {
   "cell_type": "code",
   "execution_count": null,
   "id": "cef880bb",
   "metadata": {},
   "outputs": [],
   "source": []
  },
  {
   "cell_type": "code",
   "execution_count": null,
   "id": "4b567338-0327-4b31-b3ad-291411f7a203",
   "metadata": {},
   "outputs": [],
   "source": [
    "# bhbh_list=[]\n",
    "# for dir_name in dir_list:\n",
    "#     bhbh_list.append(preprocessing(dir_name, output_column_to_remove, evolved_column_to_remove))   "
   ]
  },
  {
   "cell_type": "code",
   "execution_count": null,
   "id": "5449f720-326f-4350-a658-f1871284c243",
   "metadata": {},
   "outputs": [],
   "source": [
    "# bhbh = dd.multi.concat(bhbh_list)"
   ]
  },
  {
   "cell_type": "code",
   "execution_count": null,
   "id": "9b97abd8-1387-4064-8cd8-0e7132117e5d",
   "metadata": {},
   "outputs": [],
   "source": [
    "# test = bhbh.compute()\n",
    "# test.head()"
   ]
  },
  {
   "cell_type": "raw",
   "id": "bb993742",
   "metadata": {},
   "source": [
    "def CGpreprocessing(dir_name: str, output_column_to_remove: list, evolved_column_to_remove: list):\n",
    "    \n",
    "    \n",
    "    ####################################\n",
    "    output = dd.read_csv(f'{dir_name}/0/output_*.csv', include_path_column=True).\\\n",
    "                rename(columns={'Mass_0':'Mass_0_out', 'Mass_1':'Mass_1_out'}).\\\n",
    "                drop(columns=output_column_to_remove)\n",
    "    \n",
    "    evolved = dd.read_table(f'{dir_name}/0/evolved_*.dat', include_path_column=True, sep='\\s+').\\\n",
    "                drop(columns=evolved_column_to_remove)\n",
    "    \n",
    "    logfile = dd.read_csv(f'{dir_name}/0/logfile_*.dat', header=None, include_path_column=True)\n",
    "    \n",
    "    ################################\n",
    "    idxBHBH=(output.RemnantType_0==6) & (output.RemnantType_1==6) & (output.Semimajor.notnull())\n",
    "    output=output[idxBHBH] #Distributed DataFrame containing only binaries BB\n",
    "\n",
    "    output['Z_0'] = output['path'].str.extract(r\".+((?<=Z)\\d.\\d+)\").squeeze() #Z_0 type is object\n",
    "    output['Z_0'] = output['Z_0'].astype(float) # Z_0 is float\n",
    "\n",
    "    output['alpha'] = output['path'].str.extract(r\".+(?<=A)(.*)(?=L)\").squeeze() #Z_0 type is object\n",
    "    output['alpha'] = output['alpha'].astype(float) # alpha is a float\n",
    "    \n",
    "    ################################\n",
    "\n",
    "    evolved['alpha'] = evolved['path'].str.extract(r\".+(?<=A)(.*)(?=L)\").squeeze() #Z_0 type is object\n",
    "    evolved['alpha'] = evolved['alpha'].astype(float) # alpha is a float\n",
    "\n",
    "    ###############################\n",
    "    \n",
    "    logfile = logfile.sum(axis=1)\n",
    "    \n",
    "    ###############################\n",
    "    \n",
    "    df_RLO = logfile.str.extract(r\"B;((?:\\d*\\_)?\\d+);(\\d+);RLO_BEGIN;.+((?<=Z)\\d.\\d+).+(?<=A)(.*)(?=L)\").\\\n",
    "                dropna().\\\n",
    "                rename(columns={0:'name', 1:'ID', 2:'Z_0', 3:'alpha'}).\\\n",
    "                groupby(['name','Z_0', 'alpha']).\\\n",
    "                size().\\\n",
    "                to_frame(name='RLO').\\\n",
    "                reset_index()\n",
    "\n",
    "    df_CE = logfile.str.extract(r\"B;((?:\\d*\\_)?\\d+);(\\d+);CE;.+((?<=Z)\\d.\\d+).+(?<=A)(.*)(?=L)\").\\\n",
    "                    dropna().\\\n",
    "                    rename(columns={0:'name', 1:'ID', 2:'Z_0', 3:'alpha'}).\\\n",
    "                    groupby(['name','Z_0', 'alpha']).\\\n",
    "                    size().\\\n",
    "                    to_frame(name='CE').\\\n",
    "                    reset_index()\n",
    "\n",
    "    df_BSN = logfile.str.extract(r\"B;((?:\\d*\\_)?\\d+);(\\d+);BSN;.+((?<=Z)\\d.\\d+).+(?<=A)(.*)(?=L)\").\\\n",
    "                    dropna().\\\n",
    "                    rename(columns={0:'name', 1:'ID', 2:'Z_0', 3:'alpha'}).\\\n",
    "                    groupby(['name','Z_0', 'alpha']).\\\n",
    "                    size().\\\n",
    "                    to_frame(name='BSN').\\\n",
    "                    reset_index()\n",
    "\n",
    "    df_RLO['Z_0'] = df_RLO['Z_0'].astype(float)\n",
    "    df_CE['Z_0'] = df_RLO['Z_0'].astype(float)\n",
    "    df_BSN['Z_0'] = df_RLO['Z_0'].astype(float)\n",
    "\n",
    "    df_RLO['alpha'] = df_RLO['alpha'].astype(float)\n",
    "    df_CE['alpha'] = df_RLO['alpha'].astype(float)\n",
    "    df_BSN['alpha'] = df_RLO['alpha'].astype(float)\n",
    "    \n",
    "    ##################################\n",
    "    \n",
    "    drop_list = ['RemnantType_0',  'RemnantType_1', 'path_x', 'path_y']\n",
    "    \n",
    "    ################################\n",
    "    \n",
    "    \n",
    "\n",
    "    bhbh = evolved.merge(output, on=['name','Z_0','alpha'], how='inner').\\\n",
    "                   merge(df_RLO, on=['name','Z_0', 'alpha'], how='left').\\\n",
    "                   merge(df_CE,  on=['name','Z_0', 'alpha'], how='left').\\\n",
    "                   merge(df_BSN, on=['name','Z_0', 'alpha'], how='left').\\\n",
    "                   fillna(value=0).\\\n",
    "                   drop(columns=drop_list)\n",
    "    \n",
    "    ###############################\n",
    "    \n",
    "    \n",
    "\n",
    "    bhbh['tdelay'] = bhbh['GWtime'] + bhbh['BWorldtime']\n",
    "\n",
    "    bhbh['Mass_max_out'] = bhbh['Mass_1_out']\n",
    "    bhbh['Mass_max_out'] = bhbh['Mass_max_out'].\\\n",
    "                        where(cond=(bhbh['Mass_max_out'] > bhbh['Mass_0_out']), other=bhbh['Mass_0_out'])\n",
    "\n",
    "    bhbh['q'] = bhbh['Mass_1_out']/bhbh['Mass_0_out']\n",
    "    bhbh['q'] = bhbh['q'].\\\n",
    "                where(cond=(bhbh['Mass_1_out'] < bhbh['Mass_0_out']), other=bhbh['Mass_0_out']/bhbh['Mass_1_out'])\n",
    "\n",
    "    bhbh['Mass_chirp'] = ((bhbh['Mass_0_out'] * bhbh['Mass_1_out'])**(3/5))/((bhbh['Mass_0_out'] + bhbh['Mass_1_out'])**(1/5))\n",
    "    \n",
    "    ###############################\n",
    "    \n",
    "    return bhbh"
   ]
  }
 ],
 "metadata": {
  "kernelspec": {
   "display_name": "Python 3 (ipykernel)",
   "language": "python",
   "name": "python3"
  },
  "language_info": {
   "codemirror_mode": {
    "name": "ipython",
    "version": 3
   },
   "file_extension": ".py",
   "mimetype": "text/x-python",
   "name": "python",
   "nbconvert_exporter": "python",
   "pygments_lexer": "ipython3",
   "version": "3.10.10"
  }
 },
 "nbformat": 4,
 "nbformat_minor": 5
}
