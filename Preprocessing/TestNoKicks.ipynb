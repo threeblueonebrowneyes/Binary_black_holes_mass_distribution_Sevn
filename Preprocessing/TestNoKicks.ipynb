{
 "cells": [
  {
   "cell_type": "code",
   "execution_count": null,
   "id": "eb50b7b2-f92e-4f58-b277-52af9ec173c3",
   "metadata": {},
   "outputs": [
    {
     "ename": "ImportError",
     "evalue": "cannot import name 'Box' from 'bokeh.models' (/home/ubuntu/.local/lib/python3.10/site-packages/bokeh/models/__init__.py)",
     "output_type": "error",
     "traceback": [
      "\u001b[0;31m---------------------------------------------------------------------------\u001b[0m",
      "\u001b[0;31mImportError\u001b[0m                               Traceback (most recent call last)",
      "Cell \u001b[0;32mIn[3], line 1\u001b[0m\n\u001b[0;32m----> 1\u001b[0m \u001b[38;5;28;01mimport\u001b[39;00m \u001b[38;5;21;01mhvplot\u001b[39;00m\u001b[38;5;21;01m.\u001b[39;00m\u001b[38;5;21;01mdask\u001b[39;00m\n",
      "File \u001b[0;32m~/miniconda3/lib/python3.10/site-packages/hvplot/__init__.py:64\u001b[0m\n\u001b[1;32m     61\u001b[0m \u001b[38;5;28;01mimport\u001b[39;00m \u001b[38;5;21;01mtextwrap\u001b[39;00m\n\u001b[1;32m     63\u001b[0m \u001b[38;5;28;01mimport\u001b[39;00m \u001b[38;5;21;01mparam\u001b[39;00m\n\u001b[0;32m---> 64\u001b[0m \u001b[38;5;28;01mimport\u001b[39;00m \u001b[38;5;21;01mpanel\u001b[39;00m \u001b[38;5;28;01mas\u001b[39;00m \u001b[38;5;21;01m_pn\u001b[39;00m\n\u001b[1;32m     65\u001b[0m \u001b[38;5;28;01mimport\u001b[39;00m \u001b[38;5;21;01mholoviews\u001b[39;00m \u001b[38;5;28;01mas\u001b[39;00m \u001b[38;5;21;01m_hv\u001b[39;00m\n\u001b[1;32m     67\u001b[0m \u001b[38;5;28;01mfrom\u001b[39;00m \u001b[38;5;21;01mholoviews\u001b[39;00m \u001b[38;5;28;01mimport\u001b[39;00m Store, render  \u001b[38;5;66;03m# noqa\u001b[39;00m\n",
      "File \u001b[0;32m~/miniconda3/lib/python3.10/site-packages/panel/__init__.py:48\u001b[0m\n\u001b[1;32m      1\u001b[0m \u001b[38;5;124;03m\"\"\"\u001b[39;00m\n\u001b[1;32m      2\u001b[0m \u001b[38;5;124;03mPanel is a high level app and dashboarding framework\u001b[39;00m\n\u001b[1;32m      3\u001b[0m \u001b[38;5;124;03m====================================================\u001b[39;00m\n\u001b[0;32m   (...)\u001b[0m\n\u001b[1;32m     46\u001b[0m \u001b[38;5;124;03mhttps://panel.holoviz.org/getting_started/index.html\u001b[39;00m\n\u001b[1;32m     47\u001b[0m \u001b[38;5;124;03m\"\"\"\u001b[39;00m\n\u001b[0;32m---> 48\u001b[0m \u001b[38;5;28;01mfrom\u001b[39;00m \u001b[38;5;21;01m.\u001b[39;00m \u001b[38;5;28;01mimport\u001b[39;00m layout  \u001b[38;5;66;03m# noqa\u001b[39;00m\n\u001b[1;32m     49\u001b[0m \u001b[38;5;28;01mfrom\u001b[39;00m \u001b[38;5;21;01m.\u001b[39;00m \u001b[38;5;28;01mimport\u001b[39;00m links  \u001b[38;5;66;03m# noqa\u001b[39;00m\n\u001b[1;32m     50\u001b[0m \u001b[38;5;28;01mfrom\u001b[39;00m \u001b[38;5;21;01m.\u001b[39;00m \u001b[38;5;28;01mimport\u001b[39;00m pane  \u001b[38;5;66;03m# noqa\u001b[39;00m\n",
      "File \u001b[0;32m~/miniconda3/lib/python3.10/site-packages/panel/layout/__init__.py:31\u001b[0m\n\u001b[1;32m      1\u001b[0m \u001b[38;5;124;03m\"\"\"\u001b[39;00m\n\u001b[1;32m      2\u001b[0m \u001b[38;5;124;03mLayout\u001b[39;00m\n\u001b[1;32m      3\u001b[0m \u001b[38;5;124;03m======\u001b[39;00m\n\u001b[0;32m   (...)\u001b[0m\n\u001b[1;32m     29\u001b[0m \u001b[38;5;124;03mhttps://panel.holoviz.org/getting_started/index.html\u001b[39;00m\n\u001b[1;32m     30\u001b[0m \u001b[38;5;124;03m\"\"\"\u001b[39;00m\n\u001b[0;32m---> 31\u001b[0m \u001b[38;5;28;01mfrom\u001b[39;00m \u001b[38;5;21;01m.\u001b[39;00m\u001b[38;5;21;01maccordion\u001b[39;00m \u001b[38;5;28;01mimport\u001b[39;00m Accordion  \u001b[38;5;66;03m# noqa\u001b[39;00m\n\u001b[1;32m     32\u001b[0m \u001b[38;5;28;01mfrom\u001b[39;00m \u001b[38;5;21;01m.\u001b[39;00m\u001b[38;5;21;01mbase\u001b[39;00m \u001b[38;5;28;01mimport\u001b[39;00m (  \u001b[38;5;66;03m# noqa\u001b[39;00m\n\u001b[1;32m     33\u001b[0m     Column, ListLike, ListPanel, Panel, Row, WidgetBox,\n\u001b[1;32m     34\u001b[0m )\n\u001b[1;32m     35\u001b[0m \u001b[38;5;28;01mfrom\u001b[39;00m \u001b[38;5;21;01m.\u001b[39;00m\u001b[38;5;21;01mcard\u001b[39;00m \u001b[38;5;28;01mimport\u001b[39;00m Card  \u001b[38;5;66;03m# noqa\u001b[39;00m\n",
      "File \u001b[0;32m~/miniconda3/lib/python3.10/site-packages/panel/layout/accordion.py:9\u001b[0m\n\u001b[1;32m      5\u001b[0m \u001b[38;5;28;01mimport\u001b[39;00m \u001b[38;5;21;01mparam\u001b[39;00m\n\u001b[1;32m      7\u001b[0m \u001b[38;5;28;01mfrom\u001b[39;00m \u001b[38;5;21;01mbokeh\u001b[39;00m\u001b[38;5;21;01m.\u001b[39;00m\u001b[38;5;21;01mmodels\u001b[39;00m \u001b[38;5;28;01mimport\u001b[39;00m Column \u001b[38;5;28;01mas\u001b[39;00m BkColumn, CustomJS\n\u001b[0;32m----> 9\u001b[0m \u001b[38;5;28;01mfrom\u001b[39;00m \u001b[38;5;21;01m.\u001b[39;00m\u001b[38;5;21;01mbase\u001b[39;00m \u001b[38;5;28;01mimport\u001b[39;00m NamedListPanel\n\u001b[1;32m     10\u001b[0m \u001b[38;5;28;01mfrom\u001b[39;00m \u001b[38;5;21;01m.\u001b[39;00m\u001b[38;5;21;01mcard\u001b[39;00m \u001b[38;5;28;01mimport\u001b[39;00m Card\n\u001b[1;32m     12\u001b[0m \u001b[38;5;28;01mif\u001b[39;00m TYPE_CHECKING:\n",
      "File \u001b[0;32m~/miniconda3/lib/python3.10/site-packages/panel/layout/base.py:17\u001b[0m\n\u001b[1;32m     13\u001b[0m \u001b[38;5;28;01mimport\u001b[39;00m \u001b[38;5;21;01mparam\u001b[39;00m\n\u001b[1;32m     15\u001b[0m \u001b[38;5;28;01mfrom\u001b[39;00m \u001b[38;5;21;01mbokeh\u001b[39;00m\u001b[38;5;21;01m.\u001b[39;00m\u001b[38;5;21;01mmodels\u001b[39;00m \u001b[38;5;28;01mimport\u001b[39;00m Column \u001b[38;5;28;01mas\u001b[39;00m BkColumn, Row \u001b[38;5;28;01mas\u001b[39;00m BkRow\n\u001b[0;32m---> 17\u001b[0m \u001b[38;5;28;01mfrom\u001b[39;00m \u001b[38;5;21;01m.\u001b[39;00m\u001b[38;5;21;01m.\u001b[39;00m\u001b[38;5;21;01mio\u001b[39;00m\u001b[38;5;21;01m.\u001b[39;00m\u001b[38;5;21;01mmodel\u001b[39;00m \u001b[38;5;28;01mimport\u001b[39;00m hold\n\u001b[1;32m     18\u001b[0m \u001b[38;5;28;01mfrom\u001b[39;00m \u001b[38;5;21;01m.\u001b[39;00m\u001b[38;5;21;01m.\u001b[39;00m\u001b[38;5;21;01mio\u001b[39;00m\u001b[38;5;21;01m.\u001b[39;00m\u001b[38;5;21;01mstate\u001b[39;00m \u001b[38;5;28;01mimport\u001b[39;00m state\n\u001b[1;32m     19\u001b[0m \u001b[38;5;28;01mfrom\u001b[39;00m \u001b[38;5;21;01m.\u001b[39;00m\u001b[38;5;21;01m.\u001b[39;00m\u001b[38;5;21;01mreactive\u001b[39;00m \u001b[38;5;28;01mimport\u001b[39;00m Reactive\n",
      "File \u001b[0;32m~/miniconda3/lib/python3.10/site-packages/panel/io/__init__.py:9\u001b[0m\n\u001b[1;32m      7\u001b[0m \u001b[38;5;28;01mfrom\u001b[39;00m \u001b[38;5;21;01m.\u001b[39;00m\u001b[38;5;21;01mcache\u001b[39;00m \u001b[38;5;28;01mimport\u001b[39;00m cache  \u001b[38;5;66;03m# noqa\u001b[39;00m\n\u001b[1;32m      8\u001b[0m \u001b[38;5;28;01mfrom\u001b[39;00m \u001b[38;5;21;01m.\u001b[39;00m\u001b[38;5;21;01mcallbacks\u001b[39;00m \u001b[38;5;28;01mimport\u001b[39;00m PeriodicCallback  \u001b[38;5;66;03m# noqa\u001b[39;00m\n\u001b[0;32m----> 9\u001b[0m \u001b[38;5;28;01mfrom\u001b[39;00m \u001b[38;5;21;01m.\u001b[39;00m\u001b[38;5;21;01mdocument\u001b[39;00m \u001b[38;5;28;01mimport\u001b[39;00m init_doc, unlocked, with_lock  \u001b[38;5;66;03m# noqa\u001b[39;00m\n\u001b[1;32m     10\u001b[0m \u001b[38;5;28;01mfrom\u001b[39;00m \u001b[38;5;21;01m.\u001b[39;00m\u001b[38;5;21;01membed\u001b[39;00m \u001b[38;5;28;01mimport\u001b[39;00m embed_state  \u001b[38;5;66;03m# noqa\u001b[39;00m\n\u001b[1;32m     11\u001b[0m \u001b[38;5;28;01mfrom\u001b[39;00m \u001b[38;5;21;01m.\u001b[39;00m\u001b[38;5;21;01mlogging\u001b[39;00m \u001b[38;5;28;01mimport\u001b[39;00m panel_logger  \u001b[38;5;66;03m# noqa\u001b[39;00m\n",
      "File \u001b[0;32m~/miniconda3/lib/python3.10/site-packages/panel/io/document.py:20\u001b[0m\n\u001b[1;32m     17\u001b[0m \u001b[38;5;28;01mfrom\u001b[39;00m \u001b[38;5;21;01mbokeh\u001b[39;00m\u001b[38;5;21;01m.\u001b[39;00m\u001b[38;5;21;01mdocument\u001b[39;00m\u001b[38;5;21;01m.\u001b[39;00m\u001b[38;5;21;01mdocument\u001b[39;00m \u001b[38;5;28;01mimport\u001b[39;00m Document\n\u001b[1;32m     18\u001b[0m \u001b[38;5;28;01mfrom\u001b[39;00m \u001b[38;5;21;01mbokeh\u001b[39;00m\u001b[38;5;21;01m.\u001b[39;00m\u001b[38;5;21;01mdocument\u001b[39;00m\u001b[38;5;21;01m.\u001b[39;00m\u001b[38;5;21;01mevents\u001b[39;00m \u001b[38;5;28;01mimport\u001b[39;00m DocumentChangedEvent, ModelChangedEvent\n\u001b[0;32m---> 20\u001b[0m \u001b[38;5;28;01mfrom\u001b[39;00m \u001b[38;5;21;01m.\u001b[39;00m\u001b[38;5;21;01mmodel\u001b[39;00m \u001b[38;5;28;01mimport\u001b[39;00m monkeypatch_events\n\u001b[1;32m     21\u001b[0m \u001b[38;5;28;01mfrom\u001b[39;00m \u001b[38;5;21;01m.\u001b[39;00m\u001b[38;5;21;01mstate\u001b[39;00m \u001b[38;5;28;01mimport\u001b[39;00m curdoc_locked, state\n\u001b[1;32m     23\u001b[0m logger \u001b[38;5;241m=\u001b[39m logging\u001b[38;5;241m.\u001b[39mgetLogger(\u001b[38;5;18m__name__\u001b[39m)\n",
      "File \u001b[0;32m~/miniconda3/lib/python3.10/site-packages/panel/io/model.py:20\u001b[0m\n\u001b[1;32m     16\u001b[0m \u001b[38;5;28;01mfrom\u001b[39;00m \u001b[38;5;21;01mbokeh\u001b[39;00m\u001b[38;5;21;01m.\u001b[39;00m\u001b[38;5;21;01mdocument\u001b[39;00m\u001b[38;5;21;01m.\u001b[39;00m\u001b[38;5;21;01mevents\u001b[39;00m \u001b[38;5;28;01mimport\u001b[39;00m (\n\u001b[1;32m     17\u001b[0m     ColumnDataChangedEvent, DocumentPatchedEvent, ModelChangedEvent,\n\u001b[1;32m     18\u001b[0m )\n\u001b[1;32m     19\u001b[0m \u001b[38;5;28;01mfrom\u001b[39;00m \u001b[38;5;21;01mbokeh\u001b[39;00m\u001b[38;5;21;01m.\u001b[39;00m\u001b[38;5;21;01mmodel\u001b[39;00m \u001b[38;5;28;01mimport\u001b[39;00m DataModel\n\u001b[0;32m---> 20\u001b[0m \u001b[38;5;28;01mfrom\u001b[39;00m \u001b[38;5;21;01mbokeh\u001b[39;00m\u001b[38;5;21;01m.\u001b[39;00m\u001b[38;5;21;01mmodels\u001b[39;00m \u001b[38;5;28;01mimport\u001b[39;00m Box, ColumnDataSource, Model\n\u001b[1;32m     21\u001b[0m \u001b[38;5;28;01mfrom\u001b[39;00m \u001b[38;5;21;01mbokeh\u001b[39;00m\u001b[38;5;21;01m.\u001b[39;00m\u001b[38;5;21;01mprotocol\u001b[39;00m \u001b[38;5;28;01mimport\u001b[39;00m Protocol\n\u001b[1;32m     22\u001b[0m \u001b[38;5;28;01mfrom\u001b[39;00m \u001b[38;5;21;01mtyping_extensions\u001b[39;00m \u001b[38;5;28;01mimport\u001b[39;00m Literal\n",
      "\u001b[0;31mImportError\u001b[0m: cannot import name 'Box' from 'bokeh.models' (/home/ubuntu/.local/lib/python3.10/site-packages/bokeh/models/__init__.py)"
     ]
    }
   ],
   "source": [
    "import hvplot.dask"
   ]
  },
  {
   "cell_type": "code",
   "execution_count": null,
   "id": "a8726a64-15c2-42d2-afac-c77c437ff6ff",
   "metadata": {},
   "outputs": [],
   "source": [
    "import pandas as pd\n",
    "import re\n",
    "import time\n",
    "import glob\n",
    "\n",
    "import dask\n",
    "import dask.dataframe as dd\n",
    "import dask.bag as db\n",
    "from dask.distributed import Client, SSHCluster"
   ]
  },
  {
   "cell_type": "code",
   "execution_count": null,
   "id": "8ca28409-c866-4eb3-88b7-74a8992afcba",
   "metadata": {},
   "outputs": [],
   "source": [
    "dir_path = '/mnt/bhbh/fiducial_Hrad_5M/sevn_output_*'\n",
    "dir_list = glob.glob(dir_path)"
   ]
  },
  {
   "cell_type": "code",
   "execution_count": null,
   "id": "0ba3e6c9-06a4-4147-87b6-22fdd8f287ff",
   "metadata": {},
   "outputs": [],
   "source": [
    "dir_test=dir_list[0]"
   ]
  },
  {
   "cell_type": "code",
   "execution_count": null,
   "id": "d6c5f088-2be0-47cb-8810-ab3e07ee6706",
   "metadata": {},
   "outputs": [],
   "source": [
    "file=dir_test + f'/0/logfile_0.dat'"
   ]
  },
  {
   "cell_type": "code",
   "execution_count": null,
   "id": "5e7216b6-6086-4ba3-b8d8-0a37bbe40dcc",
   "metadata": {},
   "outputs": [],
   "source": [
    "logfile = pd.read_csv(file,    # read the file\n",
    "                          header=None) # there is no header\n"
   ]
  },
  {
   "cell_type": "code",
   "execution_count": null,
   "id": "e36cfc3c-1b44-4533-bc50-3add4e2af623",
   "metadata": {},
   "outputs": [],
   "source": [
    "#Running Regex on the line of the logfile to extrac useful informations\n",
    "df_RLO = logfile[0].str.extract(r\"B;((?:\\d*\\_)?\\d+);(\\d+);RLO_BEGIN;\").\\\n",
    "            dropna().\\\n",
    "            rename(columns={0:'name', 1:'ID'}).\\\n",
    "            groupby(['name']).\\\n",
    "            size().\\\n",
    "            to_frame(name='RLO').\\\n",
    "            reset_index()                                                 \n",
    "\n",
    "\n",
    "df_CE = logfile[0].str.extract(r\"B;((?:\\d*\\_)?\\d+);(\\d+);CE;\").\\\n",
    "            dropna().\\\n",
    "            rename(columns={0:'name', 1:'ID'}).\\\n",
    "            groupby(['name']).\\\n",
    "            size().\\\n",
    "            to_frame(name='CE').\\\n",
    "            reset_index()                                         \n",
    "\n",
    "\n",
    "df_BSN = logfile[0].str.extract(r\"B;((?:\\d*\\_)?\\d+);(\\d+);BSN;\").\\\n",
    "            dropna().\\\n",
    "            rename(columns={0:'name', 1:'ID'}).\\\n",
    "            groupby(['name']).\\\n",
    "            size().\\\n",
    "            to_frame(name='BSN').\\\n",
    "            reset_index()"
   ]
  },
  {
   "cell_type": "code",
   "execution_count": null,
   "id": "020e0d3b-dc1c-442d-9e14-9dd3733f3e6e",
   "metadata": {},
   "outputs": [],
   "source": [
    "df_SN = logfile[0].str.extract(r\"S;((?:\\d*\\_)?\\d+);(\\d+);SN;.+:(.+):.+:.+.\").dropna().rename(columns={0:'name', 1:'ID', 2:'Kick'})"
   ]
  },
  {
   "cell_type": "code",
   "execution_count": null,
   "id": "bbf92d95-28a2-4184-833b-4fa4bf2d5ea8",
   "metadata": {},
   "outputs": [],
   "source": [
    "kicks=df_SN['Kick'].to_numpy(dtype='float')"
   ]
  },
  {
   "cell_type": "code",
   "execution_count": null,
   "id": "3e099b86-78d0-47de-8035-9ba002ae5b45",
   "metadata": {},
   "outputs": [
    {
     "data": {
      "text/plain": [
       "array([ 0.      , -0.      , -0.      , ...,  0.      ,  0.      ,\n",
       "       -0.540751])"
      ]
     },
     "execution_count": 16,
     "metadata": {},
     "output_type": "execute_result"
    }
   ],
   "source": [
    "kicks[(kicks<1) & (kicks>-1)]"
   ]
  },
  {
   "cell_type": "code",
   "execution_count": null,
   "id": "5c1addd1-8125-4471-b033-cc192d9cbbbe",
   "metadata": {},
   "outputs": [
    {
     "data": {
      "text/plain": [
       "(21212,)"
      ]
     },
     "execution_count": 43,
     "metadata": {},
     "output_type": "execute_result"
    }
   ],
   "source": [
    "kicks[kicks==0].shape"
   ]
  },
  {
   "cell_type": "code",
   "execution_count": null,
   "id": "0c0f337e-79fc-4df1-aff0-90b7db532451",
   "metadata": {},
   "outputs": [],
   "source": [
    "ddf=dd.read_parquet('/home/ubuntu/data/bag_all_dataset_with_no_kick/*')"
   ]
  },
  {
   "cell_type": "code",
   "execution_count": null,
   "id": "347961e0-db63-4c73-bf63-06441110e748",
   "metadata": {},
   "outputs": [
    {
     "data": {
      "text/html": [
       "<div>\n",
       "<style scoped>\n",
       "    .dataframe tbody tr th:only-of-type {\n",
       "        vertical-align: middle;\n",
       "    }\n",
       "\n",
       "    .dataframe tbody tr th {\n",
       "        vertical-align: top;\n",
       "    }\n",
       "\n",
       "    .dataframe thead th {\n",
       "        text-align: right;\n",
       "    }\n",
       "</style>\n",
       "<table border=\"1\" class=\"dataframe\">\n",
       "  <thead>\n",
       "    <tr style=\"text-align: right;\">\n",
       "      <th></th>\n",
       "      <th>name</th>\n",
       "      <th>Mass_0</th>\n",
       "      <th>Z_0</th>\n",
       "      <th>SN_0</th>\n",
       "      <th>Mass_1</th>\n",
       "      <th>SN_1</th>\n",
       "      <th>a</th>\n",
       "      <th>e</th>\n",
       "      <th>alpha</th>\n",
       "      <th>Mass_0_out</th>\n",
       "      <th>...</th>\n",
       "      <th>GWtime</th>\n",
       "      <th>BWorldtime</th>\n",
       "      <th>RLO</th>\n",
       "      <th>CE</th>\n",
       "      <th>BSN</th>\n",
       "      <th>No_Kick</th>\n",
       "      <th>tdelay</th>\n",
       "      <th>Mass_max_out</th>\n",
       "      <th>q</th>\n",
       "      <th>Mass_chirp</th>\n",
       "    </tr>\n",
       "  </thead>\n",
       "  <tbody>\n",
       "    <tr>\n",
       "      <th>0</th>\n",
       "      <td>0_186500805616303</td>\n",
       "      <td>24.025</td>\n",
       "      <td>0.0004</td>\n",
       "      <td>rapid_gauNS</td>\n",
       "      <td>15.586</td>\n",
       "      <td>rapid_gauNS</td>\n",
       "      <td>56.1</td>\n",
       "      <td>0.00704</td>\n",
       "      <td>1.0</td>\n",
       "      <td>9.050055</td>\n",
       "      <td>...</td>\n",
       "      <td>7.108607e+03</td>\n",
       "      <td>10.624610</td>\n",
       "      <td>2.0</td>\n",
       "      <td>0.0</td>\n",
       "      <td>2</td>\n",
       "      <td>2.0</td>\n",
       "      <td>7.119232e+03</td>\n",
       "      <td>9.050055</td>\n",
       "      <td>0.928217</td>\n",
       "      <td>7.589440</td>\n",
       "    </tr>\n",
       "    <tr>\n",
       "      <th>1</th>\n",
       "      <td>0_502130275753280</td>\n",
       "      <td>39.240</td>\n",
       "      <td>0.0004</td>\n",
       "      <td>rapid_gauNS</td>\n",
       "      <td>37.312</td>\n",
       "      <td>rapid_gauNS</td>\n",
       "      <td>1180.0</td>\n",
       "      <td>0.07820</td>\n",
       "      <td>1.0</td>\n",
       "      <td>38.336310</td>\n",
       "      <td>...</td>\n",
       "      <td>1.274892e+09</td>\n",
       "      <td>5.217448</td>\n",
       "      <td>2.0</td>\n",
       "      <td>0.0</td>\n",
       "      <td>2</td>\n",
       "      <td>2.0</td>\n",
       "      <td>1.274892e+09</td>\n",
       "      <td>38.336310</td>\n",
       "      <td>0.950738</td>\n",
       "      <td>32.539204</td>\n",
       "    </tr>\n",
       "    <tr>\n",
       "      <th>2</th>\n",
       "      <td>0_201673565337120</td>\n",
       "      <td>61.947</td>\n",
       "      <td>0.0004</td>\n",
       "      <td>rapid_gauNS</td>\n",
       "      <td>30.179</td>\n",
       "      <td>rapid_gauNS</td>\n",
       "      <td>5040.0</td>\n",
       "      <td>0.22100</td>\n",
       "      <td>1.0</td>\n",
       "      <td>59.190780</td>\n",
       "      <td>...</td>\n",
       "      <td>1.390318e+12</td>\n",
       "      <td>6.160173</td>\n",
       "      <td>0.0</td>\n",
       "      <td>0.0</td>\n",
       "      <td>2</td>\n",
       "      <td>1.0</td>\n",
       "      <td>1.390318e+12</td>\n",
       "      <td>59.190780</td>\n",
       "      <td>0.357987</td>\n",
       "      <td>30.060437</td>\n",
       "    </tr>\n",
       "    <tr>\n",
       "      <th>3</th>\n",
       "      <td>0_929528790266714</td>\n",
       "      <td>135.386</td>\n",
       "      <td>0.0004</td>\n",
       "      <td>rapid_gauNS</td>\n",
       "      <td>78.408</td>\n",
       "      <td>rapid_gauNS</td>\n",
       "      <td>20600.0</td>\n",
       "      <td>0.75400</td>\n",
       "      <td>1.0</td>\n",
       "      <td>47.067630</td>\n",
       "      <td>...</td>\n",
       "      <td>4.464742e+14</td>\n",
       "      <td>3.399872</td>\n",
       "      <td>0.0</td>\n",
       "      <td>0.0</td>\n",
       "      <td>2</td>\n",
       "      <td>2.0</td>\n",
       "      <td>4.464742e+14</td>\n",
       "      <td>47.067630</td>\n",
       "      <td>0.742702</td>\n",
       "      <td>35.234364</td>\n",
       "    </tr>\n",
       "    <tr>\n",
       "      <th>4</th>\n",
       "      <td>0_583722007414750</td>\n",
       "      <td>51.010</td>\n",
       "      <td>0.0004</td>\n",
       "      <td>rapid_gauNS</td>\n",
       "      <td>50.206</td>\n",
       "      <td>rapid_gauNS</td>\n",
       "      <td>2400.0</td>\n",
       "      <td>0.29900</td>\n",
       "      <td>1.0</td>\n",
       "      <td>49.445770</td>\n",
       "      <td>...</td>\n",
       "      <td>3.798065e+09</td>\n",
       "      <td>4.275696</td>\n",
       "      <td>2.0</td>\n",
       "      <td>0.0</td>\n",
       "      <td>2</td>\n",
       "      <td>2.0</td>\n",
       "      <td>3.798065e+09</td>\n",
       "      <td>49.445770</td>\n",
       "      <td>0.985839</td>\n",
       "      <td>42.738950</td>\n",
       "    </tr>\n",
       "  </tbody>\n",
       "</table>\n",
       "<p>5 rows × 23 columns</p>\n",
       "</div>"
      ],
      "text/plain": [
       "                name   Mass_0     Z_0         SN_0  Mass_1         SN_1  \\\n",
       "0  0_186500805616303   24.025  0.0004  rapid_gauNS  15.586  rapid_gauNS   \n",
       "1  0_502130275753280   39.240  0.0004  rapid_gauNS  37.312  rapid_gauNS   \n",
       "2  0_201673565337120   61.947  0.0004  rapid_gauNS  30.179  rapid_gauNS   \n",
       "3  0_929528790266714  135.386  0.0004  rapid_gauNS  78.408  rapid_gauNS   \n",
       "4  0_583722007414750   51.010  0.0004  rapid_gauNS  50.206  rapid_gauNS   \n",
       "\n",
       "         a        e  alpha  Mass_0_out  ...        GWtime  BWorldtime  RLO  \\\n",
       "0     56.1  0.00704    1.0    9.050055  ...  7.108607e+03   10.624610  2.0   \n",
       "1   1180.0  0.07820    1.0   38.336310  ...  1.274892e+09    5.217448  2.0   \n",
       "2   5040.0  0.22100    1.0   59.190780  ...  1.390318e+12    6.160173  0.0   \n",
       "3  20600.0  0.75400    1.0   47.067630  ...  4.464742e+14    3.399872  0.0   \n",
       "4   2400.0  0.29900    1.0   49.445770  ...  3.798065e+09    4.275696  2.0   \n",
       "\n",
       "    CE  BSN  No_Kick        tdelay  Mass_max_out         q  Mass_chirp  \n",
       "0  0.0    2      2.0  7.119232e+03      9.050055  0.928217    7.589440  \n",
       "1  0.0    2      2.0  1.274892e+09     38.336310  0.950738   32.539204  \n",
       "2  0.0    2      1.0  1.390318e+12     59.190780  0.357987   30.060437  \n",
       "3  0.0    2      2.0  4.464742e+14     47.067630  0.742702   35.234364  \n",
       "4  0.0    2      2.0  3.798065e+09     49.445770  0.985839   42.738950  \n",
       "\n",
       "[5 rows x 23 columns]"
      ]
     },
     "execution_count": 26,
     "metadata": {},
     "output_type": "execute_result"
    }
   ],
   "source": [
    "ddf.head()"
   ]
  },
  {
   "cell_type": "code",
   "execution_count": null,
   "id": "4010b5a2-b74a-4d15-9b1c-b43fa5a16135",
   "metadata": {},
   "outputs": [],
   "source": []
  }
 ],
 "metadata": {
  "kernelspec": {
   "display_name": "Python 3 (ipykernel)",
   "language": "python",
   "name": "python3"
  },
  "language_info": {
   "codemirror_mode": {
    "name": "ipython",
    "version": 3
   },
   "file_extension": ".py",
   "mimetype": "text/x-python",
   "name": "python",
   "nbconvert_exporter": "python",
   "pygments_lexer": "ipython3",
   "version": "3.10.10"
  }
 },
 "nbformat": 4,
 "nbformat_minor": 5
}
