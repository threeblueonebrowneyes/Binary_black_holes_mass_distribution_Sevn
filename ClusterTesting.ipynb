{
 "cells": [
  {
   "cell_type": "code",
   "execution_count": 1,
   "id": "aecd56c2",
   "metadata": {},
   "outputs": [
    {
     "name": "stdout",
     "output_type": "stream",
     "text": [
      "/home/ubuntu\r\n"
     ]
    }
   ],
   "source": [
    "!pwd"
   ]
  },
  {
   "cell_type": "code",
   "execution_count": 1,
   "id": "32f5eaa6",
   "metadata": {},
   "outputs": [
    {
     "name": "stdout",
     "output_type": "stream",
     "text": [
      "total 3.3G\r\n",
      "drwxrwxr-x 63 ubuntu ubuntu  4.0K May 24 21:47 .\r\n",
      "drwxrwxrwx  4 nobody nogroup 4.0K May 24 17:30 ..\r\n",
      "-rw-rw-r--  1 ubuntu ubuntu  138K May 24 17:29 BCO_mass_dist_binned.csv\r\n",
      "-rw-rw-r--  1 ubuntu ubuntu  2.0G May 24 17:29 BHBH.csv\r\n",
      "-rw-rw-r--  1 ubuntu ubuntu  227M May 24 17:29 BHBHm.csv\r\n",
      "-rw-rw-r--  1 ubuntu ubuntu  444M May 24 17:29 BHNS.csv\r\n",
      "-rw-rw-r--  1 ubuntu ubuntu   62M May 24 17:30 BHNSm.csv\r\n",
      "-rw-rw-r--  1 ubuntu ubuntu  342M May 24 17:30 NSNS.csv\r\n",
      "-rw-rw-r--  1 ubuntu ubuntu  229M May 24 17:30 NSNSm.csv\r\n",
      "-rw-rw-r--  1 ubuntu ubuntu   21K May 24 17:30 bco_massdist_A0.5.pdf\r\n",
      "-rw-rw-r--  1 ubuntu ubuntu   21K May 24 17:30 bco_massdist_A1.0.pdf\r\n",
      "-rw-rw-r--  1 ubuntu ubuntu   21K May 24 17:30 bco_massdist_A3.0.pdf\r\n",
      "-rw-rw-r--  1 ubuntu ubuntu   20K May 24 17:30 bco_massdist_A5.0.pdf\r\n",
      "drwxrwxr-x  2 ubuntu ubuntu  4.0K May 24 17:30 logs\r\n",
      "-rw-rw-r--  1 ubuntu ubuntu   72K May 24 17:30 mergereff.pdf\r\n",
      "-rwxrwxr-x  1 ubuntu ubuntu   20K May 24 17:30 run_template.sh\r\n",
      "-rw-rw-r--  1 ubuntu ubuntu  7.1M May 24 17:30 sevn.err\r\n",
      "-rw-rw-r--  1 ubuntu ubuntu   43K May 24 17:30 sevn.out\r\n",
      "drwxrwxr-x  3 ubuntu ubuntu  4.0K May 24 17:30 sevn_output_Z0.0001A0.5L1\r\n",
      "drwxrwxr-x  3 ubuntu ubuntu  4.0K May 24 17:35 sevn_output_Z0.0001A1L1\r\n",
      "drwxrwxr-x  3 ubuntu ubuntu  4.0K May 24 17:40 sevn_output_Z0.0001A3L1\r\n",
      "drwxrwxr-x  3 ubuntu ubuntu  4.0K May 24 17:45 sevn_output_Z0.0001A5L1\r\n",
      "drwxrwxr-x  3 ubuntu ubuntu  4.0K May 24 17:51 sevn_output_Z0.0002A0.5L1\r\n",
      "drwxrwxr-x  3 ubuntu ubuntu  4.0K May 24 17:56 sevn_output_Z0.0002A1L1\r\n",
      "drwxrwxr-x  3 ubuntu ubuntu  4.0K May 24 18:01 sevn_output_Z0.0002A3L1\r\n",
      "drwxrwxr-x  3 ubuntu ubuntu  4.0K May 24 18:07 sevn_output_Z0.0002A5L1\r\n",
      "drwxrwxr-x  3 ubuntu ubuntu  4.0K May 24 18:12 sevn_output_Z0.0004A0.5L1\r\n",
      "drwxrwxr-x  3 ubuntu ubuntu  4.0K May 24 18:18 sevn_output_Z0.0004A1L1\r\n",
      "drwxrwxr-x  3 ubuntu ubuntu  4.0K May 24 18:23 sevn_output_Z0.0004A3L1\r\n",
      "drwxrwxr-x  3 ubuntu ubuntu  4.0K May 24 18:28 sevn_output_Z0.0004A5L1\r\n",
      "drwxrwxr-x  3 ubuntu ubuntu  4.0K May 24 18:34 sevn_output_Z0.0006A0.5L1\r\n",
      "drwxrwxr-x  3 ubuntu ubuntu  4.0K May 24 18:39 sevn_output_Z0.0006A1L1\r\n",
      "drwxrwxr-x  3 ubuntu ubuntu  4.0K May 24 18:44 sevn_output_Z0.0006A3L1\r\n",
      "drwxrwxr-x  3 ubuntu ubuntu  4.0K May 24 18:49 sevn_output_Z0.0006A5L1\r\n",
      "drwxrwxr-x  3 ubuntu ubuntu  4.0K May 24 18:54 sevn_output_Z0.0008A0.5L1\r\n",
      "drwxrwxr-x  3 ubuntu ubuntu  4.0K May 24 19:00 sevn_output_Z0.0008A1L1\r\n",
      "drwxrwxr-x  3 ubuntu ubuntu  4.0K May 24 19:05 sevn_output_Z0.0008A3L1\r\n",
      "drwxrwxr-x  3 ubuntu ubuntu  4.0K May 24 19:11 sevn_output_Z0.0008A5L1\r\n",
      "drwxrwxr-x  3 ubuntu ubuntu  4.0K May 24 19:16 sevn_output_Z0.001A0.5L1\r\n",
      "drwxrwxr-x  3 ubuntu ubuntu  4.0K May 24 19:21 sevn_output_Z0.001A1L1\r\n",
      "drwxrwxr-x  3 ubuntu ubuntu  4.0K May 24 19:26 sevn_output_Z0.001A3L1\r\n",
      "drwxrwxr-x  3 ubuntu ubuntu  4.0K May 24 19:32 sevn_output_Z0.001A5L1\r\n",
      "drwxrwxr-x  3 ubuntu ubuntu  4.0K May 24 19:37 sevn_output_Z0.002A0.5L1\r\n",
      "drwxrwxr-x  3 ubuntu ubuntu  4.0K May 24 19:42 sevn_output_Z0.002A1L1\r\n",
      "drwxrwxr-x  3 ubuntu ubuntu  4.0K May 24 19:47 sevn_output_Z0.002A3L1\r\n",
      "drwxrwxr-x  3 ubuntu ubuntu  4.0K May 24 19:53 sevn_output_Z0.002A5L1\r\n",
      "drwxrwxr-x  3 ubuntu ubuntu  4.0K May 24 19:58 sevn_output_Z0.004A0.5L1\r\n",
      "drwxrwxr-x  3 ubuntu ubuntu  4.0K May 24 20:03 sevn_output_Z0.004A1L1\r\n",
      "drwxrwxr-x  3 ubuntu ubuntu  4.0K May 24 20:08 sevn_output_Z0.004A3L1\r\n",
      "drwxrwxr-x  3 ubuntu ubuntu  4.0K May 24 20:14 sevn_output_Z0.004A5L1\r\n",
      "drwxrwxr-x  3 ubuntu ubuntu  4.0K May 24 20:19 sevn_output_Z0.006A0.5L1\r\n",
      "drwxrwxr-x  3 ubuntu ubuntu  4.0K May 24 20:24 sevn_output_Z0.006A1L1\r\n",
      "drwxrwxr-x  3 ubuntu ubuntu  4.0K May 24 20:29 sevn_output_Z0.006A3L1\r\n",
      "drwxrwxr-x  3 ubuntu ubuntu  4.0K May 24 20:35 sevn_output_Z0.006A5L1\r\n",
      "drwxrwxr-x  3 ubuntu ubuntu  4.0K May 24 20:40 sevn_output_Z0.008A0.5L1\r\n",
      "drwxrwxr-x  3 ubuntu ubuntu  4.0K May 24 20:45 sevn_output_Z0.008A1L1\r\n",
      "drwxrwxr-x  3 ubuntu ubuntu  4.0K May 24 20:51 sevn_output_Z0.008A3L1\r\n",
      "drwxrwxr-x  3 ubuntu ubuntu  4.0K May 24 20:56 sevn_output_Z0.008A5L1\r\n",
      "drwxrwxr-x  3 ubuntu ubuntu  4.0K May 24 21:02 sevn_output_Z0.014A0.5L1\r\n",
      "drwxrwxr-x  3 ubuntu ubuntu  4.0K May 24 21:07 sevn_output_Z0.014A1L1\r\n",
      "drwxrwxr-x  3 ubuntu ubuntu  4.0K May 24 21:12 sevn_output_Z0.014A3L1\r\n",
      "drwxrwxr-x  3 ubuntu ubuntu  4.0K May 24 21:17 sevn_output_Z0.014A5L1\r\n",
      "drwxrwxr-x  3 ubuntu ubuntu  4.0K May 24 21:22 sevn_output_Z0.017A0.5L1\r\n",
      "drwxrwxr-x  3 ubuntu ubuntu  4.0K May 24 21:27 sevn_output_Z0.017A1L1\r\n",
      "drwxrwxr-x  3 ubuntu ubuntu  4.0K May 24 21:32 sevn_output_Z0.017A3L1\r\n",
      "drwxrwxr-x  3 ubuntu ubuntu  4.0K May 24 21:37 sevn_output_Z0.017A5L1\r\n",
      "drwxrwxr-x  3 ubuntu ubuntu  4.0K May 24 21:43 sevn_output_Z0.01A0.5L1\r\n",
      "drwxrwxr-x  3 ubuntu ubuntu  4.0K May 24 21:47 sevn_output_Z0.01A1L1\r\n",
      "drwxrwxr-x  3 ubuntu ubuntu  4.0K May 24 21:52 sevn_output_Z0.01A3L1\r\n",
      "drwxrwxr-x  3 ubuntu ubuntu  4.0K May 24 21:58 sevn_output_Z0.01A5L1\r\n",
      "drwxrwxr-x  3 ubuntu ubuntu  4.0K May 24 22:03 sevn_output_Z0.02A0.5L1\r\n",
      "drwxrwxr-x  3 ubuntu ubuntu  4.0K May 24 22:08 sevn_output_Z0.02A1L1\r\n",
      "drwxrwxr-x  3 ubuntu ubuntu  4.0K May 24 22:13 sevn_output_Z0.02A3L1\r\n",
      "drwxrwxr-x  3 ubuntu ubuntu  4.0K May 24 22:18 sevn_output_Z0.02A5L1\r\n",
      "drwxrwxr-x  3 ubuntu ubuntu  4.0K May 24 22:24 sevn_output_Z0.03A0.5L1\r\n",
      "drwxrwxr-x  3 ubuntu ubuntu  4.0K May 24 22:28 sevn_output_Z0.03A1L1\r\n",
      "drwxrwxr-x  3 ubuntu ubuntu  4.0K May 24 22:33 sevn_output_Z0.03A3L1\r\n",
      "drwxrwxr-x  3 ubuntu ubuntu  4.0K May 24 22:39 sevn_output_Z0.03A5L1\r\n",
      "-rw-rw-r--  1 ubuntu ubuntu   27K May 24 17:30 summary.csv\r\n",
      "-rw-rw-r--  1 ubuntu ubuntu   174 May 24 17:30 total_evolved_mass.txt\r\n"
     ]
    }
   ],
   "source": [
    "! ls /mnt/bhbh/fiducial_Hrad_5M -lah"
   ]
  },
  {
   "cell_type": "code",
   "execution_count": 3,
   "id": "32188fc3",
   "metadata": {},
   "outputs": [],
   "source": [
    "from dask.distributed import Client, SSHCluster\n",
    "import dask.dataframe as dd\n",
    "import dask.array as da\n",
    "import dask\n",
    "import numpy as np"
   ]
  },
  {
   "cell_type": "markdown",
   "id": "6900fb4b",
   "metadata": {},
   "source": [
    "# Set up the cluster via SSH"
   ]
  },
  {
   "cell_type": "markdown",
   "id": "b3cb4519",
   "metadata": {},
   "source": [
    "There is no need anymore to start the scheduler and the workers one by one.\n",
    "\n",
    "Simply running the following command, the whole cluster is instantiated. Next step is adding the keyless authentication to avoid using clear text passwords."
   ]
  },
  {
   "cell_type": "code",
   "execution_count": 4,
   "id": "315edf24",
   "metadata": {},
   "outputs": [
    {
     "name": "stderr",
     "output_type": "stream",
     "text": [
      "2023-05-25 09:32:07,901 - distributed.deploy.ssh - INFO - 2023-05-25 09:32:07,900 - distributed.scheduler - INFO - State start\n",
      "2023-05-25 09:32:07,907 - distributed.deploy.ssh - INFO - 2023-05-25 09:32:07,906 - distributed.scheduler - INFO -   Scheduler at:   tcp://10.67.22.140:8786\n",
      "2023-05-25 09:32:08,861 - distributed.deploy.ssh - INFO - 2023-05-25 09:32:08,860 - distributed.nanny - INFO -         Start Nanny at: 'tcp://10.67.22.140:42587'\n",
      "2023-05-25 09:32:09,163 - distributed.deploy.ssh - INFO - 2023-05-25 09:32:09,161 - distributed.nanny - INFO -         Start Nanny at: 'tcp://10.67.22.220:44489'\n",
      "2023-05-25 09:32:09,424 - distributed.deploy.ssh - INFO - 2023-05-25 09:32:09,420 - distributed.nanny - INFO -         Start Nanny at: 'tcp://10.67.22.81:41913'\n",
      "2023-05-25 09:32:09,596 - distributed.deploy.ssh - INFO - 2023-05-25 09:32:09,595 - distributed.worker - INFO -       Start worker at:   tcp://10.67.22.140:39539\n",
      "2023-05-25 09:32:09,729 - distributed.deploy.ssh - INFO - 2023-05-25 09:32:09,727 - distributed.diskutils - INFO - Found stale lock file and directory '/tmp/dask-worker-space-1000/worker-rk5p3dmk', purging\n",
      "2023-05-25 09:32:09,752 - distributed.deploy.ssh - INFO - 2023-05-25 09:32:09,750 - distributed.worker - INFO -       Start worker at:   tcp://10.67.22.220:40547\n",
      "2023-05-25 09:32:10,189 - distributed.deploy.ssh - INFO - 2023-05-25 09:32:10,185 - distributed.diskutils - INFO - Found stale lock file and directory '/tmp/dask-worker-space-1000/worker-1ofjhqn1', purging\n",
      "2023-05-25 09:32:10,218 - distributed.deploy.ssh - INFO - 2023-05-25 09:32:10,214 - distributed.worker - INFO -       Start worker at:    tcp://10.67.22.81:42955\n"
     ]
    }
   ],
   "source": [
    "cluster = SSHCluster(\n",
    "    [ \"bhbh-1\", \"bhbh-1\", \"bhbh-2\", \"bhbh-3\"],\n",
    "    connect_options={\"client_keys\": \"/home/ubuntu/private/tbertola_key.pem\"},\n",
    "    worker_options={\"nthreads\": 4}, # because each bhbh-* has 4 cores\n",
    "    scheduler_options={\"port\": 8786, \"dashboard_address\": \":8787\"}\n",
    ")"
   ]
  },
  {
   "cell_type": "markdown",
   "id": "eaae45f7",
   "metadata": {},
   "source": [
    "# Create the client"
   ]
  },
  {
   "cell_type": "code",
   "execution_count": 5,
   "id": "fd4b93f7",
   "metadata": {},
   "outputs": [
    {
     "name": "stderr",
     "output_type": "stream",
     "text": [
      "/home/ubuntu/miniconda3/lib/python3.10/site-packages/distributed/client.py:1386: VersionMismatchWarning: Mismatched versions found\n",
      "\n",
      "+---------+--------+-----------+------------------+\n",
      "| Package | Client | Scheduler | Workers          |\n",
      "+---------+--------+-----------+------------------+\n",
      "| tornado | 6.3.2  | 6.3.2     | {'6.2', '6.3.2'} |\n",
      "+---------+--------+-----------+------------------+\n",
      "  warnings.warn(version_module.VersionMismatchWarning(msg[0][\"warning\"]))\n"
     ]
    }
   ],
   "source": [
    "client = Client(cluster)"
   ]
  },
  {
   "cell_type": "code",
   "execution_count": 6,
   "id": "2378f674",
   "metadata": {
    "scrolled": true
   },
   "outputs": [],
   "source": [
    "# client=Client('tcp://10.67.22.140:8786') # connects to an already existing cluster"
   ]
  },
  {
   "cell_type": "markdown",
   "id": "ea89e75b",
   "metadata": {},
   "source": [
    "# Testing the cluster with some heavy computations"
   ]
  },
  {
   "cell_type": "code",
   "execution_count": 7,
   "id": "40c4040f",
   "metadata": {},
   "outputs": [],
   "source": [
    "# test = da.random.normal(0, 1, 30000000000)\n",
    "\n",
    "# test.sum().compute()"
   ]
  },
  {
   "cell_type": "markdown",
   "id": "df141c54",
   "metadata": {},
   "source": [
    "# Close the client"
   ]
  },
  {
   "cell_type": "code",
   "execution_count": 8,
   "id": "435f9826",
   "metadata": {},
   "outputs": [
    {
     "name": "stdout",
     "output_type": "stream",
     "text": [
      "ubuntu\r\n"
     ]
    }
   ],
   "source": [
    "!whoami"
   ]
  },
  {
   "cell_type": "code",
   "execution_count": 9,
   "id": "d685a9f5",
   "metadata": {},
   "outputs": [],
   "source": [
    "client.close()"
   ]
  }
 ],
 "metadata": {
  "kernelspec": {
   "display_name": "Python 3 (ipykernel)",
   "language": "python",
   "name": "python3"
  },
  "language_info": {
   "codemirror_mode": {
    "name": "ipython",
    "version": 3
   },
   "file_extension": ".py",
   "mimetype": "text/x-python",
   "name": "python",
   "nbconvert_exporter": "python",
   "pygments_lexer": "ipython3",
   "version": "3.10.10"
  }
 },
 "nbformat": 4,
 "nbformat_minor": 5
}
