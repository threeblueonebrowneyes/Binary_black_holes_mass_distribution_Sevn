{
 "cells": [
  {
   "cell_type": "code",
   "execution_count": 1,
   "id": "5f605d84-db4b-4b13-a2aa-5d7971d4596f",
   "metadata": {
    "tags": []
   },
   "outputs": [],
   "source": [
    "import numpy as np\n",
    "import pandas as pd\n",
    "import matplotlib.pyplot as plt\n",
    "# import seaborn as sns\n",
    "\n",
    "import dask.dataframe as dd\n",
    "import dask.array as da\n",
    "import dask.bag as db\n",
    "import dask\n",
    "from dask.distributed import Client, LocalCluster,SSHCluster\n",
    "import dask.distributed\n",
    "\n",
    "# import hvplot.dask"
   ]
  },
  {
   "cell_type": "code",
   "execution_count": 2,
   "id": "1b0358e2",
   "metadata": {},
   "outputs": [
    {
     "name": "stderr",
     "output_type": "stream",
     "text": [
      "2023-06-02 16:22:28,806 - distributed.deploy.ssh - INFO - 2023-06-02 16:22:28,804 - distributed.scheduler - INFO - State start\n",
      "2023-06-02 16:22:28,813 - distributed.deploy.ssh - INFO - 2023-06-02 16:22:28,812 - distributed.scheduler - INFO -   Scheduler at:   tcp://10.67.22.140:8786\n",
      "2023-06-02 16:22:29,753 - distributed.deploy.ssh - INFO - 2023-06-02 16:22:29,752 - distributed.nanny - INFO -         Start Nanny at: 'tcp://10.67.22.140:44459'\n",
      "2023-06-02 16:22:30,470 - distributed.deploy.ssh - INFO - 2023-06-02 16:22:30,469 - distributed.diskutils - INFO - Found stale lock file and directory '/tmp/dask-worker-space/worker-w03vteix', purging\n",
      "2023-06-02 16:22:30,502 - distributed.deploy.ssh - INFO - 2023-06-02 16:22:30,501 - distributed.worker - INFO -       Start worker at:   tcp://10.67.22.140:35207\n",
      "2023-06-02 16:22:31,577 - distributed.deploy.ssh - INFO - 2023-06-02 16:22:31,574 - distributed.nanny - INFO -         Start Nanny at: 'tcp://10.67.22.220:46139'\n",
      "2023-06-02 16:22:31,839 - distributed.deploy.ssh - INFO - 2023-06-02 16:22:31,840 - distributed.nanny - INFO -         Start Nanny at: 'tcp://10.67.22.81:40451'\n",
      "2023-06-02 16:22:32,221 - distributed.deploy.ssh - INFO - 2023-06-02 16:22:32,218 - distributed.diskutils - INFO - Found stale lock file and directory '/tmp/dask-worker-space/worker-7tu_tes0', purging\n",
      "2023-06-02 16:22:32,247 - distributed.deploy.ssh - INFO - 2023-06-02 16:22:32,245 - distributed.worker - INFO -       Start worker at:   tcp://10.67.22.220:34427\n",
      "2023-06-02 16:22:32,560 - distributed.deploy.ssh - INFO - 2023-06-02 16:22:32,561 - distributed.diskutils - INFO - Found stale lock file and directory '/tmp/dask-worker-space/worker-4qpz7iba', purging\n",
      "2023-06-02 16:22:32,590 - distributed.deploy.ssh - INFO - 2023-06-02 16:22:32,592 - distributed.worker - INFO -       Start worker at:    tcp://10.67.22.81:45871\n"
     ]
    }
   ],
   "source": [
    "cluster = SSHCluster(\n",
    "    [ \"bhbh-1\", \"bhbh-1\", \"bhbh-2\", \"bhbh-3\"],\n",
    "    connect_options={\"client_keys\": \"/home/ubuntu/private/tbertola_key.pem\"},\n",
    "    worker_options={\"nthreads\": 8}, # because each bhbh-* has 4 cores\n",
    "    scheduler_options={\"port\": 8786, \"dashboard_address\": \":8787\"}\n",
    ")"
   ]
  },
  {
   "cell_type": "code",
   "execution_count": 3,
   "id": "fa393d12",
   "metadata": {},
   "outputs": [
    {
     "name": "stderr",
     "output_type": "stream",
     "text": [
      "/home/ubuntu/miniconda3/lib/python3.10/site-packages/distributed/client.py:1386: VersionMismatchWarning: Mismatched versions found\n",
      "\n",
      "+---------+--------+-----------+------------------+\n",
      "| Package | Client | Scheduler | Workers          |\n",
      "+---------+--------+-----------+------------------+\n",
      "| tornado | 6.3.2  | 6.3.2     | {'6.2', '6.3.2'} |\n",
      "+---------+--------+-----------+------------------+\n",
      "  warnings.warn(version_module.VersionMismatchWarning(msg[0][\"warning\"]))\n"
     ]
    }
   ],
   "source": [
    "client = Client(cluster)"
   ]
  },
  {
   "cell_type": "code",
   "execution_count": 4,
   "id": "556b4bb3-8d77-4c75-956e-5e483fc45aad",
   "metadata": {
    "tags": []
   },
   "outputs": [
    {
     "data": {
      "text/plain": [
       "{0: <distributed.deploy.ssh.Worker: status=running>,\n",
       " 1: <distributed.deploy.ssh.Worker: status=running>,\n",
       " 2: <distributed.deploy.ssh.Worker: status=running>}"
      ]
     },
     "execution_count": 4,
     "metadata": {},
     "output_type": "execute_result"
    }
   ],
   "source": [
    "cluster.workers"
   ]
  },
  {
   "cell_type": "markdown",
   "id": "ca895740-d3dc-487b-984f-8dcf68cec2b0",
   "metadata": {},
   "source": [
    "## Importing as Dask Dataframes all files\n",
    "(output_*.csv, evolved_*.dat, logfile_*.dat)"
   ]
  },
  {
   "cell_type": "code",
   "execution_count": 5,
   "id": "5748be43-f21b-4c58-b437-a1d3aeb47219",
   "metadata": {
    "tags": []
   },
   "outputs": [],
   "source": [
    "output_column_to_remove = ['ID', 'MHE_0', 'MCO_0', 'Radius_0', 'RHE_0','RCO_0', 'Luminosity_0', 'Temperature_0', 'Lambda_0', \n",
    "                           'Phase_0', 'PhaseBSE_0', 'Zams_0', 'MHE_1', 'MCO_1','Radius_1', 'RHE_1', 'RCO_1', \n",
    "                           'Luminosity_1', 'Temperature_1','Lambda_1', 'Phase_1', 'PhaseBSE_1', 'Zams_1']\n",
    "evolved_column_to_remove = ['#ID', 'spin_0', 'Tstart_0', 'spin_1', 'Tstart_1', 'Tend', 'Dtout', 'Seed']"
   ]
  },
  {
   "cell_type": "code",
   "execution_count": 25,
   "id": "03994592",
   "metadata": {
    "scrolled": true
   },
   "outputs": [
    {
     "name": "stdout",
     "output_type": "stream",
     "text": [
      "Number of pratitions for evolved files : 120\n",
      "Number of pratitions for output files : 120\n",
      "Number of pratitions for logfile files : 120\n"
     ]
    }
   ],
   "source": [
    "#sevn_output_Z*/sevn_output_Z*/0\n",
    "#sevn_output_Z0.01*/sevn_output_Z0.01*\n",
    "\n",
    "\n",
    "output = dd.read_csv('/mnt/bhbh/fiducial_Hrad_5M/sevn_output_Z0.0001*/0/output_*.csv',\n",
    "                     include_path_column=True, blocksize=None).\\\n",
    "            rename(columns={'Mass_0':'Mass_0_out', 'Mass_1':'Mass_1_out'}).\\\n",
    "            drop(columns=output_column_to_remove)#.\\\n",
    "#             repartition(npartitions=16)\n",
    "\n",
    "evolved = dd.read_table('/mnt/bhbh/fiducial_Hrad_5M/sevn_output_Z0.0001*/0/evolved_*.dat', include_path_column=True, sep='\\s+', blocksize=None).\\\n",
    "            drop(columns=evolved_column_to_remove)#.\\\n",
    "#             repartition(npartitions=16)\n",
    "logfile = dd.read_csv('/mnt/bhbh/fiducial_Hrad_5M/sevn_output_Z0.0001*/0/logfile_*.dat', header=None, include_path_column=True, blocksize=None)#.\\\n",
    "#             repartition(npartitions=16)\n",
    "\n",
    "print(f'Number of pratitions for evolved files : {evolved.npartitions}')\n",
    "print(f'Number of pratitions for output files : {output.npartitions}')\n",
    "print(f'Number of pratitions for logfile files : {logfile.npartitions}')"
   ]
  },
  {
   "cell_type": "code",
   "execution_count": 26,
   "id": "1706dbe7-00da-4782-ac25-73557f1750de",
   "metadata": {
    "tags": []
   },
   "outputs": [],
   "source": [
    "# for i in [output, evolved, logfile]:\n",
    "#     print(i.columns, '\\n')"
   ]
  },
  {
   "cell_type": "code",
   "execution_count": 28,
   "id": "59a44594",
   "metadata": {},
   "outputs": [],
   "source": [
    "# paths=output['path'].head()"
   ]
  },
  {
   "cell_type": "code",
   "execution_count": null,
   "id": "5cb9bc92",
   "metadata": {},
   "outputs": [],
   "source": [
    "# paths[0]"
   ]
  },
  {
   "cell_type": "code",
   "execution_count": null,
   "id": "d218a993-f756-43a1-805b-f13c64211dc7",
   "metadata": {
    "tags": []
   },
   "outputs": [],
   "source": [
    "# output.dtypes"
   ]
  },
  {
   "cell_type": "code",
   "execution_count": null,
   "id": "8ef8cce4-7b05-43d0-a24c-fcdb7364b92d",
   "metadata": {
    "tags": []
   },
   "outputs": [],
   "source": [
    "# evolved.dtypes"
   ]
  },
  {
   "cell_type": "code",
   "execution_count": null,
   "id": "95500a69-335a-4fff-88b9-38cf72c03e49",
   "metadata": {
    "tags": []
   },
   "outputs": [],
   "source": [
    "# logfile.dtypes"
   ]
  },
  {
   "cell_type": "markdown",
   "id": "47bc64a2-952b-49cb-9973-87211aa19afa",
   "metadata": {},
   "source": [
    "# Output: filtering to get only binary black holes, add Z value and Alpha parameter"
   ]
  },
  {
   "cell_type": "code",
   "execution_count": 29,
   "id": "e6801459-5ff5-475e-948f-608fd7d755c4",
   "metadata": {},
   "outputs": [],
   "source": [
    "idxBHBH=(output.RemnantType_0==6) & (output.RemnantType_1==6) & (output.Semimajor.notnull())\n",
    "output=output[idxBHBH] #Distributed DataFrame containing only binaries BB\n",
    "\n",
    "output['Z_0'] = output['path'].str.extract(r\".+((?<=Z)\\d.\\d+)\").squeeze() #Z_0 type is object\n",
    "output['Z_0'] = output['Z_0'].astype(float) # Z_0 is float\n",
    "\n",
    "output['alpha'] = output['path'].str.extract(r\".+(?<=A)(.*)(?=L)\").squeeze() #Z_0 type is object\n",
    "output['alpha'] = output['alpha'].astype(float) # alpha is a float\n"
   ]
  },
  {
   "cell_type": "markdown",
   "id": "74a090ae-87dd-49d5-bbcd-238d1bde912a",
   "metadata": {},
   "source": [
    "# Evolved add Alpha parameter"
   ]
  },
  {
   "cell_type": "code",
   "execution_count": 30,
   "id": "fff7f406-cdc1-47dc-9c38-791c6a2956c9",
   "metadata": {
    "tags": []
   },
   "outputs": [],
   "source": [
    "evolved['alpha'] = evolved['path'].str.extract(r\".+(?<=A)(.*)(?=L)\").squeeze() #Z_0 type is object\n",
    "evolved['alpha'] = evolved['alpha'].astype(float) # alpha is a float\n"
   ]
  },
  {
   "cell_type": "markdown",
   "id": "0661885d-4f4c-45db-877f-6f01f9cecfa4",
   "metadata": {},
   "source": [
    "# Logfile add Z value and Alpha parameter"
   ]
  },
  {
   "cell_type": "code",
   "execution_count": 31,
   "id": "59967086-3b83-490c-8946-c8526ae2d5e7",
   "metadata": {
    "tags": []
   },
   "outputs": [],
   "source": [
    "logfile = logfile.sum(axis=1)"
   ]
  },
  {
   "cell_type": "code",
   "execution_count": 32,
   "id": "e2e0f940-d418-4821-9156-d41b76da2b2d",
   "metadata": {
    "tags": []
   },
   "outputs": [],
   "source": [
    "df_RLO = logfile.str.extract(r\"B;((?:\\d*\\_)?\\d+);(\\d+);RLO_BEGIN;.+((?<=Z)\\d.\\d+).+(?<=A)(.*)(?=L)\").\\\n",
    "                dropna().\\\n",
    "                rename(columns={0:'name', 1:'ID', 2:'Z_0', 3:'alpha'}).\\\n",
    "                groupby(['name','Z_0', 'alpha']).\\\n",
    "                size().\\\n",
    "                to_frame(name='RLO').\\\n",
    "                reset_index()\n",
    "\n",
    "df_CE = logfile.str.extract(r\"B;((?:\\d*\\_)?\\d+);(\\d+);CE;.+((?<=Z)\\d.\\d+).+(?<=A)(.*)(?=L)\").\\\n",
    "                dropna().\\\n",
    "                rename(columns={0:'name', 1:'ID', 2:'Z_0', 3:'alpha'}).\\\n",
    "                groupby(['name','Z_0', 'alpha']).\\\n",
    "                size().\\\n",
    "                to_frame(name='CE').\\\n",
    "                reset_index()\n",
    "\n",
    "df_BSN = logfile.str.extract(r\"B;((?:\\d*\\_)?\\d+);(\\d+);BSN;.+((?<=Z)\\d.\\d+).+(?<=A)(.*)(?=L)\").\\\n",
    "                dropna().\\\n",
    "                rename(columns={0:'name', 1:'ID', 2:'Z_0', 3:'alpha'}).\\\n",
    "                groupby(['name','Z_0', 'alpha']).\\\n",
    "                size().\\\n",
    "                to_frame(name='BSN').\\\n",
    "                reset_index()\n",
    "\n",
    "df_RLO['Z_0'] = df_RLO['Z_0'].astype(float)\n",
    "df_CE['Z_0'] = df_RLO['Z_0'].astype(float)\n",
    "df_BSN['Z_0'] = df_RLO['Z_0'].astype(float)\n",
    "\n",
    "df_RLO['alpha'] = df_RLO['alpha'].astype(float)\n",
    "df_CE['alpha'] = df_RLO['alpha'].astype(float)\n",
    "df_BSN['alpha'] = df_RLO['alpha'].astype(float)"
   ]
  },
  {
   "cell_type": "code",
   "execution_count": 33,
   "id": "4f315757",
   "metadata": {},
   "outputs": [],
   "source": [
    "# df_BSN.compute()"
   ]
  },
  {
   "cell_type": "markdown",
   "id": "eedf3c7f-bfd1-44f2-b98a-8df10a9787bf",
   "metadata": {},
   "source": [
    "## Joining tables\n",
    "Due to the reshuffling among the partition it is not clear wheter or not is covenient to join the tables trough dask or locally (https://docs.dask.org/en/stable/dataframe-groupby.html)"
   ]
  },
  {
   "cell_type": "code",
   "execution_count": 34,
   "id": "74ad466c-dfb5-42df-8b14-ed7a775b8f31",
   "metadata": {
    "tags": []
   },
   "outputs": [],
   "source": [
    "drop_list = ['RemnantType_0',  'RemnantType_1', 'path_x', 'path_y']"
   ]
  },
  {
   "cell_type": "markdown",
   "id": "e1814a92",
   "metadata": {},
   "source": [
    "Take a look at this thing\n",
    "\n",
    "https://www.coiled.io/blog/dask-dataframe-merge-join\n",
    "https://www.coiled.io/blog/dask-set-index-dataframe"
   ]
  },
  {
   "cell_type": "code",
   "execution_count": null,
   "id": "5ebf6ef7",
   "metadata": {},
   "outputs": [],
   "source": [
    "# ev=evolved.head()"
   ]
  },
  {
   "cell_type": "code",
   "execution_count": null,
   "id": "9cf0402e",
   "metadata": {},
   "outputs": [],
   "source": [
    "# type(evolved['path'].str.extract(r\"(?<=5M/)(.*)(?=/0)\"))"
   ]
  },
  {
   "cell_type": "code",
   "execution_count": null,
   "id": "fa583f32",
   "metadata": {},
   "outputs": [],
   "source": [
    "evolved['dir']=evolved['path'].str.extract(r\"(?<=5M/)(.*)(?=/0)\").squeeze()\n",
    "output['dir']=output['path'].str.extract(r\"(?<=5M/)(.*)(?=/0)\").squeeze()"
   ]
  },
  {
   "cell_type": "code",
   "execution_count": 37,
   "id": "1fd4cef2",
   "metadata": {},
   "outputs": [
    {
     "ename": "KilledWorker",
     "evalue": "Attempted to run task ('assign-890cffe053cff1b8989fff511c946b62', 10) on 3 different workers, but all those workers died while running it. The last worker that attempt to run the task was tcp://10.67.22.220:35483. Inspecting worker logs is often a good next step to diagnose what went wrong. For more information see https://distributed.dask.org/en/stable/killed.html.",
     "output_type": "error",
     "traceback": [
      "\u001b[0;31m---------------------------------------------------------------------------\u001b[0m",
      "\u001b[0;31mKilledWorker\u001b[0m                              Traceback (most recent call last)",
      "Cell \u001b[0;32mIn[37], line 1\u001b[0m\n\u001b[0;32m----> 1\u001b[0m \u001b[43moutput\u001b[49m\u001b[38;5;241;43m.\u001b[39;49m\u001b[43mcompute\u001b[49m\u001b[43m(\u001b[49m\u001b[43m)\u001b[49m\n",
      "File \u001b[0;32m~/miniconda3/lib/python3.10/site-packages/dask/base.py:314\u001b[0m, in \u001b[0;36mDaskMethodsMixin.compute\u001b[0;34m(self, **kwargs)\u001b[0m\n\u001b[1;32m    290\u001b[0m \u001b[38;5;28;01mdef\u001b[39;00m \u001b[38;5;21mcompute\u001b[39m(\u001b[38;5;28mself\u001b[39m, \u001b[38;5;241m*\u001b[39m\u001b[38;5;241m*\u001b[39mkwargs):\n\u001b[1;32m    291\u001b[0m \u001b[38;5;250m    \u001b[39m\u001b[38;5;124;03m\"\"\"Compute this dask collection\u001b[39;00m\n\u001b[1;32m    292\u001b[0m \n\u001b[1;32m    293\u001b[0m \u001b[38;5;124;03m    This turns a lazy Dask collection into its in-memory equivalent.\u001b[39;00m\n\u001b[0;32m   (...)\u001b[0m\n\u001b[1;32m    312\u001b[0m \u001b[38;5;124;03m    dask.compute\u001b[39;00m\n\u001b[1;32m    313\u001b[0m \u001b[38;5;124;03m    \"\"\"\u001b[39;00m\n\u001b[0;32m--> 314\u001b[0m     (result,) \u001b[38;5;241m=\u001b[39m \u001b[43mcompute\u001b[49m\u001b[43m(\u001b[49m\u001b[38;5;28;43mself\u001b[39;49m\u001b[43m,\u001b[49m\u001b[43m \u001b[49m\u001b[43mtraverse\u001b[49m\u001b[38;5;241;43m=\u001b[39;49m\u001b[38;5;28;43;01mFalse\u001b[39;49;00m\u001b[43m,\u001b[49m\u001b[43m \u001b[49m\u001b[38;5;241;43m*\u001b[39;49m\u001b[38;5;241;43m*\u001b[39;49m\u001b[43mkwargs\u001b[49m\u001b[43m)\u001b[49m\n\u001b[1;32m    315\u001b[0m     \u001b[38;5;28;01mreturn\u001b[39;00m result\n",
      "File \u001b[0;32m~/miniconda3/lib/python3.10/site-packages/dask/base.py:599\u001b[0m, in \u001b[0;36mcompute\u001b[0;34m(traverse, optimize_graph, scheduler, get, *args, **kwargs)\u001b[0m\n\u001b[1;32m    596\u001b[0m     keys\u001b[38;5;241m.\u001b[39mappend(x\u001b[38;5;241m.\u001b[39m__dask_keys__())\n\u001b[1;32m    597\u001b[0m     postcomputes\u001b[38;5;241m.\u001b[39mappend(x\u001b[38;5;241m.\u001b[39m__dask_postcompute__())\n\u001b[0;32m--> 599\u001b[0m results \u001b[38;5;241m=\u001b[39m \u001b[43mschedule\u001b[49m\u001b[43m(\u001b[49m\u001b[43mdsk\u001b[49m\u001b[43m,\u001b[49m\u001b[43m \u001b[49m\u001b[43mkeys\u001b[49m\u001b[43m,\u001b[49m\u001b[43m \u001b[49m\u001b[38;5;241;43m*\u001b[39;49m\u001b[38;5;241;43m*\u001b[39;49m\u001b[43mkwargs\u001b[49m\u001b[43m)\u001b[49m\n\u001b[1;32m    600\u001b[0m \u001b[38;5;28;01mreturn\u001b[39;00m repack([f(r, \u001b[38;5;241m*\u001b[39ma) \u001b[38;5;28;01mfor\u001b[39;00m r, (f, a) \u001b[38;5;129;01min\u001b[39;00m \u001b[38;5;28mzip\u001b[39m(results, postcomputes)])\n",
      "File \u001b[0;32m~/miniconda3/lib/python3.10/site-packages/distributed/client.py:3224\u001b[0m, in \u001b[0;36mClient.get\u001b[0;34m(self, dsk, keys, workers, allow_other_workers, resources, sync, asynchronous, direct, retries, priority, fifo_timeout, actors, **kwargs)\u001b[0m\n\u001b[1;32m   3222\u001b[0m         should_rejoin \u001b[38;5;241m=\u001b[39m \u001b[38;5;28;01mFalse\u001b[39;00m\n\u001b[1;32m   3223\u001b[0m \u001b[38;5;28;01mtry\u001b[39;00m:\n\u001b[0;32m-> 3224\u001b[0m     results \u001b[38;5;241m=\u001b[39m \u001b[38;5;28;43mself\u001b[39;49m\u001b[38;5;241;43m.\u001b[39;49m\u001b[43mgather\u001b[49m\u001b[43m(\u001b[49m\u001b[43mpacked\u001b[49m\u001b[43m,\u001b[49m\u001b[43m \u001b[49m\u001b[43masynchronous\u001b[49m\u001b[38;5;241;43m=\u001b[39;49m\u001b[43masynchronous\u001b[49m\u001b[43m,\u001b[49m\u001b[43m \u001b[49m\u001b[43mdirect\u001b[49m\u001b[38;5;241;43m=\u001b[39;49m\u001b[43mdirect\u001b[49m\u001b[43m)\u001b[49m\n\u001b[1;32m   3225\u001b[0m \u001b[38;5;28;01mfinally\u001b[39;00m:\n\u001b[1;32m   3226\u001b[0m     \u001b[38;5;28;01mfor\u001b[39;00m f \u001b[38;5;129;01min\u001b[39;00m futures\u001b[38;5;241m.\u001b[39mvalues():\n",
      "File \u001b[0;32m~/miniconda3/lib/python3.10/site-packages/distributed/client.py:2359\u001b[0m, in \u001b[0;36mClient.gather\u001b[0;34m(self, futures, errors, direct, asynchronous)\u001b[0m\n\u001b[1;32m   2357\u001b[0m \u001b[38;5;28;01melse\u001b[39;00m:\n\u001b[1;32m   2358\u001b[0m     local_worker \u001b[38;5;241m=\u001b[39m \u001b[38;5;28;01mNone\u001b[39;00m\n\u001b[0;32m-> 2359\u001b[0m \u001b[38;5;28;01mreturn\u001b[39;00m \u001b[38;5;28;43mself\u001b[39;49m\u001b[38;5;241;43m.\u001b[39;49m\u001b[43msync\u001b[49m\u001b[43m(\u001b[49m\n\u001b[1;32m   2360\u001b[0m \u001b[43m    \u001b[49m\u001b[38;5;28;43mself\u001b[39;49m\u001b[38;5;241;43m.\u001b[39;49m\u001b[43m_gather\u001b[49m\u001b[43m,\u001b[49m\n\u001b[1;32m   2361\u001b[0m \u001b[43m    \u001b[49m\u001b[43mfutures\u001b[49m\u001b[43m,\u001b[49m\n\u001b[1;32m   2362\u001b[0m \u001b[43m    \u001b[49m\u001b[43merrors\u001b[49m\u001b[38;5;241;43m=\u001b[39;49m\u001b[43merrors\u001b[49m\u001b[43m,\u001b[49m\n\u001b[1;32m   2363\u001b[0m \u001b[43m    \u001b[49m\u001b[43mdirect\u001b[49m\u001b[38;5;241;43m=\u001b[39;49m\u001b[43mdirect\u001b[49m\u001b[43m,\u001b[49m\n\u001b[1;32m   2364\u001b[0m \u001b[43m    \u001b[49m\u001b[43mlocal_worker\u001b[49m\u001b[38;5;241;43m=\u001b[39;49m\u001b[43mlocal_worker\u001b[49m\u001b[43m,\u001b[49m\n\u001b[1;32m   2365\u001b[0m \u001b[43m    \u001b[49m\u001b[43masynchronous\u001b[49m\u001b[38;5;241;43m=\u001b[39;49m\u001b[43masynchronous\u001b[49m\u001b[43m,\u001b[49m\n\u001b[1;32m   2366\u001b[0m \u001b[43m\u001b[49m\u001b[43m)\u001b[49m\n",
      "File \u001b[0;32m~/miniconda3/lib/python3.10/site-packages/distributed/utils.py:351\u001b[0m, in \u001b[0;36mSyncMethodMixin.sync\u001b[0;34m(self, func, asynchronous, callback_timeout, *args, **kwargs)\u001b[0m\n\u001b[1;32m    349\u001b[0m     \u001b[38;5;28;01mreturn\u001b[39;00m future\n\u001b[1;32m    350\u001b[0m \u001b[38;5;28;01melse\u001b[39;00m:\n\u001b[0;32m--> 351\u001b[0m     \u001b[38;5;28;01mreturn\u001b[39;00m \u001b[43msync\u001b[49m\u001b[43m(\u001b[49m\n\u001b[1;32m    352\u001b[0m \u001b[43m        \u001b[49m\u001b[38;5;28;43mself\u001b[39;49m\u001b[38;5;241;43m.\u001b[39;49m\u001b[43mloop\u001b[49m\u001b[43m,\u001b[49m\u001b[43m \u001b[49m\u001b[43mfunc\u001b[49m\u001b[43m,\u001b[49m\u001b[43m \u001b[49m\u001b[38;5;241;43m*\u001b[39;49m\u001b[43margs\u001b[49m\u001b[43m,\u001b[49m\u001b[43m \u001b[49m\u001b[43mcallback_timeout\u001b[49m\u001b[38;5;241;43m=\u001b[39;49m\u001b[43mcallback_timeout\u001b[49m\u001b[43m,\u001b[49m\u001b[43m \u001b[49m\u001b[38;5;241;43m*\u001b[39;49m\u001b[38;5;241;43m*\u001b[39;49m\u001b[43mkwargs\u001b[49m\n\u001b[1;32m    353\u001b[0m \u001b[43m    \u001b[49m\u001b[43m)\u001b[49m\n",
      "File \u001b[0;32m~/miniconda3/lib/python3.10/site-packages/distributed/utils.py:418\u001b[0m, in \u001b[0;36msync\u001b[0;34m(loop, func, callback_timeout, *args, **kwargs)\u001b[0m\n\u001b[1;32m    416\u001b[0m \u001b[38;5;28;01mif\u001b[39;00m error:\n\u001b[1;32m    417\u001b[0m     typ, exc, tb \u001b[38;5;241m=\u001b[39m error\n\u001b[0;32m--> 418\u001b[0m     \u001b[38;5;28;01mraise\u001b[39;00m exc\u001b[38;5;241m.\u001b[39mwith_traceback(tb)\n\u001b[1;32m    419\u001b[0m \u001b[38;5;28;01melse\u001b[39;00m:\n\u001b[1;32m    420\u001b[0m     \u001b[38;5;28;01mreturn\u001b[39;00m result\n",
      "File \u001b[0;32m~/miniconda3/lib/python3.10/site-packages/distributed/utils.py:391\u001b[0m, in \u001b[0;36msync.<locals>.f\u001b[0;34m()\u001b[0m\n\u001b[1;32m    389\u001b[0m         future \u001b[38;5;241m=\u001b[39m wait_for(future, callback_timeout)\n\u001b[1;32m    390\u001b[0m     future \u001b[38;5;241m=\u001b[39m asyncio\u001b[38;5;241m.\u001b[39mensure_future(future)\n\u001b[0;32m--> 391\u001b[0m     result \u001b[38;5;241m=\u001b[39m \u001b[38;5;28;01myield\u001b[39;00m future\n\u001b[1;32m    392\u001b[0m \u001b[38;5;28;01mexcept\u001b[39;00m \u001b[38;5;167;01mException\u001b[39;00m:\n\u001b[1;32m    393\u001b[0m     error \u001b[38;5;241m=\u001b[39m sys\u001b[38;5;241m.\u001b[39mexc_info()\n",
      "File \u001b[0;32m~/.local/lib/python3.10/site-packages/tornado/gen.py:767\u001b[0m, in \u001b[0;36mRunner.run\u001b[0;34m(self)\u001b[0m\n\u001b[1;32m    765\u001b[0m \u001b[38;5;28;01mtry\u001b[39;00m:\n\u001b[1;32m    766\u001b[0m     \u001b[38;5;28;01mtry\u001b[39;00m:\n\u001b[0;32m--> 767\u001b[0m         value \u001b[38;5;241m=\u001b[39m \u001b[43mfuture\u001b[49m\u001b[38;5;241;43m.\u001b[39;49m\u001b[43mresult\u001b[49m\u001b[43m(\u001b[49m\u001b[43m)\u001b[49m\n\u001b[1;32m    768\u001b[0m     \u001b[38;5;28;01mexcept\u001b[39;00m \u001b[38;5;167;01mException\u001b[39;00m \u001b[38;5;28;01mas\u001b[39;00m e:\n\u001b[1;32m    769\u001b[0m         \u001b[38;5;66;03m# Save the exception for later. It's important that\u001b[39;00m\n\u001b[1;32m    770\u001b[0m         \u001b[38;5;66;03m# gen.throw() not be called inside this try/except block\u001b[39;00m\n\u001b[1;32m    771\u001b[0m         \u001b[38;5;66;03m# because that makes sys.exc_info behave unexpectedly.\u001b[39;00m\n\u001b[1;32m    772\u001b[0m         exc: Optional[\u001b[38;5;167;01mException\u001b[39;00m] \u001b[38;5;241m=\u001b[39m e\n",
      "File \u001b[0;32m~/miniconda3/lib/python3.10/site-packages/distributed/client.py:2222\u001b[0m, in \u001b[0;36mClient._gather\u001b[0;34m(self, futures, errors, direct, local_worker)\u001b[0m\n\u001b[1;32m   2220\u001b[0m         exc \u001b[38;5;241m=\u001b[39m CancelledError(key)\n\u001b[1;32m   2221\u001b[0m     \u001b[38;5;28;01melse\u001b[39;00m:\n\u001b[0;32m-> 2222\u001b[0m         \u001b[38;5;28;01mraise\u001b[39;00m exception\u001b[38;5;241m.\u001b[39mwith_traceback(traceback)\n\u001b[1;32m   2223\u001b[0m     \u001b[38;5;28;01mraise\u001b[39;00m exc\n\u001b[1;32m   2224\u001b[0m \u001b[38;5;28;01mif\u001b[39;00m errors \u001b[38;5;241m==\u001b[39m \u001b[38;5;124m\"\u001b[39m\u001b[38;5;124mskip\u001b[39m\u001b[38;5;124m\"\u001b[39m:\n",
      "\u001b[0;31mKilledWorker\u001b[0m: Attempted to run task ('assign-890cffe053cff1b8989fff511c946b62', 10) on 3 different workers, but all those workers died while running it. The last worker that attempt to run the task was tcp://10.67.22.220:35483. Inspecting worker logs is often a good next step to diagnose what went wrong. For more information see https://distributed.dask.org/en/stable/killed.html."
     ]
    }
   ],
   "source": [
    "output.compute()"
   ]
  },
  {
   "cell_type": "code",
   "execution_count": 35,
   "id": "070546e2",
   "metadata": {},
   "outputs": [],
   "source": [
    "evolved['thr']=evolved['path'].str.extract(r\"(?<=0\\/evolved_)(.*)(?=\\.csv)\").squeeze()\n",
    "output['thr']=output['path'].str.extract(r\"(?<=0\\/output_)(.*)(?=\\.csv)\").squeeze()\n",
    "evolved['idx']=evolved['dir']+evolved['thr']\n",
    "output['idx']=output['dir']+output['thr']\n",
    "# logfile['dir']=logfile['path'].str.extract(r\"(?<=5M/)(.*)(?=/0)\").squeeze()"
   ]
  },
  {
   "cell_type": "code",
   "execution_count": 36,
   "id": "474ea42a",
   "metadata": {},
   "outputs": [
    {
     "ename": "KeyboardInterrupt",
     "evalue": "",
     "output_type": "error",
     "traceback": [
      "\u001b[0;31m---------------------------------------------------------------------------\u001b[0m",
      "\u001b[0;31mKeyboardInterrupt\u001b[0m                         Traceback (most recent call last)",
      "Cell \u001b[0;32mIn[36], line 1\u001b[0m\n\u001b[0;32m----> 1\u001b[0m \u001b[43moutput\u001b[49m\u001b[38;5;241;43m.\u001b[39;49m\u001b[43mcompute\u001b[49m\u001b[43m(\u001b[49m\u001b[43m)\u001b[49m\n",
      "File \u001b[0;32m~/miniconda3/lib/python3.10/site-packages/dask/base.py:314\u001b[0m, in \u001b[0;36mDaskMethodsMixin.compute\u001b[0;34m(self, **kwargs)\u001b[0m\n\u001b[1;32m    290\u001b[0m \u001b[38;5;28;01mdef\u001b[39;00m \u001b[38;5;21mcompute\u001b[39m(\u001b[38;5;28mself\u001b[39m, \u001b[38;5;241m*\u001b[39m\u001b[38;5;241m*\u001b[39mkwargs):\n\u001b[1;32m    291\u001b[0m \u001b[38;5;250m    \u001b[39m\u001b[38;5;124;03m\"\"\"Compute this dask collection\u001b[39;00m\n\u001b[1;32m    292\u001b[0m \n\u001b[1;32m    293\u001b[0m \u001b[38;5;124;03m    This turns a lazy Dask collection into its in-memory equivalent.\u001b[39;00m\n\u001b[0;32m   (...)\u001b[0m\n\u001b[1;32m    312\u001b[0m \u001b[38;5;124;03m    dask.compute\u001b[39;00m\n\u001b[1;32m    313\u001b[0m \u001b[38;5;124;03m    \"\"\"\u001b[39;00m\n\u001b[0;32m--> 314\u001b[0m     (result,) \u001b[38;5;241m=\u001b[39m \u001b[43mcompute\u001b[49m\u001b[43m(\u001b[49m\u001b[38;5;28;43mself\u001b[39;49m\u001b[43m,\u001b[49m\u001b[43m \u001b[49m\u001b[43mtraverse\u001b[49m\u001b[38;5;241;43m=\u001b[39;49m\u001b[38;5;28;43;01mFalse\u001b[39;49;00m\u001b[43m,\u001b[49m\u001b[43m \u001b[49m\u001b[38;5;241;43m*\u001b[39;49m\u001b[38;5;241;43m*\u001b[39;49m\u001b[43mkwargs\u001b[49m\u001b[43m)\u001b[49m\n\u001b[1;32m    315\u001b[0m     \u001b[38;5;28;01mreturn\u001b[39;00m result\n",
      "File \u001b[0;32m~/miniconda3/lib/python3.10/site-packages/dask/base.py:599\u001b[0m, in \u001b[0;36mcompute\u001b[0;34m(traverse, optimize_graph, scheduler, get, *args, **kwargs)\u001b[0m\n\u001b[1;32m    596\u001b[0m     keys\u001b[38;5;241m.\u001b[39mappend(x\u001b[38;5;241m.\u001b[39m__dask_keys__())\n\u001b[1;32m    597\u001b[0m     postcomputes\u001b[38;5;241m.\u001b[39mappend(x\u001b[38;5;241m.\u001b[39m__dask_postcompute__())\n\u001b[0;32m--> 599\u001b[0m results \u001b[38;5;241m=\u001b[39m \u001b[43mschedule\u001b[49m\u001b[43m(\u001b[49m\u001b[43mdsk\u001b[49m\u001b[43m,\u001b[49m\u001b[43m \u001b[49m\u001b[43mkeys\u001b[49m\u001b[43m,\u001b[49m\u001b[43m \u001b[49m\u001b[38;5;241;43m*\u001b[39;49m\u001b[38;5;241;43m*\u001b[39;49m\u001b[43mkwargs\u001b[49m\u001b[43m)\u001b[49m\n\u001b[1;32m    600\u001b[0m \u001b[38;5;28;01mreturn\u001b[39;00m repack([f(r, \u001b[38;5;241m*\u001b[39ma) \u001b[38;5;28;01mfor\u001b[39;00m r, (f, a) \u001b[38;5;129;01min\u001b[39;00m \u001b[38;5;28mzip\u001b[39m(results, postcomputes)])\n",
      "File \u001b[0;32m~/miniconda3/lib/python3.10/site-packages/distributed/client.py:3224\u001b[0m, in \u001b[0;36mClient.get\u001b[0;34m(self, dsk, keys, workers, allow_other_workers, resources, sync, asynchronous, direct, retries, priority, fifo_timeout, actors, **kwargs)\u001b[0m\n\u001b[1;32m   3222\u001b[0m         should_rejoin \u001b[38;5;241m=\u001b[39m \u001b[38;5;28;01mFalse\u001b[39;00m\n\u001b[1;32m   3223\u001b[0m \u001b[38;5;28;01mtry\u001b[39;00m:\n\u001b[0;32m-> 3224\u001b[0m     results \u001b[38;5;241m=\u001b[39m \u001b[38;5;28;43mself\u001b[39;49m\u001b[38;5;241;43m.\u001b[39;49m\u001b[43mgather\u001b[49m\u001b[43m(\u001b[49m\u001b[43mpacked\u001b[49m\u001b[43m,\u001b[49m\u001b[43m \u001b[49m\u001b[43masynchronous\u001b[49m\u001b[38;5;241;43m=\u001b[39;49m\u001b[43masynchronous\u001b[49m\u001b[43m,\u001b[49m\u001b[43m \u001b[49m\u001b[43mdirect\u001b[49m\u001b[38;5;241;43m=\u001b[39;49m\u001b[43mdirect\u001b[49m\u001b[43m)\u001b[49m\n\u001b[1;32m   3225\u001b[0m \u001b[38;5;28;01mfinally\u001b[39;00m:\n\u001b[1;32m   3226\u001b[0m     \u001b[38;5;28;01mfor\u001b[39;00m f \u001b[38;5;129;01min\u001b[39;00m futures\u001b[38;5;241m.\u001b[39mvalues():\n",
      "File \u001b[0;32m~/miniconda3/lib/python3.10/site-packages/distributed/client.py:2359\u001b[0m, in \u001b[0;36mClient.gather\u001b[0;34m(self, futures, errors, direct, asynchronous)\u001b[0m\n\u001b[1;32m   2357\u001b[0m \u001b[38;5;28;01melse\u001b[39;00m:\n\u001b[1;32m   2358\u001b[0m     local_worker \u001b[38;5;241m=\u001b[39m \u001b[38;5;28;01mNone\u001b[39;00m\n\u001b[0;32m-> 2359\u001b[0m \u001b[38;5;28;01mreturn\u001b[39;00m \u001b[38;5;28;43mself\u001b[39;49m\u001b[38;5;241;43m.\u001b[39;49m\u001b[43msync\u001b[49m\u001b[43m(\u001b[49m\n\u001b[1;32m   2360\u001b[0m \u001b[43m    \u001b[49m\u001b[38;5;28;43mself\u001b[39;49m\u001b[38;5;241;43m.\u001b[39;49m\u001b[43m_gather\u001b[49m\u001b[43m,\u001b[49m\n\u001b[1;32m   2361\u001b[0m \u001b[43m    \u001b[49m\u001b[43mfutures\u001b[49m\u001b[43m,\u001b[49m\n\u001b[1;32m   2362\u001b[0m \u001b[43m    \u001b[49m\u001b[43merrors\u001b[49m\u001b[38;5;241;43m=\u001b[39;49m\u001b[43merrors\u001b[49m\u001b[43m,\u001b[49m\n\u001b[1;32m   2363\u001b[0m \u001b[43m    \u001b[49m\u001b[43mdirect\u001b[49m\u001b[38;5;241;43m=\u001b[39;49m\u001b[43mdirect\u001b[49m\u001b[43m,\u001b[49m\n\u001b[1;32m   2364\u001b[0m \u001b[43m    \u001b[49m\u001b[43mlocal_worker\u001b[49m\u001b[38;5;241;43m=\u001b[39;49m\u001b[43mlocal_worker\u001b[49m\u001b[43m,\u001b[49m\n\u001b[1;32m   2365\u001b[0m \u001b[43m    \u001b[49m\u001b[43masynchronous\u001b[49m\u001b[38;5;241;43m=\u001b[39;49m\u001b[43masynchronous\u001b[49m\u001b[43m,\u001b[49m\n\u001b[1;32m   2366\u001b[0m \u001b[43m\u001b[49m\u001b[43m)\u001b[49m\n",
      "File \u001b[0;32m~/miniconda3/lib/python3.10/site-packages/distributed/utils.py:351\u001b[0m, in \u001b[0;36mSyncMethodMixin.sync\u001b[0;34m(self, func, asynchronous, callback_timeout, *args, **kwargs)\u001b[0m\n\u001b[1;32m    349\u001b[0m     \u001b[38;5;28;01mreturn\u001b[39;00m future\n\u001b[1;32m    350\u001b[0m \u001b[38;5;28;01melse\u001b[39;00m:\n\u001b[0;32m--> 351\u001b[0m     \u001b[38;5;28;01mreturn\u001b[39;00m \u001b[43msync\u001b[49m\u001b[43m(\u001b[49m\n\u001b[1;32m    352\u001b[0m \u001b[43m        \u001b[49m\u001b[38;5;28;43mself\u001b[39;49m\u001b[38;5;241;43m.\u001b[39;49m\u001b[43mloop\u001b[49m\u001b[43m,\u001b[49m\u001b[43m \u001b[49m\u001b[43mfunc\u001b[49m\u001b[43m,\u001b[49m\u001b[43m \u001b[49m\u001b[38;5;241;43m*\u001b[39;49m\u001b[43margs\u001b[49m\u001b[43m,\u001b[49m\u001b[43m \u001b[49m\u001b[43mcallback_timeout\u001b[49m\u001b[38;5;241;43m=\u001b[39;49m\u001b[43mcallback_timeout\u001b[49m\u001b[43m,\u001b[49m\u001b[43m \u001b[49m\u001b[38;5;241;43m*\u001b[39;49m\u001b[38;5;241;43m*\u001b[39;49m\u001b[43mkwargs\u001b[49m\n\u001b[1;32m    353\u001b[0m \u001b[43m    \u001b[49m\u001b[43m)\u001b[49m\n",
      "File \u001b[0;32m~/miniconda3/lib/python3.10/site-packages/distributed/utils.py:414\u001b[0m, in \u001b[0;36msync\u001b[0;34m(loop, func, callback_timeout, *args, **kwargs)\u001b[0m\n\u001b[1;32m    412\u001b[0m \u001b[38;5;28;01melse\u001b[39;00m:\n\u001b[1;32m    413\u001b[0m     \u001b[38;5;28;01mwhile\u001b[39;00m \u001b[38;5;129;01mnot\u001b[39;00m e\u001b[38;5;241m.\u001b[39mis_set():\n\u001b[0;32m--> 414\u001b[0m         \u001b[43mwait\u001b[49m\u001b[43m(\u001b[49m\u001b[38;5;241;43m10\u001b[39;49m\u001b[43m)\u001b[49m\n\u001b[1;32m    416\u001b[0m \u001b[38;5;28;01mif\u001b[39;00m error:\n\u001b[1;32m    417\u001b[0m     typ, exc, tb \u001b[38;5;241m=\u001b[39m error\n",
      "File \u001b[0;32m~/miniconda3/lib/python3.10/site-packages/distributed/utils.py:403\u001b[0m, in \u001b[0;36msync.<locals>.wait\u001b[0;34m(timeout)\u001b[0m\n\u001b[1;32m    401\u001b[0m \u001b[38;5;28;01mdef\u001b[39;00m \u001b[38;5;21mwait\u001b[39m(timeout):\n\u001b[1;32m    402\u001b[0m     \u001b[38;5;28;01mtry\u001b[39;00m:\n\u001b[0;32m--> 403\u001b[0m         \u001b[38;5;28;01mreturn\u001b[39;00m \u001b[43me\u001b[49m\u001b[38;5;241;43m.\u001b[39;49m\u001b[43mwait\u001b[49m\u001b[43m(\u001b[49m\u001b[43mtimeout\u001b[49m\u001b[43m)\u001b[49m\n\u001b[1;32m    404\u001b[0m     \u001b[38;5;28;01mexcept\u001b[39;00m \u001b[38;5;167;01mKeyboardInterrupt\u001b[39;00m:\n\u001b[1;32m    405\u001b[0m         loop\u001b[38;5;241m.\u001b[39madd_callback(cancel)\n",
      "File \u001b[0;32m~/miniconda3/lib/python3.10/threading.py:607\u001b[0m, in \u001b[0;36mEvent.wait\u001b[0;34m(self, timeout)\u001b[0m\n\u001b[1;32m    605\u001b[0m signaled \u001b[38;5;241m=\u001b[39m \u001b[38;5;28mself\u001b[39m\u001b[38;5;241m.\u001b[39m_flag\n\u001b[1;32m    606\u001b[0m \u001b[38;5;28;01mif\u001b[39;00m \u001b[38;5;129;01mnot\u001b[39;00m signaled:\n\u001b[0;32m--> 607\u001b[0m     signaled \u001b[38;5;241m=\u001b[39m \u001b[38;5;28;43mself\u001b[39;49m\u001b[38;5;241;43m.\u001b[39;49m\u001b[43m_cond\u001b[49m\u001b[38;5;241;43m.\u001b[39;49m\u001b[43mwait\u001b[49m\u001b[43m(\u001b[49m\u001b[43mtimeout\u001b[49m\u001b[43m)\u001b[49m\n\u001b[1;32m    608\u001b[0m \u001b[38;5;28;01mreturn\u001b[39;00m signaled\n",
      "File \u001b[0;32m~/miniconda3/lib/python3.10/threading.py:324\u001b[0m, in \u001b[0;36mCondition.wait\u001b[0;34m(self, timeout)\u001b[0m\n\u001b[1;32m    322\u001b[0m \u001b[38;5;28;01melse\u001b[39;00m:\n\u001b[1;32m    323\u001b[0m     \u001b[38;5;28;01mif\u001b[39;00m timeout \u001b[38;5;241m>\u001b[39m \u001b[38;5;241m0\u001b[39m:\n\u001b[0;32m--> 324\u001b[0m         gotit \u001b[38;5;241m=\u001b[39m \u001b[43mwaiter\u001b[49m\u001b[38;5;241;43m.\u001b[39;49m\u001b[43macquire\u001b[49m\u001b[43m(\u001b[49m\u001b[38;5;28;43;01mTrue\u001b[39;49;00m\u001b[43m,\u001b[49m\u001b[43m \u001b[49m\u001b[43mtimeout\u001b[49m\u001b[43m)\u001b[49m\n\u001b[1;32m    325\u001b[0m     \u001b[38;5;28;01melse\u001b[39;00m:\n\u001b[1;32m    326\u001b[0m         gotit \u001b[38;5;241m=\u001b[39m waiter\u001b[38;5;241m.\u001b[39macquire(\u001b[38;5;28;01mFalse\u001b[39;00m)\n",
      "\u001b[0;31mKeyboardInterrupt\u001b[0m: "
     ]
    }
   ],
   "source": [
    "output.compute()"
   ]
  },
  {
   "cell_type": "code",
   "execution_count": null,
   "id": "521882cb",
   "metadata": {},
   "outputs": [],
   "source": [
    "f=open('lista_directories', 'r')\n",
    "l=f.readlines()\n",
    "part=[i.strip() for i in l]"
   ]
  },
  {
   "cell_type": "code",
   "execution_count": null,
   "id": "a10e9bf8",
   "metadata": {},
   "outputs": [],
   "source": [
    "# large_sorted = large.set_index(\"id\", divisions=unique_divisions)"
   ]
  },
  {
   "cell_type": "code",
   "execution_count": null,
   "id": "7cefafd3",
   "metadata": {},
   "outputs": [],
   "source": [
    "evolved= evolved.set_index('dir', divisions=part)\n",
    "output= output.set_index('dir', divisions=part)"
   ]
  },
  {
   "cell_type": "code",
   "execution_count": null,
   "id": "994be259",
   "metadata": {},
   "outputs": [],
   "source": [
    "# cluster.close()"
   ]
  },
  {
   "cell_type": "code",
   "execution_count": null,
   "id": "6a0cc059",
   "metadata": {},
   "outputs": [],
   "source": [
    "# evolved.compute()\n",
    "# dask.compute(evolved)"
   ]
  },
  {
   "cell_type": "code",
   "execution_count": null,
   "id": "92588281",
   "metadata": {},
   "outputs": [],
   "source": [
    "len(output.divisions)\n"
   ]
  },
  {
   "cell_type": "code",
   "execution_count": null,
   "id": "fb0623dc",
   "metadata": {},
   "outputs": [],
   "source": [
    "# dask.compute( output)"
   ]
  },
  {
   "cell_type": "code",
   "execution_count": null,
   "id": "0909641f",
   "metadata": {},
   "outputs": [],
   "source": [
    "evolved=evolved.persist()\n",
    "output=output.persist()"
   ]
  },
  {
   "cell_type": "code",
   "execution_count": null,
   "id": "bfc74db7-d674-4754-8bdb-d4b1eb245989",
   "metadata": {
    "tags": []
   },
   "outputs": [],
   "source": [
    "bhbh = evolved.merge(output, on=['dir','name'], how='inner')#.\\\n",
    "#                merge(df_RLO, on=['name','Z_0', 'alpha'], how='left')#.\\\n",
    "#                merge(df_CE,  on=['name','Z_0', 'alpha'], how='left').\\\n",
    "#                merge(df_BSN, on=['name','Z_0', 'alpha'], how='left').\\\n",
    "#                fillna(value=0).\\\n",
    "#                drop(columns=drop_list)\n"
   ]
  },
  {
   "cell_type": "code",
   "execution_count": null,
   "id": "1f43ad42",
   "metadata": {},
   "outputs": [],
   "source": [
    "bhbh.compute()"
   ]
  },
  {
   "cell_type": "code",
   "execution_count": null,
   "id": "32ac1d15",
   "metadata": {},
   "outputs": [],
   "source": []
  },
  {
   "cell_type": "code",
   "execution_count": null,
   "id": "53476142-d8f0-4219-aa01-d5553ad26e2b",
   "metadata": {
    "tags": []
   },
   "outputs": [],
   "source": [
    "bhbh['tdelay'] = bhbh['GWtime'] + bhbh['BWorldtime']\n",
    "\n",
    "#bhbh.drop(columns=['GWtime', 'BWorldtime'])\n",
    "\n",
    "bhbh['Mass_max_out'] = bhbh['Mass_1_out']\n",
    "bhbh['Mass_max_out'] = bhbh['Mass_max_out'].where(cond=(bhbh['Mass_max_out'] > bhbh['Mass_0_out']), other=bhbh['Mass_0_out'])\n",
    "\n",
    "bhbh['q'] = bhbh['Mass_1_out']/bhbh['Mass_0_out']\n",
    "bhbh['q'] = bhbh['q'].where(cond=(bhbh['Mass_1_out'] < bhbh['Mass_0_out']), other=bhbh['Mass_0_out']/bhbh['Mass_1_out'])\n",
    "\n",
    "bhbh['Mass_chirp'] = ((bhbh['Mass_0_out'] * bhbh['Mass_1_out'])**(3/5))/((bhbh['Mass_0_out'] + bhbh['Mass_1_out'])**(1/5))"
   ]
  },
  {
   "cell_type": "code",
   "execution_count": null,
   "id": "1bbcb53d-1c4e-467c-a885-58f83a456478",
   "metadata": {
    "tags": []
   },
   "outputs": [],
   "source": [
    "bhbh.columns"
   ]
  },
  {
   "cell_type": "code",
   "execution_count": null,
   "id": "c18c9d11-673b-4c8c-80db-b3da3f295afc",
   "metadata": {
    "tags": []
   },
   "outputs": [],
   "source": [
    "bhbh.dtypes"
   ]
  },
  {
   "cell_type": "code",
   "execution_count": null,
   "id": "fed75a70-db8f-4217-b784-d380bdd1329c",
   "metadata": {
    "tags": []
   },
   "outputs": [],
   "source": [
    "bhbh.compute()"
   ]
  },
  {
   "cell_type": "markdown",
   "id": "8f72660e-09c6-4557-9c1a-63106a6da54e",
   "metadata": {},
   "source": [
    "# Save in a distributed way "
   ]
  },
  {
   "cell_type": "code",
   "execution_count": null,
   "id": "d1227f55",
   "metadata": {},
   "outputs": [],
   "source": [
    "# ! touch /mnt/bhbh/test.txt"
   ]
  },
  {
   "cell_type": "code",
   "execution_count": null,
   "id": "3abd6170",
   "metadata": {},
   "outputs": [],
   "source": [
    "# !echo test > /mnt/bhbh/test.txt"
   ]
  },
  {
   "cell_type": "code",
   "execution_count": null,
   "id": "aa03f9d0",
   "metadata": {},
   "outputs": [],
   "source": [
    "# test_pd=pd.DataFrame(data=[[i for i in range(4)] for j in range(1000000)], columns=[str(k) for k in range(4)])\n",
    "\n",
    "# test_dd=dd.from_pandas(test_pd, npartitions=20)\n",
    "\n",
    "# dd.to_parquet(test_dd, '/mnt/bhbh/test_parquet')"
   ]
  },
  {
   "cell_type": "markdown",
   "id": "ebeaaad9",
   "metadata": {},
   "source": [
    "# The real saving"
   ]
  },
  {
   "cell_type": "code",
   "execution_count": null,
   "id": "626d8c4e-cbff-4ad1-9c7c-fda65a7dd2fc",
   "metadata": {
    "tags": []
   },
   "outputs": [],
   "source": [
    "# bhbh.to_csv('./BHBH_partitioned') "
   ]
  },
  {
   "cell_type": "code",
   "execution_count": null,
   "id": "eb54ca53",
   "metadata": {},
   "outputs": [],
   "source": [
    "# bhbh.to_parquet('/mnt/bhbh/partitioned_summary')"
   ]
  },
  {
   "cell_type": "code",
   "execution_count": null,
   "id": "e8f207c0",
   "metadata": {},
   "outputs": [],
   "source": []
  }
 ],
 "metadata": {
  "kernelspec": {
   "display_name": "Python 3 (ipykernel)",
   "language": "python",
   "name": "python3"
  },
  "language_info": {
   "codemirror_mode": {
    "name": "ipython",
    "version": 3
   },
   "file_extension": ".py",
   "mimetype": "text/x-python",
   "name": "python",
   "nbconvert_exporter": "python",
   "pygments_lexer": "ipython3",
   "version": "3.10.10"
  }
 },
 "nbformat": 4,
 "nbformat_minor": 5
}
